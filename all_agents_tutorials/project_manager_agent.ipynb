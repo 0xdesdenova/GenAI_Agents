{
 "cells": [
  {
   "cell_type": "markdown",
   "metadata": {},
   "source": [
    "# Project Manager Assistant Agent"
   ]
  },
  {
   "cell_type": "markdown",
   "metadata": {},
   "source": [
    "## Overview\n",
    "This tutorial demonstrates how to create a an AI agent that assists in project management tasks including creating actionable tasks from a given project description, identify the dependency within the tasks, create a task execution schedule for the project, and assign the individual tasks to project members based on their expertise and experience. This application uses a combination of custom functions, structured output, and an agent that can streamline the project management, in particular during the project initation / setup process. "
   ]
  },
  {
   "cell_type": "markdown",
   "metadata": {},
   "source": [
    "\n",
    "## Motivation\n",
    "Effective management is key to project success. It already starts, with the setup of the project, definition of tasks, scheduling and allocation of team members. However, with increasing complexity of the project, this task becomes more and more challenging and time consuming frequently requiring days of planning involving several members of the organization.\n",
    "\n",
    "The ```Project Manager Assistant Agent``` was created to transfrom how projects are initiated by introducing automation, intelligence, and precision into the process. It enables project managers to seamless translate project description into structure, actionable plans, mapping dependencies for better workflow alignment and assign tasks based on team members' expertise and experience. In addition, it creates risks scores for the individual tasks allowing overall project risk assessment. This overall project risk score is used as part of a self-reflection to further improve the schedule and task assignment to reduce the project risks. (see details on the implementation)\n",
    "\n",
    "\n",
    "### Benefits\n",
    "This AI-driven approach reduces the burden of manual planning and eliminates redundancies, allowing project managers to shift their focus to higher-level strategy and decision. making. "
   ]
  },
  {
   "cell_type": "markdown",
   "metadata": {},
   "source": [
    "### Key Components\n",
    "<ol>\n",
    "    <li>\n",
    "        <b>LangGraph</b>: Organize the overall workflow of the agent, managing the flow of infromation between different nodes and stages of the agent\n",
    "    </li>\n",
    "    <li>\n",
    "        <b>GPT-4o</b>: Extracts actionable items from the project description, map dependencies, schedules tasks, allocate tasks to team, and assess the risks\n",
    "    </li>\n",
    "\n",
    "</ol>"
   ]
  },
  {
   "cell_type": "markdown",
   "metadata": {},
   "source": [
    "### Key Classes\n",
    "<b>State Management</b>\n",
    "<br/>\n",
    "<ol>\n",
    "    <li>\n",
    "        <b>AgentState</b>\n",
    "        <ul>\n",
    "            <li><b>project_description</b>: Description of the project</li>\n",
    "            <li><b>team</b>: The team available</li>\n",
    "            <li><b>tasks</b>: List of tasks</li>\n",
    "            <li><b>dependencies</b>: List of dependencies of tasks</li>\n",
    "            <li><b>schedule</b>: Project schedule created by the agent</li>\n",
    "            <li><b>task_allocations</b>: List of team member and task allocated to them</li>\n",
    "            <li><b>risks</b>: Risks associated with the tasks</li>\n",
    "            <li><b>iteration_number</b>: Number of times the agent will go into self-reflection</li>\n",
    "            <li><b>max_iteration</b>: The maximum number of time it can go into feedback loop to improve itself</li>\n",
    "            <li><b>insights</b>: Insights generated to improve the response</li>\n",
    "            <li><b>schedule_iteration</b>: Schedule per iteration </li>\n",
    "            <li><b>task_allocations_iteration</b>: Task allocation per iteration</li>\n",
    "            <li><b>risks_iteration</b>: Risks per task per iteration</li>\n",
    "            <li><b>project_risk_score_iterations</b>: Projecr risk score per iteration</li>\n",
    "        </ul>\n",
    "    </li>\n",
    "    <li>\n",
    "        <b>Task</b>\n",
    "        <ul>\n",
    "            <li><b>id</b>: Id for the task</li>\n",
    "            <li><b>task_name</b>: Name of the task</li>\n",
    "            <li><b>task_description</b>: Description of task</li>\n",
    "            <li><b>estimated_day</b>: Estimated time the task will take to complete</li>\n",
    "        </ul>\n",
    "    </li>\n",
    "    <li>\n",
    "        <b>TaskDependency</b>\n",
    "        <ul>\n",
    "            <li><b>task</b>: Name of the task</li>\n",
    "            <li><b>dependent_task</b>: Name of the dependent task</li>\n",
    "        </ul>\n",
    "    </li>\n",
    "    <li>\n",
    "        <b>Team Member</b>\n",
    "        <ul>\n",
    "            <li><b>name</b>: Name of the team member</li>\n",
    "            <li><b>profile</b>: Profile of the member</li>\n",
    "        </ul>\n",
    "    </li>\n",
    "    <li>\n",
    "        <b>Team</b>\n",
    "        <ul>\n",
    "            <li><b>team_member</b>: Members in the team</li>\n",
    "        </ul>\n",
    "    </li>\n",
    "    <li>\n",
    "        <b>TaskAllocation</b>\n",
    "        <ul>\n",
    "            <li><b>task</b>: Name of the task allocated</li>\n",
    "            <li><b>team_member</b>: To whom the task is allocated</li> \n",
    "        </ul>\n",
    "    </li>\n",
    "    <li>\n",
    "        <b>TaskSchedule</b>\n",
    "        <ul>\n",
    "            <li><b>task</b>: Task name</li>\n",
    "            <li><b>start_day</b>: When the task should start</li>\n",
    "            <li><b>end_day</b>: When the task will end</li>\n",
    "        </ul>\n",
    "    </li>\n",
    "    <li>\n",
    "        <b>TaskList</b>\n",
    "        <ul>\n",
    "            <li><b>tasks</b>: List of tasks name</li>\n",
    "        </ul>\n",
    "    </li>\n",
    "    <li>\n",
    "        <b>DependencyList</b>\n",
    "        <ul>\n",
    "            <li><b>dependencies</b>: List of dependent tasks</li>\n",
    "        </ul>\n",
    "    </li>\n",
    "    <li>\n",
    "        <b>Schedule</b>\n",
    "        <ul>\n",
    "            <li><b>schedule</b>: List of task schedule</li>\n",
    "        </ul>\n",
    "    </li>\n",
    "    <li>\n",
    "        <b>TaskAllocationList</b>\n",
    "        <ul>\n",
    "            <li><b>task_allocations</b>: List of allocated tasks</li>\n",
    "        </ul>\n",
    "    </li>\n",
    "    <li>\n",
    "        <b>Risk</b>\n",
    "        <ul>\n",
    "            <li><b>task</b>: Task name</li>\n",
    "            <li><b>score</b>: Risk score for that task</li>\n",
    "        </ul>\n",
    "    </li>\n",
    "    <li>\n",
    "        <b>RiskList</b>\n",
    "        <ul>\n",
    "            <li><b>risks</b>: List of risks</li>\n",
    "        </ul>\n",
    "    </li>\n",
    "</ol>\n"
   ]
  },
  {
   "cell_type": "markdown",
   "metadata": {},
   "source": [
    "### Key Nodes and Functions\n",
    "<ol>\n",
    "    <li>\n",
    "        <b>task_generation</b>: Node that will extract tasks from given project description\n",
    "    </li>\n",
    "    <li>\n",
    "        <b>task_dependencies</b>: Node that will evaluate the dependencies between the tasks\n",
    "    </li>\n",
    "    <li>\n",
    "        <b>task_scheduler</b>: Node that will schedule tasks based on dependencies and team availability\n",
    "    </li>\n",
    "    <li>\n",
    "        <b>task_allocator</b>: Node that will allocate tasks to team members\n",
    "    </li>\n",
    "    <li>\n",
    "        <b>risk_assessor</b>: Node that analyze risk associated with schedule and allocation of task\n",
    "    </li>\n",
    "    <li>\n",
    "        <b>insight_generator</b>: Node that generate insights from the schedule, task allocation and risk associated\n",
    "    </li>\n",
    "    <li>\n",
    "        <b>router</b>: A helper function that will route the agent to the appropriate node based on the project description\n",
    "    </li>\n",
    "</ol>"
   ]
  },
  {
   "cell_type": "markdown",
   "metadata": {},
   "source": [
    "## Visual Representation of the Agent"
   ]
  },
  {
   "cell_type": "markdown",
   "metadata": {},
   "source": [
    "![Project Manager Assistant](../images/project_manager_agent.png)"
   ]
  },
  {
   "cell_type": "markdown",
   "metadata": {},
   "source": [
    "## Implementation\n",
    "In the following section, we provide a detailed overview how to implement the Project Manager Assistant Agent."
   ]
  },
  {
   "cell_type": "markdown",
   "metadata": {
    "vscode": {
     "languageId": "plaintext"
    }
   },
   "source": [
    "### Install and import tutorial specific libraries"
   ]
  },
  {
   "cell_type": "code",
   "execution_count": 1,
   "metadata": {},
   "outputs": [],
   "source": [
    "!pip install langchain langchain-openai pandas plotly networkx pyvis openai -q"
   ]
  },
  {
   "cell_type": "code",
   "execution_count": 2,
   "metadata": {},
   "outputs": [
    {
     "data": {
      "text/plain": [
       "True"
      ]
     },
     "execution_count": 2,
     "metadata": {},
     "output_type": "execute_result"
    }
   ],
   "source": [
    "import os\n",
    "import uuid\n",
    "import pandas as pd\n",
    "import plotly.express as px\n",
    "import networkx as nx\n",
    "from pyvis.network import Network\n",
    "from datetime import datetime, timedelta\n",
    "from typing import List, TypedDict\n",
    "from pydantic import BaseModel, Field\n",
    "from langchain_openai import AzureChatOpenAI, ChatOpenAI\n",
    "from langgraph.graph import StateGraph, START,END\n",
    "from langgraph.checkpoint.memory import MemorySaver\n",
    "from IPython.display import Image, display, Markdown, HTML\n",
    "from dotenv import load_dotenv\n",
    "\n",
    "# Load environment variables\n",
    "load_dotenv(override=True)"
   ]
  },
  {
   "cell_type": "code",
   "execution_count": 3,
   "metadata": {},
   "outputs": [],
   "source": [
    "# Define your model provider\n",
    "model_provider = 'Azure' # 'Azure' or 'OpenAI' or 'Gemini'ArithmeticError"
   ]
  },
  {
   "cell_type": "markdown",
   "metadata": {},
   "source": [
    "### Instantiate LLM model"
   ]
  },
  {
   "cell_type": "code",
   "execution_count": 4,
   "metadata": {},
   "outputs": [],
   "source": [
    "# Based on model_provider load the language model\n",
    "if model_provider == 'Azure':\n",
    "    \"\"\"\n",
    "    Define your environmental variables under .venv:\n",
    "        - AZURE_OPENAI_API_KEY    \n",
    "        - OPENAI_API_VERSION\n",
    "        - AZURE_OPENAI_ENDPOINT\n",
    "    \"\"\"\n",
    "    llm = AzureChatOpenAI(\n",
    "        deployment_name='gpt-4o-mini',  # Your actual deployment name\n",
    "    )\n",
    "elif model_provider == 'OpenAI':\n",
    "    \"\"\"\n",
    "    Define your environmental variables under .venv:\n",
    "        - OPENAI_API_KEY\n",
    "        - OPENAI_API_BASE\n",
    "    \"\"\"\n",
    "    llm = ChatOpenAI(model=\"gpt-4o-mini\")\n",
    "else:\n",
    "    print('Implement your own llm loader')"
   ]
  },
  {
   "cell_type": "markdown",
   "metadata": {},
   "source": [
    "## Implementation\n",
    "\n",
    "In the following section, we will step-by-step implement:\n",
    "- The data classes,\n",
    "- Agent state,\n",
    "- Nodes and function (used as a router),\n",
    "- and the workflow of the agent.\n",
    "\n",
    "So let's create all required data classes first:"
   ]
  },
  {
   "cell_type": "code",
   "execution_count": 5,
   "metadata": {},
   "outputs": [],
   "source": [
    "# Data Models\n",
    "class Task(BaseModel):\n",
    "    id: uuid.UUID = Field(default_factory=uuid.uuid4, description=\"Unique identifier for the task\")\n",
    "    task_name: str = Field(description=\"Name of the task\")\n",
    "    task_description: str = Field(description=\"Description of the task\")\n",
    "    estimated_day: int = Field(description=\"Estimated number of days to complete the task\")\n",
    "\n",
    "class TaskList(BaseModel):\n",
    "    tasks: List[Task] = Field(description=\"List of tasks\")\n",
    "\n",
    "class TaskDependency(BaseModel):\n",
    "    \"\"\"Task dependency model\"\"\"\n",
    "    task: Task = Field(description=\"Task\")\n",
    "    dependent_tasks: List[Task] = Field(description=\"List of dependent tasks\")\n",
    "\n",
    "class TeamMember(BaseModel):\n",
    "    name: str = Field(description=\"Name of the team member\")\n",
    "    profile: str = Field(description=\"Profile of the team member\")\n",
    "\n",
    "class Team(BaseModel):\n",
    "    team_members: List[TeamMember] = Field(description=\"List of team members\")\n",
    "\n",
    "# Iterative assessment\n",
    "class TaskAllocation(BaseModel):\n",
    "    \"\"\"Task allocation class\"\"\"\n",
    "    task: Task = Field(description=\"Task\")\n",
    "    team_member: TeamMember = Field(description=\"Team members assigned to the task\")\n",
    "\n",
    "class TaskSchedule(BaseModel):\n",
    "    \"\"\"Schedule schedule class\"\"\"\n",
    "    task: Task = Field(description=\"Task\")\n",
    "    start_day: int = Field(description=\"Start day of the task\")\n",
    "    end_day: int = Field(description=\"End day of the task\")\n",
    "\n",
    "# Lists\n",
    "class DependencyList(BaseModel):\n",
    "    \"\"\"List of task dependencies\"\"\"\n",
    "    dependencies: List[TaskDependency] = Field(description=\"List of task dependencies\")\n",
    "\n",
    "class Schedule(BaseModel):\n",
    "    \"\"\"List of task schedules\"\"\"\n",
    "    schedule: List[TaskSchedule] = Field(description=\"List of task schedules\")\n",
    "\n",
    "class TaskAllocationList(BaseModel):\n",
    "    \"\"\"List of task allocations\"\"\"\n",
    "    task_allocations: List[TaskAllocation] = Field(description=\"List of task allocations\")\n",
    "\n",
    "# Iteration\n",
    "class TaskAllocationListIteration(BaseModel):\n",
    "    \"\"\"List of task allocations for each iteration\"\"\"\n",
    "    task_allocations_iteration: List[TaskAllocationList] = Field(description=\"List of task allocations for each iteration\")\n",
    "\n",
    "class ScheduleIteration(BaseModel):\n",
    "    \"\"\"List of task schedules for each iteration\"\"\"\n",
    "    schedule: List[Schedule] = Field(description=\"List of task schedules for each iteration\")\n",
    "\n",
    "class Risk(BaseModel):\n",
    "    \"\"\"Risk of a task\"\"\"\n",
    "    task: Task = Field(description=\"Task\")\n",
    "    score: str = Field(description=\"Risk associated with the task\")\n",
    "\n",
    "class RiskList(BaseModel):\n",
    "    \"\"\"List of risks for each iteration\"\"\"\n",
    "    risks: List[Risk] = Field(description=\"List of risks\")\n",
    "\n",
    "class RiskListIteration(BaseModel):\n",
    "    \"\"\"List of risks for each iteration\"\"\"\n",
    "    risks_iteration: List[RiskList] = Field(description=\"List of risks for each iteration\")"
   ]
  },
  {
   "cell_type": "markdown",
   "metadata": {},
   "source": [
    "In the next step, let's create the AgentState. The `schedule_iteration`, `task_allocations_iteration`, `risks_iteration` are introduced to generate structured 'memory' for the self-reflection cycles."
   ]
  },
  {
   "cell_type": "code",
   "execution_count": 6,
   "metadata": {},
   "outputs": [],
   "source": [
    "class AgentState(TypedDict):\n",
    "    \"\"\"The project manager agent state.\"\"\"\n",
    "    project_description: str\n",
    "    team: Team\n",
    "    tasks: TaskList\n",
    "    dependencies: DependencyList\n",
    "    schedule: Schedule\n",
    "    task_allocations: TaskAllocationList\n",
    "    risks: RiskList\n",
    "    iteration_number: int\n",
    "    max_iteration: int\n",
    "    insights: List[str]\n",
    "    schedule_iteration: List[Schedule]\n",
    "    task_allocations_iteration: List[TaskAllocationList]\n",
    "    risks_iteration: List[RiskListIteration]\n",
    "    project_risk_score_iterations: List[int]"
   ]
  },
  {
   "cell_type": "markdown",
   "metadata": {},
   "source": [
    "Well done, let's create the required nodes. As a quick recap:\n",
    "\n",
    " In LangGraph a node is defined as a function which has an argument the `AgentState`. Within the node certain attributes of the field state is updated which at the end of the node is returned to the workflow manager and passed to the next node. Inside the nodes, LLM's are used to generate (non)-structured response.\n",
    "\n",
    "In this tutorial we have implemented the nodes based on th following pattern:\n",
    "\n",
    "```\n",
    "def task_generation_node(state: AgentState):\n",
    " \"\"\"LangGraph node that will extract tasks from given project description\"\"\"\n",
    "    description = state[\"project_description\"]\n",
    "    prompt = f\"\"\"You are an experienced project description analyzer. Analyze the \n",
    "    project description '{description}' and create a list of actionable and\n",
    "    realistic tasks with estimated time (in days) to complete each task.\n",
    "    If the task takes longer than 5 days, break it down into independent smaller tasks.\n",
    "    \"\"\"\n",
    "    structure_llm = llm.with_structured_output(TaskList)\n",
    "    tasks: TaskList = structure_llm.invoke(prompt)\n",
    "    state['tasks'] = tasks\n",
    "    return state\n",
    "```\n",
    "In almost all nodes, we used:\n",
    "- `llm.with_structured_output(<structure>)` - generating structured output. \n",
    "\n",
    "The .with_structured_output() method enables models with native APIs for structured outputs, such as function calling or JSON mode, to reliably produce outputs as objects based on a defined schema. The schema can be specified using a TypedDict, JSON Schema, or a Pydantic class, determining whether the output is a dictionary or a Pydantic object.\n",
    "\n",
    "The only exception is the insight_generation_node where only `str` as requested from the llm and the required interface only `llm.invoke(prompt)`"
   ]
  },
  {
   "cell_type": "code",
   "execution_count": 7,
   "metadata": {},
   "outputs": [],
   "source": [
    "# Workflow Nodes\n",
    "def task_generation_node(state: AgentState):\n",
    "    \"\"\"LangGraph node that will extract tasks from given project description\"\"\"\n",
    "    description = state[\"project_description\"]\n",
    "    prompt = f\"\"\"You are an experienced project description analyzer. Analyze the \n",
    "        project description '{description}' and create a list of actionable and\n",
    "        realistic tasks with estimated time (in days) to complete each task.\n",
    "        If the task takes longer than 5 days, break it down into independent smaller tasks.\n",
    "        \"\"\"\n",
    "    structure_llm = llm.with_structured_output(TaskList)\n",
    "    tasks: TaskList = structure_llm.invoke(prompt)\n",
    "    return {\"tasks\": tasks}\n",
    "\n",
    "def task_dependency_node(state: AgentState):\n",
    "    \"\"\"Evaluate the dependencies between the tasks\"\"\"\n",
    "    tasks = state[\"tasks\"]\n",
    "    prompt = f\"\"\"\n",
    "        Assess dependency between tasks {tasks}. For each task, identify the blocking tasks.\n",
    "        Provide for each task the list of dependent tasks.\n",
    "        \"\"\"\n",
    "    structure_llm = llm.with_structured_output(DependencyList)\n",
    "    dependencies: DependencyList = structure_llm.invoke(prompt)\n",
    "    return {\"dependencies\": dependencies}\n",
    "\n",
    "def task_scheduler_node(state: AgentState):\n",
    "    \"\"\"LangGraph node that will schedule tasks based on dependencies and team availability\"\"\"\n",
    "    dependencies = state[\"dependencies\"]\n",
    "    tasks = state[\"tasks\"]\n",
    "    insights = state[\"insights\"] #\"\" if state[\"insights\"] is None else state[\"insights\"].insights[-1]\n",
    "    prompt = f\"\"\"You are a project scheduler. You have the following {tasks}.\n",
    "        Schedule tasks based on the dependencies {dependencies},\n",
    "        Take into account the insights {insights}.\n",
    "        Take into previous schedule iteration if any {state[\"schedule_iteration\"]}.\n",
    "        \"\"\"\n",
    "    schedule_llm = llm.with_structured_output(Schedule)\n",
    "    schedule: Schedule = schedule_llm.invoke(prompt)\n",
    "    state[\"schedule\"] = schedule\n",
    "    state[\"schedule_iteration\"].append(schedule)\n",
    "    return state\n",
    "\n",
    "def task_allocation_node(state: AgentState):\n",
    "    \"\"\"LangGraph node that will allocate tasks to team members\"\"\"\n",
    "    tasks = state[\"tasks\"]\n",
    "    schedule = state[\"schedule\"]\n",
    "    team = state[\"team\"]\n",
    "    insights = state[\"insights\"] #\"\" if state[\"insights\"] is None else state[\"insights\"].insights[-1]\n",
    "    prompt = f\"\"\"You are a project manager. You have tasks {tasks} and schedule {schedule}.\n",
    "        Allocate tasks to team members {team} based on their skills and availability,\n",
    "        such that there is no overlapping task assigned for a team member.\n",
    "        Take into account any available insights {insights}\n",
    "        Take into account any previous task allocation {state[\"task_allocations_iteration\"]}.\n",
    "        Ensure that no team member has 2 tasks assigned for the same time period. \n",
    "        \"\"\"\n",
    "    structure_llm = llm.with_structured_output(TaskAllocationList)\n",
    "    task_allocations: TaskAllocationList = structure_llm.invoke(prompt)\n",
    "    state[\"task_allocations\"] = task_allocations\n",
    "    state[\"task_allocations_iteration\"].append(task_allocations)\n",
    "    return state\n",
    "\n",
    "def risk_assessment_node(state: AgentState):\n",
    "    \"\"\"LangGraph node that analyse risk associated with schedule and allocation of task\"\"\"\n",
    "    schedule = state[\"schedule\"]\n",
    "    task_allocations=state[\"task_allocations\"]\n",
    "    prompt = f\"\"\"You are an experienced project risk analyzer. You have to analyze the risk \n",
    "        task allocated {task_allocations} and the schedule {schedule} suggested for the task. Return\n",
    "        a risk score for each assigned task. Risk score should be an integer between 0 and 10.\n",
    "        If there is previous iteration available {state['risks_iteration']},\n",
    "        and there is no change in task assignment (same team member, same task) assign the same risk score.\n",
    "        \"\"\"\n",
    "    structure_llm = llm.with_structured_output(RiskList)\n",
    "    risks: RiskList = structure_llm.invoke(prompt)\n",
    "    project_task_risk_scores = [int(risk.score) for risk in risks.risks]\n",
    "    project_risk_score = sum(project_task_risk_scores)\n",
    "    state[\"risks\"] = risks\n",
    "    state[\"project_risk_score\"] = project_risk_score\n",
    "    state[\"iteration_number\"] += 1\n",
    "    state[\"project_risk_score_iterations\"].append(project_risk_score)\n",
    "    state[\"risks_iteration\"].append(risks)\n",
    "    return state\n",
    "\n",
    "def insight_generation_node(state: AgentState):\n",
    "    \"\"\"LangGraph node that generate insights from the schedule, task allocation, and risk associated\"\"\"\n",
    "    schedule = state[\"schedule\"]\n",
    "    task_allocations=state[\"task_allocations\"]\n",
    "    risks = state[\"risks\"]\n",
    "    prompt = f\"\"\"You are an experienced project manager. You have to generate critical insights\n",
    "        based on the task allocation {task_allocations}, the schedule {schedule} suggested for the task\n",
    "        and a risk analysis report {risks}. Return a list of critical insights that.\n",
    "        Recommend different task assignments or schedule changes if necessary.    \n",
    "    \"\"\"\n",
    "    #structure_llm=llm.with_structured_output\"insights\"].append(structure_llm.invoke(prompt))\n",
    "    insights = llm.invoke(prompt).content\n",
    "    return {\"insights\": insights}"
   ]
  },
  {
   "cell_type": "markdown",
   "metadata": {},
   "source": [
    "The proposed agentic workflow contains a conditional routing in which the logic was built around the overall risk score of the project plan. The task scheduling and task assignment is carried out at least twice in a 'self-reflection' in order to minimize the overall project risk assigned in each iteration as part of the `risk_assessment_node`. If the risk was reduced the agent finishes its task, otherwise tries to self-reflect using an `insight_generation_node` from which the insights fed back to the scheduler_node."
   ]
  },
  {
   "cell_type": "code",
   "execution_count": 8,
   "metadata": {},
   "outputs": [],
   "source": [
    "def router(state: AgentState):\n",
    "    \"\"\"LangGraph node that will route the agent to the appropriate node based on the project description\"\"\"\n",
    "    max_iteration = state[\"max_iteration\"]\n",
    "    iteration_number = state[\"iteration_number\"]\n",
    "\n",
    "    if iteration_number < max_iteration:\n",
    "        if len(state[\"project_risk_score_iterations\"])>1:\n",
    "            if state[\"project_risk_score_iterations\"][-1] < state[\"project_risk_score_iterations\"][0]:\n",
    "                return END\n",
    "            else:\n",
    "                return \"insight_generator\"\n",
    "        else:\n",
    "            return \"insight_generator\"\n",
    "    else:\n",
    "        return END"
   ]
  },
  {
   "cell_type": "markdown",
   "metadata": {},
   "source": [
    "As a last remainign step, let's create an agentic workflow using LangGraph."
   ]
  },
  {
   "cell_type": "code",
   "execution_count": 9,
   "metadata": {},
   "outputs": [],
   "source": [
    "# Instantiate the workflow    \n",
    "workflow = StateGraph(AgentState)\n",
    "\n",
    "# Add nodes to the workflow\n",
    "workflow.add_node(\"task_generation\", task_generation_node)\n",
    "workflow.add_node(\"task_dependencies\", task_dependency_node)\n",
    "workflow.add_node(\"task_scheduler\", task_scheduler_node)\n",
    "workflow.add_node(\"task_allocator\", task_allocation_node)\n",
    "workflow.add_node(\"risk_assessor\", risk_assessment_node)\n",
    "workflow.add_node(\"insight_generator\", insight_generation_node)\n",
    "\n",
    "# Add edges to the workflow\n",
    "workflow.set_entry_point(\"task_generation\")\n",
    "workflow.add_edge(\"task_generation\", \"task_dependencies\")\n",
    "workflow.add_edge(\"task_dependencies\", \"task_scheduler\")\n",
    "workflow.add_edge(\"task_scheduler\", \"task_allocator\")\n",
    "workflow.add_edge(\"task_allocator\", \"risk_assessor\")\n",
    "workflow.add_conditional_edges(\"risk_assessor\", router, [\"insight_generator\", END])\n",
    "workflow.add_edge(\"insight_generator\", \"task_scheduler\")\n",
    "\n",
    "# Set up memory\n",
    "memory = MemorySaver()\n",
    "\n",
    "# Compile the workflow\n",
    "graph_plan = workflow.compile(checkpointer=memory)"
   ]
  },
  {
   "cell_type": "code",
   "execution_count": 10,
   "metadata": {},
   "outputs": [
    {
     "data": {
      "image/png": "[encoded data removed]",
      "text/plain": [
       "<IPython.core.display.Image object>"
      ]
     },
     "metadata": {},
     "output_type": "display_data"
    }
   ],
   "source": [
    "# To visualize the created workflow, we can use \n",
    "display(Image(graph_plan.get_graph(xray=1).draw_mermaid_png()))"
   ]
  },
  {
   "cell_type": "markdown",
   "metadata": {},
   "source": [
    "## Usage Example"
   ]
  },
  {
   "cell_type": "markdown",
   "metadata": {},
   "source": [
    "#### Initiate of the AgentState by defining an input\n",
    "Our Project Manager Agent requires a project description (str) and a team (Team) input next to other initialization parameters.\n",
    "In this tutorial we provide two dummy input under `data`. The team is defined as a csv file, composed of 2 colums: <i>Name</i>,<i>Profile Description</i>"
   ]
  },
  {
   "cell_type": "code",
   "execution_count": 11,
   "metadata": {},
   "outputs": [
    {
     "name": "stdout",
     "output_type": "stream",
     "text": [
      "Our business aims to deliver a chatbot application for our customers to ensure 24/7 support and advice on product choices.\n",
      "team_members=[TeamMember(name='Alice', profile=' Alice is a Frontend Developer skilled in HTML CSS JavaScript and React.'), TeamMember(name='Bob', profile=' Bob is a Backend Developer proficient in Python Django SQL and RESTful APIs.'), TeamMember(name='Charlie', profile=' Charlie is a Project Manager experienced in Agile methodologies team leadership project planning and risk management.'), TeamMember(name='David', profile=' David is a Full Stack Developer with expertise in both frontend (HTML CSS JavaScript) and backend (Node.js MongoDB) technologies.'), TeamMember(name='Eve', profile=' Eve is a DevOps Engineer skilled in CI/CD pipelines Docker Kubernetes and cloud services like AWS and Azure.'), TeamMember(name='Frank', profile=' Frank is a Junior Frontend Developer with knowledge in HTML CSS JavaScript and basic React.'), TeamMember(name='Grace', profile=' Grace is a Senior Data Scientist with expertise in machine learning data analysis Python R and big data technologies like Hadoop and Spark.')]\n"
     ]
    }
   ],
   "source": [
    "def get_project_description(file_path:str):\n",
    "    \"\"\"Read the project description from the file\"\"\"\n",
    "    with open(file_path, 'r') as file:\n",
    "            content = file.read()\n",
    "\n",
    "    return content\n",
    "\n",
    "def get_team(file_path:str):\n",
    "    \"\"\"Read the team members from the CSV file\"\"\"\n",
    "    team_df = pd.read_csv(file_path)\n",
    "    team_members = [\n",
    "            TeamMember(name=row['Name'], profile=row['Profile Description'])\n",
    "            for _, row in team_df.iterrows()\n",
    "        ]\n",
    "    team = Team(team_members=team_members)\n",
    "\n",
    "    return team\n",
    "\n",
    "project_description = get_project_description(\"../data/project_manager_assistant/project_description.txt\")\n",
    "team = get_team(\"../data/project_manager_assistant/team.csv\")\n",
    "\n",
    "print(project_description)\n",
    "print(team)"
   ]
  },
  {
   "cell_type": "code",
   "execution_count": 12,
   "metadata": {},
   "outputs": [],
   "source": [
    "# Definition of the AgentState \n",
    "state_input = {\n",
    "    \"project_description\": project_description,\n",
    "    \"team\": team,\n",
    "    \"insights\": \"\",\n",
    "    \"iteration_number\": 0,\n",
    "    \"max_iteration\": 3,\n",
    "    \"schedule_iteration\": [],\n",
    "    \"task_allocations_iteration\": [],\n",
    "    \"risks_iteration\": [],\n",
    "    \"project_risk_score_iterations\": []\n",
    "}"
   ]
  },
  {
   "cell_type": "code",
   "execution_count": 13,
   "metadata": {},
   "outputs": [
    {
     "name": "stdout",
     "output_type": "stream",
     "text": [
      "Current node: task_generation\n",
      "Current node: task_dependencies\n",
      "Current node: task_scheduler\n",
      "Current node: task_allocator\n",
      "Current node: risk_assessor\n",
      "Current node: insight_generator\n",
      "Current node: task_scheduler\n",
      "Current node: task_allocator\n",
      "Current node: risk_assessor\n",
      "Current node: insight_generator\n",
      "Current node: task_scheduler\n",
      "Current node: task_allocator\n",
      "Current node: risk_assessor\n"
     ]
    }
   ],
   "source": [
    "# Invoke the agent\n",
    "config = {\"configurable\": {\"thread_id\": \"1\"}}\n",
    "for event in graph_plan.stream(state_input, config, stream_mode=[\"updates\"]):\n",
    "    \"Print the different nodes as the agent progresses\"\n",
    "    print(f\"Current node: {next(iter(event[1]))}\")\n"
   ]
  },
  {
   "cell_type": "code",
   "execution_count": 14,
   "metadata": {},
   "outputs": [
    {
     "data": {
      "text/plain": [
       "{'project_description': 'Our business aims to deliver a chatbot application for our customers to ensure 24/7 support and advice on product choices.',\n",
       " 'team': Team(team_members=[TeamMember(name='Alice', profile=' Alice is a Frontend Developer skilled in HTML CSS JavaScript and React.'), TeamMember(name='Bob', profile=' Bob is a Backend Developer proficient in Python Django SQL and RESTful APIs.'), TeamMember(name='Charlie', profile=' Charlie is a Project Manager experienced in Agile methodologies team leadership project planning and risk management.'), TeamMember(name='David', profile=' David is a Full Stack Developer with expertise in both frontend (HTML CSS JavaScript) and backend (Node.js MongoDB) technologies.'), TeamMember(name='Eve', profile=' Eve is a DevOps Engineer skilled in CI/CD pipelines Docker Kubernetes and cloud services like AWS and Azure.'), TeamMember(name='Frank', profile=' Frank is a Junior Frontend Developer with knowledge in HTML CSS JavaScript and basic React.'), TeamMember(name='Grace', profile=' Grace is a Senior Data Scientist with expertise in machine learning data analysis Python R and big data technologies like Hadoop and Spark.')]),\n",
       " 'tasks': TaskList(tasks=[Task(id=UUID('1a664aee-6796-4e99-b0c7-b12808c06a64'), task_name='Define project scope and requirements', task_description='Gather and document the specific features and functionalities needed for the chatbot application, including user needs and technical requirements.', estimated_day=3), Task(id=UUID('6368e33f-cd56-4794-ac74-e0a9e29c8887'), task_name='Research chatbot platforms and technologies', task_description='Investigate existing chatbot frameworks and technologies that can be used to develop the application, including pros and cons of each.', estimated_day=4), Task(id=UUID('5f1533da-b69a-4863-b1d5-953952a1d804'), task_name='Create chatbot design and user interface', task_description='Design the user interface (UI) for the chatbot, focusing on user experience (UX) and ensuring it meets customer needs.', estimated_day=5), Task(id=UUID('a2988b15-e594-4439-ad26-ed69bdfa9fe3'), task_name='Develop chatbot conversation flows', task_description='Outline and create the conversation pathways that the chatbot will follow in response to user inputs.', estimated_day=5), Task(id=UUID('c33920bc-8b45-4596-8a35-69f507fe2ea4'), task_name='Implement chatbot backend logic', task_description='Develop the backend architecture that will support the chatbot, including integration with databases and APIs.', estimated_day=7), Task(id=UUID('6e66f8b7-0cff-45c3-891d-cc5008fa2303'), task_name='Break down backend logic into smaller tasks', task_description='Divide the implementation of backend logic into smaller tasks such as setting up the database, creating API endpoints, and integrating third-party services.', estimated_day=1), Task(id=UUID('f2605ec4-744f-4676-9116-6d34dedfc98b'), task_name='Set up database', task_description='Create and configure the necessary database to store user interactions and product information.', estimated_day=2), Task(id=UUID('ded3022e-e0c8-4c23-913e-28bb0a5418f7'), task_name='Create API endpoints', task_description='Develop the necessary API endpoints for the chatbot to interact with external systems and databases.', estimated_day=2), Task(id=UUID('67cd781a-5aa0-44d5-9f71-f54496968e6f'), task_name='Integrate third-party services', task_description='Connect the chatbot with third-party services for functionalities like payment processing or product recommendations.', estimated_day=2), Task(id=UUID('27baf259-04a8-405d-bde6-8dee6417e7b4'), task_name='Test chatbot functionality', task_description='Conduct thorough testing of the chatbot to ensure all features work as intended and fix any bugs found.', estimated_day=4), Task(id=UUID('94ebdcd4-82f1-4e5a-a36e-c04649ef84dd'), task_name='Deploy chatbot application', task_description='Launch the chatbot application on the desired platform and ensure it is accessible to users.', estimated_day=3), Task(id=UUID('003576a5-d685-48ea-9fbb-ec36bf5c5449'), task_name='Monitor and gather user feedback', task_description='After deployment, monitor user interactions and gather feedback for future improvements and updates.', estimated_day=5)]),\n",
       " 'dependencies': DependencyList(dependencies=[TaskDependency(task=Task(id=UUID('1a664aee-6796-4e99-b0c7-b12808c06a64'), task_name='Define project scope and requirements', task_description='Gather and document the specific features and functionalities needed for the chatbot application, including user needs and technical requirements.', estimated_day=3), dependent_tasks=[Task(id=UUID('6368e33f-cd56-4794-ac74-e0a9e29c8887'), task_name='Research chatbot platforms and technologies', task_description='Investigate existing chatbot frameworks and technologies that can be used to develop the application, including pros and cons of each.', estimated_day=4), Task(id=UUID('5f1533da-b69a-4863-b1d5-953952a1d804'), task_name='Create chatbot design and user interface', task_description='Design the user interface (UI) for the chatbot, focusing on user experience (UX) and ensuring it meets customer needs.', estimated_day=5), Task(id=UUID('a2988b15-e594-4439-ad26-ed69bdfa9fe3'), task_name='Develop chatbot conversation flows', task_description='Outline and create the conversation pathways that the chatbot will follow in response to user inputs.', estimated_day=5)]), TaskDependency(task=Task(id=UUID('6368e33f-cd56-4794-ac74-e0a9e29c8887'), task_name='Research chatbot platforms and technologies', task_description='Investigate existing chatbot frameworks and technologies that can be used to develop the application, including pros and cons of each.', estimated_day=4), dependent_tasks=[Task(id=UUID('5f1533da-b69a-4863-b1d5-953952a1d804'), task_name='Create chatbot design and user interface', task_description='Design the user interface (UI) for the chatbot, focusing on user experience (UX) and ensuring it meets customer needs.', estimated_day=5), Task(id=UUID('a2988b15-e594-4439-ad26-ed69bdfa9fe3'), task_name='Develop chatbot conversation flows', task_description='Outline and create the conversation pathways that the chatbot will follow in response to user inputs.', estimated_day=5)]), TaskDependency(task=Task(id=UUID('5f1533da-b69a-4863-b1d5-953952a1d804'), task_name='Create chatbot design and user interface', task_description='Design the user interface (UI) for the chatbot, focusing on user experience (UX) and ensuring it meets customer needs.', estimated_day=5), dependent_tasks=[Task(id=UUID('c33920bc-8b45-4596-8a35-69f507fe2ea4'), task_name='Implement chatbot backend logic', task_description='Develop the backend architecture that will support the chatbot, including integration with databases and APIs.', estimated_day=7)]), TaskDependency(task=Task(id=UUID('a2988b15-e594-4439-ad26-ed69bdfa9fe3'), task_name='Develop chatbot conversation flows', task_description='Outline and create the conversation pathways that the chatbot will follow in response to user inputs.', estimated_day=5), dependent_tasks=[Task(id=UUID('c33920bc-8b45-4596-8a35-69f507fe2ea4'), task_name='Implement chatbot backend logic', task_description='Develop the backend architecture that will support the chatbot, including integration with databases and APIs.', estimated_day=7)]), TaskDependency(task=Task(id=UUID('c33920bc-8b45-4596-8a35-69f507fe2ea4'), task_name='Implement chatbot backend logic', task_description='Develop the backend architecture that will support the chatbot, including integration with databases and APIs.', estimated_day=7), dependent_tasks=[Task(id=UUID('6e66f8b7-0cff-45c3-891d-cc5008fa2303'), task_name='Break down backend logic into smaller tasks', task_description='Divide the implementation of backend logic into smaller tasks such as setting up the database, creating API endpoints, and integrating third-party services.', estimated_day=1)]), TaskDependency(task=Task(id=UUID('6e66f8b7-0cff-45c3-891d-cc5008fa2303'), task_name='Break down backend logic into smaller tasks', task_description='Divide the implementation of backend logic into smaller tasks such as setting up the database, creating API endpoints, and integrating third-party services.', estimated_day=1), dependent_tasks=[Task(id=UUID('f2605ec4-744f-4676-9116-6d34dedfc98b'), task_name='Set up database', task_description='Create and configure the necessary database to store user interactions and product information.', estimated_day=2), Task(id=UUID('ded3022e-e0c8-4c23-913e-28bb0a5418f7'), task_name='Create API endpoints', task_description='Develop the necessary API endpoints for the chatbot to interact with external systems and databases.', estimated_day=2), Task(id=UUID('67cd781a-5aa0-44d5-9f71-f54496968e6f'), task_name='Integrate third-party services', task_description='Connect the chatbot with third-party services for functionalities like payment processing or product recommendations.', estimated_day=2)]), TaskDependency(task=Task(id=UUID('f2605ec4-744f-4676-9116-6d34dedfc98b'), task_name='Set up database', task_description='Create and configure the necessary database to store user interactions and product information.', estimated_day=2), dependent_tasks=[Task(id=UUID('27baf259-04a8-405d-bde6-8dee6417e7b4'), task_name='Test chatbot functionality', task_description='Conduct thorough testing of the chatbot to ensure all features work as intended and fix any bugs found.', estimated_day=4)]), TaskDependency(task=Task(id=UUID('ded3022e-e0c8-4c23-913e-28bb0a5418f7'), task_name='Create API endpoints', task_description='Develop the necessary API endpoints for the chatbot to interact with external systems and databases.', estimated_day=2), dependent_tasks=[Task(id=UUID('27baf259-04a8-405d-bde6-8dee6417e7b4'), task_name='Test chatbot functionality', task_description='Conduct thorough testing of the chatbot to ensure all features work as intended and fix any bugs found.', estimated_day=4)]), TaskDependency(task=Task(id=UUID('67cd781a-5aa0-44d5-9f71-f54496968e6f'), task_name='Integrate third-party services', task_description='Connect the chatbot with third-party services for functionalities like payment processing or product recommendations.', estimated_day=2), dependent_tasks=[Task(id=UUID('27baf259-04a8-405d-bde6-8dee6417e7b4'), task_name='Test chatbot functionality', task_description='Conduct thorough testing of the chatbot to ensure all features work as intended and fix any bugs found.', estimated_day=4)]), TaskDependency(task=Task(id=UUID('27baf259-04a8-405d-bde6-8dee6417e7b4'), task_name='Test chatbot functionality', task_description='Conduct thorough testing of the chatbot to ensure all features work as intended and fix any bugs found.', estimated_day=4), dependent_tasks=[Task(id=UUID('94ebdcd4-82f1-4e5a-a36e-c04649ef84dd'), task_name='Deploy chatbot application', task_description='Launch the chatbot application on the desired platform and ensure it is accessible to users.', estimated_day=3)]), TaskDependency(task=Task(id=UUID('94ebdcd4-82f1-4e5a-a36e-c04649ef84dd'), task_name='Deploy chatbot application', task_description='Launch the chatbot application on the desired platform and ensure it is accessible to users.', estimated_day=3), dependent_tasks=[Task(id=UUID('003576a5-d685-48ea-9fbb-ec36bf5c5449'), task_name='Monitor and gather user feedback', task_description='After deployment, monitor user interactions and gather feedback for future improvements and updates.', estimated_day=5)])]),\n",
       " 'schedule': Schedule(schedule=[TaskSchedule(task=Task(id=UUID('1a664aee-6796-4e99-b0c7-b12808c06a64'), task_name='Define project scope and requirements', task_description='Gather and document the specific features and functionalities needed for the chatbot application, including user needs and technical requirements.', estimated_day=3), start_day=1, end_day=3), TaskSchedule(task=Task(id=UUID('6368e33f-cd56-4794-ac74-e0a9e29c8887'), task_name='Research chatbot platforms and technologies', task_description='Investigate existing chatbot frameworks and technologies that can be used to develop the application, including pros and cons of each.', estimated_day=4), start_day=4, end_day=7), TaskSchedule(task=Task(id=UUID('5f1533da-b69a-4863-b1d5-953952a1d804'), task_name='Create chatbot design and user interface', task_description='Design the user interface (UI) for the chatbot, focusing on user experience (UX) and ensuring it meets customer needs.', estimated_day=5), start_day=8, end_day=12), TaskSchedule(task=Task(id=UUID('a2988b15-e594-4439-ad26-ed69bdfa9fe3'), task_name='Develop chatbot conversation flows', task_description='Outline and create the conversation pathways that the chatbot will follow in response to user inputs.', estimated_day=5), start_day=8, end_day=12), TaskSchedule(task=Task(id=UUID('c33920bc-8b45-4596-8a35-69f507fe2ea4'), task_name='Implement chatbot backend logic', task_description='Develop the backend architecture that will support the chatbot, including integration with databases and APIs.', estimated_day=7), start_day=13, end_day=19), TaskSchedule(task=Task(id=UUID('6e66f8b7-0cff-45c3-891d-cc5008fa2303'), task_name='Break down backend logic into smaller tasks', task_description='Divide the implementation of backend logic into smaller tasks such as setting up the database, creating API endpoints, and integrating third-party services.', estimated_day=1), start_day=20, end_day=20), TaskSchedule(task=Task(id=UUID('f2605ec4-744f-4676-9116-6d34dedfc98b'), task_name='Set up database', task_description='Create and configure the necessary database to store user interactions and product information.', estimated_day=2), start_day=21, end_day=22), TaskSchedule(task=Task(id=UUID('ded3022e-e0c8-4c23-913e-28bb0a5418f7'), task_name='Create API endpoints', task_description='Develop the necessary API endpoints for the chatbot to interact with external systems and databases.', estimated_day=2), start_day=23, end_day=24), TaskSchedule(task=Task(id=UUID('67cd781a-5aa0-44d5-9f71-f54496968e6f'), task_name='Integrate third-party services', task_description='Connect the chatbot with third-party services for functionalities like payment processing or product recommendations.', estimated_day=2), start_day=25, end_day=26), TaskSchedule(task=Task(id=UUID('27baf259-04a8-405d-bde6-8dee6417e7b4'), task_name='Test chatbot functionality', task_description='Conduct thorough testing of the chatbot to ensure all features work as intended and fix any bugs found.', estimated_day=4), start_day=27, end_day=30), TaskSchedule(task=Task(id=UUID('94ebdcd4-82f1-4e5a-a36e-c04649ef84dd'), task_name='Deploy chatbot application', task_description='Launch the chatbot application on the desired platform and ensure it is accessible to users.', estimated_day=3), start_day=31, end_day=33), TaskSchedule(task=Task(id=UUID('003576a5-d685-48ea-9fbb-ec36bf5c5449'), task_name='Monitor and gather user feedback', task_description='After deployment, monitor user interactions and gather feedback for future improvements and updates.', estimated_day=5), start_day=34, end_day=38)]),\n",
       " 'task_allocations': TaskAllocationList(task_allocations=[TaskAllocation(task=Task(id=UUID('1a664aee-6796-4e99-b0c7-b12808c06a64'), task_name='Define project scope and requirements', task_description='Gather and document the specific features and functionalities needed for the chatbot application, including user needs and technical requirements.', estimated_day=3), team_member=TeamMember(name='Charlie', profile=' Charlie is a Project Manager experienced in Agile methodologies team leadership project planning and risk management.')), TaskAllocation(task=Task(id=UUID('6368e33f-cd56-4794-ac74-e0a9e29c8887'), task_name='Research chatbot platforms and technologies', task_description='Investigate existing chatbot frameworks and technologies that can be used to develop the application, including pros and cons of each.', estimated_day=4), team_member=TeamMember(name='David', profile=' David is a Full Stack Developer with expertise in both frontend (HTML CSS JavaScript) and backend (Node.js MongoDB) technologies.')), TaskAllocation(task=Task(id=UUID('5f1533da-b69a-4863-b1d5-953952a1d804'), task_name='Create chatbot design and user interface', task_description='Design the user interface (UI) for the chatbot, focusing on user experience (UX) and ensuring it meets customer needs.', estimated_day=5), team_member=TeamMember(name='Frank', profile=' Frank is a Junior Frontend Developer with knowledge in HTML CSS JavaScript and basic React.')), TaskAllocation(task=Task(id=UUID('a2988b15-e594-4439-ad26-ed69bdfa9fe3'), task_name='Develop chatbot conversation flows', task_description='Outline and create the conversation pathways that the chatbot will follow in response to user inputs.', estimated_day=5), team_member=TeamMember(name='Alice', profile=' Alice is a Frontend Developer skilled in HTML CSS JavaScript and React.')), TaskAllocation(task=Task(id=UUID('c33920bc-8b45-4596-8a35-69f507fe2ea4'), task_name='Implement chatbot backend logic', task_description='Develop the backend architecture that will support the chatbot, including integration with databases and APIs.', estimated_day=7), team_member=TeamMember(name='Bob', profile=' Bob is a Backend Developer proficient in Python Django SQL and RESTful APIs.')), TaskAllocation(task=Task(id=UUID('6e66f8b7-0cff-45c3-891d-cc5008fa2303'), task_name='Break down backend logic into smaller tasks', task_description='Divide the implementation of backend logic into smaller tasks such as setting up the database, creating API endpoints, and integrating third-party services.', estimated_day=1), team_member=TeamMember(name='Eve', profile=' Eve is a DevOps Engineer skilled in CI/CD pipelines Docker Kubernetes and cloud services like AWS and Azure.')), TaskAllocation(task=Task(id=UUID('f2605ec4-744f-4676-9116-6d34dedfc98b'), task_name='Set up database', task_description='Create and configure the necessary database to store user interactions and product information.', estimated_day=2), team_member=TeamMember(name='David', profile=' David is a Full Stack Developer with expertise in both frontend (HTML CSS JavaScript) and backend (Node.js MongoDB) technologies.')), TaskAllocation(task=Task(id=UUID('ded3022e-e0c8-4c23-913e-28bb0a5418f7'), task_name='Create API endpoints', task_description='Develop the necessary API endpoints for the chatbot to interact with external systems and databases.', estimated_day=2), team_member=TeamMember(name='Eve', profile=' Eve is a DevOps Engineer skilled in CI/CD pipelines Docker Kubernetes and cloud services like AWS and Azure.')), TaskAllocation(task=Task(id=UUID('67cd781a-5aa0-44d5-9f71-f54496968e6f'), task_name='Integrate third-party services', task_description='Connect the chatbot with third-party services for functionalities like payment processing or product recommendations.', estimated_day=2), team_member=TeamMember(name='Grace', profile=' Grace is a Senior Data Scientist with expertise in machine learning data analysis Python R and big data technologies like Hadoop and Spark.')), TaskAllocation(task=Task(id=UUID('27baf259-04a8-405d-bde6-8dee6417e7b4'), task_name='Test chatbot functionality', task_description='Conduct thorough testing of the chatbot to ensure all features work as intended and fix any bugs found.', estimated_day=4), team_member=TeamMember(name='Grace', profile=' Grace is a Senior Data Scientist with expertise in machine learning data analysis Python R and big data technologies like Hadoop and Spark.')), TaskAllocation(task=Task(id=UUID('94ebdcd4-82f1-4e5a-a36e-c04649ef84dd'), task_name='Deploy chatbot application', task_description='Launch the chatbot application on the desired platform and ensure it is accessible to users.', estimated_day=3), team_member=TeamMember(name='Eve', profile=' Eve is a DevOps Engineer skilled in CI/CD pipelines Docker Kubernetes and cloud services like AWS and Azure.')), TaskAllocation(task=Task(id=UUID('003576a5-d685-48ea-9fbb-ec36bf5c5449'), task_name='Monitor and gather user feedback', task_description='After deployment, monitor user interactions and gather feedback for future improvements and updates.', estimated_day=5), team_member=TeamMember(name='Charlie', profile=' Charlie is a Project Manager experienced in Agile methodologies team leadership project planning and risk management.'))]),\n",
       " 'risks': RiskList(risks=[Risk(task=Task(id=UUID('1a664aee-6796-4e99-b0c7-b12808c06a64'), task_name='Define project scope and requirements', task_description='Gather and document the specific features and functionalities needed for the chatbot application, including user needs and technical requirements.', estimated_day=3), score='7'), Risk(task=Task(id=UUID('6368e33f-cd56-4794-ac74-e0a9e29c8887'), task_name='Research chatbot platforms and technologies', task_description='Investigate existing chatbot frameworks and technologies that can be used to develop the application, including pros and cons of each.', estimated_day=4), score='6'), Risk(task=Task(id=UUID('5f1533da-b69a-4863-b1d5-953952a1d804'), task_name='Create chatbot design and user interface', task_description='Design the user interface (UI) for the chatbot, focusing on user experience (UX) and ensuring it meets customer needs.', estimated_day=5), score='5'), Risk(task=Task(id=UUID('a2988b15-e594-4439-ad26-ed69bdfa9fe3'), task_name='Develop chatbot conversation flows', task_description='Outline and create the conversation pathways that the chatbot will follow in response to user inputs.', estimated_day=5), score='5'), Risk(task=Task(id=UUID('c33920bc-8b45-4596-8a35-69f507fe2ea4'), task_name='Implement chatbot backend logic', task_description='Develop the backend architecture that will support the chatbot, including integration with databases and APIs.', estimated_day=7), score='8'), Risk(task=Task(id=UUID('6e66f8b7-0cff-45c3-891d-cc5008fa2303'), task_name='Break down backend logic into smaller tasks', task_description='Divide the implementation of backend logic into smaller tasks such as setting up the database, creating API endpoints, and integrating third-party services.', estimated_day=1), score='3'), Risk(task=Task(id=UUID('f2605ec4-744f-4676-9116-6d34dedfc98b'), task_name='Set up database', task_description='Create and configure the necessary database to store user interactions and product information.', estimated_day=2), score='4'), Risk(task=Task(id=UUID('ded3022e-e0c8-4c23-913e-28bb0a5418f7'), task_name='Create API endpoints', task_description='Develop the necessary API endpoints for the chatbot to interact with external systems and databases.', estimated_day=2), score='4'), Risk(task=Task(id=UUID('67cd781a-5aa0-44d5-9f71-f54496968e6f'), task_name='Integrate third-party services', task_description='Connect the chatbot with third-party services for functionalities like payment processing or product recommendations.', estimated_day=2), score='5'), Risk(task=Task(id=UUID('27baf259-04a8-405d-bde6-8dee6417e7b4'), task_name='Test chatbot functionality', task_description='Conduct thorough testing of the chatbot to ensure all features work as intended and fix any bugs found.', estimated_day=4), score='6'), Risk(task=Task(id=UUID('94ebdcd4-82f1-4e5a-a36e-c04649ef84dd'), task_name='Deploy chatbot application', task_description='Launch the chatbot application on the desired platform and ensure it is accessible to users.', estimated_day=3), score='6'), Risk(task=Task(id=UUID('003576a5-d685-48ea-9fbb-ec36bf5c5449'), task_name='Monitor and gather user feedback', task_description='After deployment, monitor user interactions and gather feedback for future improvements and updates.', estimated_day=5), score='5')]),\n",
       " 'iteration_number': 3,\n",
       " 'max_iteration': 3,\n",
       " 'insights': 'Based on the provided data regarding task allocations, schedules, and risk assessments, here are several critical insights and recommendations for improving the project management of the chatbot application development:\\n\\n### Critical Insights\\n\\n1. **High-Risk Tasks**:\\n   - The task \"Implement chatbot backend logic\" has the highest risk score (8), indicating significant potential challenges. This task should be closely monitored and may require additional resources or expertise to mitigate risks.\\n   - The tasks \"Define project scope and requirements\" (score 7) and \"Research chatbot platforms and technologies\" (score 6) also have notable risks, suggesting a need for thorough planning and stakeholder engagement.\\n\\n2. **Resource Allocation**:\\n   - Both \"David\" and \"Eve\" are assigned multiple tasks (David has 2 tasks; Eve has 3). Although their expertise aligns with the tasks assigned, their workload may lead to delays if they are overextended. Consider redistributing some tasks to balance the workload.\\n\\n3. **Task Overlaps**:\\n   - The tasks \"Set up database\", \"Create API endpoints\", and \"Integrate third-party services\" are scheduled to occur simultaneously on days 22-23. Given that they are interrelated, any delays in one could impact the others. This overlap could be problematic, and it might be beneficial to stagger these tasks.\\n\\n4. **Testing Phase**:\\n   - The \"Test chatbot functionality\" task is scheduled for days 24-27, which is relatively close to the deployment scheduled for days 28-30. Any major issues discovered during testing could jeopardize the deployment timeline. Consider extending the testing phase or earlier completion of critical components to allow more time for fixes.\\n\\n5. **Feedback Loop**:\\n   - The \"Monitor and gather user feedback\" task starts on day 31, right after deployment. This is a crucial phase for continuous improvement but may be rushed. Ensure that feedback mechanisms are in place before deployment to gather insights as soon as the application is live.\\n\\n### Recommendations\\n\\n1. **Reassign High-Risk Task**:\\n   - Consider reassigning \"Implement chatbot backend logic\" from \"Bob\" to someone with more experience in backend development, or add a mentor to support him during this phase.\\n\\n2. **Modify Schedule for Overlapping Tasks**:\\n   - Stagger the database setup, API creation, and integration tasks. For example:\\n     - Set up the database (days 22-23)\\n     - Create API endpoints (days 24-25)\\n     - Integrate third-party services (days 26-27)\\n\\n3. **Extend Testing Phase**:\\n   - Extend the \"Test chatbot functionality\" task to include additional buffer time, possibly starting on day 22 or even earlier, allowing for thorough testing before deployment.\\n\\n4. **Pre-Deployment User Engagement**:\\n   - Initiate user feedback collection or beta testing before the official launch. This will help identify potential issues and refine the chatbot based on real user interactions.\\n\\n5. **Balanced Workload**:\\n   - Review and redistribute tasks among team members to ensure no one is overloaded. For instance, consider assigning \"Set up database\" and \"Create API endpoints\" to different team members to reduce the burden on David and Eve.\\n\\n6. **Monitoring and Risk Management**:\\n   - Implement regular check-ins or reviews for high-risk tasks, particularly those with scores above 5. This will allow for timely identification of any issues and adjustments to the project plan as needed.\\n\\nBy addressing these insights and implementing the recommendations, the project can enhance its chances for successful and timely completion while effectively managing risks.',\n",
       " 'schedule_iteration': [Schedule(schedule=[TaskSchedule(task=Task(id=UUID('1a664aee-6796-4e99-b0c7-b12808c06a64'), task_name='Define project scope and requirements', task_description='Gather and document the specific features and functionalities needed for the chatbot application, including user needs and technical requirements.', estimated_day=3), start_day=1, end_day=3), TaskSchedule(task=Task(id=UUID('6368e33f-cd56-4794-ac74-e0a9e29c8887'), task_name='Research chatbot platforms and technologies', task_description='Investigate existing chatbot frameworks and technologies that can be used to develop the application, including pros and cons of each.', estimated_day=4), start_day=4, end_day=7), TaskSchedule(task=Task(id=UUID('5f1533da-b69a-4863-b1d5-953952a1d804'), task_name='Create chatbot design and user interface', task_description='Design the user interface (UI) for the chatbot, focusing on user experience (UX) and ensuring it meets customer needs.', estimated_day=5), start_day=8, end_day=12), TaskSchedule(task=Task(id=UUID('a2988b15-e594-4439-ad26-ed69bdfa9fe3'), task_name='Develop chatbot conversation flows', task_description='Outline and create the conversation pathways that the chatbot will follow in response to user inputs.', estimated_day=5), start_day=8, end_day=12), TaskSchedule(task=Task(id=UUID('c33920bc-8b45-4596-8a35-69f507fe2ea4'), task_name='Implement chatbot backend logic', task_description='Develop the backend architecture that will support the chatbot, including integration with databases and APIs.', estimated_day=7), start_day=13, end_day=19), TaskSchedule(task=Task(id=UUID('6e66f8b7-0cff-45c3-891d-cc5008fa2303'), task_name='Break down backend logic into smaller tasks', task_description='Divide the implementation of backend logic into smaller tasks such as setting up the database, creating API endpoints, and integrating third-party services.', estimated_day=1), start_day=20, end_day=20), TaskSchedule(task=Task(id=UUID('f2605ec4-744f-4676-9116-6d34dedfc98b'), task_name='Set up database', task_description='Create and configure the necessary database to store user interactions and product information.', estimated_day=2), start_day=21, end_day=22), TaskSchedule(task=Task(id=UUID('ded3022e-e0c8-4c23-913e-28bb0a5418f7'), task_name='Create API endpoints', task_description='Develop the necessary API endpoints for the chatbot to interact with external systems and databases.', estimated_day=2), start_day=21, end_day=22), TaskSchedule(task=Task(id=UUID('67cd781a-5aa0-44d5-9f71-f54496968e6f'), task_name='Integrate third-party services', task_description='Connect the chatbot with third-party services for functionalities like payment processing or product recommendations.', estimated_day=2), start_day=21, end_day=22), TaskSchedule(task=Task(id=UUID('27baf259-04a8-405d-bde6-8dee6417e7b4'), task_name='Test chatbot functionality', task_description='Conduct thorough testing of the chatbot to ensure all features work as intended and fix any bugs found.', estimated_day=4), start_day=23, end_day=26), TaskSchedule(task=Task(id=UUID('94ebdcd4-82f1-4e5a-a36e-c04649ef84dd'), task_name='Deploy chatbot application', task_description='Launch the chatbot application on the desired platform and ensure it is accessible to users.', estimated_day=3), start_day=27, end_day=29), TaskSchedule(task=Task(id=UUID('003576a5-d685-48ea-9fbb-ec36bf5c5449'), task_name='Monitor and gather user feedback', task_description='After deployment, monitor user interactions and gather feedback for future improvements and updates.', estimated_day=5), start_day=30, end_day=34)]),\n",
       "  Schedule(schedule=[TaskSchedule(task=Task(id=UUID('1a664aee-6796-4e99-b0c7-b12808c06a64'), task_name='Define project scope and requirements', task_description='Gather and document the specific features and functionalities needed for the chatbot application, including user needs and technical requirements.', estimated_day=3), start_day=1, end_day=3), TaskSchedule(task=Task(id=UUID('6368e33f-cd56-4794-ac74-e0a9e29c8887'), task_name='Research chatbot platforms and technologies', task_description='Investigate existing chatbot frameworks and technologies that can be used to develop the application, including pros and cons of each.', estimated_day=4), start_day=4, end_day=7), TaskSchedule(task=Task(id=UUID('5f1533da-b69a-4863-b1d5-953952a1d804'), task_name='Create chatbot design and user interface', task_description='Design the user interface (UI) for the chatbot, focusing on user experience (UX) and ensuring it meets customer needs.', estimated_day=5), start_day=9, end_day=13), TaskSchedule(task=Task(id=UUID('a2988b15-e594-4439-ad26-ed69bdfa9fe3'), task_name='Develop chatbot conversation flows', task_description='Outline and create the conversation pathways that the chatbot will follow in response to user inputs.', estimated_day=5), start_day=9, end_day=13), TaskSchedule(task=Task(id=UUID('c33920bc-8b45-4596-8a35-69f507fe2ea4'), task_name='Implement chatbot backend logic', task_description='Develop the backend architecture that will support the chatbot, including integration with databases and APIs.', estimated_day=7), start_day=14, end_day=20), TaskSchedule(task=Task(id=UUID('6e66f8b7-0cff-45c3-891d-cc5008fa2303'), task_name='Break down backend logic into smaller tasks', task_description='Divide the implementation of backend logic into smaller tasks such as setting up the database, creating API endpoints, and integrating third-party services.', estimated_day=1), start_day=21, end_day=21), TaskSchedule(task=Task(id=UUID('f2605ec4-744f-4676-9116-6d34dedfc98b'), task_name='Set up database', task_description='Create and configure the necessary database to store user interactions and product information.', estimated_day=2), start_day=22, end_day=23), TaskSchedule(task=Task(id=UUID('ded3022e-e0c8-4c23-913e-28bb0a5418f7'), task_name='Create API endpoints', task_description='Develop the necessary API endpoints for the chatbot to interact with external systems and databases.', estimated_day=2), start_day=22, end_day=23), TaskSchedule(task=Task(id=UUID('67cd781a-5aa0-44d5-9f71-f54496968e6f'), task_name='Integrate third-party services', task_description='Connect the chatbot with third-party services for functionalities like payment processing or product recommendations.', estimated_day=2), start_day=22, end_day=23), TaskSchedule(task=Task(id=UUID('27baf259-04a8-405d-bde6-8dee6417e7b4'), task_name='Test chatbot functionality', task_description='Conduct thorough testing of the chatbot to ensure all features work as intended and fix any bugs found.', estimated_day=4), start_day=24, end_day=27), TaskSchedule(task=Task(id=UUID('94ebdcd4-82f1-4e5a-a36e-c04649ef84dd'), task_name='Deploy chatbot application', task_description='Launch the chatbot application on the desired platform and ensure it is accessible to users.', estimated_day=3), start_day=28, end_day=30), TaskSchedule(task=Task(id=UUID('003576a5-d685-48ea-9fbb-ec36bf5c5449'), task_name='Monitor and gather user feedback', task_description='After deployment, monitor user interactions and gather feedback for future improvements and updates.', estimated_day=5), start_day=31, end_day=35)]),\n",
       "  Schedule(schedule=[TaskSchedule(task=Task(id=UUID('1a664aee-6796-4e99-b0c7-b12808c06a64'), task_name='Define project scope and requirements', task_description='Gather and document the specific features and functionalities needed for the chatbot application, including user needs and technical requirements.', estimated_day=3), start_day=1, end_day=3), TaskSchedule(task=Task(id=UUID('6368e33f-cd56-4794-ac74-e0a9e29c8887'), task_name='Research chatbot platforms and technologies', task_description='Investigate existing chatbot frameworks and technologies that can be used to develop the application, including pros and cons of each.', estimated_day=4), start_day=4, end_day=7), TaskSchedule(task=Task(id=UUID('5f1533da-b69a-4863-b1d5-953952a1d804'), task_name='Create chatbot design and user interface', task_description='Design the user interface (UI) for the chatbot, focusing on user experience (UX) and ensuring it meets customer needs.', estimated_day=5), start_day=8, end_day=12), TaskSchedule(task=Task(id=UUID('a2988b15-e594-4439-ad26-ed69bdfa9fe3'), task_name='Develop chatbot conversation flows', task_description='Outline and create the conversation pathways that the chatbot will follow in response to user inputs.', estimated_day=5), start_day=8, end_day=12), TaskSchedule(task=Task(id=UUID('c33920bc-8b45-4596-8a35-69f507fe2ea4'), task_name='Implement chatbot backend logic', task_description='Develop the backend architecture that will support the chatbot, including integration with databases and APIs.', estimated_day=7), start_day=13, end_day=19), TaskSchedule(task=Task(id=UUID('6e66f8b7-0cff-45c3-891d-cc5008fa2303'), task_name='Break down backend logic into smaller tasks', task_description='Divide the implementation of backend logic into smaller tasks such as setting up the database, creating API endpoints, and integrating third-party services.', estimated_day=1), start_day=20, end_day=20), TaskSchedule(task=Task(id=UUID('f2605ec4-744f-4676-9116-6d34dedfc98b'), task_name='Set up database', task_description='Create and configure the necessary database to store user interactions and product information.', estimated_day=2), start_day=21, end_day=22), TaskSchedule(task=Task(id=UUID('ded3022e-e0c8-4c23-913e-28bb0a5418f7'), task_name='Create API endpoints', task_description='Develop the necessary API endpoints for the chatbot to interact with external systems and databases.', estimated_day=2), start_day=23, end_day=24), TaskSchedule(task=Task(id=UUID('67cd781a-5aa0-44d5-9f71-f54496968e6f'), task_name='Integrate third-party services', task_description='Connect the chatbot with third-party services for functionalities like payment processing or product recommendations.', estimated_day=2), start_day=25, end_day=26), TaskSchedule(task=Task(id=UUID('27baf259-04a8-405d-bde6-8dee6417e7b4'), task_name='Test chatbot functionality', task_description='Conduct thorough testing of the chatbot to ensure all features work as intended and fix any bugs found.', estimated_day=4), start_day=27, end_day=30), TaskSchedule(task=Task(id=UUID('94ebdcd4-82f1-4e5a-a36e-c04649ef84dd'), task_name='Deploy chatbot application', task_description='Launch the chatbot application on the desired platform and ensure it is accessible to users.', estimated_day=3), start_day=31, end_day=33), TaskSchedule(task=Task(id=UUID('003576a5-d685-48ea-9fbb-ec36bf5c5449'), task_name='Monitor and gather user feedback', task_description='After deployment, monitor user interactions and gather feedback for future improvements and updates.', estimated_day=5), start_day=34, end_day=38)])],\n",
       " 'task_allocations_iteration': [TaskAllocationList(task_allocations=[TaskAllocation(task=Task(id=UUID('1a664aee-6796-4e99-b0c7-b12808c06a64'), task_name='Define project scope and requirements', task_description='Gather and document the specific features and functionalities needed for the chatbot application, including user needs and technical requirements.', estimated_day=3), team_member=TeamMember(name='Charlie', profile=' Charlie is a Project Manager experienced in Agile methodologies team leadership project planning and risk management.')), TaskAllocation(task=Task(id=UUID('6368e33f-cd56-4794-ac74-e0a9e29c8887'), task_name='Research chatbot platforms and technologies', task_description='Investigate existing chatbot frameworks and technologies that can be used to develop the application, including pros and cons of each.', estimated_day=4), team_member=TeamMember(name='David', profile=' David is a Full Stack Developer with expertise in both frontend (HTML CSS JavaScript) and backend (Node.js MongoDB) technologies.')), TaskAllocation(task=Task(id=UUID('5f1533da-b69a-4863-b1d5-953952a1d804'), task_name='Create chatbot design and user interface', task_description='Design the user interface (UI) for the chatbot, focusing on user experience (UX) and ensuring it meets customer needs.', estimated_day=5), team_member=TeamMember(name='Frank', profile=' Frank is a Junior Frontend Developer with knowledge in HTML CSS JavaScript and basic React.')), TaskAllocation(task=Task(id=UUID('a2988b15-e594-4439-ad26-ed69bdfa9fe3'), task_name='Develop chatbot conversation flows', task_description='Outline and create the conversation pathways that the chatbot will follow in response to user inputs.', estimated_day=5), team_member=TeamMember(name='Alice', profile=' Alice is a Frontend Developer skilled in HTML CSS JavaScript and React.')), TaskAllocation(task=Task(id=UUID('c33920bc-8b45-4596-8a35-69f507fe2ea4'), task_name='Implement chatbot backend logic', task_description='Develop the backend architecture that will support the chatbot, including integration with databases and APIs.', estimated_day=7), team_member=TeamMember(name='Bob', profile=' Bob is a Backend Developer proficient in Python Django SQL and RESTful APIs.')), TaskAllocation(task=Task(id=UUID('6e66f8b7-0cff-45c3-891d-cc5008fa2303'), task_name='Break down backend logic into smaller tasks', task_description='Divide the implementation of backend logic into smaller tasks such as setting up the database, creating API endpoints, and integrating third-party services.', estimated_day=1), team_member=TeamMember(name='Eve', profile=' Eve is a DevOps Engineer skilled in CI/CD pipelines Docker Kubernetes and cloud services like AWS and Azure.')), TaskAllocation(task=Task(id=UUID('f2605ec4-744f-4676-9116-6d34dedfc98b'), task_name='Set up database', task_description='Create and configure the necessary database to store user interactions and product information.', estimated_day=2), team_member=TeamMember(name='Bob', profile=' Bob is a Backend Developer proficient in Python Django SQL and RESTful APIs.')), TaskAllocation(task=Task(id=UUID('ded3022e-e0c8-4c23-913e-28bb0a5418f7'), task_name='Create API endpoints', task_description='Develop the necessary API endpoints for the chatbot to interact with external systems and databases.', estimated_day=2), team_member=TeamMember(name='Eve', profile=' Eve is a DevOps Engineer skilled in CI/CD pipelines Docker Kubernetes and cloud services like AWS and Azure.')), TaskAllocation(task=Task(id=UUID('67cd781a-5aa0-44d5-9f71-f54496968e6f'), task_name='Integrate third-party services', task_description='Connect the chatbot with third-party services for functionalities like payment processing or product recommendations.', estimated_day=2), team_member=TeamMember(name='David', profile=' David is a Full Stack Developer with expertise in both frontend (HTML CSS JavaScript) and backend (Node.js MongoDB) technologies.')), TaskAllocation(task=Task(id=UUID('27baf259-04a8-405d-bde6-8dee6417e7b4'), task_name='Test chatbot functionality', task_description='Conduct thorough testing of the chatbot to ensure all features work as intended and fix any bugs found.', estimated_day=4), team_member=TeamMember(name='Grace', profile=' Grace is a Senior Data Scientist with expertise in machine learning data analysis Python R and big data technologies like Hadoop and Spark.')), TaskAllocation(task=Task(id=UUID('94ebdcd4-82f1-4e5a-a36e-c04649ef84dd'), task_name='Deploy chatbot application', task_description='Launch the chatbot application on the desired platform and ensure it is accessible to users.', estimated_day=3), team_member=TeamMember(name='Eve', profile=' Eve is a DevOps Engineer skilled in CI/CD pipelines Docker Kubernetes and cloud services like AWS and Azure.')), TaskAllocation(task=Task(id=UUID('003576a5-d685-48ea-9fbb-ec36bf5c5449'), task_name='Monitor and gather user feedback', task_description='After deployment, monitor user interactions and gather feedback for future improvements and updates.', estimated_day=5), team_member=TeamMember(name='Charlie', profile=' Charlie is a Project Manager experienced in Agile methodologies team leadership project planning and risk management.'))]),\n",
       "  TaskAllocationList(task_allocations=[TaskAllocation(task=Task(id=UUID('1a664aee-6796-4e99-b0c7-b12808c06a64'), task_name='Define project scope and requirements', task_description='Gather and document the specific features and functionalities needed for the chatbot application, including user needs and technical requirements.', estimated_day=3), team_member=TeamMember(name='Charlie', profile=' Charlie is a Project Manager experienced in Agile methodologies team leadership project planning and risk management.')), TaskAllocation(task=Task(id=UUID('6368e33f-cd56-4794-ac74-e0a9e29c8887'), task_name='Research chatbot platforms and technologies', task_description='Investigate existing chatbot frameworks and technologies that can be used to develop the application, including pros and cons of each.', estimated_day=4), team_member=TeamMember(name='David', profile=' David is a Full Stack Developer with expertise in both frontend (HTML CSS JavaScript) and backend (Node.js MongoDB) technologies.')), TaskAllocation(task=Task(id=UUID('5f1533da-b69a-4863-b1d5-953952a1d804'), task_name='Create chatbot design and user interface', task_description='Design the user interface (UI) for the chatbot, focusing on user experience (UX) and ensuring it meets customer needs.', estimated_day=5), team_member=TeamMember(name='Frank', profile=' Frank is a Junior Frontend Developer with knowledge in HTML CSS JavaScript and basic React.')), TaskAllocation(task=Task(id=UUID('a2988b15-e594-4439-ad26-ed69bdfa9fe3'), task_name='Develop chatbot conversation flows', task_description='Outline and create the conversation pathways that the chatbot will follow in response to user inputs.', estimated_day=5), team_member=TeamMember(name='Alice', profile=' Alice is a Frontend Developer skilled in HTML CSS JavaScript and React.')), TaskAllocation(task=Task(id=UUID('c33920bc-8b45-4596-8a35-69f507fe2ea4'), task_name='Implement chatbot backend logic', task_description='Develop the backend architecture that will support the chatbot, including integration with databases and APIs.', estimated_day=7), team_member=TeamMember(name='Bob', profile=' Bob is a Backend Developer proficient in Python Django SQL and RESTful APIs.')), TaskAllocation(task=Task(id=UUID('6e66f8b7-0cff-45c3-891d-cc5008fa2303'), task_name='Break down backend logic into smaller tasks', task_description='Divide the implementation of backend logic into smaller tasks such as setting up the database, creating API endpoints, and integrating third-party services.', estimated_day=1), team_member=TeamMember(name='Eve', profile=' Eve is a DevOps Engineer skilled in CI/CD pipelines Docker Kubernetes and cloud services like AWS and Azure.')), TaskAllocation(task=Task(id=UUID('f2605ec4-744f-4676-9116-6d34dedfc98b'), task_name='Set up database', task_description='Create and configure the necessary database to store user interactions and product information.', estimated_day=2), team_member=TeamMember(name='David', profile=' David is a Full Stack Developer with expertise in both frontend (HTML CSS JavaScript) and backend (Node.js MongoDB) technologies.')), TaskAllocation(task=Task(id=UUID('ded3022e-e0c8-4c23-913e-28bb0a5418f7'), task_name='Create API endpoints', task_description='Develop the necessary API endpoints for the chatbot to interact with external systems and databases.', estimated_day=2), team_member=TeamMember(name='Eve', profile=' Eve is a DevOps Engineer skilled in CI/CD pipelines Docker Kubernetes and cloud services like AWS and Azure.')), TaskAllocation(task=Task(id=UUID('67cd781a-5aa0-44d5-9f71-f54496968e6f'), task_name='Integrate third-party services', task_description='Connect the chatbot with third-party services for functionalities like payment processing or product recommendations.', estimated_day=2), team_member=TeamMember(name='Grace', profile=' Grace is a Senior Data Scientist with expertise in machine learning data analysis Python R and big data technologies like Hadoop and Spark.')), TaskAllocation(task=Task(id=UUID('27baf259-04a8-405d-bde6-8dee6417e7b4'), task_name='Test chatbot functionality', task_description='Conduct thorough testing of the chatbot to ensure all features work as intended and fix any bugs found.', estimated_day=4), team_member=TeamMember(name='Grace', profile=' Grace is a Senior Data Scientist with expertise in machine learning data analysis Python R and big data technologies like Hadoop and Spark.')), TaskAllocation(task=Task(id=UUID('94ebdcd4-82f1-4e5a-a36e-c04649ef84dd'), task_name='Deploy chatbot application', task_description='Launch the chatbot application on the desired platform and ensure it is accessible to users.', estimated_day=3), team_member=TeamMember(name='Eve', profile=' Eve is a DevOps Engineer skilled in CI/CD pipelines Docker Kubernetes and cloud services like AWS and Azure.')), TaskAllocation(task=Task(id=UUID('003576a5-d685-48ea-9fbb-ec36bf5c5449'), task_name='Monitor and gather user feedback', task_description='After deployment, monitor user interactions and gather feedback for future improvements and updates.', estimated_day=5), team_member=TeamMember(name='Charlie', profile=' Charlie is a Project Manager experienced in Agile methodologies team leadership project planning and risk management.'))]),\n",
       "  TaskAllocationList(task_allocations=[TaskAllocation(task=Task(id=UUID('1a664aee-6796-4e99-b0c7-b12808c06a64'), task_name='Define project scope and requirements', task_description='Gather and document the specific features and functionalities needed for the chatbot application, including user needs and technical requirements.', estimated_day=3), team_member=TeamMember(name='Charlie', profile=' Charlie is a Project Manager experienced in Agile methodologies team leadership project planning and risk management.')), TaskAllocation(task=Task(id=UUID('6368e33f-cd56-4794-ac74-e0a9e29c8887'), task_name='Research chatbot platforms and technologies', task_description='Investigate existing chatbot frameworks and technologies that can be used to develop the application, including pros and cons of each.', estimated_day=4), team_member=TeamMember(name='David', profile=' David is a Full Stack Developer with expertise in both frontend (HTML CSS JavaScript) and backend (Node.js MongoDB) technologies.')), TaskAllocation(task=Task(id=UUID('5f1533da-b69a-4863-b1d5-953952a1d804'), task_name='Create chatbot design and user interface', task_description='Design the user interface (UI) for the chatbot, focusing on user experience (UX) and ensuring it meets customer needs.', estimated_day=5), team_member=TeamMember(name='Frank', profile=' Frank is a Junior Frontend Developer with knowledge in HTML CSS JavaScript and basic React.')), TaskAllocation(task=Task(id=UUID('a2988b15-e594-4439-ad26-ed69bdfa9fe3'), task_name='Develop chatbot conversation flows', task_description='Outline and create the conversation pathways that the chatbot will follow in response to user inputs.', estimated_day=5), team_member=TeamMember(name='Alice', profile=' Alice is a Frontend Developer skilled in HTML CSS JavaScript and React.')), TaskAllocation(task=Task(id=UUID('c33920bc-8b45-4596-8a35-69f507fe2ea4'), task_name='Implement chatbot backend logic', task_description='Develop the backend architecture that will support the chatbot, including integration with databases and APIs.', estimated_day=7), team_member=TeamMember(name='Bob', profile=' Bob is a Backend Developer proficient in Python Django SQL and RESTful APIs.')), TaskAllocation(task=Task(id=UUID('6e66f8b7-0cff-45c3-891d-cc5008fa2303'), task_name='Break down backend logic into smaller tasks', task_description='Divide the implementation of backend logic into smaller tasks such as setting up the database, creating API endpoints, and integrating third-party services.', estimated_day=1), team_member=TeamMember(name='Eve', profile=' Eve is a DevOps Engineer skilled in CI/CD pipelines Docker Kubernetes and cloud services like AWS and Azure.')), TaskAllocation(task=Task(id=UUID('f2605ec4-744f-4676-9116-6d34dedfc98b'), task_name='Set up database', task_description='Create and configure the necessary database to store user interactions and product information.', estimated_day=2), team_member=TeamMember(name='David', profile=' David is a Full Stack Developer with expertise in both frontend (HTML CSS JavaScript) and backend (Node.js MongoDB) technologies.')), TaskAllocation(task=Task(id=UUID('ded3022e-e0c8-4c23-913e-28bb0a5418f7'), task_name='Create API endpoints', task_description='Develop the necessary API endpoints for the chatbot to interact with external systems and databases.', estimated_day=2), team_member=TeamMember(name='Eve', profile=' Eve is a DevOps Engineer skilled in CI/CD pipelines Docker Kubernetes and cloud services like AWS and Azure.')), TaskAllocation(task=Task(id=UUID('67cd781a-5aa0-44d5-9f71-f54496968e6f'), task_name='Integrate third-party services', task_description='Connect the chatbot with third-party services for functionalities like payment processing or product recommendations.', estimated_day=2), team_member=TeamMember(name='Grace', profile=' Grace is a Senior Data Scientist with expertise in machine learning data analysis Python R and big data technologies like Hadoop and Spark.')), TaskAllocation(task=Task(id=UUID('27baf259-04a8-405d-bde6-8dee6417e7b4'), task_name='Test chatbot functionality', task_description='Conduct thorough testing of the chatbot to ensure all features work as intended and fix any bugs found.', estimated_day=4), team_member=TeamMember(name='Grace', profile=' Grace is a Senior Data Scientist with expertise in machine learning data analysis Python R and big data technologies like Hadoop and Spark.')), TaskAllocation(task=Task(id=UUID('94ebdcd4-82f1-4e5a-a36e-c04649ef84dd'), task_name='Deploy chatbot application', task_description='Launch the chatbot application on the desired platform and ensure it is accessible to users.', estimated_day=3), team_member=TeamMember(name='Eve', profile=' Eve is a DevOps Engineer skilled in CI/CD pipelines Docker Kubernetes and cloud services like AWS and Azure.')), TaskAllocation(task=Task(id=UUID('003576a5-d685-48ea-9fbb-ec36bf5c5449'), task_name='Monitor and gather user feedback', task_description='After deployment, monitor user interactions and gather feedback for future improvements and updates.', estimated_day=5), team_member=TeamMember(name='Charlie', profile=' Charlie is a Project Manager experienced in Agile methodologies team leadership project planning and risk management.'))])],\n",
       " 'risks_iteration': [RiskList(risks=[Risk(task=Task(id=UUID('1a664aee-6796-4e99-b0c7-b12808c06a64'), task_name='Define project scope and requirements', task_description='Gather and document the specific features and functionalities needed for the chatbot application, including user needs and technical requirements.', estimated_day=3), score='7'), Risk(task=Task(id=UUID('6368e33f-cd56-4794-ac74-e0a9e29c8887'), task_name='Research chatbot platforms and technologies', task_description='Investigate existing chatbot frameworks and technologies that can be used to develop the application, including pros and cons of each.', estimated_day=4), score='6'), Risk(task=Task(id=UUID('5f1533da-b69a-4863-b1d5-953952a1d804'), task_name='Create chatbot design and user interface', task_description='Design the user interface (UI) for the chatbot, focusing on user experience (UX) and ensuring it meets customer needs.', estimated_day=5), score='5'), Risk(task=Task(id=UUID('a2988b15-e594-4439-ad26-ed69bdfa9fe3'), task_name='Develop chatbot conversation flows', task_description='Outline and create the conversation pathways that the chatbot will follow in response to user inputs.', estimated_day=5), score='5'), Risk(task=Task(id=UUID('c33920bc-8b45-4596-8a35-69f507fe2ea4'), task_name='Implement chatbot backend logic', task_description='Develop the backend architecture that will support the chatbot, including integration with databases and APIs.', estimated_day=7), score='8'), Risk(task=Task(id=UUID('6e66f8b7-0cff-45c3-891d-cc5008fa2303'), task_name='Break down backend logic into smaller tasks', task_description='Divide the implementation of backend logic into smaller tasks such as setting up the database, creating API endpoints, and integrating third-party services.', estimated_day=1), score='3'), Risk(task=Task(id=UUID('f2605ec4-744f-4676-9116-6d34dedfc98b'), task_name='Set up database', task_description='Create and configure the necessary database to store user interactions and product information.', estimated_day=2), score='4'), Risk(task=Task(id=UUID('ded3022e-e0c8-4c23-913e-28bb0a5418f7'), task_name='Create API endpoints', task_description='Develop the necessary API endpoints for the chatbot to interact with external systems and databases.', estimated_day=2), score='4'), Risk(task=Task(id=UUID('67cd781a-5aa0-44d5-9f71-f54496968e6f'), task_name='Integrate third-party services', task_description='Connect the chatbot with third-party services for functionalities like payment processing or product recommendations.', estimated_day=2), score='5'), Risk(task=Task(id=UUID('27baf259-04a8-405d-bde6-8dee6417e7b4'), task_name='Test chatbot functionality', task_description='Conduct thorough testing of the chatbot to ensure all features work as intended and fix any bugs found.', estimated_day=4), score='6'), Risk(task=Task(id=UUID('94ebdcd4-82f1-4e5a-a36e-c04649ef84dd'), task_name='Deploy chatbot application', task_description='Launch the chatbot application on the desired platform and ensure it is accessible to users.', estimated_day=3), score='6'), Risk(task=Task(id=UUID('003576a5-d685-48ea-9fbb-ec36bf5c5449'), task_name='Monitor and gather user feedback', task_description='After deployment, monitor user interactions and gather feedback for future improvements and updates.', estimated_day=5), score='5')]),\n",
       "  RiskList(risks=[Risk(task=Task(id=UUID('1a664aee-6796-4e99-b0c7-b12808c06a64'), task_name='Define project scope and requirements', task_description='Gather and document the specific features and functionalities needed for the chatbot application, including user needs and technical requirements.', estimated_day=3), score='7'), Risk(task=Task(id=UUID('6368e33f-cd56-4794-ac74-e0a9e29c8887'), task_name='Research chatbot platforms and technologies', task_description='Investigate existing chatbot frameworks and technologies that can be used to develop the application, including pros and cons of each.', estimated_day=4), score='6'), Risk(task=Task(id=UUID('5f1533da-b69a-4863-b1d5-953952a1d804'), task_name='Create chatbot design and user interface', task_description='Design the user interface (UI) for the chatbot, focusing on user experience (UX) and ensuring it meets customer needs.', estimated_day=5), score='5'), Risk(task=Task(id=UUID('a2988b15-e594-4439-ad26-ed69bdfa9fe3'), task_name='Develop chatbot conversation flows', task_description='Outline and create the conversation pathways that the chatbot will follow in response to user inputs.', estimated_day=5), score='5'), Risk(task=Task(id=UUID('c33920bc-8b45-4596-8a35-69f507fe2ea4'), task_name='Implement chatbot backend logic', task_description='Develop the backend architecture that will support the chatbot, including integration with databases and APIs.', estimated_day=7), score='8'), Risk(task=Task(id=UUID('6e66f8b7-0cff-45c3-891d-cc5008fa2303'), task_name='Break down backend logic into smaller tasks', task_description='Divide the implementation of backend logic into smaller tasks such as setting up the database, creating API endpoints, and integrating third-party services.', estimated_day=1), score='3'), Risk(task=Task(id=UUID('f2605ec4-744f-4676-9116-6d34dedfc98b'), task_name='Set up database', task_description='Create and configure the necessary database to store user interactions and product information.', estimated_day=2), score='4'), Risk(task=Task(id=UUID('ded3022e-e0c8-4c23-913e-28bb0a5418f7'), task_name='Create API endpoints', task_description='Develop the necessary API endpoints for the chatbot to interact with external systems and databases.', estimated_day=2), score='4'), Risk(task=Task(id=UUID('67cd781a-5aa0-44d5-9f71-f54496968e6f'), task_name='Integrate third-party services', task_description='Connect the chatbot with third-party services for functionalities like payment processing or product recommendations.', estimated_day=2), score='5'), Risk(task=Task(id=UUID('27baf259-04a8-405d-bde6-8dee6417e7b4'), task_name='Test chatbot functionality', task_description='Conduct thorough testing of the chatbot to ensure all features work as intended and fix any bugs found.', estimated_day=4), score='6'), Risk(task=Task(id=UUID('94ebdcd4-82f1-4e5a-a36e-c04649ef84dd'), task_name='Deploy chatbot application', task_description='Launch the chatbot application on the desired platform and ensure it is accessible to users.', estimated_day=3), score='6'), Risk(task=Task(id=UUID('003576a5-d685-48ea-9fbb-ec36bf5c5449'), task_name='Monitor and gather user feedback', task_description='After deployment, monitor user interactions and gather feedback for future improvements and updates.', estimated_day=5), score='5')]),\n",
       "  RiskList(risks=[Risk(task=Task(id=UUID('1a664aee-6796-4e99-b0c7-b12808c06a64'), task_name='Define project scope and requirements', task_description='Gather and document the specific features and functionalities needed for the chatbot application, including user needs and technical requirements.', estimated_day=3), score='7'), Risk(task=Task(id=UUID('6368e33f-cd56-4794-ac74-e0a9e29c8887'), task_name='Research chatbot platforms and technologies', task_description='Investigate existing chatbot frameworks and technologies that can be used to develop the application, including pros and cons of each.', estimated_day=4), score='6'), Risk(task=Task(id=UUID('5f1533da-b69a-4863-b1d5-953952a1d804'), task_name='Create chatbot design and user interface', task_description='Design the user interface (UI) for the chatbot, focusing on user experience (UX) and ensuring it meets customer needs.', estimated_day=5), score='5'), Risk(task=Task(id=UUID('a2988b15-e594-4439-ad26-ed69bdfa9fe3'), task_name='Develop chatbot conversation flows', task_description='Outline and create the conversation pathways that the chatbot will follow in response to user inputs.', estimated_day=5), score='5'), Risk(task=Task(id=UUID('c33920bc-8b45-4596-8a35-69f507fe2ea4'), task_name='Implement chatbot backend logic', task_description='Develop the backend architecture that will support the chatbot, including integration with databases and APIs.', estimated_day=7), score='8'), Risk(task=Task(id=UUID('6e66f8b7-0cff-45c3-891d-cc5008fa2303'), task_name='Break down backend logic into smaller tasks', task_description='Divide the implementation of backend logic into smaller tasks such as setting up the database, creating API endpoints, and integrating third-party services.', estimated_day=1), score='3'), Risk(task=Task(id=UUID('f2605ec4-744f-4676-9116-6d34dedfc98b'), task_name='Set up database', task_description='Create and configure the necessary database to store user interactions and product information.', estimated_day=2), score='4'), Risk(task=Task(id=UUID('ded3022e-e0c8-4c23-913e-28bb0a5418f7'), task_name='Create API endpoints', task_description='Develop the necessary API endpoints for the chatbot to interact with external systems and databases.', estimated_day=2), score='4'), Risk(task=Task(id=UUID('67cd781a-5aa0-44d5-9f71-f54496968e6f'), task_name='Integrate third-party services', task_description='Connect the chatbot with third-party services for functionalities like payment processing or product recommendations.', estimated_day=2), score='5'), Risk(task=Task(id=UUID('27baf259-04a8-405d-bde6-8dee6417e7b4'), task_name='Test chatbot functionality', task_description='Conduct thorough testing of the chatbot to ensure all features work as intended and fix any bugs found.', estimated_day=4), score='6'), Risk(task=Task(id=UUID('94ebdcd4-82f1-4e5a-a36e-c04649ef84dd'), task_name='Deploy chatbot application', task_description='Launch the chatbot application on the desired platform and ensure it is accessible to users.', estimated_day=3), score='6'), Risk(task=Task(id=UUID('003576a5-d685-48ea-9fbb-ec36bf5c5449'), task_name='Monitor and gather user feedback', task_description='After deployment, monitor user interactions and gather feedback for future improvements and updates.', estimated_day=5), score='5')])],\n",
       " 'project_risk_score_iterations': [64, 64, 64]}"
      ]
     },
     "execution_count": 14,
     "metadata": {},
     "output_type": "execute_result"
    }
   ],
   "source": [
    "# Retrive the final state\n",
    "final_state = graph_plan.get_state(config).values\n",
    "final_state"
   ]
  },
  {
   "cell_type": "markdown",
   "metadata": {},
   "source": [
    "As we can see from the final_state the agentic workflow ended up having at least 2 iterations, and under `project_risk_score_iterations` we see evolution of the project risk score."
   ]
  },
  {
   "cell_type": "markdown",
   "metadata": {},
   "source": [
    "#### Visualize the results\n",
    "To better understand the output of the agentic workflow - here we provide some visualizations for:\n",
    "- Task depencies\n",
    "- Project plan - Gantt-char for all created scenarios"
   ]
  },
  {
   "cell_type": "code",
   "execution_count": 15,
   "metadata": {},
   "outputs": [
    {
     "name": "stdout",
     "output_type": "stream",
     "text": [
      "Warning: When  cdn_resources is 'local' jupyter notebook has issues displaying graphics on chrome/safari. Use cdn_resources='in_line' or cdn_resources='remote' if you have issues viewing graphics in a notebook.\n",
      "graph.html\n"
     ]
    },
    {
     "data": {
      "text/html": [
       "<html>\n",
       "    <head>\n",
       "        <meta charset=\"utf-8\">\n",
       "        \n",
       "            <script src=\"lib/bindings/utils.js\"></script>\n",
       "            <link rel=\"stylesheet\" href=\"https://cdnjs.cloudflare.com/ajax/libs/vis-network/9.1.2/dist/dist/vis-network.min.css\" integrity=\"sha512-WgxfT5LWjfszlPHXRmBWHkV2eceiWTOBvrKCNbdgDYTHrT2AeLCGbF4sZlZw3UMN3WtL0tGUoIAKsu8mllg/XA==\" crossorigin=\"anonymous\" referrerpolicy=\"no-referrer\" />\n",
       "            <script src=\"https://cdnjs.cloudflare.com/ajax/libs/vis-network/9.1.2/dist/vis-network.min.js\" integrity=\"sha512-LnvoEWDFrqGHlHmDD2101OrLcbsfkrzoSpvtSQtxK3RMnRV0eOkhhBN2dXHKRrUU8p2DGRTk35n4O8nWSVe1mQ==\" crossorigin=\"anonymous\" referrerpolicy=\"no-referrer\"></script>\n",
       "            \n",
       "        \n",
       "<center>\n",
       "<h1></h1>\n",
       "</center>\n",
       "\n",
       "<!-- <link rel=\"stylesheet\" href=\"../node_modules/vis/dist/vis.min.css\" type=\"text/css\" />\n",
       "<script type=\"text/javascript\" src=\"../node_modules/vis/dist/vis.js\"> </script>-->\n",
       "        <link\n",
       "          href=\"https://cdn.jsdelivr.net/npm/bootstrap@5.0.0-beta3/dist/css/bootstrap.min.css\"\n",
       "          rel=\"stylesheet\"\n",
       "          integrity=\"sha384-eOJMYsd53ii+scO/bJGFsiCZc+5NDVN2yr8+0RDqr0Ql0h+rP48ckxlpbzKgwra6\"\n",
       "          crossorigin=\"anonymous\"\n",
       "        />\n",
       "        <script\n",
       "          src=\"https://cdn.jsdelivr.net/npm/bootstrap@5.0.0-beta3/dist/js/bootstrap.bundle.min.js\"\n",
       "          integrity=\"sha384-JEW9xMcG8R+pH31jmWH6WWP0WintQrMb4s7ZOdauHnUtxwoG2vI5DkLtS3qm9Ekf\"\n",
       "          crossorigin=\"anonymous\"\n",
       "        ></script>\n",
       "\n",
       "\n",
       "        <center>\n",
       "          <h1></h1>\n",
       "        </center>\n",
       "        <style type=\"text/css\">\n",
       "\n",
       "             #mynetwork {\n",
       "                 width: 100%;\n",
       "                 height: 600px;\n",
       "                 background-color: #ffffff;\n",
       "                 border: 1px solid lightgray;\n",
       "                 position: relative;\n",
       "                 float: left;\n",
       "             }\n",
       "\n",
       "             \n",
       "\n",
       "             \n",
       "\n",
       "             \n",
       "        </style>\n",
       "    </head>\n",
       "\n",
       "\n",
       "    <body>\n",
       "        <div class=\"card\" style=\"width: 100%\">\n",
       "            \n",
       "            \n",
       "            <div id=\"mynetwork\" class=\"card-body\"></div>\n",
       "        </div>\n",
       "\n",
       "        \n",
       "        \n",
       "\n",
       "        <script type=\"text/javascript\">\n",
       "\n",
       "              // initialize global variables.\n",
       "              var edges;\n",
       "              var nodes;\n",
       "              var allNodes;\n",
       "              var allEdges;\n",
       "              var nodeColors;\n",
       "              var originalNodes;\n",
       "              var network;\n",
       "              var container;\n",
       "              var options, data;\n",
       "              var filter = {\n",
       "                  item : '',\n",
       "                  property : '',\n",
       "                  value : []\n",
       "              };\n",
       "\n",
       "              \n",
       "\n",
       "              \n",
       "\n",
       "              // This method is responsible for drawing the graph, returns the drawn network\n",
       "              function drawGraph() {\n",
       "                  var container = document.getElementById('mynetwork');\n",
       "\n",
       "                  \n",
       "\n",
       "                  // parsing and collecting nodes and edges from the python\n",
       "                  nodes = new vis.DataSet([{\"color\": \"#97c2fc\", \"id\": \"Define project scope and requirements\", \"label\": \"Define project scope and requirements\", \"shape\": \"dot\", \"size\": 10}, {\"color\": \"#97c2fc\", \"id\": \"Research chatbot platforms and technologies\", \"label\": \"Research chatbot platforms and technologies\", \"shape\": \"dot\", \"size\": 10}, {\"color\": \"#97c2fc\", \"id\": \"Create chatbot design and user interface\", \"label\": \"Create chatbot design and user interface\", \"shape\": \"dot\", \"size\": 10}, {\"color\": \"#97c2fc\", \"id\": \"Develop chatbot conversation flows\", \"label\": \"Develop chatbot conversation flows\", \"shape\": \"dot\", \"size\": 10}, {\"color\": \"#97c2fc\", \"id\": \"Implement chatbot backend logic\", \"label\": \"Implement chatbot backend logic\", \"shape\": \"dot\", \"size\": 10}, {\"color\": \"#97c2fc\", \"id\": \"Break down backend logic into smaller tasks\", \"label\": \"Break down backend logic into smaller tasks\", \"shape\": \"dot\", \"size\": 10}, {\"color\": \"#97c2fc\", \"id\": \"Set up database\", \"label\": \"Set up database\", \"shape\": \"dot\", \"size\": 10}, {\"color\": \"#97c2fc\", \"id\": \"Create API endpoints\", \"label\": \"Create API endpoints\", \"shape\": \"dot\", \"size\": 10}, {\"color\": \"#97c2fc\", \"id\": \"Integrate third-party services\", \"label\": \"Integrate third-party services\", \"shape\": \"dot\", \"size\": 10}, {\"color\": \"#97c2fc\", \"id\": \"Test chatbot functionality\", \"label\": \"Test chatbot functionality\", \"shape\": \"dot\", \"size\": 10}, {\"color\": \"#97c2fc\", \"id\": \"Deploy chatbot application\", \"label\": \"Deploy chatbot application\", \"shape\": \"dot\", \"size\": 10}, {\"color\": \"#97c2fc\", \"id\": \"Monitor and gather user feedback\", \"label\": \"Monitor and gather user feedback\", \"shape\": \"dot\", \"size\": 10}]);\n",
       "                  edges = new vis.DataSet([{\"from\": \"Define project scope and requirements\", \"to\": \"Research chatbot platforms and technologies\", \"width\": 1}, {\"from\": \"Define project scope and requirements\", \"to\": \"Create chatbot design and user interface\", \"width\": 1}, {\"from\": \"Define project scope and requirements\", \"to\": \"Develop chatbot conversation flows\", \"width\": 1}, {\"from\": \"Research chatbot platforms and technologies\", \"to\": \"Create chatbot design and user interface\", \"width\": 1}, {\"from\": \"Research chatbot platforms and technologies\", \"to\": \"Develop chatbot conversation flows\", \"width\": 1}, {\"from\": \"Create chatbot design and user interface\", \"to\": \"Implement chatbot backend logic\", \"width\": 1}, {\"from\": \"Develop chatbot conversation flows\", \"to\": \"Implement chatbot backend logic\", \"width\": 1}, {\"from\": \"Implement chatbot backend logic\", \"to\": \"Break down backend logic into smaller tasks\", \"width\": 1}, {\"from\": \"Break down backend logic into smaller tasks\", \"to\": \"Set up database\", \"width\": 1}, {\"from\": \"Break down backend logic into smaller tasks\", \"to\": \"Create API endpoints\", \"width\": 1}, {\"from\": \"Break down backend logic into smaller tasks\", \"to\": \"Integrate third-party services\", \"width\": 1}, {\"from\": \"Set up database\", \"to\": \"Test chatbot functionality\", \"width\": 1}, {\"from\": \"Create API endpoints\", \"to\": \"Test chatbot functionality\", \"width\": 1}, {\"from\": \"Integrate third-party services\", \"to\": \"Test chatbot functionality\", \"width\": 1}, {\"from\": \"Test chatbot functionality\", \"to\": \"Deploy chatbot application\", \"width\": 1}, {\"from\": \"Deploy chatbot application\", \"to\": \"Monitor and gather user feedback\", \"width\": 1}]);\n",
       "\n",
       "                  nodeColors = {};\n",
       "                  allNodes = nodes.get({ returnType: \"Object\" });\n",
       "                  for (nodeId in allNodes) {\n",
       "                    nodeColors[nodeId] = allNodes[nodeId].color;\n",
       "                  }\n",
       "                  allEdges = edges.get({ returnType: \"Object\" });\n",
       "                  // adding nodes and edges to the graph\n",
       "                  data = {nodes: nodes, edges: edges};\n",
       "\n",
       "                  var options = {\n",
       "    \"configure\": {\n",
       "        \"enabled\": false\n",
       "    },\n",
       "    \"edges\": {\n",
       "        \"color\": {\n",
       "            \"inherit\": true\n",
       "        },\n",
       "        \"smooth\": {\n",
       "            \"enabled\": true,\n",
       "            \"type\": \"dynamic\"\n",
       "        }\n",
       "    },\n",
       "    \"interaction\": {\n",
       "        \"dragNodes\": true,\n",
       "        \"hideEdgesOnDrag\": false,\n",
       "        \"hideNodesOnDrag\": false\n",
       "    },\n",
       "    \"physics\": {\n",
       "        \"enabled\": true,\n",
       "        \"stabilization\": {\n",
       "            \"enabled\": true,\n",
       "            \"fit\": true,\n",
       "            \"iterations\": 1000,\n",
       "            \"onlyDynamicEdges\": false,\n",
       "            \"updateInterval\": 50\n",
       "        }\n",
       "    }\n",
       "};\n",
       "\n",
       "                  \n",
       "\n",
       "\n",
       "                  \n",
       "\n",
       "                  network = new vis.Network(container, data, options);\n",
       "\n",
       "                  \n",
       "\n",
       "                  \n",
       "\n",
       "                  \n",
       "\n",
       "\n",
       "                  \n",
       "\n",
       "                  return network;\n",
       "\n",
       "              }\n",
       "              drawGraph();\n",
       "        </script>\n",
       "    </body>\n",
       "</html>"
      ],
      "text/plain": [
       "<IPython.core.display.HTML object>"
      ]
     },
     "metadata": {},
     "output_type": "display_data"
    }
   ],
   "source": [
    "# Visualize the dependencies\n",
    "import networkx as nx\n",
    "import matplotlib.pyplot as plt\n",
    "\n",
    "# Create a NetworkX graph\n",
    "G = nx.Graph()\n",
    "\n",
    "for task in final_state['dependencies'].dependencies:\n",
    "    G.add_node(task.task.task_name)\n",
    "    for dependent_task in task.dependent_tasks:\n",
    "        G.add_edge(task.task.task_name, dependent_task.task_name)\n",
    "\n",
    "# Create a PyVis network\n",
    "net = Network(notebook=True)\n",
    "\n",
    "# Convert NetworkX graph to PyVis network\n",
    "net.from_nx(G)\n",
    "\n",
    "# Visualize the graph within the Jupyter Notebook\n",
    "net.show(\"graph.html\")\n",
    "\n",
    "# Display the graph within the Jupyter Notebook\n",
    "display(HTML(\"graph.html\"))"
   ]
  },
  {
   "cell_type": "code",
   "execution_count": 16,
   "metadata": {},
   "outputs": [
    {
     "data": {
      "application/vnd.plotly.v1+json": {
       "config": {
        "plotlyServerURL": "https://plot.ly"
       },
       "data": [
        {
         "alignmentgroup": "True",
         "base": [
          "2024-11-25T19:37:32.468245"
         ],
         "hovertemplate": "Team Member=Alice<br>start=%{base}<br>end=%{x}<br>task_name=%{y}<extra></extra>",
         "legendgroup": "Alice",
         "marker": {
          "color": "#636efa",
          "pattern": {
           "shape": ""
          }
         },
         "name": "Alice",
         "offsetgroup": "Alice",
         "orientation": "h",
         "showlegend": true,
         "textposition": "auto",
         "type": "bar",
         "x": [
          345600000
         ],
         "xaxis": "x",
         "y": [
          "Develop chatbot conversation flows"
         ],
         "yaxis": "y"
        },
        {
         "alignmentgroup": "True",
         "base": [
          "2024-11-30T19:37:32.468245",
          "2024-12-08T19:37:32.468245"
         ],
         "hovertemplate": "Team Member=Bob<br>start=%{base}<br>end=%{x}<br>task_name=%{y}<extra></extra>",
         "legendgroup": "Bob",
         "marker": {
          "color": "#EF553B",
          "pattern": {
           "shape": ""
          }
         },
         "name": "Bob",
         "offsetgroup": "Bob",
         "orientation": "h",
         "showlegend": true,
         "textposition": "auto",
         "type": "bar",
         "x": [
          518400000,
          86400000
         ],
         "xaxis": "x",
         "y": [
          "Implement chatbot backend logic",
          "Set up database"
         ],
         "yaxis": "y"
        },
        {
         "alignmentgroup": "True",
         "base": [
          "2024-11-18T19:37:32.468245",
          "2024-12-17T19:37:32.468245"
         ],
         "hovertemplate": "Team Member=Charlie<br>start=%{base}<br>end=%{x}<br>task_name=%{y}<extra></extra>",
         "legendgroup": "Charlie",
         "marker": {
          "color": "#00cc96",
          "pattern": {
           "shape": ""
          }
         },
         "name": "Charlie",
         "offsetgroup": "Charlie",
         "orientation": "h",
         "showlegend": true,
         "textposition": "auto",
         "type": "bar",
         "x": [
          172800000,
          345600000
         ],
         "xaxis": "x",
         "y": [
          "Define project scope and requirements",
          "Monitor and gather user feedback"
         ],
         "yaxis": "y"
        },
        {
         "alignmentgroup": "True",
         "base": [
          "2024-11-21T19:37:32.468245",
          "2024-12-08T19:37:32.468245"
         ],
         "hovertemplate": "Team Member=David<br>start=%{base}<br>end=%{x}<br>task_name=%{y}<extra></extra>",
         "legendgroup": "David",
         "marker": {
          "color": "#ab63fa",
          "pattern": {
           "shape": ""
          }
         },
         "name": "David",
         "offsetgroup": "David",
         "orientation": "h",
         "showlegend": true,
         "textposition": "auto",
         "type": "bar",
         "x": [
          259200000,
          86400000
         ],
         "xaxis": "x",
         "y": [
          "Research chatbot platforms and technologies",
          "Integrate third-party services"
         ],
         "yaxis": "y"
        },
        {
         "alignmentgroup": "True",
         "base": [
          "2024-12-07T19:37:32.468245",
          "2024-12-08T19:37:32.468245",
          "2024-12-14T19:37:32.468245"
         ],
         "hovertemplate": "Team Member=Eve<br>start=%{base}<br>end=%{x}<br>task_name=%{y}<extra></extra>",
         "legendgroup": "Eve",
         "marker": {
          "color": "#FFA15A",
          "pattern": {
           "shape": ""
          }
         },
         "name": "Eve",
         "offsetgroup": "Eve",
         "orientation": "h",
         "showlegend": true,
         "textposition": "auto",
         "type": "bar",
         "x": [
          0,
          86400000,
          172800000
         ],
         "xaxis": "x",
         "y": [
          "Break down backend logic into smaller tasks",
          "Create API endpoints",
          "Deploy chatbot application"
         ],
         "yaxis": "y"
        },
        {
         "alignmentgroup": "True",
         "base": [
          "2024-11-25T19:37:32.468245"
         ],
         "hovertemplate": "Team Member=Frank<br>start=%{base}<br>end=%{x}<br>task_name=%{y}<extra></extra>",
         "legendgroup": "Frank",
         "marker": {
          "color": "#19d3f3",
          "pattern": {
           "shape": ""
          }
         },
         "name": "Frank",
         "offsetgroup": "Frank",
         "orientation": "h",
         "showlegend": true,
         "textposition": "auto",
         "type": "bar",
         "x": [
          345600000
         ],
         "xaxis": "x",
         "y": [
          "Create chatbot design and user interface"
         ],
         "yaxis": "y"
        },
        {
         "alignmentgroup": "True",
         "base": [
          "2024-12-10T19:37:32.468245"
         ],
         "hovertemplate": "Team Member=Grace<br>start=%{base}<br>end=%{x}<br>task_name=%{y}<extra></extra>",
         "legendgroup": "Grace",
         "marker": {
          "color": "#FF6692",
          "pattern": {
           "shape": ""
          }
         },
         "name": "Grace",
         "offsetgroup": "Grace",
         "orientation": "h",
         "showlegend": true,
         "textposition": "auto",
         "type": "bar",
         "x": [
          259200000
         ],
         "xaxis": "x",
         "y": [
          "Test chatbot functionality"
         ],
         "yaxis": "y"
        }
       ],
       "layout": {
        "barmode": "overlay",
        "legend": {
         "title": {
          "text": "Team Member"
         },
         "tracegroupgap": 0
        },
        "template": {
         "data": {
          "bar": [
           {
            "error_x": {
             "color": "#2a3f5f"
            },
            "error_y": {
             "color": "#2a3f5f"
            },
            "marker": {
             "line": {
              "color": "#E5ECF6",
              "width": 0.5
             },
             "pattern": {
              "fillmode": "overlay",
              "size": 10,
              "solidity": 0.2
             }
            },
            "type": "bar"
           }
          ],
          "barpolar": [
           {
            "marker": {
             "line": {
              "color": "#E5ECF6",
              "width": 0.5
             },
             "pattern": {
              "fillmode": "overlay",
              "size": 10,
              "solidity": 0.2
             }
            },
            "type": "barpolar"
           }
          ],
          "carpet": [
           {
            "aaxis": {
             "endlinecolor": "#2a3f5f",
             "gridcolor": "white",
             "linecolor": "white",
             "minorgridcolor": "white",
             "startlinecolor": "#2a3f5f"
            },
            "baxis": {
             "endlinecolor": "#2a3f5f",
             "gridcolor": "white",
             "linecolor": "white",
             "minorgridcolor": "white",
             "startlinecolor": "#2a3f5f"
            },
            "type": "carpet"
           }
          ],
          "choropleth": [
           {
            "colorbar": {
             "outlinewidth": 0,
             "ticks": ""
            },
            "type": "choropleth"
           }
          ],
          "contour": [
           {
            "colorbar": {
             "outlinewidth": 0,
             "ticks": ""
            },
            "colorscale": [
             [
              0,
              "#0d0887"
             ],
             [
              0.1111111111111111,
              "#46039f"
             ],
             [
              0.2222222222222222,
              "#7201a8"
             ],
             [
              0.3333333333333333,
              "#9c179e"
             ],
             [
              0.4444444444444444,
              "#bd3786"
             ],
             [
              0.5555555555555556,
              "#d8576b"
             ],
             [
              0.6666666666666666,
              "#ed7953"
             ],
             [
              0.7777777777777778,
              "#fb9f3a"
             ],
             [
              0.8888888888888888,
              "#fdca26"
             ],
             [
              1,
              "#f0f921"
             ]
            ],
            "type": "contour"
           }
          ],
          "contourcarpet": [
           {
            "colorbar": {
             "outlinewidth": 0,
             "ticks": ""
            },
            "type": "contourcarpet"
           }
          ],
          "heatmap": [
           {
            "colorbar": {
             "outlinewidth": 0,
             "ticks": ""
            },
            "colorscale": [
             [
              0,
              "#0d0887"
             ],
             [
              0.1111111111111111,
              "#46039f"
             ],
             [
              0.2222222222222222,
              "#7201a8"
             ],
             [
              0.3333333333333333,
              "#9c179e"
             ],
             [
              0.4444444444444444,
              "#bd3786"
             ],
             [
              0.5555555555555556,
              "#d8576b"
             ],
             [
              0.6666666666666666,
              "#ed7953"
             ],
             [
              0.7777777777777778,
              "#fb9f3a"
             ],
             [
              0.8888888888888888,
              "#fdca26"
             ],
             [
              1,
              "#f0f921"
             ]
            ],
            "type": "heatmap"
           }
          ],
          "heatmapgl": [
           {
            "colorbar": {
             "outlinewidth": 0,
             "ticks": ""
            },
            "colorscale": [
             [
              0,
              "#0d0887"
             ],
             [
              0.1111111111111111,
              "#46039f"
             ],
             [
              0.2222222222222222,
              "#7201a8"
             ],
             [
              0.3333333333333333,
              "#9c179e"
             ],
             [
              0.4444444444444444,
              "#bd3786"
             ],
             [
              0.5555555555555556,
              "#d8576b"
             ],
             [
              0.6666666666666666,
              "#ed7953"
             ],
             [
              0.7777777777777778,
              "#fb9f3a"
             ],
             [
              0.8888888888888888,
              "#fdca26"
             ],
             [
              1,
              "#f0f921"
             ]
            ],
            "type": "heatmapgl"
           }
          ],
          "histogram": [
           {
            "marker": {
             "pattern": {
              "fillmode": "overlay",
              "size": 10,
              "solidity": 0.2
             }
            },
            "type": "histogram"
           }
          ],
          "histogram2d": [
           {
            "colorbar": {
             "outlinewidth": 0,
             "ticks": ""
            },
            "colorscale": [
             [
              0,
              "#0d0887"
             ],
             [
              0.1111111111111111,
              "#46039f"
             ],
             [
              0.2222222222222222,
              "#7201a8"
             ],
             [
              0.3333333333333333,
              "#9c179e"
             ],
             [
              0.4444444444444444,
              "#bd3786"
             ],
             [
              0.5555555555555556,
              "#d8576b"
             ],
             [
              0.6666666666666666,
              "#ed7953"
             ],
             [
              0.7777777777777778,
              "#fb9f3a"
             ],
             [
              0.8888888888888888,
              "#fdca26"
             ],
             [
              1,
              "#f0f921"
             ]
            ],
            "type": "histogram2d"
           }
          ],
          "histogram2dcontour": [
           {
            "colorbar": {
             "outlinewidth": 0,
             "ticks": ""
            },
            "colorscale": [
             [
              0,
              "#0d0887"
             ],
             [
              0.1111111111111111,
              "#46039f"
             ],
             [
              0.2222222222222222,
              "#7201a8"
             ],
             [
              0.3333333333333333,
              "#9c179e"
             ],
             [
              0.4444444444444444,
              "#bd3786"
             ],
             [
              0.5555555555555556,
              "#d8576b"
             ],
             [
              0.6666666666666666,
              "#ed7953"
             ],
             [
              0.7777777777777778,
              "#fb9f3a"
             ],
             [
              0.8888888888888888,
              "#fdca26"
             ],
             [
              1,
              "#f0f921"
             ]
            ],
            "type": "histogram2dcontour"
           }
          ],
          "mesh3d": [
           {
            "colorbar": {
             "outlinewidth": 0,
             "ticks": ""
            },
            "type": "mesh3d"
           }
          ],
          "parcoords": [
           {
            "line": {
             "colorbar": {
              "outlinewidth": 0,
              "ticks": ""
             }
            },
            "type": "parcoords"
           }
          ],
          "pie": [
           {
            "automargin": true,
            "type": "pie"
           }
          ],
          "scatter": [
           {
            "fillpattern": {
             "fillmode": "overlay",
             "size": 10,
             "solidity": 0.2
            },
            "type": "scatter"
           }
          ],
          "scatter3d": [
           {
            "line": {
             "colorbar": {
              "outlinewidth": 0,
              "ticks": ""
             }
            },
            "marker": {
             "colorbar": {
              "outlinewidth": 0,
              "ticks": ""
             }
            },
            "type": "scatter3d"
           }
          ],
          "scattercarpet": [
           {
            "marker": {
             "colorbar": {
              "outlinewidth": 0,
              "ticks": ""
             }
            },
            "type": "scattercarpet"
           }
          ],
          "scattergeo": [
           {
            "marker": {
             "colorbar": {
              "outlinewidth": 0,
              "ticks": ""
             }
            },
            "type": "scattergeo"
           }
          ],
          "scattergl": [
           {
            "marker": {
             "colorbar": {
              "outlinewidth": 0,
              "ticks": ""
             }
            },
            "type": "scattergl"
           }
          ],
          "scattermapbox": [
           {
            "marker": {
             "colorbar": {
              "outlinewidth": 0,
              "ticks": ""
             }
            },
            "type": "scattermapbox"
           }
          ],
          "scatterpolar": [
           {
            "marker": {
             "colorbar": {
              "outlinewidth": 0,
              "ticks": ""
             }
            },
            "type": "scatterpolar"
           }
          ],
          "scatterpolargl": [
           {
            "marker": {
             "colorbar": {
              "outlinewidth": 0,
              "ticks": ""
             }
            },
            "type": "scatterpolargl"
           }
          ],
          "scatterternary": [
           {
            "marker": {
             "colorbar": {
              "outlinewidth": 0,
              "ticks": ""
             }
            },
            "type": "scatterternary"
           }
          ],
          "surface": [
           {
            "colorbar": {
             "outlinewidth": 0,
             "ticks": ""
            },
            "colorscale": [
             [
              0,
              "#0d0887"
             ],
             [
              0.1111111111111111,
              "#46039f"
             ],
             [
              0.2222222222222222,
              "#7201a8"
             ],
             [
              0.3333333333333333,
              "#9c179e"
             ],
             [
              0.4444444444444444,
              "#bd3786"
             ],
             [
              0.5555555555555556,
              "#d8576b"
             ],
             [
              0.6666666666666666,
              "#ed7953"
             ],
             [
              0.7777777777777778,
              "#fb9f3a"
             ],
             [
              0.8888888888888888,
              "#fdca26"
             ],
             [
              1,
              "#f0f921"
             ]
            ],
            "type": "surface"
           }
          ],
          "table": [
           {
            "cells": {
             "fill": {
              "color": "#EBF0F8"
             },
             "line": {
              "color": "white"
             }
            },
            "header": {
             "fill": {
              "color": "#C8D4E3"
             },
             "line": {
              "color": "white"
             }
            },
            "type": "table"
           }
          ]
         },
         "layout": {
          "annotationdefaults": {
           "arrowcolor": "#2a3f5f",
           "arrowhead": 0,
           "arrowwidth": 1
          },
          "autotypenumbers": "strict",
          "coloraxis": {
           "colorbar": {
            "outlinewidth": 0,
            "ticks": ""
           }
          },
          "colorscale": {
           "diverging": [
            [
             0,
             "#8e0152"
            ],
            [
             0.1,
             "#c51b7d"
            ],
            [
             0.2,
             "#de77ae"
            ],
            [
             0.3,
             "#f1b6da"
            ],
            [
             0.4,
             "#fde0ef"
            ],
            [
             0.5,
             "#f7f7f7"
            ],
            [
             0.6,
             "#e6f5d0"
            ],
            [
             0.7,
             "#b8e186"
            ],
            [
             0.8,
             "#7fbc41"
            ],
            [
             0.9,
             "#4d9221"
            ],
            [
             1,
             "#276419"
            ]
           ],
           "sequential": [
            [
             0,
             "#0d0887"
            ],
            [
             0.1111111111111111,
             "#46039f"
            ],
            [
             0.2222222222222222,
             "#7201a8"
            ],
            [
             0.3333333333333333,
             "#9c179e"
            ],
            [
             0.4444444444444444,
             "#bd3786"
            ],
            [
             0.5555555555555556,
             "#d8576b"
            ],
            [
             0.6666666666666666,
             "#ed7953"
            ],
            [
             0.7777777777777778,
             "#fb9f3a"
            ],
            [
             0.8888888888888888,
             "#fdca26"
            ],
            [
             1,
             "#f0f921"
            ]
           ],
           "sequentialminus": [
            [
             0,
             "#0d0887"
            ],
            [
             0.1111111111111111,
             "#46039f"
            ],
            [
             0.2222222222222222,
             "#7201a8"
            ],
            [
             0.3333333333333333,
             "#9c179e"
            ],
            [
             0.4444444444444444,
             "#bd3786"
            ],
            [
             0.5555555555555556,
             "#d8576b"
            ],
            [
             0.6666666666666666,
             "#ed7953"
            ],
            [
             0.7777777777777778,
             "#fb9f3a"
            ],
            [
             0.8888888888888888,
             "#fdca26"
            ],
            [
             1,
             "#f0f921"
            ]
           ]
          },
          "colorway": [
           "#636efa",
           "#EF553B",
           "#00cc96",
           "#ab63fa",
           "#FFA15A",
           "#19d3f3",
           "#FF6692",
           "#B6E880",
           "#FF97FF",
           "#FECB52"
          ],
          "font": {
           "color": "#2a3f5f"
          },
          "geo": {
           "bgcolor": "white",
           "lakecolor": "white",
           "landcolor": "#E5ECF6",
           "showlakes": true,
           "showland": true,
           "subunitcolor": "white"
          },
          "hoverlabel": {
           "align": "left"
          },
          "hovermode": "closest",
          "mapbox": {
           "style": "light"
          },
          "paper_bgcolor": "white",
          "plot_bgcolor": "#E5ECF6",
          "polar": {
           "angularaxis": {
            "gridcolor": "white",
            "linecolor": "white",
            "ticks": ""
           },
           "bgcolor": "#E5ECF6",
           "radialaxis": {
            "gridcolor": "white",
            "linecolor": "white",
            "ticks": ""
           }
          },
          "scene": {
           "xaxis": {
            "backgroundcolor": "#E5ECF6",
            "gridcolor": "white",
            "gridwidth": 2,
            "linecolor": "white",
            "showbackground": true,
            "ticks": "",
            "zerolinecolor": "white"
           },
           "yaxis": {
            "backgroundcolor": "#E5ECF6",
            "gridcolor": "white",
            "gridwidth": 2,
            "linecolor": "white",
            "showbackground": true,
            "ticks": "",
            "zerolinecolor": "white"
           },
           "zaxis": {
            "backgroundcolor": "#E5ECF6",
            "gridcolor": "white",
            "gridwidth": 2,
            "linecolor": "white",
            "showbackground": true,
            "ticks": "",
            "zerolinecolor": "white"
           }
          },
          "shapedefaults": {
           "line": {
            "color": "#2a3f5f"
           }
          },
          "ternary": {
           "aaxis": {
            "gridcolor": "white",
            "linecolor": "white",
            "ticks": ""
           },
           "baxis": {
            "gridcolor": "white",
            "linecolor": "white",
            "ticks": ""
           },
           "bgcolor": "#E5ECF6",
           "caxis": {
            "gridcolor": "white",
            "linecolor": "white",
            "ticks": ""
           }
          },
          "title": {
           "x": 0.05
          },
          "xaxis": {
           "automargin": true,
           "gridcolor": "white",
           "linecolor": "white",
           "ticks": "",
           "title": {
            "standoff": 15
           },
           "zerolinecolor": "white",
           "zerolinewidth": 2
          },
          "yaxis": {
           "automargin": true,
           "gridcolor": "white",
           "linecolor": "white",
           "ticks": "",
           "title": {
            "standoff": 15
           },
           "zerolinecolor": "white",
           "zerolinewidth": 2
          }
         }
        },
        "title": {
         "text": "Gantt Chart - Iteration:1 ",
         "x": 0.5
        },
        "xaxis": {
         "anchor": "y",
         "domain": [
          0,
          1
         ],
         "title": {
          "text": "Timeline"
         },
         "type": "date"
        },
        "yaxis": {
         "anchor": "x",
         "autorange": "reversed",
         "domain": [
          0,
          1
         ],
         "title": {
          "text": "Tasks"
         }
        }
       }
      }
     },
     "metadata": {},
     "output_type": "display_data"
    },
    {
     "data": {
      "application/vnd.plotly.v1+json": {
       "config": {
        "plotlyServerURL": "https://plot.ly"
       },
       "data": [
        {
         "alignmentgroup": "True",
         "base": [
          "2024-11-26T19:37:33.494361"
         ],
         "hovertemplate": "Team Member=Alice<br>start=%{base}<br>end=%{x}<br>task_name=%{y}<extra></extra>",
         "legendgroup": "Alice",
         "marker": {
          "color": "#636efa",
          "pattern": {
           "shape": ""
          }
         },
         "name": "Alice",
         "offsetgroup": "Alice",
         "orientation": "h",
         "showlegend": true,
         "textposition": "auto",
         "type": "bar",
         "x": [
          345600000
         ],
         "xaxis": "x",
         "y": [
          "Develop chatbot conversation flows"
         ],
         "yaxis": "y"
        },
        {
         "alignmentgroup": "True",
         "base": [
          "2024-12-01T19:37:33.494361"
         ],
         "hovertemplate": "Team Member=Bob<br>start=%{base}<br>end=%{x}<br>task_name=%{y}<extra></extra>",
         "legendgroup": "Bob",
         "marker": {
          "color": "#EF553B",
          "pattern": {
           "shape": ""
          }
         },
         "name": "Bob",
         "offsetgroup": "Bob",
         "orientation": "h",
         "showlegend": true,
         "textposition": "auto",
         "type": "bar",
         "x": [
          518400000
         ],
         "xaxis": "x",
         "y": [
          "Implement chatbot backend logic"
         ],
         "yaxis": "y"
        },
        {
         "alignmentgroup": "True",
         "base": [
          "2024-11-18T19:37:33.494361",
          "2024-12-18T19:37:33.494361"
         ],
         "hovertemplate": "Team Member=Charlie<br>start=%{base}<br>end=%{x}<br>task_name=%{y}<extra></extra>",
         "legendgroup": "Charlie",
         "marker": {
          "color": "#00cc96",
          "pattern": {
           "shape": ""
          }
         },
         "name": "Charlie",
         "offsetgroup": "Charlie",
         "orientation": "h",
         "showlegend": true,
         "textposition": "auto",
         "type": "bar",
         "x": [
          172800000,
          345600000
         ],
         "xaxis": "x",
         "y": [
          "Define project scope and requirements",
          "Monitor and gather user feedback"
         ],
         "yaxis": "y"
        },
        {
         "alignmentgroup": "True",
         "base": [
          "2024-11-21T19:37:33.494361",
          "2024-12-09T19:37:33.494361"
         ],
         "hovertemplate": "Team Member=David<br>start=%{base}<br>end=%{x}<br>task_name=%{y}<extra></extra>",
         "legendgroup": "David",
         "marker": {
          "color": "#ab63fa",
          "pattern": {
           "shape": ""
          }
         },
         "name": "David",
         "offsetgroup": "David",
         "orientation": "h",
         "showlegend": true,
         "textposition": "auto",
         "type": "bar",
         "x": [
          259200000,
          86400000
         ],
         "xaxis": "x",
         "y": [
          "Research chatbot platforms and technologies",
          "Set up database"
         ],
         "yaxis": "y"
        },
        {
         "alignmentgroup": "True",
         "base": [
          "2024-12-08T19:37:33.494361",
          "2024-12-09T19:37:33.494361",
          "2024-12-15T19:37:33.494361"
         ],
         "hovertemplate": "Team Member=Eve<br>start=%{base}<br>end=%{x}<br>task_name=%{y}<extra></extra>",
         "legendgroup": "Eve",
         "marker": {
          "color": "#FFA15A",
          "pattern": {
           "shape": ""
          }
         },
         "name": "Eve",
         "offsetgroup": "Eve",
         "orientation": "h",
         "showlegend": true,
         "textposition": "auto",
         "type": "bar",
         "x": [
          0,
          86400000,
          172800000
         ],
         "xaxis": "x",
         "y": [
          "Break down backend logic into smaller tasks",
          "Create API endpoints",
          "Deploy chatbot application"
         ],
         "yaxis": "y"
        },
        {
         "alignmentgroup": "True",
         "base": [
          "2024-11-26T19:37:33.494361"
         ],
         "hovertemplate": "Team Member=Frank<br>start=%{base}<br>end=%{x}<br>task_name=%{y}<extra></extra>",
         "legendgroup": "Frank",
         "marker": {
          "color": "#19d3f3",
          "pattern": {
           "shape": ""
          }
         },
         "name": "Frank",
         "offsetgroup": "Frank",
         "orientation": "h",
         "showlegend": true,
         "textposition": "auto",
         "type": "bar",
         "x": [
          345600000
         ],
         "xaxis": "x",
         "y": [
          "Create chatbot design and user interface"
         ],
         "yaxis": "y"
        },
        {
         "alignmentgroup": "True",
         "base": [
          "2024-12-09T19:37:33.494361",
          "2024-12-11T19:37:33.494361"
         ],
         "hovertemplate": "Team Member=Grace<br>start=%{base}<br>end=%{x}<br>task_name=%{y}<extra></extra>",
         "legendgroup": "Grace",
         "marker": {
          "color": "#FF6692",
          "pattern": {
           "shape": ""
          }
         },
         "name": "Grace",
         "offsetgroup": "Grace",
         "orientation": "h",
         "showlegend": true,
         "textposition": "auto",
         "type": "bar",
         "x": [
          86400000,
          259200000
         ],
         "xaxis": "x",
         "y": [
          "Integrate third-party services",
          "Test chatbot functionality"
         ],
         "yaxis": "y"
        }
       ],
       "layout": {
        "barmode": "overlay",
        "legend": {
         "title": {
          "text": "Team Member"
         },
         "tracegroupgap": 0
        },
        "template": {
         "data": {
          "bar": [
           {
            "error_x": {
             "color": "#2a3f5f"
            },
            "error_y": {
             "color": "#2a3f5f"
            },
            "marker": {
             "line": {
              "color": "#E5ECF6",
              "width": 0.5
             },
             "pattern": {
              "fillmode": "overlay",
              "size": 10,
              "solidity": 0.2
             }
            },
            "type": "bar"
           }
          ],
          "barpolar": [
           {
            "marker": {
             "line": {
              "color": "#E5ECF6",
              "width": 0.5
             },
             "pattern": {
              "fillmode": "overlay",
              "size": 10,
              "solidity": 0.2
             }
            },
            "type": "barpolar"
           }
          ],
          "carpet": [
           {
            "aaxis": {
             "endlinecolor": "#2a3f5f",
             "gridcolor": "white",
             "linecolor": "white",
             "minorgridcolor": "white",
             "startlinecolor": "#2a3f5f"
            },
            "baxis": {
             "endlinecolor": "#2a3f5f",
             "gridcolor": "white",
             "linecolor": "white",
             "minorgridcolor": "white",
             "startlinecolor": "#2a3f5f"
            },
            "type": "carpet"
           }
          ],
          "choropleth": [
           {
            "colorbar": {
             "outlinewidth": 0,
             "ticks": ""
            },
            "type": "choropleth"
           }
          ],
          "contour": [
           {
            "colorbar": {
             "outlinewidth": 0,
             "ticks": ""
            },
            "colorscale": [
             [
              0,
              "#0d0887"
             ],
             [
              0.1111111111111111,
              "#46039f"
             ],
             [
              0.2222222222222222,
              "#7201a8"
             ],
             [
              0.3333333333333333,
              "#9c179e"
             ],
             [
              0.4444444444444444,
              "#bd3786"
             ],
             [
              0.5555555555555556,
              "#d8576b"
             ],
             [
              0.6666666666666666,
              "#ed7953"
             ],
             [
              0.7777777777777778,
              "#fb9f3a"
             ],
             [
              0.8888888888888888,
              "#fdca26"
             ],
             [
              1,
              "#f0f921"
             ]
            ],
            "type": "contour"
           }
          ],
          "contourcarpet": [
           {
            "colorbar": {
             "outlinewidth": 0,
             "ticks": ""
            },
            "type": "contourcarpet"
           }
          ],
          "heatmap": [
           {
            "colorbar": {
             "outlinewidth": 0,
             "ticks": ""
            },
            "colorscale": [
             [
              0,
              "#0d0887"
             ],
             [
              0.1111111111111111,
              "#46039f"
             ],
             [
              0.2222222222222222,
              "#7201a8"
             ],
             [
              0.3333333333333333,
              "#9c179e"
             ],
             [
              0.4444444444444444,
              "#bd3786"
             ],
             [
              0.5555555555555556,
              "#d8576b"
             ],
             [
              0.6666666666666666,
              "#ed7953"
             ],
             [
              0.7777777777777778,
              "#fb9f3a"
             ],
             [
              0.8888888888888888,
              "#fdca26"
             ],
             [
              1,
              "#f0f921"
             ]
            ],
            "type": "heatmap"
           }
          ],
          "heatmapgl": [
           {
            "colorbar": {
             "outlinewidth": 0,
             "ticks": ""
            },
            "colorscale": [
             [
              0,
              "#0d0887"
             ],
             [
              0.1111111111111111,
              "#46039f"
             ],
             [
              0.2222222222222222,
              "#7201a8"
             ],
             [
              0.3333333333333333,
              "#9c179e"
             ],
             [
              0.4444444444444444,
              "#bd3786"
             ],
             [
              0.5555555555555556,
              "#d8576b"
             ],
             [
              0.6666666666666666,
              "#ed7953"
             ],
             [
              0.7777777777777778,
              "#fb9f3a"
             ],
             [
              0.8888888888888888,
              "#fdca26"
             ],
             [
              1,
              "#f0f921"
             ]
            ],
            "type": "heatmapgl"
           }
          ],
          "histogram": [
           {
            "marker": {
             "pattern": {
              "fillmode": "overlay",
              "size": 10,
              "solidity": 0.2
             }
            },
            "type": "histogram"
           }
          ],
          "histogram2d": [
           {
            "colorbar": {
             "outlinewidth": 0,
             "ticks": ""
            },
            "colorscale": [
             [
              0,
              "#0d0887"
             ],
             [
              0.1111111111111111,
              "#46039f"
             ],
             [
              0.2222222222222222,
              "#7201a8"
             ],
             [
              0.3333333333333333,
              "#9c179e"
             ],
             [
              0.4444444444444444,
              "#bd3786"
             ],
             [
              0.5555555555555556,
              "#d8576b"
             ],
             [
              0.6666666666666666,
              "#ed7953"
             ],
             [
              0.7777777777777778,
              "#fb9f3a"
             ],
             [
              0.8888888888888888,
              "#fdca26"
             ],
             [
              1,
              "#f0f921"
             ]
            ],
            "type": "histogram2d"
           }
          ],
          "histogram2dcontour": [
           {
            "colorbar": {
             "outlinewidth": 0,
             "ticks": ""
            },
            "colorscale": [
             [
              0,
              "#0d0887"
             ],
             [
              0.1111111111111111,
              "#46039f"
             ],
             [
              0.2222222222222222,
              "#7201a8"
             ],
             [
              0.3333333333333333,
              "#9c179e"
             ],
             [
              0.4444444444444444,
              "#bd3786"
             ],
             [
              0.5555555555555556,
              "#d8576b"
             ],
             [
              0.6666666666666666,
              "#ed7953"
             ],
             [
              0.7777777777777778,
              "#fb9f3a"
             ],
             [
              0.8888888888888888,
              "#fdca26"
             ],
             [
              1,
              "#f0f921"
             ]
            ],
            "type": "histogram2dcontour"
           }
          ],
          "mesh3d": [
           {
            "colorbar": {
             "outlinewidth": 0,
             "ticks": ""
            },
            "type": "mesh3d"
           }
          ],
          "parcoords": [
           {
            "line": {
             "colorbar": {
              "outlinewidth": 0,
              "ticks": ""
             }
            },
            "type": "parcoords"
           }
          ],
          "pie": [
           {
            "automargin": true,
            "type": "pie"
           }
          ],
          "scatter": [
           {
            "fillpattern": {
             "fillmode": "overlay",
             "size": 10,
             "solidity": 0.2
            },
            "type": "scatter"
           }
          ],
          "scatter3d": [
           {
            "line": {
             "colorbar": {
              "outlinewidth": 0,
              "ticks": ""
             }
            },
            "marker": {
             "colorbar": {
              "outlinewidth": 0,
              "ticks": ""
             }
            },
            "type": "scatter3d"
           }
          ],
          "scattercarpet": [
           {
            "marker": {
             "colorbar": {
              "outlinewidth": 0,
              "ticks": ""
             }
            },
            "type": "scattercarpet"
           }
          ],
          "scattergeo": [
           {
            "marker": {
             "colorbar": {
              "outlinewidth": 0,
              "ticks": ""
             }
            },
            "type": "scattergeo"
           }
          ],
          "scattergl": [
           {
            "marker": {
             "colorbar": {
              "outlinewidth": 0,
              "ticks": ""
             }
            },
            "type": "scattergl"
           }
          ],
          "scattermapbox": [
           {
            "marker": {
             "colorbar": {
              "outlinewidth": 0,
              "ticks": ""
             }
            },
            "type": "scattermapbox"
           }
          ],
          "scatterpolar": [
           {
            "marker": {
             "colorbar": {
              "outlinewidth": 0,
              "ticks": ""
             }
            },
            "type": "scatterpolar"
           }
          ],
          "scatterpolargl": [
           {
            "marker": {
             "colorbar": {
              "outlinewidth": 0,
              "ticks": ""
             }
            },
            "type": "scatterpolargl"
           }
          ],
          "scatterternary": [
           {
            "marker": {
             "colorbar": {
              "outlinewidth": 0,
              "ticks": ""
             }
            },
            "type": "scatterternary"
           }
          ],
          "surface": [
           {
            "colorbar": {
             "outlinewidth": 0,
             "ticks": ""
            },
            "colorscale": [
             [
              0,
              "#0d0887"
             ],
             [
              0.1111111111111111,
              "#46039f"
             ],
             [
              0.2222222222222222,
              "#7201a8"
             ],
             [
              0.3333333333333333,
              "#9c179e"
             ],
             [
              0.4444444444444444,
              "#bd3786"
             ],
             [
              0.5555555555555556,
              "#d8576b"
             ],
             [
              0.6666666666666666,
              "#ed7953"
             ],
             [
              0.7777777777777778,
              "#fb9f3a"
             ],
             [
              0.8888888888888888,
              "#fdca26"
             ],
             [
              1,
              "#f0f921"
             ]
            ],
            "type": "surface"
           }
          ],
          "table": [
           {
            "cells": {
             "fill": {
              "color": "#EBF0F8"
             },
             "line": {
              "color": "white"
             }
            },
            "header": {
             "fill": {
              "color": "#C8D4E3"
             },
             "line": {
              "color": "white"
             }
            },
            "type": "table"
           }
          ]
         },
         "layout": {
          "annotationdefaults": {
           "arrowcolor": "#2a3f5f",
           "arrowhead": 0,
           "arrowwidth": 1
          },
          "autotypenumbers": "strict",
          "coloraxis": {
           "colorbar": {
            "outlinewidth": 0,
            "ticks": ""
           }
          },
          "colorscale": {
           "diverging": [
            [
             0,
             "#8e0152"
            ],
            [
             0.1,
             "#c51b7d"
            ],
            [
             0.2,
             "#de77ae"
            ],
            [
             0.3,
             "#f1b6da"
            ],
            [
             0.4,
             "#fde0ef"
            ],
            [
             0.5,
             "#f7f7f7"
            ],
            [
             0.6,
             "#e6f5d0"
            ],
            [
             0.7,
             "#b8e186"
            ],
            [
             0.8,
             "#7fbc41"
            ],
            [
             0.9,
             "#4d9221"
            ],
            [
             1,
             "#276419"
            ]
           ],
           "sequential": [
            [
             0,
             "#0d0887"
            ],
            [
             0.1111111111111111,
             "#46039f"
            ],
            [
             0.2222222222222222,
             "#7201a8"
            ],
            [
             0.3333333333333333,
             "#9c179e"
            ],
            [
             0.4444444444444444,
             "#bd3786"
            ],
            [
             0.5555555555555556,
             "#d8576b"
            ],
            [
             0.6666666666666666,
             "#ed7953"
            ],
            [
             0.7777777777777778,
             "#fb9f3a"
            ],
            [
             0.8888888888888888,
             "#fdca26"
            ],
            [
             1,
             "#f0f921"
            ]
           ],
           "sequentialminus": [
            [
             0,
             "#0d0887"
            ],
            [
             0.1111111111111111,
             "#46039f"
            ],
            [
             0.2222222222222222,
             "#7201a8"
            ],
            [
             0.3333333333333333,
             "#9c179e"
            ],
            [
             0.4444444444444444,
             "#bd3786"
            ],
            [
             0.5555555555555556,
             "#d8576b"
            ],
            [
             0.6666666666666666,
             "#ed7953"
            ],
            [
             0.7777777777777778,
             "#fb9f3a"
            ],
            [
             0.8888888888888888,
             "#fdca26"
            ],
            [
             1,
             "#f0f921"
            ]
           ]
          },
          "colorway": [
           "#636efa",
           "#EF553B",
           "#00cc96",
           "#ab63fa",
           "#FFA15A",
           "#19d3f3",
           "#FF6692",
           "#B6E880",
           "#FF97FF",
           "#FECB52"
          ],
          "font": {
           "color": "#2a3f5f"
          },
          "geo": {
           "bgcolor": "white",
           "lakecolor": "white",
           "landcolor": "#E5ECF6",
           "showlakes": true,
           "showland": true,
           "subunitcolor": "white"
          },
          "hoverlabel": {
           "align": "left"
          },
          "hovermode": "closest",
          "mapbox": {
           "style": "light"
          },
          "paper_bgcolor": "white",
          "plot_bgcolor": "#E5ECF6",
          "polar": {
           "angularaxis": {
            "gridcolor": "white",
            "linecolor": "white",
            "ticks": ""
           },
           "bgcolor": "#E5ECF6",
           "radialaxis": {
            "gridcolor": "white",
            "linecolor": "white",
            "ticks": ""
           }
          },
          "scene": {
           "xaxis": {
            "backgroundcolor": "#E5ECF6",
            "gridcolor": "white",
            "gridwidth": 2,
            "linecolor": "white",
            "showbackground": true,
            "ticks": "",
            "zerolinecolor": "white"
           },
           "yaxis": {
            "backgroundcolor": "#E5ECF6",
            "gridcolor": "white",
            "gridwidth": 2,
            "linecolor": "white",
            "showbackground": true,
            "ticks": "",
            "zerolinecolor": "white"
           },
           "zaxis": {
            "backgroundcolor": "#E5ECF6",
            "gridcolor": "white",
            "gridwidth": 2,
            "linecolor": "white",
            "showbackground": true,
            "ticks": "",
            "zerolinecolor": "white"
           }
          },
          "shapedefaults": {
           "line": {
            "color": "#2a3f5f"
           }
          },
          "ternary": {
           "aaxis": {
            "gridcolor": "white",
            "linecolor": "white",
            "ticks": ""
           },
           "baxis": {
            "gridcolor": "white",
            "linecolor": "white",
            "ticks": ""
           },
           "bgcolor": "#E5ECF6",
           "caxis": {
            "gridcolor": "white",
            "linecolor": "white",
            "ticks": ""
           }
          },
          "title": {
           "x": 0.05
          },
          "xaxis": {
           "automargin": true,
           "gridcolor": "white",
           "linecolor": "white",
           "ticks": "",
           "title": {
            "standoff": 15
           },
           "zerolinecolor": "white",
           "zerolinewidth": 2
          },
          "yaxis": {
           "automargin": true,
           "gridcolor": "white",
           "linecolor": "white",
           "ticks": "",
           "title": {
            "standoff": 15
           },
           "zerolinecolor": "white",
           "zerolinewidth": 2
          }
         }
        },
        "title": {
         "text": "Gantt Chart - Iteration:2 ",
         "x": 0.5
        },
        "xaxis": {
         "anchor": "y",
         "domain": [
          0,
          1
         ],
         "title": {
          "text": "Timeline"
         },
         "type": "date"
        },
        "yaxis": {
         "anchor": "x",
         "autorange": "reversed",
         "domain": [
          0,
          1
         ],
         "title": {
          "text": "Tasks"
         }
        }
       }
      }
     },
     "metadata": {},
     "output_type": "display_data"
    },
    {
     "data": {
      "application/vnd.plotly.v1+json": {
       "config": {
        "plotlyServerURL": "https://plot.ly"
       },
       "data": [
        {
         "alignmentgroup": "True",
         "base": [
          "2024-11-25T19:37:33.575155"
         ],
         "hovertemplate": "Team Member=Alice<br>start=%{base}<br>end=%{x}<br>task_name=%{y}<extra></extra>",
         "legendgroup": "Alice",
         "marker": {
          "color": "#636efa",
          "pattern": {
           "shape": ""
          }
         },
         "name": "Alice",
         "offsetgroup": "Alice",
         "orientation": "h",
         "showlegend": true,
         "textposition": "auto",
         "type": "bar",
         "x": [
          345600000
         ],
         "xaxis": "x",
         "y": [
          "Develop chatbot conversation flows"
         ],
         "yaxis": "y"
        },
        {
         "alignmentgroup": "True",
         "base": [
          "2024-11-30T19:37:33.575155"
         ],
         "hovertemplate": "Team Member=Bob<br>start=%{base}<br>end=%{x}<br>task_name=%{y}<extra></extra>",
         "legendgroup": "Bob",
         "marker": {
          "color": "#EF553B",
          "pattern": {
           "shape": ""
          }
         },
         "name": "Bob",
         "offsetgroup": "Bob",
         "orientation": "h",
         "showlegend": true,
         "textposition": "auto",
         "type": "bar",
         "x": [
          518400000
         ],
         "xaxis": "x",
         "y": [
          "Implement chatbot backend logic"
         ],
         "yaxis": "y"
        },
        {
         "alignmentgroup": "True",
         "base": [
          "2024-11-18T19:37:33.575155",
          "2024-12-21T19:37:33.575155"
         ],
         "hovertemplate": "Team Member=Charlie<br>start=%{base}<br>end=%{x}<br>task_name=%{y}<extra></extra>",
         "legendgroup": "Charlie",
         "marker": {
          "color": "#00cc96",
          "pattern": {
           "shape": ""
          }
         },
         "name": "Charlie",
         "offsetgroup": "Charlie",
         "orientation": "h",
         "showlegend": true,
         "textposition": "auto",
         "type": "bar",
         "x": [
          172800000,
          345600000
         ],
         "xaxis": "x",
         "y": [
          "Define project scope and requirements",
          "Monitor and gather user feedback"
         ],
         "yaxis": "y"
        },
        {
         "alignmentgroup": "True",
         "base": [
          "2024-11-21T19:37:33.575155",
          "2024-12-08T19:37:33.575155"
         ],
         "hovertemplate": "Team Member=David<br>start=%{base}<br>end=%{x}<br>task_name=%{y}<extra></extra>",
         "legendgroup": "David",
         "marker": {
          "color": "#ab63fa",
          "pattern": {
           "shape": ""
          }
         },
         "name": "David",
         "offsetgroup": "David",
         "orientation": "h",
         "showlegend": true,
         "textposition": "auto",
         "type": "bar",
         "x": [
          259200000,
          86400000
         ],
         "xaxis": "x",
         "y": [
          "Research chatbot platforms and technologies",
          "Set up database"
         ],
         "yaxis": "y"
        },
        {
         "alignmentgroup": "True",
         "base": [
          "2024-12-07T19:37:33.575155",
          "2024-12-10T19:37:33.575155",
          "2024-12-18T19:37:33.575155"
         ],
         "hovertemplate": "Team Member=Eve<br>start=%{base}<br>end=%{x}<br>task_name=%{y}<extra></extra>",
         "legendgroup": "Eve",
         "marker": {
          "color": "#FFA15A",
          "pattern": {
           "shape": ""
          }
         },
         "name": "Eve",
         "offsetgroup": "Eve",
         "orientation": "h",
         "showlegend": true,
         "textposition": "auto",
         "type": "bar",
         "x": [
          0,
          86400000,
          172800000
         ],
         "xaxis": "x",
         "y": [
          "Break down backend logic into smaller tasks",
          "Create API endpoints",
          "Deploy chatbot application"
         ],
         "yaxis": "y"
        },
        {
         "alignmentgroup": "True",
         "base": [
          "2024-11-25T19:37:33.575155"
         ],
         "hovertemplate": "Team Member=Frank<br>start=%{base}<br>end=%{x}<br>task_name=%{y}<extra></extra>",
         "legendgroup": "Frank",
         "marker": {
          "color": "#19d3f3",
          "pattern": {
           "shape": ""
          }
         },
         "name": "Frank",
         "offsetgroup": "Frank",
         "orientation": "h",
         "showlegend": true,
         "textposition": "auto",
         "type": "bar",
         "x": [
          345600000
         ],
         "xaxis": "x",
         "y": [
          "Create chatbot design and user interface"
         ],
         "yaxis": "y"
        },
        {
         "alignmentgroup": "True",
         "base": [
          "2024-12-12T19:37:33.575155",
          "2024-12-14T19:37:33.575155"
         ],
         "hovertemplate": "Team Member=Grace<br>start=%{base}<br>end=%{x}<br>task_name=%{y}<extra></extra>",
         "legendgroup": "Grace",
         "marker": {
          "color": "#FF6692",
          "pattern": {
           "shape": ""
          }
         },
         "name": "Grace",
         "offsetgroup": "Grace",
         "orientation": "h",
         "showlegend": true,
         "textposition": "auto",
         "type": "bar",
         "x": [
          86400000,
          259200000
         ],
         "xaxis": "x",
         "y": [
          "Integrate third-party services",
          "Test chatbot functionality"
         ],
         "yaxis": "y"
        }
       ],
       "layout": {
        "barmode": "overlay",
        "legend": {
         "title": {
          "text": "Team Member"
         },
         "tracegroupgap": 0
        },
        "template": {
         "data": {
          "bar": [
           {
            "error_x": {
             "color": "#2a3f5f"
            },
            "error_y": {
             "color": "#2a3f5f"
            },
            "marker": {
             "line": {
              "color": "#E5ECF6",
              "width": 0.5
             },
             "pattern": {
              "fillmode": "overlay",
              "size": 10,
              "solidity": 0.2
             }
            },
            "type": "bar"
           }
          ],
          "barpolar": [
           {
            "marker": {
             "line": {
              "color": "#E5ECF6",
              "width": 0.5
             },
             "pattern": {
              "fillmode": "overlay",
              "size": 10,
              "solidity": 0.2
             }
            },
            "type": "barpolar"
           }
          ],
          "carpet": [
           {
            "aaxis": {
             "endlinecolor": "#2a3f5f",
             "gridcolor": "white",
             "linecolor": "white",
             "minorgridcolor": "white",
             "startlinecolor": "#2a3f5f"
            },
            "baxis": {
             "endlinecolor": "#2a3f5f",
             "gridcolor": "white",
             "linecolor": "white",
             "minorgridcolor": "white",
             "startlinecolor": "#2a3f5f"
            },
            "type": "carpet"
           }
          ],
          "choropleth": [
           {
            "colorbar": {
             "outlinewidth": 0,
             "ticks": ""
            },
            "type": "choropleth"
           }
          ],
          "contour": [
           {
            "colorbar": {
             "outlinewidth": 0,
             "ticks": ""
            },
            "colorscale": [
             [
              0,
              "#0d0887"
             ],
             [
              0.1111111111111111,
              "#46039f"
             ],
             [
              0.2222222222222222,
              "#7201a8"
             ],
             [
              0.3333333333333333,
              "#9c179e"
             ],
             [
              0.4444444444444444,
              "#bd3786"
             ],
             [
              0.5555555555555556,
              "#d8576b"
             ],
             [
              0.6666666666666666,
              "#ed7953"
             ],
             [
              0.7777777777777778,
              "#fb9f3a"
             ],
             [
              0.8888888888888888,
              "#fdca26"
             ],
             [
              1,
              "#f0f921"
             ]
            ],
            "type": "contour"
           }
          ],
          "contourcarpet": [
           {
            "colorbar": {
             "outlinewidth": 0,
             "ticks": ""
            },
            "type": "contourcarpet"
           }
          ],
          "heatmap": [
           {
            "colorbar": {
             "outlinewidth": 0,
             "ticks": ""
            },
            "colorscale": [
             [
              0,
              "#0d0887"
             ],
             [
              0.1111111111111111,
              "#46039f"
             ],
             [
              0.2222222222222222,
              "#7201a8"
             ],
             [
              0.3333333333333333,
              "#9c179e"
             ],
             [
              0.4444444444444444,
              "#bd3786"
             ],
             [
              0.5555555555555556,
              "#d8576b"
             ],
             [
              0.6666666666666666,
              "#ed7953"
             ],
             [
              0.7777777777777778,
              "#fb9f3a"
             ],
             [
              0.8888888888888888,
              "#fdca26"
             ],
             [
              1,
              "#f0f921"
             ]
            ],
            "type": "heatmap"
           }
          ],
          "heatmapgl": [
           {
            "colorbar": {
             "outlinewidth": 0,
             "ticks": ""
            },
            "colorscale": [
             [
              0,
              "#0d0887"
             ],
             [
              0.1111111111111111,
              "#46039f"
             ],
             [
              0.2222222222222222,
              "#7201a8"
             ],
             [
              0.3333333333333333,
              "#9c179e"
             ],
             [
              0.4444444444444444,
              "#bd3786"
             ],
             [
              0.5555555555555556,
              "#d8576b"
             ],
             [
              0.6666666666666666,
              "#ed7953"
             ],
             [
              0.7777777777777778,
              "#fb9f3a"
             ],
             [
              0.8888888888888888,
              "#fdca26"
             ],
             [
              1,
              "#f0f921"
             ]
            ],
            "type": "heatmapgl"
           }
          ],
          "histogram": [
           {
            "marker": {
             "pattern": {
              "fillmode": "overlay",
              "size": 10,
              "solidity": 0.2
             }
            },
            "type": "histogram"
           }
          ],
          "histogram2d": [
           {
            "colorbar": {
             "outlinewidth": 0,
             "ticks": ""
            },
            "colorscale": [
             [
              0,
              "#0d0887"
             ],
             [
              0.1111111111111111,
              "#46039f"
             ],
             [
              0.2222222222222222,
              "#7201a8"
             ],
             [
              0.3333333333333333,
              "#9c179e"
             ],
             [
              0.4444444444444444,
              "#bd3786"
             ],
             [
              0.5555555555555556,
              "#d8576b"
             ],
             [
              0.6666666666666666,
              "#ed7953"
             ],
             [
              0.7777777777777778,
              "#fb9f3a"
             ],
             [
              0.8888888888888888,
              "#fdca26"
             ],
             [
              1,
              "#f0f921"
             ]
            ],
            "type": "histogram2d"
           }
          ],
          "histogram2dcontour": [
           {
            "colorbar": {
             "outlinewidth": 0,
             "ticks": ""
            },
            "colorscale": [
             [
              0,
              "#0d0887"
             ],
             [
              0.1111111111111111,
              "#46039f"
             ],
             [
              0.2222222222222222,
              "#7201a8"
             ],
             [
              0.3333333333333333,
              "#9c179e"
             ],
             [
              0.4444444444444444,
              "#bd3786"
             ],
             [
              0.5555555555555556,
              "#d8576b"
             ],
             [
              0.6666666666666666,
              "#ed7953"
             ],
             [
              0.7777777777777778,
              "#fb9f3a"
             ],
             [
              0.8888888888888888,
              "#fdca26"
             ],
             [
              1,
              "#f0f921"
             ]
            ],
            "type": "histogram2dcontour"
           }
          ],
          "mesh3d": [
           {
            "colorbar": {
             "outlinewidth": 0,
             "ticks": ""
            },
            "type": "mesh3d"
           }
          ],
          "parcoords": [
           {
            "line": {
             "colorbar": {
              "outlinewidth": 0,
              "ticks": ""
             }
            },
            "type": "parcoords"
           }
          ],
          "pie": [
           {
            "automargin": true,
            "type": "pie"
           }
          ],
          "scatter": [
           {
            "fillpattern": {
             "fillmode": "overlay",
             "size": 10,
             "solidity": 0.2
            },
            "type": "scatter"
           }
          ],
          "scatter3d": [
           {
            "line": {
             "colorbar": {
              "outlinewidth": 0,
              "ticks": ""
             }
            },
            "marker": {
             "colorbar": {
              "outlinewidth": 0,
              "ticks": ""
             }
            },
            "type": "scatter3d"
           }
          ],
          "scattercarpet": [
           {
            "marker": {
             "colorbar": {
              "outlinewidth": 0,
              "ticks": ""
             }
            },
            "type": "scattercarpet"
           }
          ],
          "scattergeo": [
           {
            "marker": {
             "colorbar": {
              "outlinewidth": 0,
              "ticks": ""
             }
            },
            "type": "scattergeo"
           }
          ],
          "scattergl": [
           {
            "marker": {
             "colorbar": {
              "outlinewidth": 0,
              "ticks": ""
             }
            },
            "type": "scattergl"
           }
          ],
          "scattermapbox": [
           {
            "marker": {
             "colorbar": {
              "outlinewidth": 0,
              "ticks": ""
             }
            },
            "type": "scattermapbox"
           }
          ],
          "scatterpolar": [
           {
            "marker": {
             "colorbar": {
              "outlinewidth": 0,
              "ticks": ""
             }
            },
            "type": "scatterpolar"
           }
          ],
          "scatterpolargl": [
           {
            "marker": {
             "colorbar": {
              "outlinewidth": 0,
              "ticks": ""
             }
            },
            "type": "scatterpolargl"
           }
          ],
          "scatterternary": [
           {
            "marker": {
             "colorbar": {
              "outlinewidth": 0,
              "ticks": ""
             }
            },
            "type": "scatterternary"
           }
          ],
          "surface": [
           {
            "colorbar": {
             "outlinewidth": 0,
             "ticks": ""
            },
            "colorscale": [
             [
              0,
              "#0d0887"
             ],
             [
              0.1111111111111111,
              "#46039f"
             ],
             [
              0.2222222222222222,
              "#7201a8"
             ],
             [
              0.3333333333333333,
              "#9c179e"
             ],
             [
              0.4444444444444444,
              "#bd3786"
             ],
             [
              0.5555555555555556,
              "#d8576b"
             ],
             [
              0.6666666666666666,
              "#ed7953"
             ],
             [
              0.7777777777777778,
              "#fb9f3a"
             ],
             [
              0.8888888888888888,
              "#fdca26"
             ],
             [
              1,
              "#f0f921"
             ]
            ],
            "type": "surface"
           }
          ],
          "table": [
           {
            "cells": {
             "fill": {
              "color": "#EBF0F8"
             },
             "line": {
              "color": "white"
             }
            },
            "header": {
             "fill": {
              "color": "#C8D4E3"
             },
             "line": {
              "color": "white"
             }
            },
            "type": "table"
           }
          ]
         },
         "layout": {
          "annotationdefaults": {
           "arrowcolor": "#2a3f5f",
           "arrowhead": 0,
           "arrowwidth": 1
          },
          "autotypenumbers": "strict",
          "coloraxis": {
           "colorbar": {
            "outlinewidth": 0,
            "ticks": ""
           }
          },
          "colorscale": {
           "diverging": [
            [
             0,
             "#8e0152"
            ],
            [
             0.1,
             "#c51b7d"
            ],
            [
             0.2,
             "#de77ae"
            ],
            [
             0.3,
             "#f1b6da"
            ],
            [
             0.4,
             "#fde0ef"
            ],
            [
             0.5,
             "#f7f7f7"
            ],
            [
             0.6,
             "#e6f5d0"
            ],
            [
             0.7,
             "#b8e186"
            ],
            [
             0.8,
             "#7fbc41"
            ],
            [
             0.9,
             "#4d9221"
            ],
            [
             1,
             "#276419"
            ]
           ],
           "sequential": [
            [
             0,
             "#0d0887"
            ],
            [
             0.1111111111111111,
             "#46039f"
            ],
            [
             0.2222222222222222,
             "#7201a8"
            ],
            [
             0.3333333333333333,
             "#9c179e"
            ],
            [
             0.4444444444444444,
             "#bd3786"
            ],
            [
             0.5555555555555556,
             "#d8576b"
            ],
            [
             0.6666666666666666,
             "#ed7953"
            ],
            [
             0.7777777777777778,
             "#fb9f3a"
            ],
            [
             0.8888888888888888,
             "#fdca26"
            ],
            [
             1,
             "#f0f921"
            ]
           ],
           "sequentialminus": [
            [
             0,
             "#0d0887"
            ],
            [
             0.1111111111111111,
             "#46039f"
            ],
            [
             0.2222222222222222,
             "#7201a8"
            ],
            [
             0.3333333333333333,
             "#9c179e"
            ],
            [
             0.4444444444444444,
             "#bd3786"
            ],
            [
             0.5555555555555556,
             "#d8576b"
            ],
            [
             0.6666666666666666,
             "#ed7953"
            ],
            [
             0.7777777777777778,
             "#fb9f3a"
            ],
            [
             0.8888888888888888,
             "#fdca26"
            ],
            [
             1,
             "#f0f921"
            ]
           ]
          },
          "colorway": [
           "#636efa",
           "#EF553B",
           "#00cc96",
           "#ab63fa",
           "#FFA15A",
           "#19d3f3",
           "#FF6692",
           "#B6E880",
           "#FF97FF",
           "#FECB52"
          ],
          "font": {
           "color": "#2a3f5f"
          },
          "geo": {
           "bgcolor": "white",
           "lakecolor": "white",
           "landcolor": "#E5ECF6",
           "showlakes": true,
           "showland": true,
           "subunitcolor": "white"
          },
          "hoverlabel": {
           "align": "left"
          },
          "hovermode": "closest",
          "mapbox": {
           "style": "light"
          },
          "paper_bgcolor": "white",
          "plot_bgcolor": "#E5ECF6",
          "polar": {
           "angularaxis": {
            "gridcolor": "white",
            "linecolor": "white",
            "ticks": ""
           },
           "bgcolor": "#E5ECF6",
           "radialaxis": {
            "gridcolor": "white",
            "linecolor": "white",
            "ticks": ""
           }
          },
          "scene": {
           "xaxis": {
            "backgroundcolor": "#E5ECF6",
            "gridcolor": "white",
            "gridwidth": 2,
            "linecolor": "white",
            "showbackground": true,
            "ticks": "",
            "zerolinecolor": "white"
           },
           "yaxis": {
            "backgroundcolor": "#E5ECF6",
            "gridcolor": "white",
            "gridwidth": 2,
            "linecolor": "white",
            "showbackground": true,
            "ticks": "",
            "zerolinecolor": "white"
           },
           "zaxis": {
            "backgroundcolor": "#E5ECF6",
            "gridcolor": "white",
            "gridwidth": 2,
            "linecolor": "white",
            "showbackground": true,
            "ticks": "",
            "zerolinecolor": "white"
           }
          },
          "shapedefaults": {
           "line": {
            "color": "#2a3f5f"
           }
          },
          "ternary": {
           "aaxis": {
            "gridcolor": "white",
            "linecolor": "white",
            "ticks": ""
           },
           "baxis": {
            "gridcolor": "white",
            "linecolor": "white",
            "ticks": ""
           },
           "bgcolor": "#E5ECF6",
           "caxis": {
            "gridcolor": "white",
            "linecolor": "white",
            "ticks": ""
           }
          },
          "title": {
           "x": 0.05
          },
          "xaxis": {
           "automargin": true,
           "gridcolor": "white",
           "linecolor": "white",
           "ticks": "",
           "title": {
            "standoff": 15
           },
           "zerolinecolor": "white",
           "zerolinewidth": 2
          },
          "yaxis": {
           "automargin": true,
           "gridcolor": "white",
           "linecolor": "white",
           "ticks": "",
           "title": {
            "standoff": 15
           },
           "zerolinecolor": "white",
           "zerolinewidth": 2
          }
         }
        },
        "title": {
         "text": "Gantt Chart - Iteration:3 ",
         "x": 0.5
        },
        "xaxis": {
         "anchor": "y",
         "domain": [
          0,
          1
         ],
         "title": {
          "text": "Timeline"
         },
         "type": "date"
        },
        "yaxis": {
         "anchor": "x",
         "autorange": "reversed",
         "domain": [
          0,
          1
         ],
         "title": {
          "text": "Tasks"
         }
        }
       }
      }
     },
     "metadata": {},
     "output_type": "display_data"
    }
   ],
   "source": [
    "# Visalize Project timeline\n",
    "number_of_iterations = final_state['iteration_number']\n",
    "\n",
    "for i in range(number_of_iterations):\n",
    "    ## Tasks schedule\n",
    "    task_schedules = final_state['schedule_iteration'][i].schedule\n",
    "\n",
    "    t = []\n",
    "    # Iterate over the task_schedules and append each task's data to the DataFrame\n",
    "    for task_schedule in task_schedules:\n",
    "        t.append([\n",
    "            task_schedule.task.task_name,\n",
    "            task_schedule.start_day,\n",
    "            task_schedule.end_day\n",
    "        ])\n",
    "\n",
    "    df_schedule = pd.DataFrame(t,columns=['task_name', 'start', 'end'])\n",
    "\n",
    "    ## Tasks allocation\n",
    "    task_allocations = final_state['task_allocations_iteration'][i].task_allocations\n",
    "\n",
    "    t = []\n",
    "    # Iterate over the task_schedules and append each task's data to the DataFrame\n",
    "    for task_allocation in task_allocations:\n",
    "        t.append([\n",
    "            task_allocation.task.task_name,\n",
    "            task_allocation.team_member.name\n",
    "        ])\n",
    "\n",
    "    df_allocation = pd.DataFrame(t,columns=['task_name', 'team_member'])\n",
    "\n",
    "    df = df_allocation.merge(df_schedule, on='task_name')\n",
    "\n",
    "    import plotly.express as px\n",
    "\n",
    "    from datetime import datetime, timedelta\n",
    "    # Get the current date\n",
    "    current_date = datetime.today()\n",
    "\n",
    "    # Convert start and end offsets to actual dates\n",
    "    df['start'] = df['start'].apply(lambda x: current_date + timedelta(days=x))\n",
    "    df['end'] = df['end'].apply(lambda x: current_date + timedelta(days=x))\n",
    "\n",
    "    df.rename(columns={'team_member': 'Team Member'}, inplace=True)\n",
    "    df.sort_values(by='Team Member', inplace=True)\n",
    "    # Create a Gantt chart\n",
    "    fig = px.timeline(df, x_start=\"start\", x_end=\"end\", y=\"task_name\", color=\"Team Member\", title=f\"Gantt Chart - Iteration:{i+1} \")\n",
    "\n",
    "    # Update layout for better visualization\n",
    "    fig.update_layout(\n",
    "        xaxis_title=\"Timeline\",\n",
    "        yaxis_title=\"Tasks\",\n",
    "        yaxis=dict(autorange=\"reversed\"),  # Reverse the y-axis to have tasks in the vertical side\n",
    "        title_x=0.5\n",
    "    )\n",
    "\n",
    "    # Show the plot\n",
    "    fig.show()"
   ]
  },
  {
   "cell_type": "markdown",
   "metadata": {},
   "source": [
    "## Comparison\n",
    "\n",
    "As a comparison, we have implemented a simple agent composed of only 1 node aiming create a project plan as a 1-short.\n",
    "The input remained the `project_description` and the `team`. The prompt became the combination of the each node - except the risk and insight generations.\n",
    "The single node agent with the simplied stage could create a project plan - so qualitatively actually can solve the problem. However, a multi-agent solution allows for incorporation of self-reflection (in the future, human-in-the-loop), so iterative update to the plan can be made and additional information can be incorporated via user interactions.\n",
    "In addition, the expected complex structured response may not always achieved by the LLM.\n",
    "\n",
    "\n"
   ]
  },
  {
   "cell_type": "code",
   "execution_count": 17,
   "metadata": {},
   "outputs": [
    {
     "data": {
      "image/png": "[encoded data removed]",
      "text/plain": [
       "<IPython.core.display.Image object>"
      ]
     },
     "metadata": {},
     "output_type": "display_data"
    }
   ],
   "source": [
    "class ProjectPlan(BaseModel):\n",
    "    tasks: TaskList\n",
    "    dependencies: DependencyList\n",
    "    schedule: Schedule\n",
    "    task_allocations: TaskAllocationList\n",
    "\n",
    "class SimpleAgentState(TypedDict):\n",
    "    \"\"\"The project manager agent state.\"\"\"\n",
    "    project_description: str\n",
    "    team: Team\n",
    "    tasks: TaskList\n",
    "    dependencies: DependencyList\n",
    "    schedule: Schedule\n",
    "    task_allocations: TaskAllocationList\n",
    "\n",
    "def project_plan_generation_node(state: SimpleAgentState):\n",
    "    \"\"\"LangGraph node that will extract tasks from given project description\"\"\"\n",
    "    description = state[\"project_description\"]\n",
    "    team = state[\"team\"]\n",
    "    prompt = f\"\"\"You are an experienced project description analyzer, who needs to create a project plan.\n",
    "        Create the project plan using the following steps:\n",
    "        - Analyze the project description '{description}' and create a list of actionable and realistic tasks with estimated time (in days) to complete each task. If the task takes longer than 5 days, break it down into independent smaller tasks.\n",
    "        - Assess dependency between tasks. For each task, identify the blocking tasks. Provide for each task the list of dependent tasks.\n",
    "        - Schedule tasks based on the dependencies.\n",
    "        - Allocate tasks to team members {team} based on their skills and availability, such that there is no overlapping task assigned for a team member. Ensure that no team member has 2 tasks assigned for the same time period.\n",
    "    \"\"\"\n",
    "    structure_llm = llm.with_structured_output(ProjectPlan)\n",
    "    project_plan: ProjectPlan = structure_llm.invoke(prompt)\n",
    "    print(project_plan)\n",
    "    return {\"tasks\": project_plan.tasks, \"dependencies\": project_plan.dependencies, \"schedule\": project_plan.schedule, \"task_allocations\": project_plan.task_allocations}\n",
    "\n",
    "\n",
    "# Instantiate the workflow    \n",
    "simple_workflow = StateGraph(SimpleAgentState)\n",
    "\n",
    "# Add nodes to the workflow\n",
    "simple_workflow.add_node(\"create_project_plan\", project_plan_generation_node)\n",
    "\n",
    "# Add edges to the workflow\n",
    "simple_workflow.set_entry_point(\"create_project_plan\")\n",
    "simple_workflow.add_edge(\"create_project_plan\", END)\n",
    "\n",
    "# Set up memory\n",
    "simple_memory = MemorySaver()\n",
    "\n",
    "# Compile the workflow\n",
    "simple_graph_plan = simple_workflow.compile(checkpointer=memory)\n",
    "\n",
    "# To visualize the created workflow, we can use \n",
    "display(Image(simple_graph_plan.get_graph(xray=1).draw_mermaid_png()))\n",
    "\n"
   ]
  },
  {
   "cell_type": "code",
   "execution_count": 18,
   "metadata": {},
   "outputs": [
    {
     "name": "stdout",
     "output_type": "stream",
     "text": [
      "tasks=TaskList(tasks=[Task(id=UUID('c8b1228b-013a-4ba8-b5a0-6e333f74fbaa'), task_name='Define project requirements', task_description='Gather and document the functional and non-functional requirements for the chatbot application.', estimated_day=3), Task(id=UUID('57b4fab7-8005-4e76-a9e4-3c1cc5429159'), task_name='Design chatbot architecture', task_description='Design the architecture for the chatbot, including the backend and frontend components.', estimated_day=5), Task(id=UUID('79ca2639-0749-4685-aa76-381173440836'), task_name='Develop chatbot backend', task_description='Implement the backend of the chatbot using Python and Django, including API development.', estimated_day=7), Task(id=UUID('9514210a-401d-4897-a435-0be1574626d5'), task_name='Set up database', task_description='Set up the database for storing user interactions and product information.', estimated_day=4), Task(id=UUID('073550a8-20eb-45ed-a354-6e295c166e53'), task_name='Integrate chatbot with database', task_description='Connect the backend chatbot to the database for data retrieval and storage.', estimated_day=3), Task(id=UUID('b36657ca-1197-41c3-8e80-be99d95011b0'), task_name='Develop chatbot frontend', task_description='Create the frontend interface for the chatbot using HTML, CSS, and React.', estimated_day=6), Task(id=UUID('daa95729-169c-4b70-9285-dead67128020'), task_name='Train chatbot AI', task_description='Train the chatbot with data to enhance its understanding and responses.', estimated_day=5), Task(id=UUID('db60bb71-1522-4bd6-8142-617680b8caca'), task_name='Testing and QA', task_description='Test the chatbot application for bugs and performance issues.', estimated_day=5), Task(id=UUID('785a8d4b-2a4b-4838-9553-0771bb975942'), task_name='Deploy chatbot application', task_description='Deploy the chatbot application to a cloud environment for accessibility.', estimated_day=3), Task(id=UUID('ae5a80d9-12ea-4da0-be06-a9e341a6da76'), task_name='Documentation and training', task_description='Prepare documentation and training materials for users.', estimated_day=4)]) dependencies=DependencyList(dependencies=[TaskDependency(task=Task(id=UUID('fa81af27-0dbc-4b49-b1a8-53eafe47bcfa'), task_name='Define project requirements', task_description='Gather and document the functional and non-functional requirements for the chatbot application.', estimated_day=3), dependent_tasks=[Task(id=UUID('0df312ff-8cdc-41e3-8094-914625945c8e'), task_name='Design chatbot architecture', task_description='Design the architecture for the chatbot, including the backend and frontend components.', estimated_day=5)]), TaskDependency(task=Task(id=UUID('4d1ff4b8-cf93-43fc-8637-2270ba26d082'), task_name='Design chatbot architecture', task_description='Design the architecture for the chatbot, including the backend and frontend components.', estimated_day=5), dependent_tasks=[Task(id=UUID('536d871e-545f-4201-baee-39be7b14170b'), task_name='Develop chatbot backend', task_description='Implement the backend of the chatbot using Python and Django, including API development.', estimated_day=7), Task(id=UUID('736c8c0e-3669-4e41-af16-e5c64cdc8286'), task_name='Develop chatbot frontend', task_description='Create the frontend interface for the chatbot using HTML, CSS, and React.', estimated_day=6), Task(id=UUID('824a11b9-9ec5-44e7-bbf5-41e37f815e6f'), task_name='Set up database', task_description='Set up the database for storing user interactions and product information.', estimated_day=4)]), TaskDependency(task=Task(id=UUID('3e330d94-26fc-4d18-93af-040dcd49e21b'), task_name='Set up database', task_description='Set up the database for storing user interactions and product information.', estimated_day=4), dependent_tasks=[Task(id=UUID('be5cf02d-aec8-4055-8edc-2d40b462da95'), task_name='Integrate chatbot with database', task_description='Connect the backend chatbot to the database for data retrieval and storage.', estimated_day=3)]), TaskDependency(task=Task(id=UUID('5465e795-a353-4d83-8718-cea8513d50de'), task_name='Develop chatbot backend', task_description='Implement the backend of the chatbot using Python and Django, including API development.', estimated_day=7), dependent_tasks=[Task(id=UUID('23ee3834-e1c6-409c-9b5d-4fffc3533e63'), task_name='Integrate chatbot with database', task_description='Connect the backend chatbot to the database for data retrieval and storage.', estimated_day=3), Task(id=UUID('51fc9ad1-0cf8-44ed-8cc1-242633f9ef4a'), task_name='Train chatbot AI', task_description='Train the chatbot with data to enhance its understanding and responses.', estimated_day=5)]), TaskDependency(task=Task(id=UUID('cf942dbd-cbfb-491b-80ae-ce16095b00d0'), task_name='Integrate chatbot with database', task_description='Connect the backend chatbot to the database for data retrieval and storage.', estimated_day=3), dependent_tasks=[Task(id=UUID('ac542823-9012-4c05-996e-0637a16a9369'), task_name='Testing and QA', task_description='Test the chatbot application for bugs and performance issues.', estimated_day=5)]), TaskDependency(task=Task(id=UUID('1410d4c6-6f62-415d-b113-166f4e605239'), task_name='Develop chatbot frontend', task_description='Create the frontend interface for the chatbot using HTML, CSS, and React.', estimated_day=6), dependent_tasks=[Task(id=UUID('161586db-fd29-4361-972e-c784e3b6ae71'), task_name='Testing and QA', task_description='Test the chatbot application for bugs and performance issues.', estimated_day=5)]), TaskDependency(task=Task(id=UUID('d6034014-e234-43b4-94f3-e66772c58f6b'), task_name='Train chatbot AI', task_description='Train the chatbot with data to enhance its understanding and responses.', estimated_day=5), dependent_tasks=[Task(id=UUID('623d7e8d-b93f-4e0e-9329-ce780eb4ca19'), task_name='Testing and QA', task_description='Test the chatbot application for bugs and performance issues.', estimated_day=5)]), TaskDependency(task=Task(id=UUID('2489a509-222e-4aeb-af1e-3f53432db415'), task_name='Testing and QA', task_description='Test the chatbot application for bugs and performance issues.', estimated_day=5), dependent_tasks=[Task(id=UUID('b67eb167-d12d-4ba5-ad48-310a20808e7c'), task_name='Deploy chatbot application', task_description='Deploy the chatbot application to a cloud environment for accessibility.', estimated_day=3)]), TaskDependency(task=Task(id=UUID('7aa9fe95-a7c1-4481-bfca-2c9659576a2d'), task_name='Deploy chatbot application', task_description='Deploy the chatbot application to a cloud environment for accessibility.', estimated_day=3), dependent_tasks=[Task(id=UUID('7d5abe46-aa34-4770-98d2-d5d9700bdba4'), task_name='Documentation and training', task_description='Prepare documentation and training materials for users.', estimated_day=4)])]) schedule=Schedule(schedule=[TaskSchedule(task=Task(id=UUID('711a6238-d41d-4ad6-845b-7fbb67a098e1'), task_name='Define project requirements', task_description='Gather and document the functional and non-functional requirements for the chatbot application.', estimated_day=3), start_day=1, end_day=3), TaskSchedule(task=Task(id=UUID('00ba9d93-a49b-4b43-b4c6-08fd978902a6'), task_name='Design chatbot architecture', task_description='Design the architecture for the chatbot, including the backend and frontend components.', estimated_day=5), start_day=4, end_day=8), TaskSchedule(task=Task(id=UUID('03d37cf1-8046-4864-b7a5-4a24ccf3a414'), task_name='Set up database', task_description='Set up the database for storing user interactions and product information.', estimated_day=4), start_day=4, end_day=7), TaskSchedule(task=Task(id=UUID('c92db68f-37de-4795-8727-9f79d2c211ac'), task_name='Integrate chatbot with database', task_description='Connect the backend chatbot to the database for data retrieval and storage.', estimated_day=3), start_day=8, end_day=10), TaskSchedule(task=Task(id=UUID('fa2b7dbd-5aa5-4ccf-a503-06fc60d670b7'), task_name='Develop chatbot backend', task_description='Implement the backend of the chatbot using Python and Django, including API development.', estimated_day=7), start_day=9, end_day=15), TaskSchedule(task=Task(id=UUID('540977b7-23f1-4f08-a40b-f5562081d00b'), task_name='Develop chatbot frontend', task_description='Create the frontend interface for the chatbot using HTML, CSS, and React.', estimated_day=6), start_day=9, end_day=14), TaskSchedule(task=Task(id=UUID('c51891df-d098-4aad-ae59-fa3d864bc342'), task_name='Train chatbot AI', task_description='Train the chatbot with data to enhance its understanding and responses.', estimated_day=5), start_day=16, end_day=20), TaskSchedule(task=Task(id=UUID('ea6866ce-7711-4b4d-ab7c-c772e1d5510b'), task_name='Testing and QA', task_description='Test the chatbot application for bugs and performance issues.', estimated_day=5), start_day=21, end_day=25), TaskSchedule(task=Task(id=UUID('a933a6b6-d386-42b3-91c6-a46a3528e98b'), task_name='Deploy chatbot application', task_description='Deploy the chatbot application to a cloud environment for accessibility.', estimated_day=3), start_day=26, end_day=28), TaskSchedule(task=Task(id=UUID('189c21f9-8720-4997-9e0c-4f2d12858ffe'), task_name='Documentation and training', task_description='Prepare documentation and training materials for users.', estimated_day=4), start_day=29, end_day=32)]) task_allocations=TaskAllocationList(task_allocations=[TaskAllocation(task=Task(id=UUID('e09bedbf-3a57-48b2-8e09-7165f414a956'), task_name='Define project requirements', task_description='Gather and document the functional and non-functional requirements for the chatbot application.', estimated_day=3), team_member=TeamMember(name='Charlie', profile=' Charlie is a Project Manager experienced in Agile methodologies team leadership project planning and risk management.')), TaskAllocation(task=Task(id=UUID('ee5c3375-11cb-4abd-92c0-a98435d0cd15'), task_name='Design chatbot architecture', task_description='Design the architecture for the chatbot, including the backend and frontend components.', estimated_day=5), team_member=TeamMember(name='David', profile=' David is a Full Stack Developer with expertise in both frontend (HTML CSS JavaScript) and backend (Node.js MongoDB) technologies.')), TaskAllocation(task=Task(id=UUID('63755af6-db65-4f80-a804-8de59c7a16d5'), task_name='Set up database', task_description='Set up the database for storing user interactions and product information.', estimated_day=4), team_member=TeamMember(name='Bob', profile=' Bob is a Backend Developer proficient in Python Django SQL and RESTful APIs.')), TaskAllocation(task=Task(id=UUID('8bbad977-0afc-413f-8cc5-99dd706f2b5d'), task_name='Integrate chatbot with database', task_description='Connect the backend chatbot to the database for data retrieval and storage.', estimated_day=3), team_member=TeamMember(name='David', profile=' David is a Full Stack Developer with expertise in both frontend (HTML CSS JavaScript) and backend (Node.js MongoDB) technologies.')), TaskAllocation(task=Task(id=UUID('7548eb5e-d220-4adf-905e-bdc07f4f4c27'), task_name='Develop chatbot backend', task_description='Implement the backend of the chatbot using Python and Django, including API development.', estimated_day=7), team_member=TeamMember(name='Bob', profile=' Bob is a Backend Developer proficient in Python Django SQL and RESTful APIs.')), TaskAllocation(task=Task(id=UUID('8495983c-1285-4752-b31f-99d36fbd8fd7'), task_name='Develop chatbot frontend', task_description='Create the frontend interface for the chatbot using HTML, CSS, and React.', estimated_day=6), team_member=TeamMember(name='Alice', profile=' Alice is a Frontend Developer skilled in HTML CSS JavaScript and React.')), TaskAllocation(task=Task(id=UUID('5776ef29-5afe-442a-baa3-52aa354dd617'), task_name='Train chatbot AI', task_description='Train the chatbot with data to enhance its understanding and responses.', estimated_day=5), team_member=TeamMember(name='Grace', profile=' Grace is a Senior Data Scientist with expertise in machine learning data analysis Python R and big data technologies like Hadoop and Spark.')), TaskAllocation(task=Task(id=UUID('8735a2fb-637e-4502-ba43-7573b9f2a379'), task_name='Testing and QA', task_description='Test the chatbot application for bugs and performance issues.', estimated_day=5), team_member=TeamMember(name='Frank', profile=' Frank is a Junior Frontend Developer with knowledge in HTML CSS JavaScript and basic React.')), TaskAllocation(task=Task(id=UUID('8a62ad0e-884f-40c7-83a2-63869ad3d085'), task_name='Deploy chatbot application', task_description='Deploy the chatbot application to a cloud environment for accessibility.', estimated_day=3), team_member=TeamMember(name='Eve', profile=' Eve is a DevOps Engineer skilled in CI/CD pipelines Docker Kubernetes and cloud services like AWS and Azure.')), TaskAllocation(task=Task(id=UUID('b51dc83c-7ef9-4d30-b30c-82c7b50b53c0'), task_name='Documentation and training', task_description='Prepare documentation and training materials for users.', estimated_day=4), team_member=TeamMember(name='Charlie', profile=' Charlie is a Project Manager experienced in Agile methodologies team leadership project planning and risk management.'))])\n",
      "Current node: create_project_plan\n"
     ]
    }
   ],
   "source": [
    "# Invoke the agent\n",
    "config = {\"configurable\": {\"thread_id\": \"2\"}}\n",
    "for event in simple_graph_plan.stream(state_input, config, stream_mode=[\"updates\"]):\n",
    "    \"Print the different nodes as the agent progresses\"\n",
    "    print(f\"Current node: {next(iter(event[1]))}\")\n",
    "    \n",
    "simple_final_state = simple_graph_plan.get_state(config).values"
   ]
  },
  {
   "cell_type": "code",
   "execution_count": 19,
   "metadata": {},
   "outputs": [
    {
     "name": "stdout",
     "output_type": "stream",
     "text": [
      "{'project_description': 'Our business aims to deliver a chatbot application '\n",
      "                        'for our customers to ensure 24/7 support and advice '\n",
      "                        'on product choices.',\n",
      " 'team': Team(team_members=[TeamMember(name='Alice', profile=' Alice is a Frontend Developer skilled in HTML CSS JavaScript and React.'), TeamMember(name='Bob', profile=' Bob is a Backend Developer proficient in Python Django SQL and RESTful APIs.'), TeamMember(name='Charlie', profile=' Charlie is a Project Manager experienced in Agile methodologies team leadership project planning and risk management.'), TeamMember(name='David', profile=' David is a Full Stack Developer with expertise in both frontend (HTML CSS JavaScript) and backend (Node.js MongoDB) technologies.'), TeamMember(name='Eve', profile=' Eve is a DevOps Engineer skilled in CI/CD pipelines Docker Kubernetes and cloud services like AWS and Azure.'), TeamMember(name='Frank', profile=' Frank is a Junior Frontend Developer with knowledge in HTML CSS JavaScript and basic React.'), TeamMember(name='Grace', profile=' Grace is a Senior Data Scientist with expertise in machine learning data analysis Python R and big data technologies like Hadoop and Spark.')]),\n",
      " 'tasks': TaskList(tasks=[Task(id=UUID('c8b1228b-013a-4ba8-b5a0-6e333f74fbaa'), task_name='Define project requirements', task_description='Gather and document the functional and non-functional requirements for the chatbot application.', estimated_day=3), Task(id=UUID('57b4fab7-8005-4e76-a9e4-3c1cc5429159'), task_name='Design chatbot architecture', task_description='Design the architecture for the chatbot, including the backend and frontend components.', estimated_day=5), Task(id=UUID('79ca2639-0749-4685-aa76-381173440836'), task_name='Develop chatbot backend', task_description='Implement the backend of the chatbot using Python and Django, including API development.', estimated_day=7), Task(id=UUID('9514210a-401d-4897-a435-0be1574626d5'), task_name='Set up database', task_description='Set up the database for storing user interactions and product information.', estimated_day=4), Task(id=UUID('073550a8-20eb-45ed-a354-6e295c166e53'), task_name='Integrate chatbot with database', task_description='Connect the backend chatbot to the database for data retrieval and storage.', estimated_day=3), Task(id=UUID('b36657ca-1197-41c3-8e80-be99d95011b0'), task_name='Develop chatbot frontend', task_description='Create the frontend interface for the chatbot using HTML, CSS, and React.', estimated_day=6), Task(id=UUID('daa95729-169c-4b70-9285-dead67128020'), task_name='Train chatbot AI', task_description='Train the chatbot with data to enhance its understanding and responses.', estimated_day=5), Task(id=UUID('db60bb71-1522-4bd6-8142-617680b8caca'), task_name='Testing and QA', task_description='Test the chatbot application for bugs and performance issues.', estimated_day=5), Task(id=UUID('785a8d4b-2a4b-4838-9553-0771bb975942'), task_name='Deploy chatbot application', task_description='Deploy the chatbot application to a cloud environment for accessibility.', estimated_day=3), Task(id=UUID('ae5a80d9-12ea-4da0-be06-a9e341a6da76'), task_name='Documentation and training', task_description='Prepare documentation and training materials for users.', estimated_day=4)]),\n",
      " 'dependencies': DependencyList(dependencies=[TaskDependency(task=Task(id=UUID('fa81af27-0dbc-4b49-b1a8-53eafe47bcfa'), task_name='Define project requirements', task_description='Gather and document the functional and non-functional requirements for the chatbot application.', estimated_day=3), dependent_tasks=[Task(id=UUID('0df312ff-8cdc-41e3-8094-914625945c8e'), task_name='Design chatbot architecture', task_description='Design the architecture for the chatbot, including the backend and frontend components.', estimated_day=5)]), TaskDependency(task=Task(id=UUID('4d1ff4b8-cf93-43fc-8637-2270ba26d082'), task_name='Design chatbot architecture', task_description='Design the architecture for the chatbot, including the backend and frontend components.', estimated_day=5), dependent_tasks=[Task(id=UUID('536d871e-545f-4201-baee-39be7b14170b'), task_name='Develop chatbot backend', task_description='Implement the backend of the chatbot using Python and Django, including API development.', estimated_day=7), Task(id=UUID('736c8c0e-3669-4e41-af16-e5c64cdc8286'), task_name='Develop chatbot frontend', task_description='Create the frontend interface for the chatbot using HTML, CSS, and React.', estimated_day=6), Task(id=UUID('824a11b9-9ec5-44e7-bbf5-41e37f815e6f'), task_name='Set up database', task_description='Set up the database for storing user interactions and product information.', estimated_day=4)]), TaskDependency(task=Task(id=UUID('3e330d94-26fc-4d18-93af-040dcd49e21b'), task_name='Set up database', task_description='Set up the database for storing user interactions and product information.', estimated_day=4), dependent_tasks=[Task(id=UUID('be5cf02d-aec8-4055-8edc-2d40b462da95'), task_name='Integrate chatbot with database', task_description='Connect the backend chatbot to the database for data retrieval and storage.', estimated_day=3)]), TaskDependency(task=Task(id=UUID('5465e795-a353-4d83-8718-cea8513d50de'), task_name='Develop chatbot backend', task_description='Implement the backend of the chatbot using Python and Django, including API development.', estimated_day=7), dependent_tasks=[Task(id=UUID('23ee3834-e1c6-409c-9b5d-4fffc3533e63'), task_name='Integrate chatbot with database', task_description='Connect the backend chatbot to the database for data retrieval and storage.', estimated_day=3), Task(id=UUID('51fc9ad1-0cf8-44ed-8cc1-242633f9ef4a'), task_name='Train chatbot AI', task_description='Train the chatbot with data to enhance its understanding and responses.', estimated_day=5)]), TaskDependency(task=Task(id=UUID('cf942dbd-cbfb-491b-80ae-ce16095b00d0'), task_name='Integrate chatbot with database', task_description='Connect the backend chatbot to the database for data retrieval and storage.', estimated_day=3), dependent_tasks=[Task(id=UUID('ac542823-9012-4c05-996e-0637a16a9369'), task_name='Testing and QA', task_description='Test the chatbot application for bugs and performance issues.', estimated_day=5)]), TaskDependency(task=Task(id=UUID('1410d4c6-6f62-415d-b113-166f4e605239'), task_name='Develop chatbot frontend', task_description='Create the frontend interface for the chatbot using HTML, CSS, and React.', estimated_day=6), dependent_tasks=[Task(id=UUID('161586db-fd29-4361-972e-c784e3b6ae71'), task_name='Testing and QA', task_description='Test the chatbot application for bugs and performance issues.', estimated_day=5)]), TaskDependency(task=Task(id=UUID('d6034014-e234-43b4-94f3-e66772c58f6b'), task_name='Train chatbot AI', task_description='Train the chatbot with data to enhance its understanding and responses.', estimated_day=5), dependent_tasks=[Task(id=UUID('623d7e8d-b93f-4e0e-9329-ce780eb4ca19'), task_name='Testing and QA', task_description='Test the chatbot application for bugs and performance issues.', estimated_day=5)]), TaskDependency(task=Task(id=UUID('2489a509-222e-4aeb-af1e-3f53432db415'), task_name='Testing and QA', task_description='Test the chatbot application for bugs and performance issues.', estimated_day=5), dependent_tasks=[Task(id=UUID('b67eb167-d12d-4ba5-ad48-310a20808e7c'), task_name='Deploy chatbot application', task_description='Deploy the chatbot application to a cloud environment for accessibility.', estimated_day=3)]), TaskDependency(task=Task(id=UUID('7aa9fe95-a7c1-4481-bfca-2c9659576a2d'), task_name='Deploy chatbot application', task_description='Deploy the chatbot application to a cloud environment for accessibility.', estimated_day=3), dependent_tasks=[Task(id=UUID('7d5abe46-aa34-4770-98d2-d5d9700bdba4'), task_name='Documentation and training', task_description='Prepare documentation and training materials for users.', estimated_day=4)])]),\n",
      " 'schedule': Schedule(schedule=[TaskSchedule(task=Task(id=UUID('711a6238-d41d-4ad6-845b-7fbb67a098e1'), task_name='Define project requirements', task_description='Gather and document the functional and non-functional requirements for the chatbot application.', estimated_day=3), start_day=1, end_day=3), TaskSchedule(task=Task(id=UUID('00ba9d93-a49b-4b43-b4c6-08fd978902a6'), task_name='Design chatbot architecture', task_description='Design the architecture for the chatbot, including the backend and frontend components.', estimated_day=5), start_day=4, end_day=8), TaskSchedule(task=Task(id=UUID('03d37cf1-8046-4864-b7a5-4a24ccf3a414'), task_name='Set up database', task_description='Set up the database for storing user interactions and product information.', estimated_day=4), start_day=4, end_day=7), TaskSchedule(task=Task(id=UUID('c92db68f-37de-4795-8727-9f79d2c211ac'), task_name='Integrate chatbot with database', task_description='Connect the backend chatbot to the database for data retrieval and storage.', estimated_day=3), start_day=8, end_day=10), TaskSchedule(task=Task(id=UUID('fa2b7dbd-5aa5-4ccf-a503-06fc60d670b7'), task_name='Develop chatbot backend', task_description='Implement the backend of the chatbot using Python and Django, including API development.', estimated_day=7), start_day=9, end_day=15), TaskSchedule(task=Task(id=UUID('540977b7-23f1-4f08-a40b-f5562081d00b'), task_name='Develop chatbot frontend', task_description='Create the frontend interface for the chatbot using HTML, CSS, and React.', estimated_day=6), start_day=9, end_day=14), TaskSchedule(task=Task(id=UUID('c51891df-d098-4aad-ae59-fa3d864bc342'), task_name='Train chatbot AI', task_description='Train the chatbot with data to enhance its understanding and responses.', estimated_day=5), start_day=16, end_day=20), TaskSchedule(task=Task(id=UUID('ea6866ce-7711-4b4d-ab7c-c772e1d5510b'), task_name='Testing and QA', task_description='Test the chatbot application for bugs and performance issues.', estimated_day=5), start_day=21, end_day=25), TaskSchedule(task=Task(id=UUID('a933a6b6-d386-42b3-91c6-a46a3528e98b'), task_name='Deploy chatbot application', task_description='Deploy the chatbot application to a cloud environment for accessibility.', estimated_day=3), start_day=26, end_day=28), TaskSchedule(task=Task(id=UUID('189c21f9-8720-4997-9e0c-4f2d12858ffe'), task_name='Documentation and training', task_description='Prepare documentation and training materials for users.', estimated_day=4), start_day=29, end_day=32)]),\n",
      " 'task_allocations': TaskAllocationList(task_allocations=[TaskAllocation(task=Task(id=UUID('e09bedbf-3a57-48b2-8e09-7165f414a956'), task_name='Define project requirements', task_description='Gather and document the functional and non-functional requirements for the chatbot application.', estimated_day=3), team_member=TeamMember(name='Charlie', profile=' Charlie is a Project Manager experienced in Agile methodologies team leadership project planning and risk management.')), TaskAllocation(task=Task(id=UUID('ee5c3375-11cb-4abd-92c0-a98435d0cd15'), task_name='Design chatbot architecture', task_description='Design the architecture for the chatbot, including the backend and frontend components.', estimated_day=5), team_member=TeamMember(name='David', profile=' David is a Full Stack Developer with expertise in both frontend (HTML CSS JavaScript) and backend (Node.js MongoDB) technologies.')), TaskAllocation(task=Task(id=UUID('63755af6-db65-4f80-a804-8de59c7a16d5'), task_name='Set up database', task_description='Set up the database for storing user interactions and product information.', estimated_day=4), team_member=TeamMember(name='Bob', profile=' Bob is a Backend Developer proficient in Python Django SQL and RESTful APIs.')), TaskAllocation(task=Task(id=UUID('8bbad977-0afc-413f-8cc5-99dd706f2b5d'), task_name='Integrate chatbot with database', task_description='Connect the backend chatbot to the database for data retrieval and storage.', estimated_day=3), team_member=TeamMember(name='David', profile=' David is a Full Stack Developer with expertise in both frontend (HTML CSS JavaScript) and backend (Node.js MongoDB) technologies.')), TaskAllocation(task=Task(id=UUID('7548eb5e-d220-4adf-905e-bdc07f4f4c27'), task_name='Develop chatbot backend', task_description='Implement the backend of the chatbot using Python and Django, including API development.', estimated_day=7), team_member=TeamMember(name='Bob', profile=' Bob is a Backend Developer proficient in Python Django SQL and RESTful APIs.')), TaskAllocation(task=Task(id=UUID('8495983c-1285-4752-b31f-99d36fbd8fd7'), task_name='Develop chatbot frontend', task_description='Create the frontend interface for the chatbot using HTML, CSS, and React.', estimated_day=6), team_member=TeamMember(name='Alice', profile=' Alice is a Frontend Developer skilled in HTML CSS JavaScript and React.')), TaskAllocation(task=Task(id=UUID('5776ef29-5afe-442a-baa3-52aa354dd617'), task_name='Train chatbot AI', task_description='Train the chatbot with data to enhance its understanding and responses.', estimated_day=5), team_member=TeamMember(name='Grace', profile=' Grace is a Senior Data Scientist with expertise in machine learning data analysis Python R and big data technologies like Hadoop and Spark.')), TaskAllocation(task=Task(id=UUID('8735a2fb-637e-4502-ba43-7573b9f2a379'), task_name='Testing and QA', task_description='Test the chatbot application for bugs and performance issues.', estimated_day=5), team_member=TeamMember(name='Frank', profile=' Frank is a Junior Frontend Developer with knowledge in HTML CSS JavaScript and basic React.')), TaskAllocation(task=Task(id=UUID('8a62ad0e-884f-40c7-83a2-63869ad3d085'), task_name='Deploy chatbot application', task_description='Deploy the chatbot application to a cloud environment for accessibility.', estimated_day=3), team_member=TeamMember(name='Eve', profile=' Eve is a DevOps Engineer skilled in CI/CD pipelines Docker Kubernetes and cloud services like AWS and Azure.')), TaskAllocation(task=Task(id=UUID('b51dc83c-7ef9-4d30-b30c-82c7b50b53c0'), task_name='Documentation and training', task_description='Prepare documentation and training materials for users.', estimated_day=4), team_member=TeamMember(name='Charlie', profile=' Charlie is a Project Manager experienced in Agile methodologies team leadership project planning and risk management.'))])}\n"
     ]
    }
   ],
   "source": [
    "import pprint\n",
    "pprint.pp(simple_final_state)"
   ]
  },
  {
   "cell_type": "code",
   "execution_count": 20,
   "metadata": {},
   "outputs": [
    {
     "data": {
      "application/vnd.plotly.v1+json": {
       "config": {
        "plotlyServerURL": "https://plot.ly"
       },
       "data": [
        {
         "alignmentgroup": "True",
         "base": [
          "2024-11-26T19:37:53.737148"
         ],
         "hovertemplate": "Team Member=Alice<br>start=%{base}<br>end=%{x}<br>task_name=%{y}<extra></extra>",
         "legendgroup": "Alice",
         "marker": {
          "color": "#636efa",
          "pattern": {
           "shape": ""
          }
         },
         "name": "Alice",
         "offsetgroup": "Alice",
         "orientation": "h",
         "showlegend": true,
         "textposition": "auto",
         "type": "bar",
         "x": [
          432000000
         ],
         "xaxis": "x",
         "y": [
          "Develop chatbot frontend"
         ],
         "yaxis": "y"
        },
        {
         "alignmentgroup": "True",
         "base": [
          "2024-11-21T19:37:53.737148",
          "2024-11-26T19:37:53.737148"
         ],
         "hovertemplate": "Team Member=Bob<br>start=%{base}<br>end=%{x}<br>task_name=%{y}<extra></extra>",
         "legendgroup": "Bob",
         "marker": {
          "color": "#EF553B",
          "pattern": {
           "shape": ""
          }
         },
         "name": "Bob",
         "offsetgroup": "Bob",
         "orientation": "h",
         "showlegend": true,
         "textposition": "auto",
         "type": "bar",
         "x": [
          259200000,
          518400000
         ],
         "xaxis": "x",
         "y": [
          "Set up database",
          "Develop chatbot backend"
         ],
         "yaxis": "y"
        },
        {
         "alignmentgroup": "True",
         "base": [
          "2024-11-18T19:37:53.737148",
          "2024-12-16T19:37:53.737148"
         ],
         "hovertemplate": "Team Member=Charlie<br>start=%{base}<br>end=%{x}<br>task_name=%{y}<extra></extra>",
         "legendgroup": "Charlie",
         "marker": {
          "color": "#00cc96",
          "pattern": {
           "shape": ""
          }
         },
         "name": "Charlie",
         "offsetgroup": "Charlie",
         "orientation": "h",
         "showlegend": true,
         "textposition": "auto",
         "type": "bar",
         "x": [
          172800000,
          259200000
         ],
         "xaxis": "x",
         "y": [
          "Define project requirements",
          "Documentation and training"
         ],
         "yaxis": "y"
        },
        {
         "alignmentgroup": "True",
         "base": [
          "2024-11-21T19:37:53.737148",
          "2024-11-25T19:37:53.737148"
         ],
         "hovertemplate": "Team Member=David<br>start=%{base}<br>end=%{x}<br>task_name=%{y}<extra></extra>",
         "legendgroup": "David",
         "marker": {
          "color": "#ab63fa",
          "pattern": {
           "shape": ""
          }
         },
         "name": "David",
         "offsetgroup": "David",
         "orientation": "h",
         "showlegend": true,
         "textposition": "auto",
         "type": "bar",
         "x": [
          345600000,
          172800000
         ],
         "xaxis": "x",
         "y": [
          "Design chatbot architecture",
          "Integrate chatbot with database"
         ],
         "yaxis": "y"
        },
        {
         "alignmentgroup": "True",
         "base": [
          "2024-12-13T19:37:53.737148"
         ],
         "hovertemplate": "Team Member=Eve<br>start=%{base}<br>end=%{x}<br>task_name=%{y}<extra></extra>",
         "legendgroup": "Eve",
         "marker": {
          "color": "#FFA15A",
          "pattern": {
           "shape": ""
          }
         },
         "name": "Eve",
         "offsetgroup": "Eve",
         "orientation": "h",
         "showlegend": true,
         "textposition": "auto",
         "type": "bar",
         "x": [
          172800000
         ],
         "xaxis": "x",
         "y": [
          "Deploy chatbot application"
         ],
         "yaxis": "y"
        },
        {
         "alignmentgroup": "True",
         "base": [
          "2024-12-08T19:37:53.737148"
         ],
         "hovertemplate": "Team Member=Frank<br>start=%{base}<br>end=%{x}<br>task_name=%{y}<extra></extra>",
         "legendgroup": "Frank",
         "marker": {
          "color": "#19d3f3",
          "pattern": {
           "shape": ""
          }
         },
         "name": "Frank",
         "offsetgroup": "Frank",
         "orientation": "h",
         "showlegend": true,
         "textposition": "auto",
         "type": "bar",
         "x": [
          345600000
         ],
         "xaxis": "x",
         "y": [
          "Testing and QA"
         ],
         "yaxis": "y"
        },
        {
         "alignmentgroup": "True",
         "base": [
          "2024-12-03T19:37:53.737148"
         ],
         "hovertemplate": "Team Member=Grace<br>start=%{base}<br>end=%{x}<br>task_name=%{y}<extra></extra>",
         "legendgroup": "Grace",
         "marker": {
          "color": "#FF6692",
          "pattern": {
           "shape": ""
          }
         },
         "name": "Grace",
         "offsetgroup": "Grace",
         "orientation": "h",
         "showlegend": true,
         "textposition": "auto",
         "type": "bar",
         "x": [
          345600000
         ],
         "xaxis": "x",
         "y": [
          "Train chatbot AI"
         ],
         "yaxis": "y"
        }
       ],
       "layout": {
        "barmode": "overlay",
        "legend": {
         "title": {
          "text": "Team Member"
         },
         "tracegroupgap": 0
        },
        "template": {
         "data": {
          "bar": [
           {
            "error_x": {
             "color": "#2a3f5f"
            },
            "error_y": {
             "color": "#2a3f5f"
            },
            "marker": {
             "line": {
              "color": "#E5ECF6",
              "width": 0.5
             },
             "pattern": {
              "fillmode": "overlay",
              "size": 10,
              "solidity": 0.2
             }
            },
            "type": "bar"
           }
          ],
          "barpolar": [
           {
            "marker": {
             "line": {
              "color": "#E5ECF6",
              "width": 0.5
             },
             "pattern": {
              "fillmode": "overlay",
              "size": 10,
              "solidity": 0.2
             }
            },
            "type": "barpolar"
           }
          ],
          "carpet": [
           {
            "aaxis": {
             "endlinecolor": "#2a3f5f",
             "gridcolor": "white",
             "linecolor": "white",
             "minorgridcolor": "white",
             "startlinecolor": "#2a3f5f"
            },
            "baxis": {
             "endlinecolor": "#2a3f5f",
             "gridcolor": "white",
             "linecolor": "white",
             "minorgridcolor": "white",
             "startlinecolor": "#2a3f5f"
            },
            "type": "carpet"
           }
          ],
          "choropleth": [
           {
            "colorbar": {
             "outlinewidth": 0,
             "ticks": ""
            },
            "type": "choropleth"
           }
          ],
          "contour": [
           {
            "colorbar": {
             "outlinewidth": 0,
             "ticks": ""
            },
            "colorscale": [
             [
              0,
              "#0d0887"
             ],
             [
              0.1111111111111111,
              "#46039f"
             ],
             [
              0.2222222222222222,
              "#7201a8"
             ],
             [
              0.3333333333333333,
              "#9c179e"
             ],
             [
              0.4444444444444444,
              "#bd3786"
             ],
             [
              0.5555555555555556,
              "#d8576b"
             ],
             [
              0.6666666666666666,
              "#ed7953"
             ],
             [
              0.7777777777777778,
              "#fb9f3a"
             ],
             [
              0.8888888888888888,
              "#fdca26"
             ],
             [
              1,
              "#f0f921"
             ]
            ],
            "type": "contour"
           }
          ],
          "contourcarpet": [
           {
            "colorbar": {
             "outlinewidth": 0,
             "ticks": ""
            },
            "type": "contourcarpet"
           }
          ],
          "heatmap": [
           {
            "colorbar": {
             "outlinewidth": 0,
             "ticks": ""
            },
            "colorscale": [
             [
              0,
              "#0d0887"
             ],
             [
              0.1111111111111111,
              "#46039f"
             ],
             [
              0.2222222222222222,
              "#7201a8"
             ],
             [
              0.3333333333333333,
              "#9c179e"
             ],
             [
              0.4444444444444444,
              "#bd3786"
             ],
             [
              0.5555555555555556,
              "#d8576b"
             ],
             [
              0.6666666666666666,
              "#ed7953"
             ],
             [
              0.7777777777777778,
              "#fb9f3a"
             ],
             [
              0.8888888888888888,
              "#fdca26"
             ],
             [
              1,
              "#f0f921"
             ]
            ],
            "type": "heatmap"
           }
          ],
          "heatmapgl": [
           {
            "colorbar": {
             "outlinewidth": 0,
             "ticks": ""
            },
            "colorscale": [
             [
              0,
              "#0d0887"
             ],
             [
              0.1111111111111111,
              "#46039f"
             ],
             [
              0.2222222222222222,
              "#7201a8"
             ],
             [
              0.3333333333333333,
              "#9c179e"
             ],
             [
              0.4444444444444444,
              "#bd3786"
             ],
             [
              0.5555555555555556,
              "#d8576b"
             ],
             [
              0.6666666666666666,
              "#ed7953"
             ],
             [
              0.7777777777777778,
              "#fb9f3a"
             ],
             [
              0.8888888888888888,
              "#fdca26"
             ],
             [
              1,
              "#f0f921"
             ]
            ],
            "type": "heatmapgl"
           }
          ],
          "histogram": [
           {
            "marker": {
             "pattern": {
              "fillmode": "overlay",
              "size": 10,
              "solidity": 0.2
             }
            },
            "type": "histogram"
           }
          ],
          "histogram2d": [
           {
            "colorbar": {
             "outlinewidth": 0,
             "ticks": ""
            },
            "colorscale": [
             [
              0,
              "#0d0887"
             ],
             [
              0.1111111111111111,
              "#46039f"
             ],
             [
              0.2222222222222222,
              "#7201a8"
             ],
             [
              0.3333333333333333,
              "#9c179e"
             ],
             [
              0.4444444444444444,
              "#bd3786"
             ],
             [
              0.5555555555555556,
              "#d8576b"
             ],
             [
              0.6666666666666666,
              "#ed7953"
             ],
             [
              0.7777777777777778,
              "#fb9f3a"
             ],
             [
              0.8888888888888888,
              "#fdca26"
             ],
             [
              1,
              "#f0f921"
             ]
            ],
            "type": "histogram2d"
           }
          ],
          "histogram2dcontour": [
           {
            "colorbar": {
             "outlinewidth": 0,
             "ticks": ""
            },
            "colorscale": [
             [
              0,
              "#0d0887"
             ],
             [
              0.1111111111111111,
              "#46039f"
             ],
             [
              0.2222222222222222,
              "#7201a8"
             ],
             [
              0.3333333333333333,
              "#9c179e"
             ],
             [
              0.4444444444444444,
              "#bd3786"
             ],
             [
              0.5555555555555556,
              "#d8576b"
             ],
             [
              0.6666666666666666,
              "#ed7953"
             ],
             [
              0.7777777777777778,
              "#fb9f3a"
             ],
             [
              0.8888888888888888,
              "#fdca26"
             ],
             [
              1,
              "#f0f921"
             ]
            ],
            "type": "histogram2dcontour"
           }
          ],
          "mesh3d": [
           {
            "colorbar": {
             "outlinewidth": 0,
             "ticks": ""
            },
            "type": "mesh3d"
           }
          ],
          "parcoords": [
           {
            "line": {
             "colorbar": {
              "outlinewidth": 0,
              "ticks": ""
             }
            },
            "type": "parcoords"
           }
          ],
          "pie": [
           {
            "automargin": true,
            "type": "pie"
           }
          ],
          "scatter": [
           {
            "fillpattern": {
             "fillmode": "overlay",
             "size": 10,
             "solidity": 0.2
            },
            "type": "scatter"
           }
          ],
          "scatter3d": [
           {
            "line": {
             "colorbar": {
              "outlinewidth": 0,
              "ticks": ""
             }
            },
            "marker": {
             "colorbar": {
              "outlinewidth": 0,
              "ticks": ""
             }
            },
            "type": "scatter3d"
           }
          ],
          "scattercarpet": [
           {
            "marker": {
             "colorbar": {
              "outlinewidth": 0,
              "ticks": ""
             }
            },
            "type": "scattercarpet"
           }
          ],
          "scattergeo": [
           {
            "marker": {
             "colorbar": {
              "outlinewidth": 0,
              "ticks": ""
             }
            },
            "type": "scattergeo"
           }
          ],
          "scattergl": [
           {
            "marker": {
             "colorbar": {
              "outlinewidth": 0,
              "ticks": ""
             }
            },
            "type": "scattergl"
           }
          ],
          "scattermapbox": [
           {
            "marker": {
             "colorbar": {
              "outlinewidth": 0,
              "ticks": ""
             }
            },
            "type": "scattermapbox"
           }
          ],
          "scatterpolar": [
           {
            "marker": {
             "colorbar": {
              "outlinewidth": 0,
              "ticks": ""
             }
            },
            "type": "scatterpolar"
           }
          ],
          "scatterpolargl": [
           {
            "marker": {
             "colorbar": {
              "outlinewidth": 0,
              "ticks": ""
             }
            },
            "type": "scatterpolargl"
           }
          ],
          "scatterternary": [
           {
            "marker": {
             "colorbar": {
              "outlinewidth": 0,
              "ticks": ""
             }
            },
            "type": "scatterternary"
           }
          ],
          "surface": [
           {
            "colorbar": {
             "outlinewidth": 0,
             "ticks": ""
            },
            "colorscale": [
             [
              0,
              "#0d0887"
             ],
             [
              0.1111111111111111,
              "#46039f"
             ],
             [
              0.2222222222222222,
              "#7201a8"
             ],
             [
              0.3333333333333333,
              "#9c179e"
             ],
             [
              0.4444444444444444,
              "#bd3786"
             ],
             [
              0.5555555555555556,
              "#d8576b"
             ],
             [
              0.6666666666666666,
              "#ed7953"
             ],
             [
              0.7777777777777778,
              "#fb9f3a"
             ],
             [
              0.8888888888888888,
              "#fdca26"
             ],
             [
              1,
              "#f0f921"
             ]
            ],
            "type": "surface"
           }
          ],
          "table": [
           {
            "cells": {
             "fill": {
              "color": "#EBF0F8"
             },
             "line": {
              "color": "white"
             }
            },
            "header": {
             "fill": {
              "color": "#C8D4E3"
             },
             "line": {
              "color": "white"
             }
            },
            "type": "table"
           }
          ]
         },
         "layout": {
          "annotationdefaults": {
           "arrowcolor": "#2a3f5f",
           "arrowhead": 0,
           "arrowwidth": 1
          },
          "autotypenumbers": "strict",
          "coloraxis": {
           "colorbar": {
            "outlinewidth": 0,
            "ticks": ""
           }
          },
          "colorscale": {
           "diverging": [
            [
             0,
             "#8e0152"
            ],
            [
             0.1,
             "#c51b7d"
            ],
            [
             0.2,
             "#de77ae"
            ],
            [
             0.3,
             "#f1b6da"
            ],
            [
             0.4,
             "#fde0ef"
            ],
            [
             0.5,
             "#f7f7f7"
            ],
            [
             0.6,
             "#e6f5d0"
            ],
            [
             0.7,
             "#b8e186"
            ],
            [
             0.8,
             "#7fbc41"
            ],
            [
             0.9,
             "#4d9221"
            ],
            [
             1,
             "#276419"
            ]
           ],
           "sequential": [
            [
             0,
             "#0d0887"
            ],
            [
             0.1111111111111111,
             "#46039f"
            ],
            [
             0.2222222222222222,
             "#7201a8"
            ],
            [
             0.3333333333333333,
             "#9c179e"
            ],
            [
             0.4444444444444444,
             "#bd3786"
            ],
            [
             0.5555555555555556,
             "#d8576b"
            ],
            [
             0.6666666666666666,
             "#ed7953"
            ],
            [
             0.7777777777777778,
             "#fb9f3a"
            ],
            [
             0.8888888888888888,
             "#fdca26"
            ],
            [
             1,
             "#f0f921"
            ]
           ],
           "sequentialminus": [
            [
             0,
             "#0d0887"
            ],
            [
             0.1111111111111111,
             "#46039f"
            ],
            [
             0.2222222222222222,
             "#7201a8"
            ],
            [
             0.3333333333333333,
             "#9c179e"
            ],
            [
             0.4444444444444444,
             "#bd3786"
            ],
            [
             0.5555555555555556,
             "#d8576b"
            ],
            [
             0.6666666666666666,
             "#ed7953"
            ],
            [
             0.7777777777777778,
             "#fb9f3a"
            ],
            [
             0.8888888888888888,
             "#fdca26"
            ],
            [
             1,
             "#f0f921"
            ]
           ]
          },
          "colorway": [
           "#636efa",
           "#EF553B",
           "#00cc96",
           "#ab63fa",
           "#FFA15A",
           "#19d3f3",
           "#FF6692",
           "#B6E880",
           "#FF97FF",
           "#FECB52"
          ],
          "font": {
           "color": "#2a3f5f"
          },
          "geo": {
           "bgcolor": "white",
           "lakecolor": "white",
           "landcolor": "#E5ECF6",
           "showlakes": true,
           "showland": true,
           "subunitcolor": "white"
          },
          "hoverlabel": {
           "align": "left"
          },
          "hovermode": "closest",
          "mapbox": {
           "style": "light"
          },
          "paper_bgcolor": "white",
          "plot_bgcolor": "#E5ECF6",
          "polar": {
           "angularaxis": {
            "gridcolor": "white",
            "linecolor": "white",
            "ticks": ""
           },
           "bgcolor": "#E5ECF6",
           "radialaxis": {
            "gridcolor": "white",
            "linecolor": "white",
            "ticks": ""
           }
          },
          "scene": {
           "xaxis": {
            "backgroundcolor": "#E5ECF6",
            "gridcolor": "white",
            "gridwidth": 2,
            "linecolor": "white",
            "showbackground": true,
            "ticks": "",
            "zerolinecolor": "white"
           },
           "yaxis": {
            "backgroundcolor": "#E5ECF6",
            "gridcolor": "white",
            "gridwidth": 2,
            "linecolor": "white",
            "showbackground": true,
            "ticks": "",
            "zerolinecolor": "white"
           },
           "zaxis": {
            "backgroundcolor": "#E5ECF6",
            "gridcolor": "white",
            "gridwidth": 2,
            "linecolor": "white",
            "showbackground": true,
            "ticks": "",
            "zerolinecolor": "white"
           }
          },
          "shapedefaults": {
           "line": {
            "color": "#2a3f5f"
           }
          },
          "ternary": {
           "aaxis": {
            "gridcolor": "white",
            "linecolor": "white",
            "ticks": ""
           },
           "baxis": {
            "gridcolor": "white",
            "linecolor": "white",
            "ticks": ""
           },
           "bgcolor": "#E5ECF6",
           "caxis": {
            "gridcolor": "white",
            "linecolor": "white",
            "ticks": ""
           }
          },
          "title": {
           "x": 0.05
          },
          "xaxis": {
           "automargin": true,
           "gridcolor": "white",
           "linecolor": "white",
           "ticks": "",
           "title": {
            "standoff": 15
           },
           "zerolinecolor": "white",
           "zerolinewidth": 2
          },
          "yaxis": {
           "automargin": true,
           "gridcolor": "white",
           "linecolor": "white",
           "ticks": "",
           "title": {
            "standoff": 15
           },
           "zerolinecolor": "white",
           "zerolinewidth": 2
          }
         }
        },
        "title": {
         "text": "Gantt Chart - Oneshot Project Plan",
         "x": 0.5
        },
        "xaxis": {
         "anchor": "y",
         "domain": [
          0,
          1
         ],
         "title": {
          "text": "Timeline"
         },
         "type": "date"
        },
        "yaxis": {
         "anchor": "x",
         "autorange": "reversed",
         "domain": [
          0,
          1
         ],
         "title": {
          "text": "Tasks"
         }
        }
       }
      }
     },
     "metadata": {},
     "output_type": "display_data"
    }
   ],
   "source": [
    "## Tasks schedule\n",
    "task_schedules = simple_final_state['schedule'].schedule\n",
    "\n",
    "t = []\n",
    "# Iterate over the task_schedules and append each task's data to the DataFrame\n",
    "for task_schedule in task_schedules:\n",
    "    t.append([\n",
    "        task_schedule.task.task_name,\n",
    "        task_schedule.start_day,\n",
    "        task_schedule.end_day\n",
    "    ])\n",
    "\n",
    "df_schedule = pd.DataFrame(t,columns=['task_name', 'start', 'end'])\n",
    "\n",
    "## Tasks allocation\n",
    "task_allocations = simple_final_state['task_allocations'].task_allocations\n",
    "\n",
    "t = []\n",
    "# Iterate over the task_schedules and append each task's data to the DataFrame\n",
    "for task_allocation in task_allocations:\n",
    "    t.append([\n",
    "        task_allocation.task.task_name,\n",
    "        task_allocation.team_member.name\n",
    "    ])\n",
    "\n",
    "df_allocation = pd.DataFrame(t,columns=['task_name', 'team_member'])\n",
    "\n",
    "df = df_allocation.merge(df_schedule, on='task_name')\n",
    "\n",
    "import plotly.express as px\n",
    "\n",
    "from datetime import datetime, timedelta\n",
    "# Get the current date\n",
    "current_date = datetime.today()\n",
    "\n",
    "# Convert start and end offsets to actual dates\n",
    "df['start'] = df['start'].apply(lambda x: current_date + timedelta(days=x))\n",
    "df['end'] = df['end'].apply(lambda x: current_date + timedelta(days=x))\n",
    "\n",
    "df.rename(columns={'team_member': 'Team Member'}, inplace=True)\n",
    "df.sort_values(by='Team Member', inplace=True)\n",
    "# Create a Gantt chart\n",
    "fig = px.timeline(df, x_start=\"start\", x_end=\"end\", y=\"task_name\", color=\"Team Member\", title=f\"Gantt Chart - Oneshot Project Plan\")\n",
    "\n",
    "# Update layout for better visualization\n",
    "fig.update_layout(\n",
    "    xaxis_title=\"Timeline\",\n",
    "    yaxis_title=\"Tasks\",\n",
    "    yaxis=dict(autorange=\"reversed\"),  # Reverse the y-axis to have tasks in the vertical side\n",
    "    title_x=0.5\n",
    ")\n",
    "\n",
    "# Show the plot\n",
    "fig.show()"
   ]
  },
  {
   "cell_type": "markdown",
   "metadata": {},
   "source": [
    "## Additional Considerations\n",
    "\n",
    "Improvement Possibilities:\n",
    "- Incorporating a 'human-in-the-loop' mechanism as part of the self-reflection process can significantly enhance the system's effectiveness. This approach allows for the introduction of additional, real-time information about the schedule and the availability or status of team members. For instance, if a team member is currently sick, the agent would typically still assign tasks to them due to a lack of awareness. By integrating human oversight, such critical updates can be communicated to the system, ensuring that tasks are reassigned appropriately and the workload is distributed more efficiently.\n",
    "Limitations of the Approach:\n",
    "- Incorporating an optimizer based on extracted features generated by the LLM can provide better and more reproducible scheduling and task allocation. So only leveraging the agent to produce structured content from the project description, task dependencies and team member profiles, then use the optimizer to create the project plan (task assignment). \n",
    "\n",
    "Limitations:\n",
    "- The current approach relies on a Large Language Model (LLM) to assign risk scores to tasks. However, this method has inherent limitations. Even if the same person is assigned to the same task on the same schedule, the LLM may generate different risk scores each time. This inconsistency arises because the model's output can vary independently of the explicit details provided in the prompt. Consequently, this variability can lead to unpredictable risk assessments, potentially affecting the reliability and accuracy of task management.\n",
    "- Although the prompts instructs to fullfill certain criteria, it is not always guaranteed, that it will achieve it. "
   ]
  },
  {
   "cell_type": "markdown",
   "metadata": {},
   "source": [
    "## References"
   ]
  },
  {
   "cell_type": "markdown",
   "metadata": {},
   "source": [
    "Currently no references are added to the tutorial"
   ]
  }
 ],
 "metadata": {
  "kernelspec": {
   "display_name": "agents",
   "language": "python",
   "name": "python3"
  },
  "language_info": {
   "codemirror_mode": {
    "name": "ipython",
    "version": 3
   },
   "file_extension": ".py",
   "mimetype": "text/x-python",
   "name": "python",
   "nbconvert_exporter": "python",
   "pygments_lexer": "ipython3",
   "version": "3.12.7"
  }
 },
 "nbformat": 4,
 "nbformat_minor": 2
}
