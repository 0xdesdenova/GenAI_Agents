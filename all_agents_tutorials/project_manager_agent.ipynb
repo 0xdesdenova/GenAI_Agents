{
 "cells": [
  {
   "cell_type": "markdown",
   "metadata": {},
   "source": [
    "## Overview\n",
    "This tutorial demonstrates how to create a project management agent that assists in project management tasks including creating actionable tasks from a given project description, identify the dependency within the tasks, create a Gantt chart demonstrating the schedule of the project, and assign to project members based on their expertise and experience. This application uses a combination of custom functions, structured output, and an agent that can streamline the project management process"
   ]
  },
  {
   "cell_type": "markdown",
   "metadata": {},
   "source": [
    "## Motivation\n",
    "Effective management is key to project success. However, it include processes that are not only repetitive and time consuming but also prone to human error, which can lead to inefficiences, missed deadlines, misaligned resources, and an overall reduced productivity\n",
    "<br/> <br/>\n",
    "The ```Project Management AI Agent``` was created to transfrom how projects are managed by introducing automation, intelligence, and precision into the process. It enables teams to seamless translate project description into structure, actionable plans, mapping dependencies for better workflow alignment, create clear and visually intuitive Gantt charts, and assign tasks based on team members' expertise and experience\n",
    "<br/> <br/>\n",
    "This AI-driven approach reduces the burden of manual planning and eliminates redundancies, allowing project managers to shift therir focus to higher-level strategy and decision making."
   ]
  },
  {
   "cell_type": "markdown",
   "metadata": {},
   "source": [
    "## Key Components\n",
    "<ol>\n",
    "    <li>\n",
    "        <b>LangGraph</b>: Organize the overall workflow of the agent, managing the flow of infromation between different nodes and stages of the agent\n",
    "    </li>\n",
    "    <li>\n",
    "        <b>GPT-4</b>: Extracts actionable items from the project description, map dependencies, create gantt chart scheduling tasks, allocate tasks to team, and assess the risks\n",
    "    </li>\n",
    "    <li>\n",
    "        <b>Gradio</b>: Building sleek and user friendly user interface\n",
    "    </li>\n",
    "</ol>"
   ]
  },
  {
   "cell_type": "markdown",
   "metadata": {},
   "source": [
    "## Key Classes\n",
    "<b>State Management</b>\n",
    "<br/>\n",
    "<ol>\n",
    "    <li>\n",
    "        <b>AgentState</b>\n",
    "        <ul>\n",
    "            <li><b>project_description</b>: Description of the project</li>\n",
    "            <li><b>team</b>: The team available</li>\n",
    "            <li><b>tasks</b>: List of tasks</li>\n",
    "            <li><b>dependencies</b>: List of dependencies of tasks</li>\n",
    "            <li><b>schedule</b>: Project schedule created by the agent</li>\n",
    "            <li><b>task_allocations</b>: List of team member and task allocated to them</li>\n",
    "            <li><b>risks</b>: Risks associated with the tasks</li>\n",
    "            <li><b>project_risk_score</b>: Overall risk score of the project</li>\n",
    "            <li><b>previous_project_risk_score</b>: The risk calculated in the previous feedback loop</li>\n",
    "            <li><b>iteration_number</b>: Number of times the agent will go into e feck</li>\n",
    "            <li><b>previous_project_risk_score</b>: The risk calculated in the previous feedback loop</li>\n",
    "            <li><b>iteration_number</b>: The current iteration number in feedback loop</li>\n",
    "            <li><b>max_iteration</b>: The maximum number of time it can go into feedback loop to improve itself</li>\n",
    "            <li><b>insights</b>: Insights generated to improve the response</li>\n",
    "        </ul>\n",
    "    </li>\n",
    "    <li>\n",
    "        <b>Task</b>\n",
    "        <ul>\n",
    "            <li><b>id</b>: Id for the task</li>\n",
    "            <li><b>task_name</b>: Name of the task</li>\n",
    "            <li><b>task_description</b>: Description of task</li>\n",
    "            <li><b>estimated_day</b>: Estimated time the task will take to complete</li>\n",
    "        </ul>\n",
    "    </li>\n",
    "    <li>\n",
    "        <b>TaskDependency</b>\n",
    "        <ul>\n",
    "            <li><b>task</b>: Name of the task</li>\n",
    "            <li><b>dependent_task</b>: Name of the dependent task</li>\n",
    "        </ul>\n",
    "    </li>\n",
    "    <li>\n",
    "        <b>Team Member</b>\n",
    "        <ul>\n",
    "            <li><b>name</b>: Name of the team member</li>\n",
    "            <li><b>profile</b>: Profile of the member</li>\n",
    "        </ul>\n",
    "    </li>\n",
    "    <li>\n",
    "        <b>Team</b>\n",
    "        <ul>\n",
    "            <li><b>team_member</b>: Members in the team</li>\n",
    "        </ul>\n",
    "    </li>\n",
    "    <li>\n",
    "        <b>TaskAllocation</b>\n",
    "        <ul>\n",
    "            <li><b>task</b>: Name of the task allocated</li>\n",
    "            <li><b>team_member</b>: To whom the task is allocated</li> \n",
    "        </ul>\n",
    "    </li>\n",
    "    <li>\n",
    "        <b>TaskSchedule</b>\n",
    "        <ul>\n",
    "            <li><b>task</b>: Task name</li>\n",
    "            <li><b>start_day</b>: When the task should start</li>\n",
    "            <li><b>end_day</b>: When the task will end</li>\n",
    "        </ul>\n",
    "    </li>\n",
    "    <li>\n",
    "        <b>TaskList</b>\n",
    "        <ul>\n",
    "            <li><b>tasks</b>: List of tasks name</li>\n",
    "        </ul>\n",
    "    </li>\n",
    "    <li>\n",
    "        <b>DependencyList</b>\n",
    "        <ul>\n",
    "            <li><b>dependencies</b>: List of dependent tasks</li>\n",
    "        </ul>\n",
    "    </li>\n",
    "    <li>\n",
    "        <b>Schedule</b>\n",
    "        <ul>\n",
    "            <li><b>schedule</b>: List of task schedule</li>\n",
    "        </ul>\n",
    "    </li>\n",
    "    <li>\n",
    "        <b>TaskAllocationList</b>\n",
    "        <ul>\n",
    "            <li><b>task_allocations</b>: List of allocated tasks</li>\n",
    "        </ul>\n",
    "    </li>\n",
    "    <li>\n",
    "        <b>Risk</b>\n",
    "        <ul>\n",
    "            <li><b>task</b>: Task name</li>\n",
    "            <li><b>score</b>: Risk score for that task</li>\n",
    "        </ul>\n",
    "    </li>\n",
    "    <li>\n",
    "        <b>RiskList</b>\n",
    "        <ul>\n",
    "            <li><b>risks</b>: List of risks</li>\n",
    "        </ul>\n",
    "    </li>\n",
    "</ol>\n"
   ]
  },
  {
   "cell_type": "markdown",
   "metadata": {},
   "source": [
    "## Key Nodes and Functions\n",
    "<ol>\n",
    "    <li>\n",
    "        <b>task_generation</b>: Node that will extract tasks from given project description\n",
    "    </li>\n",
    "    <li>\n",
    "        <b>task_dependencies</b>: Node that will evaluate the dependencies between the tasks\n",
    "    </li>\n",
    "    <li>\n",
    "        <b>task_scheduler</b>: Node that will schedule tasks based on dependencies and teak availability\n",
    "    </li>\n",
    "    <li>\n",
    "        <b>task_allocator</b>: Node that will allocate tasks to team members\n",
    "    </li>\n",
    "    <li>\n",
    "        <b>risk_assessor</b>: Node that analyze risk associated with schedule and allocation of task\n",
    "    </li>\n",
    "    <li>\n",
    "        <b>insight_generator</b>: Node that generate insights from the schedule, task allocation and risk associated\n",
    "    </li>\n",
    "    <li>\n",
    "        <b>router</b>: A helper function that will route the agent to the appropriate node based on the project description\n",
    "    </li>\n",
    "</ol>"
   ]
  },
  {
   "cell_type": "markdown",
   "metadata": {},
   "source": [
    "### Visual Representation of the Agent"
   ]
  },
  {
   "cell_type": "markdown",
   "metadata": {},
   "source": [
    "![Project Manager Assistant](../images/project_manager_agent.png)"
   ]
  },
  {
   "cell_type": "markdown",
   "metadata": {
    "vscode": {
     "languageId": "plaintext"
    }
   },
   "source": [
    "### Install and import tutorial specific libraries"
   ]
  },
  {
   "cell_type": "code",
   "execution_count": 2,
   "metadata": {},
   "outputs": [],
   "source": [
    "!pip install --quiet langchain, langchain-openai, pandas, plotly"
   ]
  },
  {
   "cell_type": "code",
   "execution_count": 105,
   "metadata": {},
   "outputs": [
    {
     "data": {
      "text/plain": [
       "True"
      ]
     },
     "execution_count": 105,
     "metadata": {},
     "output_type": "execute_result"
    }
   ],
   "source": [
    "import os\n",
    "import uuid\n",
    "import pandas as pd\n",
    "import plotly.express as px\n",
    "from datetime import datetime, timedelta\n",
    "from typing import List, TypedDict\n",
    "from pydantic import BaseModel, Field\n",
    "from langchain_openai import AzureChatOpenAI, ChatOpenAI\n",
    "from langgraph.graph import StateGraph, START,END\n",
    "from langgraph.checkpoint.memory import MemorySaver\n",
    "from IPython.display import Image, display, Markdown\n",
    "from dotenv import load_dotenv\n",
    "\n",
    "# Load environment variables\n",
    "load_dotenv()"
   ]
  },
  {
   "cell_type": "code",
   "execution_count": null,
   "metadata": {},
   "outputs": [],
   "source": []
  },
  {
   "cell_type": "code",
   "execution_count": 5,
   "metadata": {},
   "outputs": [],
   "source": [
    "# Define your model provider\n",
    "model_provider = 'Azure' # 'Azure' or 'OpenAI' or 'Gemini'ArithmeticError"
   ]
  },
  {
   "cell_type": "markdown",
   "metadata": {},
   "source": [
    "### Instantiate LLM model"
   ]
  },
  {
   "cell_type": "code",
   "execution_count": 6,
   "metadata": {},
   "outputs": [],
   "source": [
    "if model_provider == 'Azure':\n",
    "    \"\"\"\n",
    "    Define your environmental variables under .venv:\n",
    "        - AZURE_CHAT_OPENAI_API_KEY    \n",
    "        - OPENAI_API_VERSION\n",
    "        - AZURE_OPENAI_ENDPOINT\n",
    "    \"\"\"\n",
    "    llm = AzureChatOpenAI(\n",
    "        azure_deployment='gpt-4o-mini',\n",
    "        temperature=0.0,\n",
    "    )\n",
    "elif model_provider == 'OpenAI':\n",
    "    \"\"\"\n",
    "    Define your environmental variables under .venv:\n",
    "        - OPENAI_API_KEY\n",
    "        - OPENAI_API_BASE\n",
    "    \"\"\"\n",
    "#elif model_prodider == 'Gemini':\n",
    "#    \"\"\"\n",
    "#    Define your environmental variables under .venv:\n",
    "#        - GEMINI_API_KEY\n",
    "#    \"\"\"\n",
    "#    llm = GeminiChat()\n",
    "                          \n",
    "else:\n",
    "    print('Implement your own llm loader')"
   ]
  },
  {
   "cell_type": "markdown",
   "metadata": {},
   "source": [
    "## Implementation\n",
    "\n",
    "In the following section, we will step-by-step implement:\n",
    "- The data classes,\n",
    "- Agent state,\n",
    "- Nodes and function,\n",
    "- and the workflow of the agent.\n",
    "\n",
    "As part of the work - we will assess our progress by creating sub-sections of the workflow and test it.\n",
    "\n",
    "As part of this tutorial, we are using a dummy dataset both for the project description as well as the team. Please feel free to define your own inputs."
   ]
  },
  {
   "cell_type": "markdown",
   "metadata": {},
   "source": [
    "Let's create all required data classes"
   ]
  },
  {
   "cell_type": "code",
   "execution_count": 10,
   "metadata": {},
   "outputs": [],
   "source": [
    "# Data Models\n",
    "class Task(BaseModel):\n",
    "    id: uuid.UUID = Field(default_factory=uuid.uuid4, description=\"Unique identifier for the task\")\n",
    "    task_name: str = Field(description=\"Name of the task\")\n",
    "    task_description: str = Field(description=\"Description of the task\")\n",
    "    estimated_day: int = Field(description=\"Estimated number of days to complete the task\")\n",
    "\n",
    "class TaskList(BaseModel):\n",
    "    tasks: List[Task] = Field(description=\"List of tasks\")\n",
    "\n",
    "class TaskDependency(BaseModel):\n",
    "    \"\"\"Task dependency model\"\"\"\n",
    "    task: Task = Field(description=\"Task\")\n",
    "    dependent_tasks: List[Task] = Field(description=\"List of dependent tasks\")\n",
    "\n",
    "class TeamMember(BaseModel):\n",
    "    name: str = Field(description=\"Name of the team member\")\n",
    "    profile: str = Field(description=\"Profile of the team member\")\n",
    "\n",
    "class Team(BaseModel):\n",
    "    team_members: List[TeamMember] = Field(description=\"List of team members\")\n",
    "\n",
    "# Iterative assessment\n",
    "class TaskAllocation(BaseModel):\n",
    "    \"\"\"Task allocation class\"\"\"\n",
    "    task: Task = Field(description=\"Task\")\n",
    "    team_member: TeamMember = Field(description=\"Team members assigned to the task\")\n",
    "\n",
    "class TaskSchedule(BaseModel):\n",
    "    \"\"\"Schedule schedule class\"\"\"\n",
    "    task: Task = Field(description=\"Task\")\n",
    "    start_day: int = Field(description=\"Start day of the task\")\n",
    "    end_day: int = Field(description=\"End day of the task\")\n",
    "\n",
    "# Lists\n",
    "class DependencyList(BaseModel):\n",
    "    \"\"\"List of task dependencies\"\"\"\n",
    "    dependencies: List[TaskDependency] = Field(description=\"List of task dependencies\")\n",
    "\n",
    "class Schedule(BaseModel):\n",
    "    schedule: List[TaskSchedule] = Field(description=\"List of task schedules\")\n",
    "\n",
    "class TaskAllocationList(BaseModel):\n",
    "    task_allocations: List[TaskAllocation] = Field(description=\"List of task allocations\")\n",
    "\n",
    "# Iteration\n",
    "class TaskAllocationListIteration(BaseModel):\n",
    "    task_allocations_iteration: List[TaskAllocationList] = Field(description=\"List of task allocations for each iteration\")\n",
    "\n",
    "class ScheduleIteration(BaseModel):\n",
    "    schedule: List[Schedule] = Field(description=\"List of task schedules for each iteration\")\n",
    "\n",
    "class Risk(BaseModel):\n",
    "    task: Task = Field(description=\"Task\")\n",
    "    score: str = Field(description=\"Risk associated with the task\")\n",
    "\n",
    "class RiskList(BaseModel):\n",
    "    risks: List[Risk] = Field(description=\"List of risks\")\n",
    "\n",
    "class RiskListIteration(BaseModel):\n",
    "    risks_iteration: List[RiskList] = Field(description=\"List of risks for each iteration\")"
   ]
  },
  {
   "cell_type": "markdown",
   "metadata": {},
   "source": [
    "Let's then create the AgentState:"
   ]
  },
  {
   "cell_type": "code",
   "execution_count": 11,
   "metadata": {},
   "outputs": [],
   "source": [
    "class AgentState(TypedDict):\n",
    "    \"\"\"The project manager agent state.\"\"\"\n",
    "    project_description: str\n",
    "    team: Team\n",
    "    tasks: TaskList\n",
    "    dependencies: DependencyList\n",
    "    schedule: Schedule\n",
    "    task_allocations: TaskAllocationList\n",
    "    risks: RiskList\n",
    "    iteration_number: int\n",
    "    max_iteration: int\n",
    "    insights: List[str]\n",
    "    schedule_iteration: List[Schedule]\n",
    "    task_allocations_iteration: List[TaskAllocationList]\n",
    "    risks_iteration: List[RiskListIteration]\n",
    "    project_risk_score_iterations: List[int]"
   ]
  },
  {
   "cell_type": "markdown",
   "metadata": {},
   "source": [
    "Let's create the required nodes. As a quick recap:\n",
    "\n",
    "The workflow is defined using so called nodes and their chaining in a particular order. In LangGraph a node is defined as a function which has an argument the `AgentState`. Within the node certain attributes of the field state is updated which at the end of the node is returned and passed further to the next node.\n",
    "\n",
    "In this tutorial we have followed the pattern:\n",
    "\n",
    "``` code\n",
    "def task_generation_node(state: AgentState):\n",
    " \"\"\"LangGraph node that will extract tasks from given project description\"\"\"\n",
    "    description = state[\"project_description\"]\n",
    "    prompt = f\"\"\"You are an experienced project description analyzer. Analyze the \n",
    "    project description '{description}' and create a list of actionable and\n",
    "    realistic tasks with estimated time (in days) to complete each task.\n",
    "    If the task takes longer than 5 days, break it down into independent smaller tasks.\n",
    "    \"\"\"\n",
    "    structure_llm = llm.with_structured_output(TaskList)\n",
    "    tasks: TaskList = structure_llm.invoke(prompt)\n",
    "    state['tasks'] = tasks\n",
    "    return state\n",
    "```\n",
    "In almost all nodes, we used:\n",
    "- `llm.with_structured_output(<structure>)` - generating structured output. \n",
    "\n",
    "The only exception is the insight_generation_node where only `str` as requested from the llm and the required interface only `llm.invoke(prompt)`"
   ]
  },
  {
   "cell_type": "code",
   "execution_count": 46,
   "metadata": {},
   "outputs": [],
   "source": [
    "# Workflow Nodes\n",
    "def task_generation_node(state: AgentState):\n",
    "    \"\"\"LangGraph node that will extract tasks from given project description\"\"\"\n",
    "    description = state[\"project_description\"]\n",
    "    prompt = f\"\"\"You are an experienced project description analyzer. Analyze the \n",
    "    project description '{description}' and create a list of actionable and\n",
    "    realistic tasks with estimated time (in days) to complete each task.\n",
    "    If the task takes longer than 5 days, break it down into independent smaller tasks.\n",
    "    \"\"\"\n",
    "    structure_llm = llm.with_structured_output(TaskList)\n",
    "    tasks: TaskList = structure_llm.invoke(prompt)\n",
    "    return {\"tasks\": tasks}\n",
    "\n",
    "def task_dependency_node(state: AgentState):\n",
    "    \"\"\"Evaluate the dependencies between the tasks\"\"\"\n",
    "    tasks = state[\"tasks\"]\n",
    "    prompt = f\"\"\"\n",
    "    Assess dependency between tasks {tasks}. For each task, identify the blocking tasks.\n",
    "    Provide for each task the list of dependent tasks.\n",
    "    \"\"\"\n",
    "    structure_llm = llm.with_structured_output(DependencyList)\n",
    "    dependencies: DependencyList = structure_llm.invoke(prompt)\n",
    "    return {\"dependencies\": dependencies}\n",
    "\n",
    "def task_scheduler_node(state: AgentState):\n",
    "    \"\"\"LangGraph node that will schedule tasks based on dependencies and team availability\"\"\"\n",
    "    dependencies = state[\"dependencies\"]\n",
    "    tasks = state[\"tasks\"]\n",
    "    insights = state[\"insights\"] #\"\" if state[\"insights\"] is None else state[\"insights\"].insights[-1]\n",
    "    prompt = f\"\"\"You are a project scheduler. You have the following {tasks}.\n",
    "    Schedule tasks based on the dependencies {dependencies},\n",
    "    Take into account the insights {insights}.\n",
    "    Take into previous schedule iteration if any {state[\"schedule_iteration\"]}.\n",
    "    \"\"\"\n",
    "    schedule_llm = llm.with_structured_output(Schedule)\n",
    "    schedule: Schedule = schedule_llm.invoke(prompt)\n",
    "    state[\"schedule\"] = schedule\n",
    "    state[\"schedule_iteration\"].append(schedule)\n",
    "    return state\n",
    "\n",
    "def task_allocation_node(state: AgentState):\n",
    "    \"\"\"LangGraph node that will allocate tasks to team members\"\"\"\n",
    "    tasks = state[\"tasks\"]\n",
    "    schedule = state[\"schedule\"]\n",
    "    team = state[\"team\"]\n",
    "    insights = state[\"insights\"] #\"\" if state[\"insights\"] is None else state[\"insights\"].insights[-1]\n",
    "    prompt = f\"\"\"You are a project manager. You have tasks {tasks} and schedule {schedule}.\n",
    "        Allocate tasks to team members {team} based on their skills and availability,\n",
    "        such that there is no overlapping task assigned to a team member.\n",
    "        Take into account the insights {insights}\n",
    "        Take into previous task allocation iteration if any {state[\"task_allocations_iteration\"]}.\n",
    "        \"\"\"\n",
    "    structure_llm = llm.with_structured_output(TaskAllocationList)\n",
    "    task_allocations: TaskAllocationList = structure_llm.invoke(prompt)\n",
    "    state[\"task_allocations\"] = task_allocations\n",
    "    state[\"task_allocations_iteration\"].append(task_allocations)\n",
    "    return state\n",
    "\n",
    "def risk_assessment_node(state: AgentState):\n",
    "    \"\"\"LangGraph node that analyse risk associated with schedule and allocation of task\"\"\"\n",
    "    schedule = state[\"schedule\"]\n",
    "    task_allocations=state[\"task_allocations\"]\n",
    "    prompt = f\"\"\"You are an experienced project risk analyzer. You have to analyze the risk \n",
    "    task allocated {task_allocations} and the schedule {schedule} suggested for the task. Return\n",
    "    a risk score for each assigned task. Risk score should be an integer between 0 and 10.\"\"\"\n",
    "    structure_llm = llm.with_structured_output(RiskList)\n",
    "    risks: RiskList = structure_llm.invoke(prompt)\n",
    "    project_task_risk_scores = [int(risk.score) for risk in risks.risks]\n",
    "    project_risk_score = sum(project_task_risk_scores)\n",
    "    state[\"risks\"] = risks\n",
    "    state[\"project_risk_score\"] = project_risk_score\n",
    "    state[\"iteration_number\"] += 1\n",
    "    state[\"project_risk_score_iterations\"].append(project_risk_score)\n",
    "    return state\n",
    "\n",
    "def insight_generation_node(state: AgentState):\n",
    "    \"\"\"LangGraph node that generate insights from the schedule, task allocation, and risk associated\"\"\"\n",
    "    schedule = state[\"schedule\"]\n",
    "    task_allocations=state[\"task_allocations\"]\n",
    "    risks = state[\"risks\"]\n",
    "    prompt = f\"\"\"You are an experienced project manager. You have to generate critical insights\n",
    "    based on the task allocation {task_allocations}, the schedule {schedule} suggested for the task\n",
    "    and a risk analysis report {risks}. Return a list of critical insights that . \n",
    "    \"\"\"\n",
    "    #structure_llm=llm.with_structured_output\"insights\"].append(structure_llm.invoke(prompt))\n",
    "    insights = llm.invoke(prompt).content\n",
    "    return {\"insights\": insights}"
   ]
  },
  {
   "cell_type": "markdown",
   "metadata": {},
   "source": [
    "The proposed agentic workflow contains a conditional assessment of the state: in the form of a router. A router based on current  "
   ]
  },
  {
   "cell_type": "code",
   "execution_count": 47,
   "metadata": {},
   "outputs": [],
   "source": [
    "def router(state: AgentState):\n",
    "    \"\"\"LangGraph node that will route the agent to the appropriate node based on the project description\"\"\"\n",
    "    max_iteration = state.get(\"max_iteration\", 2)\n",
    "    iteration_number = state[\"iteration_number\"]\n",
    "\n",
    "    if iteration_number < max_iteration:\n",
    "        if len(state[\"project_risk_score_iterations\"])>1:\n",
    "            if state[\"project_risk_score_iterations\"][-1] < state[\"project_risk_score_iterations\"][0]:\n",
    "                return END\n",
    "            else:\n",
    "                return \"insight_generator\"\n",
    "        else:\n",
    "            return \"insight_generator\"\n",
    "    else:\n",
    "        return END"
   ]
  },
  {
   "cell_type": "markdown",
   "metadata": {},
   "source": [
    "As we #TODO\n",
    "\n",
    "We can define the agentic workflow using LangGraph."
   ]
  },
  {
   "cell_type": "code",
   "execution_count": 94,
   "metadata": {},
   "outputs": [],
   "source": [
    "# Instantiate the workflow    \n",
    "workflow = StateGraph(AgentState)\n",
    "\n",
    "# Add nodes to the workflow\n",
    "workflow.add_node(\"task_generation\", task_generation_node)\n",
    "workflow.add_node(\"task_dependencies\", task_dependency_node)\n",
    "workflow.add_node(\"task_scheduler\", task_scheduler_node)\n",
    "workflow.add_node(\"task_allocator\", task_allocation_node)\n",
    "workflow.add_node(\"risk_assessor\", risk_assessment_node)\n",
    "workflow.add_node(\"insight_generator\", insight_generation_node)\n",
    "\n",
    "# Add edges to the workflow\n",
    "workflow.set_entry_point(\"task_generation\")\n",
    "workflow.add_edge(\"task_generation\", \"task_dependencies\")\n",
    "workflow.add_edge(\"task_dependencies\", \"task_scheduler\")\n",
    "workflow.add_edge(\"task_scheduler\", \"task_allocator\")\n",
    "workflow.add_edge(\"task_allocator\", \"risk_assessor\")\n",
    "workflow.add_conditional_edges(\"risk_assessor\", router, [\"insight_generator\", END])\n",
    "workflow.add_edge(\"insight_generator\", \"task_scheduler\")\n",
    "\n",
    "# Set up memory\n",
    "memory = MemorySaver()\n",
    "\n",
    "# Compile the workflow\n",
    "graph_plan = workflow.compile(checkpointer=memory)"
   ]
  },
  {
   "cell_type": "code",
   "execution_count": 95,
   "metadata": {},
   "outputs": [
    {
     "data": {
      "image/png": "[encoded data removed]",
      "text/plain": [
       "<IPython.core.display.Image object>"
      ]
     },
     "metadata": {},
     "output_type": "display_data"
    }
   ],
   "source": [
    "# To visualize the created workflow, we can use \n",
    "display(Image(graph_plan.get_graph(xray=1).draw_mermaid_png()))"
   ]
  },
  {
   "cell_type": "markdown",
   "metadata": {},
   "source": [
    "## Usage Example"
   ]
  },
  {
   "cell_type": "markdown",
   "metadata": {},
   "source": [
    "#### Initiate of the AgentState by defining an input\n",
    "Our Project Manager Agent requires a project description (str) and a team (Team) input next to other initialization parameters.\n",
    "In this tutorial we "
   ]
  },
  {
   "cell_type": "code",
   "execution_count": 96,
   "metadata": {},
   "outputs": [
    {
     "name": "stdout",
     "output_type": "stream",
     "text": [
      "Our business aims to deliver a chatbot application for our customers to ensure 24/7 support and advice on product choices.\n",
      "team_members=[TeamMember(name='Alice', profile='Alice is a Frontend Developer skilled in HTML CSS JavaScript and React.'), TeamMember(name='Bob', profile='Bob is a Backend Developer proficient in Python Django SQL and RESTful APIs.'), TeamMember(name='Charlie', profile='Charlie is a Project Manager experienced in Agile methodologies team leadership project planning and risk management.'), TeamMember(name='David', profile='David is a Full Stack Developer with expertise in both frontend (HTML CSS JavaScript) and backend (Node.js MongoDB) technologies.'), TeamMember(name='Eve', profile='Eve is a DevOps Engineer skilled in CI/CD pipelines Docker Kubernetes and cloud services like AWS and Azure.')]\n"
     ]
    }
   ],
   "source": [
    "def get_project_description(file_path:str):\n",
    "    \"\"\"Read the project description from the file\"\"\"\n",
    "    with open(file_path, 'r') as file:\n",
    "            content = file.read()\n",
    "\n",
    "    return content\n",
    "\n",
    "def get_team(file_path:str):\n",
    "    \"\"\"Read the team members from the CSV file\"\"\"\n",
    "    team_df = pd.read_csv(file_path)\n",
    "    team_members = [\n",
    "            TeamMember(name=row['Name'], profile=row['Profile Description'])\n",
    "            for _, row in team_df.iterrows()\n",
    "        ]\n",
    "    team = Team(team_members=team_members)\n",
    "\n",
    "    return team\n",
    "\n",
    "project_description = get_project_description(\"../data/project_manager_assistant/project_description.txt\")\n",
    "team = get_team(\"../data/project_manager_assistant/team.csv\")\n",
    "\n",
    "print(project_description)\n",
    "print(team)"
   ]
  },
  {
   "cell_type": "code",
   "execution_count": 97,
   "metadata": {},
   "outputs": [],
   "source": [
    "# Definition of the AgentState \n",
    "state_input = {\n",
    "    \"project_description\": project_description,\n",
    "    \"team\": team,\n",
    "    \"insights\": \"\",\n",
    "    \"iteration_number\": 0,\n",
    "    \"max_iteration\": 3,\n",
    "    \"schedule_iteration\": [],\n",
    "    \"task_allocations_iteration\": [],\n",
    "    \"risks_iteration\": [],\n",
    "    \"project_risk_score_iterations\": []\n",
    "}"
   ]
  },
  {
   "cell_type": "code",
   "execution_count": 98,
   "metadata": {},
   "outputs": [
    {
     "name": "stdout",
     "output_type": "stream",
     "text": [
      "Current node: task_generation\n",
      "Current node: task_dependencies\n",
      "Current node: task_scheduler\n",
      "Current node: task_allocator\n",
      "Current node: risk_assessor\n",
      "Current node: insight_generator\n",
      "Current node: task_scheduler\n",
      "Current node: task_allocator\n",
      "Current node: risk_assessor\n",
      "Current node: insight_generator\n",
      "Current node: task_scheduler\n",
      "Current node: task_allocator\n",
      "Current node: risk_assessor\n"
     ]
    }
   ],
   "source": [
    "# Invoke the agent\n",
    "config = {\"configurable\": {\"thread_id\": \"1\"}}\n",
    "for event in graph_plan.stream(state_input, config, stream_mode=[\"updates\"]):\n",
    "    \"Print the different nodes as the agent progresses\"\n",
    "    print(f\"Current node: {next(iter(event[1]))}\")\n"
   ]
  },
  {
   "cell_type": "code",
   "execution_count": 104,
   "metadata": {},
   "outputs": [
    {
     "data": {
      "text/plain": [
       "{'project_description': 'Our business aims to deliver a chatbot application for our customers to ensure 24/7 support and advice on product choices.',\n",
       " 'team': Team(team_members=[TeamMember(name='Alice', profile='Alice is a Frontend Developer skilled in HTML CSS JavaScript and React.'), TeamMember(name='Bob', profile='Bob is a Backend Developer proficient in Python Django SQL and RESTful APIs.'), TeamMember(name='Charlie', profile='Charlie is a Project Manager experienced in Agile methodologies team leadership project planning and risk management.'), TeamMember(name='David', profile='David is a Full Stack Developer with expertise in both frontend (HTML CSS JavaScript) and backend (Node.js MongoDB) technologies.'), TeamMember(name='Eve', profile='Eve is a DevOps Engineer skilled in CI/CD pipelines Docker Kubernetes and cloud services like AWS and Azure.')]),\n",
       " 'tasks': TaskList(tasks=[Task(id=UUID('f5bbb0cd-1c0c-45b9-abf0-2a90a05d3566'), task_name='Define project scope and requirements', task_description='Gather and document the specific requirements for the chatbot application, including features, user interactions, and integration needs.', estimated_day=3), Task(id=UUID('d281904f-a971-4126-a381-ae8ab907e55b'), task_name='Research chatbot technologies', task_description='Investigate various chatbot frameworks and technologies to determine the best fit for the project.', estimated_day=4), Task(id=UUID('68e2aa5f-7028-46e1-a709-c503b720b0d1'), task_name='Design chatbot conversation flow', task_description='Create a flowchart or diagram outlining the conversation paths and user interactions for the chatbot.', estimated_day=5), Task(id=UUID('9c4a9713-aa11-477b-8fe2-c4d7104711a4'), task_name='Develop chatbot prototype', task_description='Build a basic prototype of the chatbot to demonstrate core functionalities and gather feedback.', estimated_day=5), Task(id=UUID('5d1dddc0-eff6-44c5-bb38-eeaa4d220cd3'), task_name='Implement natural language processing (NLP)', task_description='Integrate NLP capabilities to enable the chatbot to understand and respond to user queries effectively.', estimated_day=7), Task(id=UUID('22eb6680-fc2b-4010-b42a-ac134d405106'), task_name='Break down NLP implementation into smaller tasks', task_description='1. Research NLP libraries and tools (2 days)\\n2. Set up NLP environment (1 day)\\n3. Train NLP model with sample data (2 days)', estimated_day=5), Task(id=UUID('4e1ab30b-45c8-49d5-9c31-7d7a6f36c147'), task_name='Test chatbot functionalities', task_description='Conduct thorough testing of the chatbot to ensure it responds accurately and handles various user inputs.', estimated_day=5), Task(id=UUID('25e26118-91a8-490a-9063-fae3fad3a34b'), task_name='Gather user feedback', task_description='Collect feedback from users who interact with the chatbot prototype to identify areas for improvement.', estimated_day=3), Task(id=UUID('2664fcc0-1669-49e1-8000-88230c872de4'), task_name='Refine chatbot based on feedback', task_description='Make necessary adjustments to the chatbot based on user feedback and testing results.', estimated_day=4), Task(id=UUID('87694e4f-20c0-4b57-b9dc-de1dd9e2e03d'), task_name='Deploy chatbot application', task_description='Launch the chatbot application for public use, ensuring all systems are operational.', estimated_day=3), Task(id=UUID('09755ba6-8b30-46c7-9aeb-c81bca9965d0'), task_name='Monitor and maintain chatbot', task_description='Set up a system for ongoing monitoring and maintenance of the chatbot to ensure it continues to function effectively.', estimated_day=5)]),\n",
       " 'dependencies': DependencyList(dependencies=[TaskDependency(task=Task(id=UUID('f5bbb0cd-1c0c-45b9-abf0-2a90a05d3566'), task_name='Define project scope and requirements', task_description='Gather and document the specific requirements for the chatbot application, including features, user interactions, and integration needs.', estimated_day=3), dependent_tasks=[Task(id=UUID('d281904f-a971-4126-a381-ae8ab907e55b'), task_name='Research chatbot technologies', task_description='Investigate various chatbot frameworks and technologies to determine the best fit for the project.', estimated_day=4), Task(id=UUID('68e2aa5f-7028-46e1-a709-c503b720b0d1'), task_name='Design chatbot conversation flow', task_description='Create a flowchart or diagram outlining the conversation paths and user interactions for the chatbot.', estimated_day=5)]), TaskDependency(task=Task(id=UUID('d281904f-a971-4126-a381-ae8ab907e55b'), task_name='Research chatbot technologies', task_description='Investigate various chatbot frameworks and technologies to determine the best fit for the project.', estimated_day=4), dependent_tasks=[Task(id=UUID('9c4a9713-aa11-477b-8fe2-c4d7104711a4'), task_name='Develop chatbot prototype', task_description='Build a basic prototype of the chatbot to demonstrate core functionalities and gather feedback.', estimated_day=5)]), TaskDependency(task=Task(id=UUID('68e2aa5f-7028-46e1-a709-c503b720b0d1'), task_name='Design chatbot conversation flow', task_description='Create a flowchart or diagram outlining the conversation paths and user interactions for the chatbot.', estimated_day=5), dependent_tasks=[Task(id=UUID('9c4a9713-aa11-477b-8fe2-c4d7104711a4'), task_name='Develop chatbot prototype', task_description='Build a basic prototype of the chatbot to demonstrate core functionalities and gather feedback.', estimated_day=5)]), TaskDependency(task=Task(id=UUID('9c4a9713-aa11-477b-8fe2-c4d7104711a4'), task_name='Develop chatbot prototype', task_description='Build a basic prototype of the chatbot to demonstrate core functionalities and gather feedback.', estimated_day=5), dependent_tasks=[Task(id=UUID('5d1dddc0-eff6-44c5-bb38-eeaa4d220cd3'), task_name='Implement natural language processing (NLP)', task_description='Integrate NLP capabilities to enable the chatbot to understand and respond to user queries effectively.', estimated_day=7), Task(id=UUID('25e26118-91a8-490a-9063-fae3fad3a34b'), task_name='Gather user feedback', task_description='Collect feedback from users who interact with the chatbot prototype to identify areas for improvement.', estimated_day=3)]), TaskDependency(task=Task(id=UUID('5d1dddc0-eff6-44c5-bb38-eeaa4d220cd3'), task_name='Implement natural language processing (NLP)', task_description='Integrate NLP capabilities to enable the chatbot to understand and respond to user queries effectively.', estimated_day=7), dependent_tasks=[Task(id=UUID('4e1ab30b-45c8-49d5-9c31-7d7a6f36c147'), task_name='Test chatbot functionalities', task_description='Conduct thorough testing of the chatbot to ensure it responds accurately and handles various user inputs.', estimated_day=5)]), TaskDependency(task=Task(id=UUID('22eb6680-fc2b-4010-b42a-ac134d405106'), task_name='Break down NLP implementation into smaller tasks', task_description='1. Research NLP libraries and tools (2 days)\\n2. Set up NLP environment (1 day)\\n3. Train NLP model with sample data (2 days)', estimated_day=5), dependent_tasks=[Task(id=UUID('5d1dddc0-eff6-44c5-bb38-eeaa4d220cd3'), task_name='Implement natural language processing (NLP)', task_description='Integrate NLP capabilities to enable the chatbot to understand and respond to user queries effectively.', estimated_day=7)]), TaskDependency(task=Task(id=UUID('4e1ab30b-45c8-49d5-9c31-7d7a6f36c147'), task_name='Test chatbot functionalities', task_description='Conduct thorough testing of the chatbot to ensure it responds accurately and handles various user inputs.', estimated_day=5), dependent_tasks=[Task(id=UUID('2664fcc0-1669-49e1-8000-88230c872de4'), task_name='Refine chatbot based on feedback', task_description='Make necessary adjustments to the chatbot based on user feedback and testing results.', estimated_day=4)]), TaskDependency(task=Task(id=UUID('25e26118-91a8-490a-9063-fae3fad3a34b'), task_name='Gather user feedback', task_description='Collect feedback from users who interact with the chatbot prototype to identify areas for improvement.', estimated_day=3), dependent_tasks=[Task(id=UUID('2664fcc0-1669-49e1-8000-88230c872de4'), task_name='Refine chatbot based on feedback', task_description='Make necessary adjustments to the chatbot based on user feedback and testing results.', estimated_day=4)]), TaskDependency(task=Task(id=UUID('2664fcc0-1669-49e1-8000-88230c872de4'), task_name='Refine chatbot based on feedback', task_description='Make necessary adjustments to the chatbot based on user feedback and testing results.', estimated_day=4), dependent_tasks=[Task(id=UUID('87694e4f-20c0-4b57-b9dc-de1dd9e2e03d'), task_name='Deploy chatbot application', task_description='Launch the chatbot application for public use, ensuring all systems are operational.', estimated_day=3)]), TaskDependency(task=Task(id=UUID('87694e4f-20c0-4b57-b9dc-de1dd9e2e03d'), task_name='Deploy chatbot application', task_description='Launch the chatbot application for public use, ensuring all systems are operational.', estimated_day=3), dependent_tasks=[Task(id=UUID('09755ba6-8b30-46c7-9aeb-c81bca9965d0'), task_name='Monitor and maintain chatbot', task_description='Set up a system for ongoing monitoring and maintenance of the chatbot to ensure it continues to function effectively.', estimated_day=5)])]),\n",
       " 'schedule': Schedule(schedule=[TaskSchedule(task=Task(id=UUID('f5bbb0cd-1c0c-45b9-abf0-2a90a05d3566'), task_name='Define project scope and requirements', task_description='Gather and document the specific requirements for the chatbot application, including features, user interactions, and integration needs.', estimated_day=3), start_day=1, end_day=3), TaskSchedule(task=Task(id=UUID('d281904f-a971-4126-a381-ae8ab907e55b'), task_name='Research chatbot technologies', task_description='Investigate various chatbot frameworks and technologies to determine the best fit for the project.', estimated_day=4), start_day=4, end_day=7), TaskSchedule(task=Task(id=UUID('68e2aa5f-7028-46e1-a709-c503b720b0d1'), task_name='Design chatbot conversation flow', task_description='Create a flowchart or diagram outlining the conversation paths and user interactions for the chatbot.', estimated_day=5), start_day=4, end_day=8), TaskSchedule(task=Task(id=UUID('9c4a9713-aa11-477b-8fe2-c4d7104711a4'), task_name='Develop chatbot prototype', task_description='Build a basic prototype of the chatbot to demonstrate core functionalities and gather feedback.', estimated_day=5), start_day=9, end_day=13), TaskSchedule(task=Task(id=UUID('5d1dddc0-eff6-44c5-bb38-eeaa4d220cd3'), task_name='Implement natural language processing (NLP)', task_description='Integrate NLP capabilities to enable the chatbot to understand and respond to user queries effectively.', estimated_day=7), start_day=14, end_day=20), TaskSchedule(task=Task(id=UUID('22eb6680-fc2b-4010-b42a-ac134d405106'), task_name='Break down NLP implementation into smaller tasks', task_description='1. Research NLP libraries and tools (2 days)\\n2. Set up NLP environment (1 day)\\n3. Train NLP model with sample data (2 days)', estimated_day=5), start_day=14, end_day=18), TaskSchedule(task=Task(id=UUID('4e1ab30b-45c8-49d5-9c31-7d7a6f36c147'), task_name='Test chatbot functionalities', task_description='Conduct thorough testing of the chatbot to ensure it responds accurately and handles various user inputs.', estimated_day=5), start_day=21, end_day=25), TaskSchedule(task=Task(id=UUID('25e26118-91a8-490a-9063-fae3fad3a34b'), task_name='Gather user feedback', task_description='Collect feedback from users who interact with the chatbot prototype to identify areas for improvement.', estimated_day=3), start_day=14, end_day=16), TaskSchedule(task=Task(id=UUID('2664fcc0-1669-49e1-8000-88230c872de4'), task_name='Refine chatbot based on feedback', task_description='Make necessary adjustments to the chatbot based on user feedback and testing results.', estimated_day=4), start_day=26, end_day=29), TaskSchedule(task=Task(id=UUID('87694e4f-20c0-4b57-b9dc-de1dd9e2e03d'), task_name='Deploy chatbot application', task_description='Launch the chatbot application for public use, ensuring all systems are operational.', estimated_day=3), start_day=30, end_day=32), TaskSchedule(task=Task(id=UUID('09755ba6-8b30-46c7-9aeb-c81bca9965d0'), task_name='Monitor and maintain chatbot', task_description='Set up a system for ongoing monitoring and maintenance of the chatbot to ensure it continues to function effectively.', estimated_day=5), start_day=33, end_day=37)]),\n",
       " 'task_allocations': TaskAllocationList(task_allocations=[TaskAllocation(task=Task(id=UUID('f5bbb0cd-1c0c-45b9-abf0-2a90a05d3566'), task_name='Define project scope and requirements', task_description='Gather and document the specific requirements for the chatbot application, including features, user interactions, and integration needs.', estimated_day=3), team_member=TeamMember(name='Charlie', profile='Charlie is a Project Manager experienced in Agile methodologies team leadership project planning and risk management.')), TaskAllocation(task=Task(id=UUID('d281904f-a971-4126-a381-ae8ab907e55b'), task_name='Research chatbot technologies', task_description='Investigate various chatbot frameworks and technologies to determine the best fit for the project.', estimated_day=4), team_member=TeamMember(name='Bob', profile='Bob is a Backend Developer proficient in Python Django SQL and RESTful APIs.')), TaskAllocation(task=Task(id=UUID('68e2aa5f-7028-46e1-a709-c503b720b0d1'), task_name='Design chatbot conversation flow', task_description='Create a flowchart or diagram outlining the conversation paths and user interactions for the chatbot.', estimated_day=5), team_member=TeamMember(name='Alice', profile='Alice is a Frontend Developer skilled in HTML CSS JavaScript and React.')), TaskAllocation(task=Task(id=UUID('9c4a9713-aa11-477b-8fe2-c4d7104711a4'), task_name='Develop chatbot prototype', task_description='Build a basic prototype of the chatbot to demonstrate core functionalities and gather feedback.', estimated_day=5), team_member=TeamMember(name='David', profile='David is a Full Stack Developer with expertise in both frontend (HTML CSS JavaScript) and backend (Node.js MongoDB) technologies.')), TaskAllocation(task=Task(id=UUID('5d1dddc0-eff6-44c5-bb38-eeaa4d220cd3'), task_name='Implement natural language processing (NLP)', task_description='Integrate NLP capabilities to enable the chatbot to understand and respond to user queries effectively.', estimated_day=7), team_member=TeamMember(name='Eve', profile='Eve is a DevOps Engineer skilled in CI/CD pipelines Docker Kubernetes and cloud services like AWS and Azure.')), TaskAllocation(task=Task(id=UUID('22eb6680-fc2b-4010-b42a-ac134d405106'), task_name='Break down NLP implementation into smaller tasks', task_description='1. Research NLP libraries and tools (2 days)\\n2. Set up NLP environment (1 day)\\n3. Train NLP model with sample data (2 days)', estimated_day=5), team_member=TeamMember(name='Alice', profile='Alice is a Frontend Developer skilled in HTML CSS JavaScript and React.')), TaskAllocation(task=Task(id=UUID('4e1ab30b-45c8-49d5-9c31-7d7a6f36c147'), task_name='Test chatbot functionalities', task_description='Conduct thorough testing of the chatbot to ensure it responds accurately and handles various user inputs.', estimated_day=5), team_member=TeamMember(name='David', profile='David is a Full Stack Developer with expertise in both frontend (HTML CSS JavaScript) and backend (Node.js MongoDB) technologies.')), TaskAllocation(task=Task(id=UUID('25e26118-91a8-490a-9063-fae3fad3a34b'), task_name='Gather user feedback', task_description='Collect feedback from users who interact with the chatbot prototype to identify areas for improvement.', estimated_day=3), team_member=TeamMember(name='Charlie', profile='Charlie is a Project Manager experienced in Agile methodologies team leadership project planning and risk management.')), TaskAllocation(task=Task(id=UUID('2664fcc0-1669-49e1-8000-88230c872de4'), task_name='Refine chatbot based on feedback', task_description='Make necessary adjustments to the chatbot based on user feedback and testing results.', estimated_day=4), team_member=TeamMember(name='Eve', profile='Eve is a DevOps Engineer skilled in CI/CD pipelines Docker Kubernetes and cloud services like AWS and Azure.')), TaskAllocation(task=Task(id=UUID('87694e4f-20c0-4b57-b9dc-de1dd9e2e03d'), task_name='Deploy chatbot application', task_description='Launch the chatbot application for public use, ensuring all systems are operational.', estimated_day=3), team_member=TeamMember(name='Eve', profile='Eve is a DevOps Engineer skilled in CI/CD pipelines Docker Kubernetes and cloud services like AWS and Azure.')), TaskAllocation(task=Task(id=UUID('09755ba6-8b30-46c7-9aeb-c81bca9965d0'), task_name='Monitor and maintain chatbot', task_description='Set up a system for ongoing monitoring and maintenance of the chatbot to ensure it continues to function effectively.', estimated_day=5), team_member=TeamMember(name='Bob', profile='Bob is a Backend Developer proficient in Python Django SQL and RESTful APIs.'))]),\n",
       " 'risks': RiskList(risks=[Risk(task=Task(id=UUID('f5bbb0cd-1c0c-45b9-abf0-2a90a05d3566'), task_name='Define project scope and requirements', task_description='Gather and document the specific requirements for the chatbot application, including features, user interactions, and integration needs.', estimated_day=3), score='4'), Risk(task=Task(id=UUID('d281904f-a971-4126-a381-ae8ab907e55b'), task_name='Research chatbot technologies', task_description='Investigate various chatbot frameworks and technologies to determine the best fit for the project.', estimated_day=4), score='5'), Risk(task=Task(id=UUID('68e2aa5f-7028-46e1-a709-c503b720b0d1'), task_name='Design chatbot conversation flow', task_description='Create a flowchart or diagram outlining the conversation paths and user interactions for the chatbot.', estimated_day=5), score='3'), Risk(task=Task(id=UUID('9c4a9713-aa11-477b-8fe2-c4d7104711a4'), task_name='Develop chatbot prototype', task_description='Build a basic prototype of the chatbot to demonstrate core functionalities and gather feedback.', estimated_day=5), score='6'), Risk(task=Task(id=UUID('5d1dddc0-eff6-44c5-bb38-eeaa4d220cd3'), task_name='Implement natural language processing (NLP)', task_description='Integrate NLP capabilities to enable the chatbot to understand and respond to user queries effectively.', estimated_day=7), score='7'), Risk(task=Task(id=UUID('22eb6680-fc2b-4010-b42a-ac134d405106'), task_name='Break down NLP implementation into smaller tasks', task_description='1. Research NLP libraries and tools (2 days)\\n2. Set up NLP environment (1 day)\\n3. Train NLP model with sample data (2 days)', estimated_day=5), score='5'), Risk(task=Task(id=UUID('4e1ab30b-45c8-49d5-9c31-7d7a6f36c147'), task_name='Test chatbot functionalities', task_description='Conduct thorough testing of the chatbot to ensure it responds accurately and handles various user inputs.', estimated_day=5), score='6'), Risk(task=Task(id=UUID('25e26118-91a8-490a-9063-fae3fad3a34b'), task_name='Gather user feedback', task_description='Collect feedback from users who interact with the chatbot prototype to identify areas for improvement.', estimated_day=3), score='4'), Risk(task=Task(id=UUID('2664fcc0-1669-49e1-8000-88230c872de4'), task_name='Refine chatbot based on feedback', task_description='Make necessary adjustments to the chatbot based on user feedback and testing results.', estimated_day=4), score='5'), Risk(task=Task(id=UUID('87694e4f-20c0-4b57-b9dc-de1dd9e2e03d'), task_name='Deploy chatbot application', task_description='Launch the chatbot application for public use, ensuring all systems are operational.', estimated_day=3), score='6'), Risk(task=Task(id=UUID('09755ba6-8b30-46c7-9aeb-c81bca9965d0'), task_name='Monitor and maintain chatbot', task_description='Set up a system for ongoing monitoring and maintenance of the chatbot to ensure it continues to function effectively.', estimated_day=5), score='5')]),\n",
       " 'iteration_number': 3,\n",
       " 'max_iteration': 3,\n",
       " 'insights': 'Based on the provided task allocations, schedule, and risk analysis report, here are some critical insights for the project:\\n\\n1. **High-Risk Tasks**: \\n   - The task \"Implement natural language processing (NLP)\" has the highest risk score of 7. This indicates significant uncertainty or potential issues that could arise during its execution. It is crucial to allocate additional resources or time to mitigate risks associated with this task.\\n   - The tasks \"Develop chatbot prototype\" and \"Test chatbot functionalities\" also have high-risk scores of 6. Close monitoring and proactive risk management strategies should be implemented for these tasks.\\n\\n2. **Resource Allocation**:\\n   - Team members Alice and David are assigned multiple tasks, which may lead to resource strain. Alice is responsible for both designing the conversation flow and breaking down the NLP implementation, while David is tasked with developing the prototype and testing functionalities. Consider redistributing tasks to ensure balanced workloads and prevent burnout.\\n\\n3. **Task Dependencies**:\\n   - The task \"Gather user feedback\" is scheduled to occur concurrently with \"Implement natural language processing (NLP)\" and \"Break down NLP implementation into smaller tasks.\" This overlap may lead to challenges in gathering meaningful feedback if the NLP capabilities are not yet fully integrated. It may be beneficial to adjust the schedule to allow for feedback collection after the NLP implementation.\\n\\n4. **Timeline Management**:\\n   - The project timeline appears to be tight, especially with overlapping tasks. The estimated days for critical tasks, particularly those with high-risk scores, should be reviewed to ensure that there is adequate time for completion and potential revisions based on feedback.\\n\\n5. **Feedback Loop**:\\n   - The task \"Refine chatbot based on feedback\" is scheduled after \"Gather user feedback,\" which is a positive approach to ensure that user insights are incorporated into the final product. However, the timeline for refinement (4 days) may need to be extended based on the complexity of the feedback received.\\n\\n6. **Monitoring and Maintenance**:\\n   - The task \"Monitor and maintain chatbot\" is scheduled for the end of the project timeline. It is essential to establish a monitoring plan early in the project to ensure that any issues can be addressed promptly after deployment. This task should be prioritized to maintain the chatbot\\'s effectiveness post-launch.\\n\\n7. **Risk Mitigation Strategies**:\\n   - For high-risk tasks, consider developing contingency plans. For example, if the NLP implementation faces challenges, having alternative libraries or tools ready could help mitigate delays.\\n   - Regular risk assessment meetings should be scheduled to review the status of high-risk tasks and adjust plans as necessary.\\n\\n8. **Team Member Expertise**:\\n   - Leverage the specific skills of team members effectively. For instance, Bob\\'s backend expertise could be crucial during the NLP implementation phase, and his involvement should be maximized to ensure a smooth integration.\\n\\n9. **Communication and Collaboration**:\\n   - Ensure that there is a clear communication plan in place among team members, especially for tasks that require collaboration, such as testing and refining the chatbot. Regular check-ins can help identify issues early and facilitate smoother workflows.\\n\\n10. **Documentation and Knowledge Sharing**:\\n    - Encourage thorough documentation throughout the project, especially during the research and development phases. This will aid in knowledge transfer and provide valuable insights for future projects.\\n\\nBy addressing these insights, the project team can enhance their approach to managing the chatbot development project, ultimately leading to a more successful outcome.',\n",
       " 'schedule_iteration': [Schedule(schedule=[TaskSchedule(task=Task(id=UUID('f5bbb0cd-1c0c-45b9-abf0-2a90a05d3566'), task_name='Define project scope and requirements', task_description='Gather and document the specific requirements for the chatbot application, including features, user interactions, and integration needs.', estimated_day=3), start_day=1, end_day=3), TaskSchedule(task=Task(id=UUID('d281904f-a971-4126-a381-ae8ab907e55b'), task_name='Research chatbot technologies', task_description='Investigate various chatbot frameworks and technologies to determine the best fit for the project.', estimated_day=4), start_day=4, end_day=7), TaskSchedule(task=Task(id=UUID('68e2aa5f-7028-46e1-a709-c503b720b0d1'), task_name='Design chatbot conversation flow', task_description='Create a flowchart or diagram outlining the conversation paths and user interactions for the chatbot.', estimated_day=5), start_day=4, end_day=8), TaskSchedule(task=Task(id=UUID('9c4a9713-aa11-477b-8fe2-c4d7104711a4'), task_name='Develop chatbot prototype', task_description='Build a basic prototype of the chatbot to demonstrate core functionalities and gather feedback.', estimated_day=5), start_day=9, end_day=13), TaskSchedule(task=Task(id=UUID('5d1dddc0-eff6-44c5-bb38-eeaa4d220cd3'), task_name='Implement natural language processing (NLP)', task_description='Integrate NLP capabilities to enable the chatbot to understand and respond to user queries effectively.', estimated_day=7), start_day=14, end_day=20), TaskSchedule(task=Task(id=UUID('22eb6680-fc2b-4010-b42a-ac134d405106'), task_name='Break down NLP implementation into smaller tasks', task_description='1. Research NLP libraries and tools (2 days)\\n2. Set up NLP environment (1 day)\\n3. Train NLP model with sample data (2 days)', estimated_day=5), start_day=14, end_day=18), TaskSchedule(task=Task(id=UUID('4e1ab30b-45c8-49d5-9c31-7d7a6f36c147'), task_name='Test chatbot functionalities', task_description='Conduct thorough testing of the chatbot to ensure it responds accurately and handles various user inputs.', estimated_day=5), start_day=21, end_day=25), TaskSchedule(task=Task(id=UUID('25e26118-91a8-490a-9063-fae3fad3a34b'), task_name='Gather user feedback', task_description='Collect feedback from users who interact with the chatbot prototype to identify areas for improvement.', estimated_day=3), start_day=14, end_day=16), TaskSchedule(task=Task(id=UUID('2664fcc0-1669-49e1-8000-88230c872de4'), task_name='Refine chatbot based on feedback', task_description='Make necessary adjustments to the chatbot based on user feedback and testing results.', estimated_day=4), start_day=26, end_day=29), TaskSchedule(task=Task(id=UUID('87694e4f-20c0-4b57-b9dc-de1dd9e2e03d'), task_name='Deploy chatbot application', task_description='Launch the chatbot application for public use, ensuring all systems are operational.', estimated_day=3), start_day=30, end_day=32), TaskSchedule(task=Task(id=UUID('09755ba6-8b30-46c7-9aeb-c81bca9965d0'), task_name='Monitor and maintain chatbot', task_description='Set up a system for ongoing monitoring and maintenance of the chatbot to ensure it continues to function effectively.', estimated_day=5), start_day=33, end_day=37)]),\n",
       "  Schedule(schedule=[TaskSchedule(task=Task(id=UUID('f5bbb0cd-1c0c-45b9-abf0-2a90a05d3566'), task_name='Define project scope and requirements', task_description='Gather and document the specific requirements for the chatbot application, including features, user interactions, and integration needs.', estimated_day=3), start_day=1, end_day=3), TaskSchedule(task=Task(id=UUID('d281904f-a971-4126-a381-ae8ab907e55b'), task_name='Research chatbot technologies', task_description='Investigate various chatbot frameworks and technologies to determine the best fit for the project.', estimated_day=4), start_day=4, end_day=7), TaskSchedule(task=Task(id=UUID('68e2aa5f-7028-46e1-a709-c503b720b0d1'), task_name='Design chatbot conversation flow', task_description='Create a flowchart or diagram outlining the conversation paths and user interactions for the chatbot.', estimated_day=5), start_day=4, end_day=8), TaskSchedule(task=Task(id=UUID('9c4a9713-aa11-477b-8fe2-c4d7104711a4'), task_name='Develop chatbot prototype', task_description='Build a basic prototype of the chatbot to demonstrate core functionalities and gather feedback.', estimated_day=5), start_day=9, end_day=13), TaskSchedule(task=Task(id=UUID('5d1dddc0-eff6-44c5-bb38-eeaa4d220cd3'), task_name='Implement natural language processing (NLP)', task_description='Integrate NLP capabilities to enable the chatbot to understand and respond to user queries effectively.', estimated_day=7), start_day=14, end_day=20), TaskSchedule(task=Task(id=UUID('22eb6680-fc2b-4010-b42a-ac134d405106'), task_name='Break down NLP implementation into smaller tasks', task_description='1. Research NLP libraries and tools (2 days)\\n2. Set up NLP environment (1 day)\\n3. Train NLP model with sample data (2 days)', estimated_day=5), start_day=14, end_day=18), TaskSchedule(task=Task(id=UUID('4e1ab30b-45c8-49d5-9c31-7d7a6f36c147'), task_name='Test chatbot functionalities', task_description='Conduct thorough testing of the chatbot to ensure it responds accurately and handles various user inputs.', estimated_day=5), start_day=21, end_day=25), TaskSchedule(task=Task(id=UUID('25e26118-91a8-490a-9063-fae3fad3a34b'), task_name='Gather user feedback', task_description='Collect feedback from users who interact with the chatbot prototype to identify areas for improvement.', estimated_day=3), start_day=14, end_day=16), TaskSchedule(task=Task(id=UUID('2664fcc0-1669-49e1-8000-88230c872de4'), task_name='Refine chatbot based on feedback', task_description='Make necessary adjustments to the chatbot based on user feedback and testing results.', estimated_day=4), start_day=26, end_day=29), TaskSchedule(task=Task(id=UUID('87694e4f-20c0-4b57-b9dc-de1dd9e2e03d'), task_name='Deploy chatbot application', task_description='Launch the chatbot application for public use, ensuring all systems are operational.', estimated_day=3), start_day=30, end_day=32), TaskSchedule(task=Task(id=UUID('09755ba6-8b30-46c7-9aeb-c81bca9965d0'), task_name='Monitor and maintain chatbot', task_description='Set up a system for ongoing monitoring and maintenance of the chatbot to ensure it continues to function effectively.', estimated_day=5), start_day=33, end_day=37)]),\n",
       "  Schedule(schedule=[TaskSchedule(task=Task(id=UUID('f5bbb0cd-1c0c-45b9-abf0-2a90a05d3566'), task_name='Define project scope and requirements', task_description='Gather and document the specific requirements for the chatbot application, including features, user interactions, and integration needs.', estimated_day=3), start_day=1, end_day=3), TaskSchedule(task=Task(id=UUID('d281904f-a971-4126-a381-ae8ab907e55b'), task_name='Research chatbot technologies', task_description='Investigate various chatbot frameworks and technologies to determine the best fit for the project.', estimated_day=4), start_day=4, end_day=7), TaskSchedule(task=Task(id=UUID('68e2aa5f-7028-46e1-a709-c503b720b0d1'), task_name='Design chatbot conversation flow', task_description='Create a flowchart or diagram outlining the conversation paths and user interactions for the chatbot.', estimated_day=5), start_day=4, end_day=8), TaskSchedule(task=Task(id=UUID('9c4a9713-aa11-477b-8fe2-c4d7104711a4'), task_name='Develop chatbot prototype', task_description='Build a basic prototype of the chatbot to demonstrate core functionalities and gather feedback.', estimated_day=5), start_day=9, end_day=13), TaskSchedule(task=Task(id=UUID('5d1dddc0-eff6-44c5-bb38-eeaa4d220cd3'), task_name='Implement natural language processing (NLP)', task_description='Integrate NLP capabilities to enable the chatbot to understand and respond to user queries effectively.', estimated_day=7), start_day=14, end_day=20), TaskSchedule(task=Task(id=UUID('22eb6680-fc2b-4010-b42a-ac134d405106'), task_name='Break down NLP implementation into smaller tasks', task_description='1. Research NLP libraries and tools (2 days)\\n2. Set up NLP environment (1 day)\\n3. Train NLP model with sample data (2 days)', estimated_day=5), start_day=14, end_day=18), TaskSchedule(task=Task(id=UUID('4e1ab30b-45c8-49d5-9c31-7d7a6f36c147'), task_name='Test chatbot functionalities', task_description='Conduct thorough testing of the chatbot to ensure it responds accurately and handles various user inputs.', estimated_day=5), start_day=21, end_day=25), TaskSchedule(task=Task(id=UUID('25e26118-91a8-490a-9063-fae3fad3a34b'), task_name='Gather user feedback', task_description='Collect feedback from users who interact with the chatbot prototype to identify areas for improvement.', estimated_day=3), start_day=14, end_day=16), TaskSchedule(task=Task(id=UUID('2664fcc0-1669-49e1-8000-88230c872de4'), task_name='Refine chatbot based on feedback', task_description='Make necessary adjustments to the chatbot based on user feedback and testing results.', estimated_day=4), start_day=26, end_day=29), TaskSchedule(task=Task(id=UUID('87694e4f-20c0-4b57-b9dc-de1dd9e2e03d'), task_name='Deploy chatbot application', task_description='Launch the chatbot application for public use, ensuring all systems are operational.', estimated_day=3), start_day=30, end_day=32), TaskSchedule(task=Task(id=UUID('09755ba6-8b30-46c7-9aeb-c81bca9965d0'), task_name='Monitor and maintain chatbot', task_description='Set up a system for ongoing monitoring and maintenance of the chatbot to ensure it continues to function effectively.', estimated_day=5), start_day=33, end_day=37)])],\n",
       " 'task_allocations_iteration': [TaskAllocationList(task_allocations=[TaskAllocation(task=Task(id=UUID('f5bbb0cd-1c0c-45b9-abf0-2a90a05d3566'), task_name='Define project scope and requirements', task_description='Gather and document the specific requirements for the chatbot application, including features, user interactions, and integration needs.', estimated_day=3), team_member=TeamMember(name='Charlie', profile='Charlie is a Project Manager experienced in Agile methodologies team leadership project planning and risk management.')), TaskAllocation(task=Task(id=UUID('d281904f-a971-4126-a381-ae8ab907e55b'), task_name='Research chatbot technologies', task_description='Investigate various chatbot frameworks and technologies to determine the best fit for the project.', estimated_day=4), team_member=TeamMember(name='Bob', profile='Bob is a Backend Developer proficient in Python Django SQL and RESTful APIs.')), TaskAllocation(task=Task(id=UUID('68e2aa5f-7028-46e1-a709-c503b720b0d1'), task_name='Design chatbot conversation flow', task_description='Create a flowchart or diagram outlining the conversation paths and user interactions for the chatbot.', estimated_day=5), team_member=TeamMember(name='Alice', profile='Alice is a Frontend Developer skilled in HTML CSS JavaScript and React.')), TaskAllocation(task=Task(id=UUID('9c4a9713-aa11-477b-8fe2-c4d7104711a4'), task_name='Develop chatbot prototype', task_description='Build a basic prototype of the chatbot to demonstrate core functionalities and gather feedback.', estimated_day=5), team_member=TeamMember(name='David', profile='David is a Full Stack Developer with expertise in both frontend (HTML CSS JavaScript) and backend (Node.js MongoDB) technologies.')), TaskAllocation(task=Task(id=UUID('5d1dddc0-eff6-44c5-bb38-eeaa4d220cd3'), task_name='Implement natural language processing (NLP)', task_description='Integrate NLP capabilities to enable the chatbot to understand and respond to user queries effectively.', estimated_day=7), team_member=TeamMember(name='Bob', profile='Bob is a Backend Developer proficient in Python Django SQL and RESTful APIs.')), TaskAllocation(task=Task(id=UUID('22eb6680-fc2b-4010-b42a-ac134d405106'), task_name='Break down NLP implementation into smaller tasks', task_description='1. Research NLP libraries and tools (2 days)\\n2. Set up NLP environment (1 day)\\n3. Train NLP model with sample data (2 days)', estimated_day=5), team_member=TeamMember(name='Alice', profile='Alice is a Frontend Developer skilled in HTML CSS JavaScript and React.')), TaskAllocation(task=Task(id=UUID('4e1ab30b-45c8-49d5-9c31-7d7a6f36c147'), task_name='Test chatbot functionalities', task_description='Conduct thorough testing of the chatbot to ensure it responds accurately and handles various user inputs.', estimated_day=5), team_member=TeamMember(name='David', profile='David is a Full Stack Developer with expertise in both frontend (HTML CSS JavaScript) and backend (Node.js MongoDB) technologies.')), TaskAllocation(task=Task(id=UUID('25e26118-91a8-490a-9063-fae3fad3a34b'), task_name='Gather user feedback', task_description='Collect feedback from users who interact with the chatbot prototype to identify areas for improvement.', estimated_day=3), team_member=TeamMember(name='Charlie', profile='Charlie is a Project Manager experienced in Agile methodologies team leadership project planning and risk management.')), TaskAllocation(task=Task(id=UUID('2664fcc0-1669-49e1-8000-88230c872de4'), task_name='Refine chatbot based on feedback', task_description='Make necessary adjustments to the chatbot based on user feedback and testing results.', estimated_day=4), team_member=TeamMember(name='Eve', profile='Eve is a DevOps Engineer skilled in CI/CD pipelines Docker Kubernetes and cloud services like AWS and Azure.')), TaskAllocation(task=Task(id=UUID('87694e4f-20c0-4b57-b9dc-de1dd9e2e03d'), task_name='Deploy chatbot application', task_description='Launch the chatbot application for public use, ensuring all systems are operational.', estimated_day=3), team_member=TeamMember(name='Eve', profile='Eve is a DevOps Engineer skilled in CI/CD pipelines Docker Kubernetes and cloud services like AWS and Azure.')), TaskAllocation(task=Task(id=UUID('09755ba6-8b30-46c7-9aeb-c81bca9965d0'), task_name='Monitor and maintain chatbot', task_description='Set up a system for ongoing monitoring and maintenance of the chatbot to ensure it continues to function effectively.', estimated_day=5), team_member=TeamMember(name='Bob', profile='Bob is a Backend Developer proficient in Python Django SQL and RESTful APIs.'))]),\n",
       "  TaskAllocationList(task_allocations=[TaskAllocation(task=Task(id=UUID('f5bbb0cd-1c0c-45b9-abf0-2a90a05d3566'), task_name='Define project scope and requirements', task_description='Gather and document the specific requirements for the chatbot application, including features, user interactions, and integration needs.', estimated_day=3), team_member=TeamMember(name='Charlie', profile='Charlie is a Project Manager experienced in Agile methodologies team leadership project planning and risk management.')), TaskAllocation(task=Task(id=UUID('d281904f-a971-4126-a381-ae8ab907e55b'), task_name='Research chatbot technologies', task_description='Investigate various chatbot frameworks and technologies to determine the best fit for the project.', estimated_day=4), team_member=TeamMember(name='Bob', profile='Bob is a Backend Developer proficient in Python Django SQL and RESTful APIs.')), TaskAllocation(task=Task(id=UUID('68e2aa5f-7028-46e1-a709-c503b720b0d1'), task_name='Design chatbot conversation flow', task_description='Create a flowchart or diagram outlining the conversation paths and user interactions for the chatbot.', estimated_day=5), team_member=TeamMember(name='Alice', profile='Alice is a Frontend Developer skilled in HTML CSS JavaScript and React.')), TaskAllocation(task=Task(id=UUID('9c4a9713-aa11-477b-8fe2-c4d7104711a4'), task_name='Develop chatbot prototype', task_description='Build a basic prototype of the chatbot to demonstrate core functionalities and gather feedback.', estimated_day=5), team_member=TeamMember(name='David', profile='David is a Full Stack Developer with expertise in both frontend (HTML CSS JavaScript) and backend (Node.js MongoDB) technologies.')), TaskAllocation(task=Task(id=UUID('5d1dddc0-eff6-44c5-bb38-eeaa4d220cd3'), task_name='Implement natural language processing (NLP)', task_description='Integrate NLP capabilities to enable the chatbot to understand and respond to user queries effectively.', estimated_day=7), team_member=TeamMember(name='Eve', profile='Eve is a DevOps Engineer skilled in CI/CD pipelines Docker Kubernetes and cloud services like AWS and Azure.')), TaskAllocation(task=Task(id=UUID('22eb6680-fc2b-4010-b42a-ac134d405106'), task_name='Break down NLP implementation into smaller tasks', task_description='1. Research NLP libraries and tools (2 days)\\n2. Set up NLP environment (1 day)\\n3. Train NLP model with sample data (2 days)', estimated_day=5), team_member=TeamMember(name='Alice', profile='Alice is a Frontend Developer skilled in HTML CSS JavaScript and React.')), TaskAllocation(task=Task(id=UUID('4e1ab30b-45c8-49d5-9c31-7d7a6f36c147'), task_name='Test chatbot functionalities', task_description='Conduct thorough testing of the chatbot to ensure it responds accurately and handles various user inputs.', estimated_day=5), team_member=TeamMember(name='David', profile='David is a Full Stack Developer with expertise in both frontend (HTML CSS JavaScript) and backend (Node.js MongoDB) technologies.')), TaskAllocation(task=Task(id=UUID('25e26118-91a8-490a-9063-fae3fad3a34b'), task_name='Gather user feedback', task_description='Collect feedback from users who interact with the chatbot prototype to identify areas for improvement.', estimated_day=3), team_member=TeamMember(name='Charlie', profile='Charlie is a Project Manager experienced in Agile methodologies team leadership project planning and risk management.')), TaskAllocation(task=Task(id=UUID('2664fcc0-1669-49e1-8000-88230c872de4'), task_name='Refine chatbot based on feedback', task_description='Make necessary adjustments to the chatbot based on user feedback and testing results.', estimated_day=4), team_member=TeamMember(name='Eve', profile='Eve is a DevOps Engineer skilled in CI/CD pipelines Docker Kubernetes and cloud services like AWS and Azure.')), TaskAllocation(task=Task(id=UUID('87694e4f-20c0-4b57-b9dc-de1dd9e2e03d'), task_name='Deploy chatbot application', task_description='Launch the chatbot application for public use, ensuring all systems are operational.', estimated_day=3), team_member=TeamMember(name='Eve', profile='Eve is a DevOps Engineer skilled in CI/CD pipelines Docker Kubernetes and cloud services like AWS and Azure.')), TaskAllocation(task=Task(id=UUID('09755ba6-8b30-46c7-9aeb-c81bca9965d0'), task_name='Monitor and maintain chatbot', task_description='Set up a system for ongoing monitoring and maintenance of the chatbot to ensure it continues to function effectively.', estimated_day=5), team_member=TeamMember(name='Bob', profile='Bob is a Backend Developer proficient in Python Django SQL and RESTful APIs.'))]),\n",
       "  TaskAllocationList(task_allocations=[TaskAllocation(task=Task(id=UUID('f5bbb0cd-1c0c-45b9-abf0-2a90a05d3566'), task_name='Define project scope and requirements', task_description='Gather and document the specific requirements for the chatbot application, including features, user interactions, and integration needs.', estimated_day=3), team_member=TeamMember(name='Charlie', profile='Charlie is a Project Manager experienced in Agile methodologies team leadership project planning and risk management.')), TaskAllocation(task=Task(id=UUID('d281904f-a971-4126-a381-ae8ab907e55b'), task_name='Research chatbot technologies', task_description='Investigate various chatbot frameworks and technologies to determine the best fit for the project.', estimated_day=4), team_member=TeamMember(name='Bob', profile='Bob is a Backend Developer proficient in Python Django SQL and RESTful APIs.')), TaskAllocation(task=Task(id=UUID('68e2aa5f-7028-46e1-a709-c503b720b0d1'), task_name='Design chatbot conversation flow', task_description='Create a flowchart or diagram outlining the conversation paths and user interactions for the chatbot.', estimated_day=5), team_member=TeamMember(name='Alice', profile='Alice is a Frontend Developer skilled in HTML CSS JavaScript and React.')), TaskAllocation(task=Task(id=UUID('9c4a9713-aa11-477b-8fe2-c4d7104711a4'), task_name='Develop chatbot prototype', task_description='Build a basic prototype of the chatbot to demonstrate core functionalities and gather feedback.', estimated_day=5), team_member=TeamMember(name='David', profile='David is a Full Stack Developer with expertise in both frontend (HTML CSS JavaScript) and backend (Node.js MongoDB) technologies.')), TaskAllocation(task=Task(id=UUID('5d1dddc0-eff6-44c5-bb38-eeaa4d220cd3'), task_name='Implement natural language processing (NLP)', task_description='Integrate NLP capabilities to enable the chatbot to understand and respond to user queries effectively.', estimated_day=7), team_member=TeamMember(name='Eve', profile='Eve is a DevOps Engineer skilled in CI/CD pipelines Docker Kubernetes and cloud services like AWS and Azure.')), TaskAllocation(task=Task(id=UUID('22eb6680-fc2b-4010-b42a-ac134d405106'), task_name='Break down NLP implementation into smaller tasks', task_description='1. Research NLP libraries and tools (2 days)\\n2. Set up NLP environment (1 day)\\n3. Train NLP model with sample data (2 days)', estimated_day=5), team_member=TeamMember(name='Alice', profile='Alice is a Frontend Developer skilled in HTML CSS JavaScript and React.')), TaskAllocation(task=Task(id=UUID('4e1ab30b-45c8-49d5-9c31-7d7a6f36c147'), task_name='Test chatbot functionalities', task_description='Conduct thorough testing of the chatbot to ensure it responds accurately and handles various user inputs.', estimated_day=5), team_member=TeamMember(name='David', profile='David is a Full Stack Developer with expertise in both frontend (HTML CSS JavaScript) and backend (Node.js MongoDB) technologies.')), TaskAllocation(task=Task(id=UUID('25e26118-91a8-490a-9063-fae3fad3a34b'), task_name='Gather user feedback', task_description='Collect feedback from users who interact with the chatbot prototype to identify areas for improvement.', estimated_day=3), team_member=TeamMember(name='Charlie', profile='Charlie is a Project Manager experienced in Agile methodologies team leadership project planning and risk management.')), TaskAllocation(task=Task(id=UUID('2664fcc0-1669-49e1-8000-88230c872de4'), task_name='Refine chatbot based on feedback', task_description='Make necessary adjustments to the chatbot based on user feedback and testing results.', estimated_day=4), team_member=TeamMember(name='Eve', profile='Eve is a DevOps Engineer skilled in CI/CD pipelines Docker Kubernetes and cloud services like AWS and Azure.')), TaskAllocation(task=Task(id=UUID('87694e4f-20c0-4b57-b9dc-de1dd9e2e03d'), task_name='Deploy chatbot application', task_description='Launch the chatbot application for public use, ensuring all systems are operational.', estimated_day=3), team_member=TeamMember(name='Eve', profile='Eve is a DevOps Engineer skilled in CI/CD pipelines Docker Kubernetes and cloud services like AWS and Azure.')), TaskAllocation(task=Task(id=UUID('09755ba6-8b30-46c7-9aeb-c81bca9965d0'), task_name='Monitor and maintain chatbot', task_description='Set up a system for ongoing monitoring and maintenance of the chatbot to ensure it continues to function effectively.', estimated_day=5), team_member=TeamMember(name='Bob', profile='Bob is a Backend Developer proficient in Python Django SQL and RESTful APIs.'))])],\n",
       " 'risks_iteration': [],\n",
       " 'project_risk_score_iterations': [52, 56, 56]}"
      ]
     },
     "execution_count": 104,
     "metadata": {},
     "output_type": "execute_result"
    }
   ],
   "source": [
    "# Retrive the final state\n",
    "final_state = graph_plan.get_state(config).values\n",
    "final_state"
   ]
  },
  {
   "cell_type": "markdown",
   "metadata": {},
   "source": [
    "#### Visualize the results"
   ]
  },
  {
   "cell_type": "code",
   "execution_count": 118,
   "metadata": {},
   "outputs": [],
   "source": [
    "!pip install networkx -q"
   ]
  },
  {
   "cell_type": "code",
   "execution_count": 119,
   "metadata": {},
   "outputs": [
    {
     "data": {
      "image/png": "[encoded data removed]",
      "text/plain": [
       "<Figure size 640x480 with 1 Axes>"
      ]
     },
     "metadata": {},
     "output_type": "display_data"
    }
   ],
   "source": [
    "import networkx as nx\n",
    "import matplotlib.pyplot as plt\n",
    "\n",
    "# Create a directed graph\n",
    "G = nx.DiGraph()\n",
    "\n",
    "# Add nodes (tasks or modules)\n",
    "G.add_node('A')\n",
    "G.add_node('B')\n",
    "G.add_node('C')\n",
    "G.add_node('D')\n",
    "\n",
    "# Add edges (dependencies)\n",
    "G.add_edge('A', 'B')  # A depends on B\n",
    "G.add_edge('A', 'C')  # A depends on C\n",
    "G.add_edge('B', 'D')  # B depends on D\n",
    "G.add_edge('C', 'D')  # C depends on D\n",
    "\n",
    "# Draw the graph\n",
    "pos = nx.spring_layout(G)\n",
    "nx.draw(G, pos, with_labels=True, node_size=2000, node_color='lightblue', font_size=10, font_weight='bold', arrows=True)\n",
    "plt.title('Dependency Graph')\n",
    "plt.show()"
   ]
  },
  {
   "cell_type": "code",
   "execution_count": 116,
   "metadata": {},
   "outputs": [
    {
     "data": {
      "application/vnd.plotly.v1+json": {
       "config": {
        "plotlyServerURL": "https://plot.ly"
       },
       "data": [
        {
         "alignmentgroup": "True",
         "base": [
          "2024-11-18T14:14:50.605482",
          "2024-12-01T14:14:50.605482"
         ],
         "hovertemplate": "Team Member=Charlie<br>start=%{base}<br>end=%{x}<br>task_name=%{y}<extra></extra>",
         "legendgroup": "Charlie",
         "marker": {
          "color": "#636efa",
          "pattern": {
           "shape": ""
          }
         },
         "name": "Charlie",
         "offsetgroup": "Charlie",
         "orientation": "h",
         "showlegend": true,
         "textposition": "auto",
         "type": "bar",
         "x": [
          172800000,
          172800000
         ],
         "xaxis": "x",
         "y": [
          "Define project scope and requirements",
          "Gather user feedback"
         ],
         "yaxis": "y"
        },
        {
         "alignmentgroup": "True",
         "base": [
          "2024-11-21T14:14:50.605482",
          "2024-12-01T14:14:50.605482",
          "2024-12-20T14:14:50.605482"
         ],
         "hovertemplate": "Team Member=Bob<br>start=%{base}<br>end=%{x}<br>task_name=%{y}<extra></extra>",
         "legendgroup": "Bob",
         "marker": {
          "color": "#EF553B",
          "pattern": {
           "shape": ""
          }
         },
         "name": "Bob",
         "offsetgroup": "Bob",
         "orientation": "h",
         "showlegend": true,
         "textposition": "auto",
         "type": "bar",
         "x": [
          259200000,
          518400000,
          345600000
         ],
         "xaxis": "x",
         "y": [
          "Research chatbot technologies",
          "Implement natural language processing (NLP)",
          "Monitor and maintain chatbot"
         ],
         "yaxis": "y"
        },
        {
         "alignmentgroup": "True",
         "base": [
          "2024-11-21T14:14:50.605482",
          "2024-12-01T14:14:50.605482"
         ],
         "hovertemplate": "Team Member=Alice<br>start=%{base}<br>end=%{x}<br>task_name=%{y}<extra></extra>",
         "legendgroup": "Alice",
         "marker": {
          "color": "#00cc96",
          "pattern": {
           "shape": ""
          }
         },
         "name": "Alice",
         "offsetgroup": "Alice",
         "orientation": "h",
         "showlegend": true,
         "textposition": "auto",
         "type": "bar",
         "x": [
          345600000,
          345600000
         ],
         "xaxis": "x",
         "y": [
          "Design chatbot conversation flow",
          "Break down NLP implementation into smaller tasks"
         ],
         "yaxis": "y"
        },
        {
         "alignmentgroup": "True",
         "base": [
          "2024-11-26T14:14:50.605482",
          "2024-12-08T14:14:50.605482"
         ],
         "hovertemplate": "Team Member=David<br>start=%{base}<br>end=%{x}<br>task_name=%{y}<extra></extra>",
         "legendgroup": "David",
         "marker": {
          "color": "#ab63fa",
          "pattern": {
           "shape": ""
          }
         },
         "name": "David",
         "offsetgroup": "David",
         "orientation": "h",
         "showlegend": true,
         "textposition": "auto",
         "type": "bar",
         "x": [
          345600000,
          345600000
         ],
         "xaxis": "x",
         "y": [
          "Develop chatbot prototype",
          "Test chatbot functionalities"
         ],
         "yaxis": "y"
        },
        {
         "alignmentgroup": "True",
         "base": [
          "2024-12-13T14:14:50.605482",
          "2024-12-17T14:14:50.605482"
         ],
         "hovertemplate": "Team Member=Eve<br>start=%{base}<br>end=%{x}<br>task_name=%{y}<extra></extra>",
         "legendgroup": "Eve",
         "marker": {
          "color": "#FFA15A",
          "pattern": {
           "shape": ""
          }
         },
         "name": "Eve",
         "offsetgroup": "Eve",
         "orientation": "h",
         "showlegend": true,
         "textposition": "auto",
         "type": "bar",
         "x": [
          259200000,
          172800000
         ],
         "xaxis": "x",
         "y": [
          "Refine chatbot based on feedback",
          "Deploy chatbot application"
         ],
         "yaxis": "y"
        }
       ],
       "layout": {
        "barmode": "overlay",
        "legend": {
         "title": {
          "text": "Team Member"
         },
         "tracegroupgap": 0
        },
        "template": {
         "data": {
          "bar": [
           {
            "error_x": {
             "color": "#2a3f5f"
            },
            "error_y": {
             "color": "#2a3f5f"
            },
            "marker": {
             "line": {
              "color": "#E5ECF6",
              "width": 0.5
             },
             "pattern": {
              "fillmode": "overlay",
              "size": 10,
              "solidity": 0.2
             }
            },
            "type": "bar"
           }
          ],
          "barpolar": [
           {
            "marker": {
             "line": {
              "color": "#E5ECF6",
              "width": 0.5
             },
             "pattern": {
              "fillmode": "overlay",
              "size": 10,
              "solidity": 0.2
             }
            },
            "type": "barpolar"
           }
          ],
          "carpet": [
           {
            "aaxis": {
             "endlinecolor": "#2a3f5f",
             "gridcolor": "white",
             "linecolor": "white",
             "minorgridcolor": "white",
             "startlinecolor": "#2a3f5f"
            },
            "baxis": {
             "endlinecolor": "#2a3f5f",
             "gridcolor": "white",
             "linecolor": "white",
             "minorgridcolor": "white",
             "startlinecolor": "#2a3f5f"
            },
            "type": "carpet"
           }
          ],
          "choropleth": [
           {
            "colorbar": {
             "outlinewidth": 0,
             "ticks": ""
            },
            "type": "choropleth"
           }
          ],
          "contour": [
           {
            "colorbar": {
             "outlinewidth": 0,
             "ticks": ""
            },
            "colorscale": [
             [
              0,
              "#0d0887"
             ],
             [
              0.1111111111111111,
              "#46039f"
             ],
             [
              0.2222222222222222,
              "#7201a8"
             ],
             [
              0.3333333333333333,
              "#9c179e"
             ],
             [
              0.4444444444444444,
              "#bd3786"
             ],
             [
              0.5555555555555556,
              "#d8576b"
             ],
             [
              0.6666666666666666,
              "#ed7953"
             ],
             [
              0.7777777777777778,
              "#fb9f3a"
             ],
             [
              0.8888888888888888,
              "#fdca26"
             ],
             [
              1,
              "#f0f921"
             ]
            ],
            "type": "contour"
           }
          ],
          "contourcarpet": [
           {
            "colorbar": {
             "outlinewidth": 0,
             "ticks": ""
            },
            "type": "contourcarpet"
           }
          ],
          "heatmap": [
           {
            "colorbar": {
             "outlinewidth": 0,
             "ticks": ""
            },
            "colorscale": [
             [
              0,
              "#0d0887"
             ],
             [
              0.1111111111111111,
              "#46039f"
             ],
             [
              0.2222222222222222,
              "#7201a8"
             ],
             [
              0.3333333333333333,
              "#9c179e"
             ],
             [
              0.4444444444444444,
              "#bd3786"
             ],
             [
              0.5555555555555556,
              "#d8576b"
             ],
             [
              0.6666666666666666,
              "#ed7953"
             ],
             [
              0.7777777777777778,
              "#fb9f3a"
             ],
             [
              0.8888888888888888,
              "#fdca26"
             ],
             [
              1,
              "#f0f921"
             ]
            ],
            "type": "heatmap"
           }
          ],
          "heatmapgl": [
           {
            "colorbar": {
             "outlinewidth": 0,
             "ticks": ""
            },
            "colorscale": [
             [
              0,
              "#0d0887"
             ],
             [
              0.1111111111111111,
              "#46039f"
             ],
             [
              0.2222222222222222,
              "#7201a8"
             ],
             [
              0.3333333333333333,
              "#9c179e"
             ],
             [
              0.4444444444444444,
              "#bd3786"
             ],
             [
              0.5555555555555556,
              "#d8576b"
             ],
             [
              0.6666666666666666,
              "#ed7953"
             ],
             [
              0.7777777777777778,
              "#fb9f3a"
             ],
             [
              0.8888888888888888,
              "#fdca26"
             ],
             [
              1,
              "#f0f921"
             ]
            ],
            "type": "heatmapgl"
           }
          ],
          "histogram": [
           {
            "marker": {
             "pattern": {
              "fillmode": "overlay",
              "size": 10,
              "solidity": 0.2
             }
            },
            "type": "histogram"
           }
          ],
          "histogram2d": [
           {
            "colorbar": {
             "outlinewidth": 0,
             "ticks": ""
            },
            "colorscale": [
             [
              0,
              "#0d0887"
             ],
             [
              0.1111111111111111,
              "#46039f"
             ],
             [
              0.2222222222222222,
              "#7201a8"
             ],
             [
              0.3333333333333333,
              "#9c179e"
             ],
             [
              0.4444444444444444,
              "#bd3786"
             ],
             [
              0.5555555555555556,
              "#d8576b"
             ],
             [
              0.6666666666666666,
              "#ed7953"
             ],
             [
              0.7777777777777778,
              "#fb9f3a"
             ],
             [
              0.8888888888888888,
              "#fdca26"
             ],
             [
              1,
              "#f0f921"
             ]
            ],
            "type": "histogram2d"
           }
          ],
          "histogram2dcontour": [
           {
            "colorbar": {
             "outlinewidth": 0,
             "ticks": ""
            },
            "colorscale": [
             [
              0,
              "#0d0887"
             ],
             [
              0.1111111111111111,
              "#46039f"
             ],
             [
              0.2222222222222222,
              "#7201a8"
             ],
             [
              0.3333333333333333,
              "#9c179e"
             ],
             [
              0.4444444444444444,
              "#bd3786"
             ],
             [
              0.5555555555555556,
              "#d8576b"
             ],
             [
              0.6666666666666666,
              "#ed7953"
             ],
             [
              0.7777777777777778,
              "#fb9f3a"
             ],
             [
              0.8888888888888888,
              "#fdca26"
             ],
             [
              1,
              "#f0f921"
             ]
            ],
            "type": "histogram2dcontour"
           }
          ],
          "mesh3d": [
           {
            "colorbar": {
             "outlinewidth": 0,
             "ticks": ""
            },
            "type": "mesh3d"
           }
          ],
          "parcoords": [
           {
            "line": {
             "colorbar": {
              "outlinewidth": 0,
              "ticks": ""
             }
            },
            "type": "parcoords"
           }
          ],
          "pie": [
           {
            "automargin": true,
            "type": "pie"
           }
          ],
          "scatter": [
           {
            "fillpattern": {
             "fillmode": "overlay",
             "size": 10,
             "solidity": 0.2
            },
            "type": "scatter"
           }
          ],
          "scatter3d": [
           {
            "line": {
             "colorbar": {
              "outlinewidth": 0,
              "ticks": ""
             }
            },
            "marker": {
             "colorbar": {
              "outlinewidth": 0,
              "ticks": ""
             }
            },
            "type": "scatter3d"
           }
          ],
          "scattercarpet": [
           {
            "marker": {
             "colorbar": {
              "outlinewidth": 0,
              "ticks": ""
             }
            },
            "type": "scattercarpet"
           }
          ],
          "scattergeo": [
           {
            "marker": {
             "colorbar": {
              "outlinewidth": 0,
              "ticks": ""
             }
            },
            "type": "scattergeo"
           }
          ],
          "scattergl": [
           {
            "marker": {
             "colorbar": {
              "outlinewidth": 0,
              "ticks": ""
             }
            },
            "type": "scattergl"
           }
          ],
          "scattermapbox": [
           {
            "marker": {
             "colorbar": {
              "outlinewidth": 0,
              "ticks": ""
             }
            },
            "type": "scattermapbox"
           }
          ],
          "scatterpolar": [
           {
            "marker": {
             "colorbar": {
              "outlinewidth": 0,
              "ticks": ""
             }
            },
            "type": "scatterpolar"
           }
          ],
          "scatterpolargl": [
           {
            "marker": {
             "colorbar": {
              "outlinewidth": 0,
              "ticks": ""
             }
            },
            "type": "scatterpolargl"
           }
          ],
          "scatterternary": [
           {
            "marker": {
             "colorbar": {
              "outlinewidth": 0,
              "ticks": ""
             }
            },
            "type": "scatterternary"
           }
          ],
          "surface": [
           {
            "colorbar": {
             "outlinewidth": 0,
             "ticks": ""
            },
            "colorscale": [
             [
              0,
              "#0d0887"
             ],
             [
              0.1111111111111111,
              "#46039f"
             ],
             [
              0.2222222222222222,
              "#7201a8"
             ],
             [
              0.3333333333333333,
              "#9c179e"
             ],
             [
              0.4444444444444444,
              "#bd3786"
             ],
             [
              0.5555555555555556,
              "#d8576b"
             ],
             [
              0.6666666666666666,
              "#ed7953"
             ],
             [
              0.7777777777777778,
              "#fb9f3a"
             ],
             [
              0.8888888888888888,
              "#fdca26"
             ],
             [
              1,
              "#f0f921"
             ]
            ],
            "type": "surface"
           }
          ],
          "table": [
           {
            "cells": {
             "fill": {
              "color": "#EBF0F8"
             },
             "line": {
              "color": "white"
             }
            },
            "header": {
             "fill": {
              "color": "#C8D4E3"
             },
             "line": {
              "color": "white"
             }
            },
            "type": "table"
           }
          ]
         },
         "layout": {
          "annotationdefaults": {
           "arrowcolor": "#2a3f5f",
           "arrowhead": 0,
           "arrowwidth": 1
          },
          "autotypenumbers": "strict",
          "coloraxis": {
           "colorbar": {
            "outlinewidth": 0,
            "ticks": ""
           }
          },
          "colorscale": {
           "diverging": [
            [
             0,
             "#8e0152"
            ],
            [
             0.1,
             "#c51b7d"
            ],
            [
             0.2,
             "#de77ae"
            ],
            [
             0.3,
             "#f1b6da"
            ],
            [
             0.4,
             "#fde0ef"
            ],
            [
             0.5,
             "#f7f7f7"
            ],
            [
             0.6,
             "#e6f5d0"
            ],
            [
             0.7,
             "#b8e186"
            ],
            [
             0.8,
             "#7fbc41"
            ],
            [
             0.9,
             "#4d9221"
            ],
            [
             1,
             "#276419"
            ]
           ],
           "sequential": [
            [
             0,
             "#0d0887"
            ],
            [
             0.1111111111111111,
             "#46039f"
            ],
            [
             0.2222222222222222,
             "#7201a8"
            ],
            [
             0.3333333333333333,
             "#9c179e"
            ],
            [
             0.4444444444444444,
             "#bd3786"
            ],
            [
             0.5555555555555556,
             "#d8576b"
            ],
            [
             0.6666666666666666,
             "#ed7953"
            ],
            [
             0.7777777777777778,
             "#fb9f3a"
            ],
            [
             0.8888888888888888,
             "#fdca26"
            ],
            [
             1,
             "#f0f921"
            ]
           ],
           "sequentialminus": [
            [
             0,
             "#0d0887"
            ],
            [
             0.1111111111111111,
             "#46039f"
            ],
            [
             0.2222222222222222,
             "#7201a8"
            ],
            [
             0.3333333333333333,
             "#9c179e"
            ],
            [
             0.4444444444444444,
             "#bd3786"
            ],
            [
             0.5555555555555556,
             "#d8576b"
            ],
            [
             0.6666666666666666,
             "#ed7953"
            ],
            [
             0.7777777777777778,
             "#fb9f3a"
            ],
            [
             0.8888888888888888,
             "#fdca26"
            ],
            [
             1,
             "#f0f921"
            ]
           ]
          },
          "colorway": [
           "#636efa",
           "#EF553B",
           "#00cc96",
           "#ab63fa",
           "#FFA15A",
           "#19d3f3",
           "#FF6692",
           "#B6E880",
           "#FF97FF",
           "#FECB52"
          ],
          "font": {
           "color": "#2a3f5f"
          },
          "geo": {
           "bgcolor": "white",
           "lakecolor": "white",
           "landcolor": "#E5ECF6",
           "showlakes": true,
           "showland": true,
           "subunitcolor": "white"
          },
          "hoverlabel": {
           "align": "left"
          },
          "hovermode": "closest",
          "mapbox": {
           "style": "light"
          },
          "paper_bgcolor": "white",
          "plot_bgcolor": "#E5ECF6",
          "polar": {
           "angularaxis": {
            "gridcolor": "white",
            "linecolor": "white",
            "ticks": ""
           },
           "bgcolor": "#E5ECF6",
           "radialaxis": {
            "gridcolor": "white",
            "linecolor": "white",
            "ticks": ""
           }
          },
          "scene": {
           "xaxis": {
            "backgroundcolor": "#E5ECF6",
            "gridcolor": "white",
            "gridwidth": 2,
            "linecolor": "white",
            "showbackground": true,
            "ticks": "",
            "zerolinecolor": "white"
           },
           "yaxis": {
            "backgroundcolor": "#E5ECF6",
            "gridcolor": "white",
            "gridwidth": 2,
            "linecolor": "white",
            "showbackground": true,
            "ticks": "",
            "zerolinecolor": "white"
           },
           "zaxis": {
            "backgroundcolor": "#E5ECF6",
            "gridcolor": "white",
            "gridwidth": 2,
            "linecolor": "white",
            "showbackground": true,
            "ticks": "",
            "zerolinecolor": "white"
           }
          },
          "shapedefaults": {
           "line": {
            "color": "#2a3f5f"
           }
          },
          "ternary": {
           "aaxis": {
            "gridcolor": "white",
            "linecolor": "white",
            "ticks": ""
           },
           "baxis": {
            "gridcolor": "white",
            "linecolor": "white",
            "ticks": ""
           },
           "bgcolor": "#E5ECF6",
           "caxis": {
            "gridcolor": "white",
            "linecolor": "white",
            "ticks": ""
           }
          },
          "title": {
           "x": 0.05
          },
          "xaxis": {
           "automargin": true,
           "gridcolor": "white",
           "linecolor": "white",
           "ticks": "",
           "title": {
            "standoff": 15
           },
           "zerolinecolor": "white",
           "zerolinewidth": 2
          },
          "yaxis": {
           "automargin": true,
           "gridcolor": "white",
           "linecolor": "white",
           "ticks": "",
           "title": {
            "standoff": 15
           },
           "zerolinecolor": "white",
           "zerolinewidth": 2
          }
         }
        },
        "title": {
         "text": "Gantt Chart - Iteration:1 ",
         "x": 0.5
        },
        "xaxis": {
         "anchor": "y",
         "domain": [
          0,
          1
         ],
         "title": {
          "text": "Timeline"
         },
         "type": "date"
        },
        "yaxis": {
         "anchor": "x",
         "autorange": "reversed",
         "domain": [
          0,
          1
         ],
         "title": {
          "text": "Tasks"
         }
        }
       }
      }
     },
     "metadata": {},
     "output_type": "display_data"
    },
    {
     "data": {
      "application/vnd.plotly.v1+json": {
       "config": {
        "plotlyServerURL": "https://plot.ly"
       },
       "data": [
        {
         "alignmentgroup": "True",
         "base": [
          "2024-11-18T14:14:50.684508",
          "2024-12-01T14:14:50.684508"
         ],
         "hovertemplate": "Team Member=Charlie<br>start=%{base}<br>end=%{x}<br>task_name=%{y}<extra></extra>",
         "legendgroup": "Charlie",
         "marker": {
          "color": "#636efa",
          "pattern": {
           "shape": ""
          }
         },
         "name": "Charlie",
         "offsetgroup": "Charlie",
         "orientation": "h",
         "showlegend": true,
         "textposition": "auto",
         "type": "bar",
         "x": [
          172800000,
          172800000
         ],
         "xaxis": "x",
         "y": [
          "Define project scope and requirements",
          "Gather user feedback"
         ],
         "yaxis": "y"
        },
        {
         "alignmentgroup": "True",
         "base": [
          "2024-11-21T14:14:50.684508",
          "2024-12-20T14:14:50.684508"
         ],
         "hovertemplate": "Team Member=Bob<br>start=%{base}<br>end=%{x}<br>task_name=%{y}<extra></extra>",
         "legendgroup": "Bob",
         "marker": {
          "color": "#EF553B",
          "pattern": {
           "shape": ""
          }
         },
         "name": "Bob",
         "offsetgroup": "Bob",
         "orientation": "h",
         "showlegend": true,
         "textposition": "auto",
         "type": "bar",
         "x": [
          259200000,
          345600000
         ],
         "xaxis": "x",
         "y": [
          "Research chatbot technologies",
          "Monitor and maintain chatbot"
         ],
         "yaxis": "y"
        },
        {
         "alignmentgroup": "True",
         "base": [
          "2024-11-21T14:14:50.684508",
          "2024-12-01T14:14:50.684508"
         ],
         "hovertemplate": "Team Member=Alice<br>start=%{base}<br>end=%{x}<br>task_name=%{y}<extra></extra>",
         "legendgroup": "Alice",
         "marker": {
          "color": "#00cc96",
          "pattern": {
           "shape": ""
          }
         },
         "name": "Alice",
         "offsetgroup": "Alice",
         "orientation": "h",
         "showlegend": true,
         "textposition": "auto",
         "type": "bar",
         "x": [
          345600000,
          345600000
         ],
         "xaxis": "x",
         "y": [
          "Design chatbot conversation flow",
          "Break down NLP implementation into smaller tasks"
         ],
         "yaxis": "y"
        },
        {
         "alignmentgroup": "True",
         "base": [
          "2024-11-26T14:14:50.684508",
          "2024-12-08T14:14:50.684508"
         ],
         "hovertemplate": "Team Member=David<br>start=%{base}<br>end=%{x}<br>task_name=%{y}<extra></extra>",
         "legendgroup": "David",
         "marker": {
          "color": "#ab63fa",
          "pattern": {
           "shape": ""
          }
         },
         "name": "David",
         "offsetgroup": "David",
         "orientation": "h",
         "showlegend": true,
         "textposition": "auto",
         "type": "bar",
         "x": [
          345600000,
          345600000
         ],
         "xaxis": "x",
         "y": [
          "Develop chatbot prototype",
          "Test chatbot functionalities"
         ],
         "yaxis": "y"
        },
        {
         "alignmentgroup": "True",
         "base": [
          "2024-12-01T14:14:50.684508",
          "2024-12-13T14:14:50.684508",
          "2024-12-17T14:14:50.684508"
         ],
         "hovertemplate": "Team Member=Eve<br>start=%{base}<br>end=%{x}<br>task_name=%{y}<extra></extra>",
         "legendgroup": "Eve",
         "marker": {
          "color": "#FFA15A",
          "pattern": {
           "shape": ""
          }
         },
         "name": "Eve",
         "offsetgroup": "Eve",
         "orientation": "h",
         "showlegend": true,
         "textposition": "auto",
         "type": "bar",
         "x": [
          518400000,
          259200000,
          172800000
         ],
         "xaxis": "x",
         "y": [
          "Implement natural language processing (NLP)",
          "Refine chatbot based on feedback",
          "Deploy chatbot application"
         ],
         "yaxis": "y"
        }
       ],
       "layout": {
        "barmode": "overlay",
        "legend": {
         "title": {
          "text": "Team Member"
         },
         "tracegroupgap": 0
        },
        "template": {
         "data": {
          "bar": [
           {
            "error_x": {
             "color": "#2a3f5f"
            },
            "error_y": {
             "color": "#2a3f5f"
            },
            "marker": {
             "line": {
              "color": "#E5ECF6",
              "width": 0.5
             },
             "pattern": {
              "fillmode": "overlay",
              "size": 10,
              "solidity": 0.2
             }
            },
            "type": "bar"
           }
          ],
          "barpolar": [
           {
            "marker": {
             "line": {
              "color": "#E5ECF6",
              "width": 0.5
             },
             "pattern": {
              "fillmode": "overlay",
              "size": 10,
              "solidity": 0.2
             }
            },
            "type": "barpolar"
           }
          ],
          "carpet": [
           {
            "aaxis": {
             "endlinecolor": "#2a3f5f",
             "gridcolor": "white",
             "linecolor": "white",
             "minorgridcolor": "white",
             "startlinecolor": "#2a3f5f"
            },
            "baxis": {
             "endlinecolor": "#2a3f5f",
             "gridcolor": "white",
             "linecolor": "white",
             "minorgridcolor": "white",
             "startlinecolor": "#2a3f5f"
            },
            "type": "carpet"
           }
          ],
          "choropleth": [
           {
            "colorbar": {
             "outlinewidth": 0,
             "ticks": ""
            },
            "type": "choropleth"
           }
          ],
          "contour": [
           {
            "colorbar": {
             "outlinewidth": 0,
             "ticks": ""
            },
            "colorscale": [
             [
              0,
              "#0d0887"
             ],
             [
              0.1111111111111111,
              "#46039f"
             ],
             [
              0.2222222222222222,
              "#7201a8"
             ],
             [
              0.3333333333333333,
              "#9c179e"
             ],
             [
              0.4444444444444444,
              "#bd3786"
             ],
             [
              0.5555555555555556,
              "#d8576b"
             ],
             [
              0.6666666666666666,
              "#ed7953"
             ],
             [
              0.7777777777777778,
              "#fb9f3a"
             ],
             [
              0.8888888888888888,
              "#fdca26"
             ],
             [
              1,
              "#f0f921"
             ]
            ],
            "type": "contour"
           }
          ],
          "contourcarpet": [
           {
            "colorbar": {
             "outlinewidth": 0,
             "ticks": ""
            },
            "type": "contourcarpet"
           }
          ],
          "heatmap": [
           {
            "colorbar": {
             "outlinewidth": 0,
             "ticks": ""
            },
            "colorscale": [
             [
              0,
              "#0d0887"
             ],
             [
              0.1111111111111111,
              "#46039f"
             ],
             [
              0.2222222222222222,
              "#7201a8"
             ],
             [
              0.3333333333333333,
              "#9c179e"
             ],
             [
              0.4444444444444444,
              "#bd3786"
             ],
             [
              0.5555555555555556,
              "#d8576b"
             ],
             [
              0.6666666666666666,
              "#ed7953"
             ],
             [
              0.7777777777777778,
              "#fb9f3a"
             ],
             [
              0.8888888888888888,
              "#fdca26"
             ],
             [
              1,
              "#f0f921"
             ]
            ],
            "type": "heatmap"
           }
          ],
          "heatmapgl": [
           {
            "colorbar": {
             "outlinewidth": 0,
             "ticks": ""
            },
            "colorscale": [
             [
              0,
              "#0d0887"
             ],
             [
              0.1111111111111111,
              "#46039f"
             ],
             [
              0.2222222222222222,
              "#7201a8"
             ],
             [
              0.3333333333333333,
              "#9c179e"
             ],
             [
              0.4444444444444444,
              "#bd3786"
             ],
             [
              0.5555555555555556,
              "#d8576b"
             ],
             [
              0.6666666666666666,
              "#ed7953"
             ],
             [
              0.7777777777777778,
              "#fb9f3a"
             ],
             [
              0.8888888888888888,
              "#fdca26"
             ],
             [
              1,
              "#f0f921"
             ]
            ],
            "type": "heatmapgl"
           }
          ],
          "histogram": [
           {
            "marker": {
             "pattern": {
              "fillmode": "overlay",
              "size": 10,
              "solidity": 0.2
             }
            },
            "type": "histogram"
           }
          ],
          "histogram2d": [
           {
            "colorbar": {
             "outlinewidth": 0,
             "ticks": ""
            },
            "colorscale": [
             [
              0,
              "#0d0887"
             ],
             [
              0.1111111111111111,
              "#46039f"
             ],
             [
              0.2222222222222222,
              "#7201a8"
             ],
             [
              0.3333333333333333,
              "#9c179e"
             ],
             [
              0.4444444444444444,
              "#bd3786"
             ],
             [
              0.5555555555555556,
              "#d8576b"
             ],
             [
              0.6666666666666666,
              "#ed7953"
             ],
             [
              0.7777777777777778,
              "#fb9f3a"
             ],
             [
              0.8888888888888888,
              "#fdca26"
             ],
             [
              1,
              "#f0f921"
             ]
            ],
            "type": "histogram2d"
           }
          ],
          "histogram2dcontour": [
           {
            "colorbar": {
             "outlinewidth": 0,
             "ticks": ""
            },
            "colorscale": [
             [
              0,
              "#0d0887"
             ],
             [
              0.1111111111111111,
              "#46039f"
             ],
             [
              0.2222222222222222,
              "#7201a8"
             ],
             [
              0.3333333333333333,
              "#9c179e"
             ],
             [
              0.4444444444444444,
              "#bd3786"
             ],
             [
              0.5555555555555556,
              "#d8576b"
             ],
             [
              0.6666666666666666,
              "#ed7953"
             ],
             [
              0.7777777777777778,
              "#fb9f3a"
             ],
             [
              0.8888888888888888,
              "#fdca26"
             ],
             [
              1,
              "#f0f921"
             ]
            ],
            "type": "histogram2dcontour"
           }
          ],
          "mesh3d": [
           {
            "colorbar": {
             "outlinewidth": 0,
             "ticks": ""
            },
            "type": "mesh3d"
           }
          ],
          "parcoords": [
           {
            "line": {
             "colorbar": {
              "outlinewidth": 0,
              "ticks": ""
             }
            },
            "type": "parcoords"
           }
          ],
          "pie": [
           {
            "automargin": true,
            "type": "pie"
           }
          ],
          "scatter": [
           {
            "fillpattern": {
             "fillmode": "overlay",
             "size": 10,
             "solidity": 0.2
            },
            "type": "scatter"
           }
          ],
          "scatter3d": [
           {
            "line": {
             "colorbar": {
              "outlinewidth": 0,
              "ticks": ""
             }
            },
            "marker": {
             "colorbar": {
              "outlinewidth": 0,
              "ticks": ""
             }
            },
            "type": "scatter3d"
           }
          ],
          "scattercarpet": [
           {
            "marker": {
             "colorbar": {
              "outlinewidth": 0,
              "ticks": ""
             }
            },
            "type": "scattercarpet"
           }
          ],
          "scattergeo": [
           {
            "marker": {
             "colorbar": {
              "outlinewidth": 0,
              "ticks": ""
             }
            },
            "type": "scattergeo"
           }
          ],
          "scattergl": [
           {
            "marker": {
             "colorbar": {
              "outlinewidth": 0,
              "ticks": ""
             }
            },
            "type": "scattergl"
           }
          ],
          "scattermapbox": [
           {
            "marker": {
             "colorbar": {
              "outlinewidth": 0,
              "ticks": ""
             }
            },
            "type": "scattermapbox"
           }
          ],
          "scatterpolar": [
           {
            "marker": {
             "colorbar": {
              "outlinewidth": 0,
              "ticks": ""
             }
            },
            "type": "scatterpolar"
           }
          ],
          "scatterpolargl": [
           {
            "marker": {
             "colorbar": {
              "outlinewidth": 0,
              "ticks": ""
             }
            },
            "type": "scatterpolargl"
           }
          ],
          "scatterternary": [
           {
            "marker": {
             "colorbar": {
              "outlinewidth": 0,
              "ticks": ""
             }
            },
            "type": "scatterternary"
           }
          ],
          "surface": [
           {
            "colorbar": {
             "outlinewidth": 0,
             "ticks": ""
            },
            "colorscale": [
             [
              0,
              "#0d0887"
             ],
             [
              0.1111111111111111,
              "#46039f"
             ],
             [
              0.2222222222222222,
              "#7201a8"
             ],
             [
              0.3333333333333333,
              "#9c179e"
             ],
             [
              0.4444444444444444,
              "#bd3786"
             ],
             [
              0.5555555555555556,
              "#d8576b"
             ],
             [
              0.6666666666666666,
              "#ed7953"
             ],
             [
              0.7777777777777778,
              "#fb9f3a"
             ],
             [
              0.8888888888888888,
              "#fdca26"
             ],
             [
              1,
              "#f0f921"
             ]
            ],
            "type": "surface"
           }
          ],
          "table": [
           {
            "cells": {
             "fill": {
              "color": "#EBF0F8"
             },
             "line": {
              "color": "white"
             }
            },
            "header": {
             "fill": {
              "color": "#C8D4E3"
             },
             "line": {
              "color": "white"
             }
            },
            "type": "table"
           }
          ]
         },
         "layout": {
          "annotationdefaults": {
           "arrowcolor": "#2a3f5f",
           "arrowhead": 0,
           "arrowwidth": 1
          },
          "autotypenumbers": "strict",
          "coloraxis": {
           "colorbar": {
            "outlinewidth": 0,
            "ticks": ""
           }
          },
          "colorscale": {
           "diverging": [
            [
             0,
             "#8e0152"
            ],
            [
             0.1,
             "#c51b7d"
            ],
            [
             0.2,
             "#de77ae"
            ],
            [
             0.3,
             "#f1b6da"
            ],
            [
             0.4,
             "#fde0ef"
            ],
            [
             0.5,
             "#f7f7f7"
            ],
            [
             0.6,
             "#e6f5d0"
            ],
            [
             0.7,
             "#b8e186"
            ],
            [
             0.8,
             "#7fbc41"
            ],
            [
             0.9,
             "#4d9221"
            ],
            [
             1,
             "#276419"
            ]
           ],
           "sequential": [
            [
             0,
             "#0d0887"
            ],
            [
             0.1111111111111111,
             "#46039f"
            ],
            [
             0.2222222222222222,
             "#7201a8"
            ],
            [
             0.3333333333333333,
             "#9c179e"
            ],
            [
             0.4444444444444444,
             "#bd3786"
            ],
            [
             0.5555555555555556,
             "#d8576b"
            ],
            [
             0.6666666666666666,
             "#ed7953"
            ],
            [
             0.7777777777777778,
             "#fb9f3a"
            ],
            [
             0.8888888888888888,
             "#fdca26"
            ],
            [
             1,
             "#f0f921"
            ]
           ],
           "sequentialminus": [
            [
             0,
             "#0d0887"
            ],
            [
             0.1111111111111111,
             "#46039f"
            ],
            [
             0.2222222222222222,
             "#7201a8"
            ],
            [
             0.3333333333333333,
             "#9c179e"
            ],
            [
             0.4444444444444444,
             "#bd3786"
            ],
            [
             0.5555555555555556,
             "#d8576b"
            ],
            [
             0.6666666666666666,
             "#ed7953"
            ],
            [
             0.7777777777777778,
             "#fb9f3a"
            ],
            [
             0.8888888888888888,
             "#fdca26"
            ],
            [
             1,
             "#f0f921"
            ]
           ]
          },
          "colorway": [
           "#636efa",
           "#EF553B",
           "#00cc96",
           "#ab63fa",
           "#FFA15A",
           "#19d3f3",
           "#FF6692",
           "#B6E880",
           "#FF97FF",
           "#FECB52"
          ],
          "font": {
           "color": "#2a3f5f"
          },
          "geo": {
           "bgcolor": "white",
           "lakecolor": "white",
           "landcolor": "#E5ECF6",
           "showlakes": true,
           "showland": true,
           "subunitcolor": "white"
          },
          "hoverlabel": {
           "align": "left"
          },
          "hovermode": "closest",
          "mapbox": {
           "style": "light"
          },
          "paper_bgcolor": "white",
          "plot_bgcolor": "#E5ECF6",
          "polar": {
           "angularaxis": {
            "gridcolor": "white",
            "linecolor": "white",
            "ticks": ""
           },
           "bgcolor": "#E5ECF6",
           "radialaxis": {
            "gridcolor": "white",
            "linecolor": "white",
            "ticks": ""
           }
          },
          "scene": {
           "xaxis": {
            "backgroundcolor": "#E5ECF6",
            "gridcolor": "white",
            "gridwidth": 2,
            "linecolor": "white",
            "showbackground": true,
            "ticks": "",
            "zerolinecolor": "white"
           },
           "yaxis": {
            "backgroundcolor": "#E5ECF6",
            "gridcolor": "white",
            "gridwidth": 2,
            "linecolor": "white",
            "showbackground": true,
            "ticks": "",
            "zerolinecolor": "white"
           },
           "zaxis": {
            "backgroundcolor": "#E5ECF6",
            "gridcolor": "white",
            "gridwidth": 2,
            "linecolor": "white",
            "showbackground": true,
            "ticks": "",
            "zerolinecolor": "white"
           }
          },
          "shapedefaults": {
           "line": {
            "color": "#2a3f5f"
           }
          },
          "ternary": {
           "aaxis": {
            "gridcolor": "white",
            "linecolor": "white",
            "ticks": ""
           },
           "baxis": {
            "gridcolor": "white",
            "linecolor": "white",
            "ticks": ""
           },
           "bgcolor": "#E5ECF6",
           "caxis": {
            "gridcolor": "white",
            "linecolor": "white",
            "ticks": ""
           }
          },
          "title": {
           "x": 0.05
          },
          "xaxis": {
           "automargin": true,
           "gridcolor": "white",
           "linecolor": "white",
           "ticks": "",
           "title": {
            "standoff": 15
           },
           "zerolinecolor": "white",
           "zerolinewidth": 2
          },
          "yaxis": {
           "automargin": true,
           "gridcolor": "white",
           "linecolor": "white",
           "ticks": "",
           "title": {
            "standoff": 15
           },
           "zerolinecolor": "white",
           "zerolinewidth": 2
          }
         }
        },
        "title": {
         "text": "Gantt Chart - Iteration:2 ",
         "x": 0.5
        },
        "xaxis": {
         "anchor": "y",
         "domain": [
          0,
          1
         ],
         "title": {
          "text": "Timeline"
         },
         "type": "date"
        },
        "yaxis": {
         "anchor": "x",
         "autorange": "reversed",
         "domain": [
          0,
          1
         ],
         "title": {
          "text": "Tasks"
         }
        }
       }
      }
     },
     "metadata": {},
     "output_type": "display_data"
    },
    {
     "data": {
      "application/vnd.plotly.v1+json": {
       "config": {
        "plotlyServerURL": "https://plot.ly"
       },
       "data": [
        {
         "alignmentgroup": "True",
         "base": [
          "2024-11-18T14:14:50.757788",
          "2024-12-01T14:14:50.757788"
         ],
         "hovertemplate": "Team Member=Charlie<br>start=%{base}<br>end=%{x}<br>task_name=%{y}<extra></extra>",
         "legendgroup": "Charlie",
         "marker": {
          "color": "#636efa",
          "pattern": {
           "shape": ""
          }
         },
         "name": "Charlie",
         "offsetgroup": "Charlie",
         "orientation": "h",
         "showlegend": true,
         "textposition": "auto",
         "type": "bar",
         "x": [
          172800000,
          172800000
         ],
         "xaxis": "x",
         "y": [
          "Define project scope and requirements",
          "Gather user feedback"
         ],
         "yaxis": "y"
        },
        {
         "alignmentgroup": "True",
         "base": [
          "2024-11-21T14:14:50.757788",
          "2024-12-20T14:14:50.757788"
         ],
         "hovertemplate": "Team Member=Bob<br>start=%{base}<br>end=%{x}<br>task_name=%{y}<extra></extra>",
         "legendgroup": "Bob",
         "marker": {
          "color": "#EF553B",
          "pattern": {
           "shape": ""
          }
         },
         "name": "Bob",
         "offsetgroup": "Bob",
         "orientation": "h",
         "showlegend": true,
         "textposition": "auto",
         "type": "bar",
         "x": [
          259200000,
          345600000
         ],
         "xaxis": "x",
         "y": [
          "Research chatbot technologies",
          "Monitor and maintain chatbot"
         ],
         "yaxis": "y"
        },
        {
         "alignmentgroup": "True",
         "base": [
          "2024-11-21T14:14:50.757788",
          "2024-12-01T14:14:50.757788"
         ],
         "hovertemplate": "Team Member=Alice<br>start=%{base}<br>end=%{x}<br>task_name=%{y}<extra></extra>",
         "legendgroup": "Alice",
         "marker": {
          "color": "#00cc96",
          "pattern": {
           "shape": ""
          }
         },
         "name": "Alice",
         "offsetgroup": "Alice",
         "orientation": "h",
         "showlegend": true,
         "textposition": "auto",
         "type": "bar",
         "x": [
          345600000,
          345600000
         ],
         "xaxis": "x",
         "y": [
          "Design chatbot conversation flow",
          "Break down NLP implementation into smaller tasks"
         ],
         "yaxis": "y"
        },
        {
         "alignmentgroup": "True",
         "base": [
          "2024-11-26T14:14:50.757788",
          "2024-12-08T14:14:50.757788"
         ],
         "hovertemplate": "Team Member=David<br>start=%{base}<br>end=%{x}<br>task_name=%{y}<extra></extra>",
         "legendgroup": "David",
         "marker": {
          "color": "#ab63fa",
          "pattern": {
           "shape": ""
          }
         },
         "name": "David",
         "offsetgroup": "David",
         "orientation": "h",
         "showlegend": true,
         "textposition": "auto",
         "type": "bar",
         "x": [
          345600000,
          345600000
         ],
         "xaxis": "x",
         "y": [
          "Develop chatbot prototype",
          "Test chatbot functionalities"
         ],
         "yaxis": "y"
        },
        {
         "alignmentgroup": "True",
         "base": [
          "2024-12-01T14:14:50.757788",
          "2024-12-13T14:14:50.757788",
          "2024-12-17T14:14:50.757788"
         ],
         "hovertemplate": "Team Member=Eve<br>start=%{base}<br>end=%{x}<br>task_name=%{y}<extra></extra>",
         "legendgroup": "Eve",
         "marker": {
          "color": "#FFA15A",
          "pattern": {
           "shape": ""
          }
         },
         "name": "Eve",
         "offsetgroup": "Eve",
         "orientation": "h",
         "showlegend": true,
         "textposition": "auto",
         "type": "bar",
         "x": [
          518400000,
          259200000,
          172800000
         ],
         "xaxis": "x",
         "y": [
          "Implement natural language processing (NLP)",
          "Refine chatbot based on feedback",
          "Deploy chatbot application"
         ],
         "yaxis": "y"
        }
       ],
       "layout": {
        "barmode": "overlay",
        "legend": {
         "title": {
          "text": "Team Member"
         },
         "tracegroupgap": 0
        },
        "template": {
         "data": {
          "bar": [
           {
            "error_x": {
             "color": "#2a3f5f"
            },
            "error_y": {
             "color": "#2a3f5f"
            },
            "marker": {
             "line": {
              "color": "#E5ECF6",
              "width": 0.5
             },
             "pattern": {
              "fillmode": "overlay",
              "size": 10,
              "solidity": 0.2
             }
            },
            "type": "bar"
           }
          ],
          "barpolar": [
           {
            "marker": {
             "line": {
              "color": "#E5ECF6",
              "width": 0.5
             },
             "pattern": {
              "fillmode": "overlay",
              "size": 10,
              "solidity": 0.2
             }
            },
            "type": "barpolar"
           }
          ],
          "carpet": [
           {
            "aaxis": {
             "endlinecolor": "#2a3f5f",
             "gridcolor": "white",
             "linecolor": "white",
             "minorgridcolor": "white",
             "startlinecolor": "#2a3f5f"
            },
            "baxis": {
             "endlinecolor": "#2a3f5f",
             "gridcolor": "white",
             "linecolor": "white",
             "minorgridcolor": "white",
             "startlinecolor": "#2a3f5f"
            },
            "type": "carpet"
           }
          ],
          "choropleth": [
           {
            "colorbar": {
             "outlinewidth": 0,
             "ticks": ""
            },
            "type": "choropleth"
           }
          ],
          "contour": [
           {
            "colorbar": {
             "outlinewidth": 0,
             "ticks": ""
            },
            "colorscale": [
             [
              0,
              "#0d0887"
             ],
             [
              0.1111111111111111,
              "#46039f"
             ],
             [
              0.2222222222222222,
              "#7201a8"
             ],
             [
              0.3333333333333333,
              "#9c179e"
             ],
             [
              0.4444444444444444,
              "#bd3786"
             ],
             [
              0.5555555555555556,
              "#d8576b"
             ],
             [
              0.6666666666666666,
              "#ed7953"
             ],
             [
              0.7777777777777778,
              "#fb9f3a"
             ],
             [
              0.8888888888888888,
              "#fdca26"
             ],
             [
              1,
              "#f0f921"
             ]
            ],
            "type": "contour"
           }
          ],
          "contourcarpet": [
           {
            "colorbar": {
             "outlinewidth": 0,
             "ticks": ""
            },
            "type": "contourcarpet"
           }
          ],
          "heatmap": [
           {
            "colorbar": {
             "outlinewidth": 0,
             "ticks": ""
            },
            "colorscale": [
             [
              0,
              "#0d0887"
             ],
             [
              0.1111111111111111,
              "#46039f"
             ],
             [
              0.2222222222222222,
              "#7201a8"
             ],
             [
              0.3333333333333333,
              "#9c179e"
             ],
             [
              0.4444444444444444,
              "#bd3786"
             ],
             [
              0.5555555555555556,
              "#d8576b"
             ],
             [
              0.6666666666666666,
              "#ed7953"
             ],
             [
              0.7777777777777778,
              "#fb9f3a"
             ],
             [
              0.8888888888888888,
              "#fdca26"
             ],
             [
              1,
              "#f0f921"
             ]
            ],
            "type": "heatmap"
           }
          ],
          "heatmapgl": [
           {
            "colorbar": {
             "outlinewidth": 0,
             "ticks": ""
            },
            "colorscale": [
             [
              0,
              "#0d0887"
             ],
             [
              0.1111111111111111,
              "#46039f"
             ],
             [
              0.2222222222222222,
              "#7201a8"
             ],
             [
              0.3333333333333333,
              "#9c179e"
             ],
             [
              0.4444444444444444,
              "#bd3786"
             ],
             [
              0.5555555555555556,
              "#d8576b"
             ],
             [
              0.6666666666666666,
              "#ed7953"
             ],
             [
              0.7777777777777778,
              "#fb9f3a"
             ],
             [
              0.8888888888888888,
              "#fdca26"
             ],
             [
              1,
              "#f0f921"
             ]
            ],
            "type": "heatmapgl"
           }
          ],
          "histogram": [
           {
            "marker": {
             "pattern": {
              "fillmode": "overlay",
              "size": 10,
              "solidity": 0.2
             }
            },
            "type": "histogram"
           }
          ],
          "histogram2d": [
           {
            "colorbar": {
             "outlinewidth": 0,
             "ticks": ""
            },
            "colorscale": [
             [
              0,
              "#0d0887"
             ],
             [
              0.1111111111111111,
              "#46039f"
             ],
             [
              0.2222222222222222,
              "#7201a8"
             ],
             [
              0.3333333333333333,
              "#9c179e"
             ],
             [
              0.4444444444444444,
              "#bd3786"
             ],
             [
              0.5555555555555556,
              "#d8576b"
             ],
             [
              0.6666666666666666,
              "#ed7953"
             ],
             [
              0.7777777777777778,
              "#fb9f3a"
             ],
             [
              0.8888888888888888,
              "#fdca26"
             ],
             [
              1,
              "#f0f921"
             ]
            ],
            "type": "histogram2d"
           }
          ],
          "histogram2dcontour": [
           {
            "colorbar": {
             "outlinewidth": 0,
             "ticks": ""
            },
            "colorscale": [
             [
              0,
              "#0d0887"
             ],
             [
              0.1111111111111111,
              "#46039f"
             ],
             [
              0.2222222222222222,
              "#7201a8"
             ],
             [
              0.3333333333333333,
              "#9c179e"
             ],
             [
              0.4444444444444444,
              "#bd3786"
             ],
             [
              0.5555555555555556,
              "#d8576b"
             ],
             [
              0.6666666666666666,
              "#ed7953"
             ],
             [
              0.7777777777777778,
              "#fb9f3a"
             ],
             [
              0.8888888888888888,
              "#fdca26"
             ],
             [
              1,
              "#f0f921"
             ]
            ],
            "type": "histogram2dcontour"
           }
          ],
          "mesh3d": [
           {
            "colorbar": {
             "outlinewidth": 0,
             "ticks": ""
            },
            "type": "mesh3d"
           }
          ],
          "parcoords": [
           {
            "line": {
             "colorbar": {
              "outlinewidth": 0,
              "ticks": ""
             }
            },
            "type": "parcoords"
           }
          ],
          "pie": [
           {
            "automargin": true,
            "type": "pie"
           }
          ],
          "scatter": [
           {
            "fillpattern": {
             "fillmode": "overlay",
             "size": 10,
             "solidity": 0.2
            },
            "type": "scatter"
           }
          ],
          "scatter3d": [
           {
            "line": {
             "colorbar": {
              "outlinewidth": 0,
              "ticks": ""
             }
            },
            "marker": {
             "colorbar": {
              "outlinewidth": 0,
              "ticks": ""
             }
            },
            "type": "scatter3d"
           }
          ],
          "scattercarpet": [
           {
            "marker": {
             "colorbar": {
              "outlinewidth": 0,
              "ticks": ""
             }
            },
            "type": "scattercarpet"
           }
          ],
          "scattergeo": [
           {
            "marker": {
             "colorbar": {
              "outlinewidth": 0,
              "ticks": ""
             }
            },
            "type": "scattergeo"
           }
          ],
          "scattergl": [
           {
            "marker": {
             "colorbar": {
              "outlinewidth": 0,
              "ticks": ""
             }
            },
            "type": "scattergl"
           }
          ],
          "scattermapbox": [
           {
            "marker": {
             "colorbar": {
              "outlinewidth": 0,
              "ticks": ""
             }
            },
            "type": "scattermapbox"
           }
          ],
          "scatterpolar": [
           {
            "marker": {
             "colorbar": {
              "outlinewidth": 0,
              "ticks": ""
             }
            },
            "type": "scatterpolar"
           }
          ],
          "scatterpolargl": [
           {
            "marker": {
             "colorbar": {
              "outlinewidth": 0,
              "ticks": ""
             }
            },
            "type": "scatterpolargl"
           }
          ],
          "scatterternary": [
           {
            "marker": {
             "colorbar": {
              "outlinewidth": 0,
              "ticks": ""
             }
            },
            "type": "scatterternary"
           }
          ],
          "surface": [
           {
            "colorbar": {
             "outlinewidth": 0,
             "ticks": ""
            },
            "colorscale": [
             [
              0,
              "#0d0887"
             ],
             [
              0.1111111111111111,
              "#46039f"
             ],
             [
              0.2222222222222222,
              "#7201a8"
             ],
             [
              0.3333333333333333,
              "#9c179e"
             ],
             [
              0.4444444444444444,
              "#bd3786"
             ],
             [
              0.5555555555555556,
              "#d8576b"
             ],
             [
              0.6666666666666666,
              "#ed7953"
             ],
             [
              0.7777777777777778,
              "#fb9f3a"
             ],
             [
              0.8888888888888888,
              "#fdca26"
             ],
             [
              1,
              "#f0f921"
             ]
            ],
            "type": "surface"
           }
          ],
          "table": [
           {
            "cells": {
             "fill": {
              "color": "#EBF0F8"
             },
             "line": {
              "color": "white"
             }
            },
            "header": {
             "fill": {
              "color": "#C8D4E3"
             },
             "line": {
              "color": "white"
             }
            },
            "type": "table"
           }
          ]
         },
         "layout": {
          "annotationdefaults": {
           "arrowcolor": "#2a3f5f",
           "arrowhead": 0,
           "arrowwidth": 1
          },
          "autotypenumbers": "strict",
          "coloraxis": {
           "colorbar": {
            "outlinewidth": 0,
            "ticks": ""
           }
          },
          "colorscale": {
           "diverging": [
            [
             0,
             "#8e0152"
            ],
            [
             0.1,
             "#c51b7d"
            ],
            [
             0.2,
             "#de77ae"
            ],
            [
             0.3,
             "#f1b6da"
            ],
            [
             0.4,
             "#fde0ef"
            ],
            [
             0.5,
             "#f7f7f7"
            ],
            [
             0.6,
             "#e6f5d0"
            ],
            [
             0.7,
             "#b8e186"
            ],
            [
             0.8,
             "#7fbc41"
            ],
            [
             0.9,
             "#4d9221"
            ],
            [
             1,
             "#276419"
            ]
           ],
           "sequential": [
            [
             0,
             "#0d0887"
            ],
            [
             0.1111111111111111,
             "#46039f"
            ],
            [
             0.2222222222222222,
             "#7201a8"
            ],
            [
             0.3333333333333333,
             "#9c179e"
            ],
            [
             0.4444444444444444,
             "#bd3786"
            ],
            [
             0.5555555555555556,
             "#d8576b"
            ],
            [
             0.6666666666666666,
             "#ed7953"
            ],
            [
             0.7777777777777778,
             "#fb9f3a"
            ],
            [
             0.8888888888888888,
             "#fdca26"
            ],
            [
             1,
             "#f0f921"
            ]
           ],
           "sequentialminus": [
            [
             0,
             "#0d0887"
            ],
            [
             0.1111111111111111,
             "#46039f"
            ],
            [
             0.2222222222222222,
             "#7201a8"
            ],
            [
             0.3333333333333333,
             "#9c179e"
            ],
            [
             0.4444444444444444,
             "#bd3786"
            ],
            [
             0.5555555555555556,
             "#d8576b"
            ],
            [
             0.6666666666666666,
             "#ed7953"
            ],
            [
             0.7777777777777778,
             "#fb9f3a"
            ],
            [
             0.8888888888888888,
             "#fdca26"
            ],
            [
             1,
             "#f0f921"
            ]
           ]
          },
          "colorway": [
           "#636efa",
           "#EF553B",
           "#00cc96",
           "#ab63fa",
           "#FFA15A",
           "#19d3f3",
           "#FF6692",
           "#B6E880",
           "#FF97FF",
           "#FECB52"
          ],
          "font": {
           "color": "#2a3f5f"
          },
          "geo": {
           "bgcolor": "white",
           "lakecolor": "white",
           "landcolor": "#E5ECF6",
           "showlakes": true,
           "showland": true,
           "subunitcolor": "white"
          },
          "hoverlabel": {
           "align": "left"
          },
          "hovermode": "closest",
          "mapbox": {
           "style": "light"
          },
          "paper_bgcolor": "white",
          "plot_bgcolor": "#E5ECF6",
          "polar": {
           "angularaxis": {
            "gridcolor": "white",
            "linecolor": "white",
            "ticks": ""
           },
           "bgcolor": "#E5ECF6",
           "radialaxis": {
            "gridcolor": "white",
            "linecolor": "white",
            "ticks": ""
           }
          },
          "scene": {
           "xaxis": {
            "backgroundcolor": "#E5ECF6",
            "gridcolor": "white",
            "gridwidth": 2,
            "linecolor": "white",
            "showbackground": true,
            "ticks": "",
            "zerolinecolor": "white"
           },
           "yaxis": {
            "backgroundcolor": "#E5ECF6",
            "gridcolor": "white",
            "gridwidth": 2,
            "linecolor": "white",
            "showbackground": true,
            "ticks": "",
            "zerolinecolor": "white"
           },
           "zaxis": {
            "backgroundcolor": "#E5ECF6",
            "gridcolor": "white",
            "gridwidth": 2,
            "linecolor": "white",
            "showbackground": true,
            "ticks": "",
            "zerolinecolor": "white"
           }
          },
          "shapedefaults": {
           "line": {
            "color": "#2a3f5f"
           }
          },
          "ternary": {
           "aaxis": {
            "gridcolor": "white",
            "linecolor": "white",
            "ticks": ""
           },
           "baxis": {
            "gridcolor": "white",
            "linecolor": "white",
            "ticks": ""
           },
           "bgcolor": "#E5ECF6",
           "caxis": {
            "gridcolor": "white",
            "linecolor": "white",
            "ticks": ""
           }
          },
          "title": {
           "x": 0.05
          },
          "xaxis": {
           "automargin": true,
           "gridcolor": "white",
           "linecolor": "white",
           "ticks": "",
           "title": {
            "standoff": 15
           },
           "zerolinecolor": "white",
           "zerolinewidth": 2
          },
          "yaxis": {
           "automargin": true,
           "gridcolor": "white",
           "linecolor": "white",
           "ticks": "",
           "title": {
            "standoff": 15
           },
           "zerolinecolor": "white",
           "zerolinewidth": 2
          }
         }
        },
        "title": {
         "text": "Gantt Chart - Iteration:3 ",
         "x": 0.5
        },
        "xaxis": {
         "anchor": "y",
         "domain": [
          0,
          1
         ],
         "title": {
          "text": "Timeline"
         },
         "type": "date"
        },
        "yaxis": {
         "anchor": "x",
         "autorange": "reversed",
         "domain": [
          0,
          1
         ],
         "title": {
          "text": "Tasks"
         }
        }
       }
      }
     },
     "metadata": {},
     "output_type": "display_data"
    }
   ],
   "source": [
    "number_of_iterations = final_state['iteration_number']\n",
    "\n",
    "for i in range(number_of_iterations):\n",
    "    ## Tasks schedule\n",
    "    task_schedules = final_state['schedule_iteration'][i].schedule\n",
    "\n",
    "    t = []\n",
    "    # Iterate over the task_schedules and append each task's data to the DataFrame\n",
    "    for task_schedule in task_schedules:\n",
    "        t.append([\n",
    "            task_schedule.task.task_name,\n",
    "            task_schedule.start_day,\n",
    "            task_schedule.end_day\n",
    "        ])\n",
    "\n",
    "    df_schedule = pd.DataFrame(t,columns=['task_name', 'start', 'end'])\n",
    "\n",
    "    ## Tasks allocation\n",
    "    task_allocations = final_state['task_allocations_iteration'][i].task_allocations\n",
    "\n",
    "    t = []\n",
    "    # Iterate over the task_schedules and append each task's data to the DataFrame\n",
    "    for task_allocation in task_allocations:\n",
    "        t.append([\n",
    "            task_allocation.task.task_name,\n",
    "            task_allocation.team_member.name\n",
    "        ])\n",
    "\n",
    "    df_allocation = pd.DataFrame(t,columns=['task_name', 'team_member'])\n",
    "\n",
    "    df = df_allocation.merge(df_schedule, on='task_name')\n",
    "\n",
    "    import plotly.express as px\n",
    "\n",
    "    from datetime import datetime, timedelta\n",
    "    # Get the current date\n",
    "    current_date = datetime.today()\n",
    "\n",
    "    # Convert start and end offsets to actual dates\n",
    "    df['start'] = df['start'].apply(lambda x: current_date + timedelta(days=x))\n",
    "    df['end'] = df['end'].apply(lambda x: current_date + timedelta(days=x))\n",
    "\n",
    "    df.rename(columns={'team_member': 'Team Member'}, inplace=True)\n",
    "    # Create a Gantt chart\n",
    "    fig = px.timeline(df, x_start=\"start\", x_end=\"end\", y=\"task_name\", color=\"Team Member\", title=f\"Gantt Chart - Iteration:{i+1} \")\n",
    "\n",
    "    # Update layout for better visualization\n",
    "    fig.update_layout(\n",
    "        xaxis_title=\"Timeline\",\n",
    "        yaxis_title=\"Tasks\",\n",
    "        yaxis=dict(autorange=\"reversed\"),  # Reverse the y-axis to have tasks in the vertical side\n",
    "        title_x=0.5\n",
    "    )\n",
    "\n",
    "    # Show the plot\n",
    "    fig.show()"
   ]
  },
  {
   "cell_type": "markdown",
   "metadata": {},
   "source": []
  },
  {
   "cell_type": "markdown",
   "metadata": {},
   "source": []
  },
  {
   "cell_type": "markdown",
   "metadata": {},
   "source": [
    "## 7. Comparison"
   ]
  },
  {
   "cell_type": "markdown",
   "metadata": {},
   "source": [
    "## 8. Additional Considerations"
   ]
  },
  {
   "cell_type": "markdown",
   "metadata": {},
   "source": []
  },
  {
   "cell_type": "markdown",
   "metadata": {},
   "source": [
    "## 9. References"
   ]
  },
  {
   "cell_type": "markdown",
   "metadata": {},
   "source": [
    "prompt = f\"\n",
    "    .....\n",
    "\"\n",
    "structure_llm = llm.with_structured_output(<Overallproejct strcture -> AgentState>)"
   ]
  }
 ],
 "metadata": {
  "kernelspec": {
   "display_name": "agents",
   "language": "python",
   "name": "python3"
  },
  "language_info": {
   "codemirror_mode": {
    "name": "ipython",
    "version": 3
   },
   "file_extension": ".py",
   "mimetype": "text/x-python",
   "name": "python",
   "nbconvert_exporter": "python",
   "pygments_lexer": "ipython3",
   "version": "3.12.7"
  }
 },
 "nbformat": 4,
 "nbformat_minor": 2
}
