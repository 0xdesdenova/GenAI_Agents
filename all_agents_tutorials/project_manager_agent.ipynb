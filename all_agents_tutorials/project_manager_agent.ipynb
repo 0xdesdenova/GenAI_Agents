{
 "cells": [
  {
   "cell_type": "markdown",
   "metadata": {},
   "source": [
    "# Project Manager Assistant Agent"
   ]
  },
  {
   "cell_type": "markdown",
   "metadata": {},
   "source": [
    "## Overview\n",
    "This tutorial demonstrates how to create a an AI agent that assists in project management tasks including creating actionable tasks from a given project description, identify the dependency within the tasks, create a task execution schedule for the project, and assign the individual tasks to project members based on their expertise and experience. This application uses a combination of custom functions, structured output, and an agent that can streamline the project management, in particular during the project initation / setup process. "
   ]
  },
  {
   "cell_type": "markdown",
   "metadata": {},
   "source": [
    "\n",
    "## Motivation\n",
    "Effective management is key to project success. It already starts, with the setup of the project, definition of tasks, scheduling and allocation of team members. However, with increasing complexity of the project, this task becomes more and more challenging and time consuming frequently requiring days of planning involving several members of the organization.\n",
    "\n",
    "The ```Project Manager Assistant Agent``` was created to transfrom how projects are initiated by introducing automation, intelligence, and precision into the process. It enables project managers to seamless translate project description into structure, actionable plans, mapping dependencies for better workflow alignment and assign tasks based on team members' expertise and experience. In addition, it creates risks scores for the individual tasks allowing overall project risk assessment. This overall project risk score is used as part of a self-reflection to further improve the schedule and task assignment to reduce the project risks. (see details on the implementation)\n",
    "\n",
    "\n",
    "### Benefits\n",
    "This AI-driven approach reduces the burden of manual planning and eliminates redundancies, allowing project managers to shift their focus to higher-level strategy and decision. making. "
   ]
  },
  {
   "cell_type": "markdown",
   "metadata": {},
   "source": [
    "### Key Components\n",
    "<ol>\n",
    "    <li>\n",
    "        <b>LangGraph</b>: Organize the overall workflow of the agent, managing the flow of infromation between different nodes and stages of the agent\n",
    "    </li>\n",
    "    <li>\n",
    "        <b>GPT-4o</b>: Extracts actionable items from the project description, map dependencies, schedules tasks, allocate tasks to team, and assess the risks\n",
    "    </li>\n",
    "\n",
    "</ol>"
   ]
  },
  {
   "cell_type": "markdown",
   "metadata": {},
   "source": [
    "### Key Classes\n",
    "<b>State Management</b>\n",
    "<br/>\n",
    "<ol>\n",
    "    <li>\n",
    "        <b>AgentState</b>\n",
    "        <ul>\n",
    "            <li><b>project_description</b>: Description of the project</li>\n",
    "            <li><b>team</b>: The team available</li>\n",
    "            <li><b>tasks</b>: List of tasks</li>\n",
    "            <li><b>dependencies</b>: List of dependencies of tasks</li>\n",
    "            <li><b>schedule</b>: Project schedule created by the agent</li>\n",
    "            <li><b>task_allocations</b>: List of team member and task allocated to them</li>\n",
    "            <li><b>risks</b>: Risks associated with the tasks</li>\n",
    "            <li><b>project_risk_score</b>: Overall risk score of the project</li>\n",
    "            <li><b>previous_project_risk_score</b>: The risk calculated in the previous feedback loop</li>\n",
    "            <li><b>iteration_number</b>: Number of times the agent will go into e feck</li>\n",
    "            <li><b>previous_project_risk_score</b>: The risk calculated in the previous feedback loop</li>\n",
    "            <li><b>iteration_number</b>: The current iteration number in feedback loop</li>\n",
    "            <li><b>max_iteration</b>: The maximum number of time it can go into feedback loop to improve itself</li>\n",
    "            <li><b>insights</b>: Insights generated to improve the response</li>\n",
    "        </ul>\n",
    "    </li>\n",
    "    <li>\n",
    "        <b>Task</b>\n",
    "        <ul>\n",
    "            <li><b>id</b>: Id for the task</li>\n",
    "            <li><b>task_name</b>: Name of the task</li>\n",
    "            <li><b>task_description</b>: Description of task</li>\n",
    "            <li><b>estimated_day</b>: Estimated time the task will take to complete</li>\n",
    "        </ul>\n",
    "    </li>\n",
    "    <li>\n",
    "        <b>TaskDependency</b>\n",
    "        <ul>\n",
    "            <li><b>task</b>: Name of the task</li>\n",
    "            <li><b>dependent_task</b>: Name of the dependent task</li>\n",
    "        </ul>\n",
    "    </li>\n",
    "    <li>\n",
    "        <b>Team Member</b>\n",
    "        <ul>\n",
    "            <li><b>name</b>: Name of the team member</li>\n",
    "            <li><b>profile</b>: Profile of the member</li>\n",
    "        </ul>\n",
    "    </li>\n",
    "    <li>\n",
    "        <b>Team</b>\n",
    "        <ul>\n",
    "            <li><b>team_member</b>: Members in the team</li>\n",
    "        </ul>\n",
    "    </li>\n",
    "    <li>\n",
    "        <b>TaskAllocation</b>\n",
    "        <ul>\n",
    "            <li><b>task</b>: Name of the task allocated</li>\n",
    "            <li><b>team_member</b>: To whom the task is allocated</li> \n",
    "        </ul>\n",
    "    </li>\n",
    "    <li>\n",
    "        <b>TaskSchedule</b>\n",
    "        <ul>\n",
    "            <li><b>task</b>: Task name</li>\n",
    "            <li><b>start_day</b>: When the task should start</li>\n",
    "            <li><b>end_day</b>: When the task will end</li>\n",
    "        </ul>\n",
    "    </li>\n",
    "    <li>\n",
    "        <b>TaskList</b>\n",
    "        <ul>\n",
    "            <li><b>tasks</b>: List of tasks name</li>\n",
    "        </ul>\n",
    "    </li>\n",
    "    <li>\n",
    "        <b>DependencyList</b>\n",
    "        <ul>\n",
    "            <li><b>dependencies</b>: List of dependent tasks</li>\n",
    "        </ul>\n",
    "    </li>\n",
    "    <li>\n",
    "        <b>Schedule</b>\n",
    "        <ul>\n",
    "            <li><b>schedule</b>: List of task schedule</li>\n",
    "        </ul>\n",
    "    </li>\n",
    "    <li>\n",
    "        <b>TaskAllocationList</b>\n",
    "        <ul>\n",
    "            <li><b>task_allocations</b>: List of allocated tasks</li>\n",
    "        </ul>\n",
    "    </li>\n",
    "    <li>\n",
    "        <b>Risk</b>\n",
    "        <ul>\n",
    "            <li><b>task</b>: Task name</li>\n",
    "            <li><b>score</b>: Risk score for that task</li>\n",
    "        </ul>\n",
    "    </li>\n",
    "    <li>\n",
    "        <b>RiskList</b>\n",
    "        <ul>\n",
    "            <li><b>risks</b>: List of risks</li>\n",
    "        </ul>\n",
    "    </li>\n",
    "</ol>\n"
   ]
  },
  {
   "cell_type": "markdown",
   "metadata": {},
   "source": [
    "### Key Nodes and Functions\n",
    "<ol>\n",
    "    <li>\n",
    "        <b>task_generation</b>: Node that will extract tasks from given project description\n",
    "    </li>\n",
    "    <li>\n",
    "        <b>task_dependencies</b>: Node that will evaluate the dependencies between the tasks\n",
    "    </li>\n",
    "    <li>\n",
    "        <b>task_scheduler</b>: Node that will schedule tasks based on dependencies and team availability\n",
    "    </li>\n",
    "    <li>\n",
    "        <b>task_allocator</b>: Node that will allocate tasks to team members\n",
    "    </li>\n",
    "    <li>\n",
    "        <b>risk_assessor</b>: Node that analyze risk associated with schedule and allocation of task\n",
    "    </li>\n",
    "    <li>\n",
    "        <b>insight_generator</b>: Node that generate insights from the schedule, task allocation and risk associated\n",
    "    </li>\n",
    "    <li>\n",
    "        <b>router</b>: A helper function that will route the agent to the appropriate node based on the project description\n",
    "    </li>\n",
    "</ol>"
   ]
  },
  {
   "cell_type": "markdown",
   "metadata": {},
   "source": [
    "## Visual Representation of the Agent"
   ]
  },
  {
   "cell_type": "markdown",
   "metadata": {},
   "source": [
    "![Project Manager Assistant](../images/project_manager_agent.png)"
   ]
  },
  {
   "cell_type": "markdown",
   "metadata": {},
   "source": [
    "## Implementation\n",
    "In the following section, we provide a detailed overview how to implement the Project Manager Assistant Agent."
   ]
  },
  {
   "cell_type": "markdown",
   "metadata": {
    "vscode": {
     "languageId": "plaintext"
    }
   },
   "source": [
    "### Install and import tutorial specific libraries"
   ]
  },
  {
   "cell_type": "code",
   "execution_count": null,
   "metadata": {},
   "outputs": [],
   "source": [
    "!pip install --quiet langchain, langchain-openai, pandas, plotly, networkx, pyvis, openai"
   ]
  },
  {
   "cell_type": "code",
   "execution_count": null,
   "metadata": {},
   "outputs": [],
   "source": [
    "import os\n",
    "import uuid\n",
    "import pandas as pd\n",
    "import plotly.express as px\n",
    "import networkx as nx\n",
    "from pyvis.network import Network\n",
    "from datetime import datetime, timedelta\n",
    "from typing import List, TypedDict\n",
    "from pydantic import BaseModel, Field\n",
    "from langchain_openai import AzureChatOpenAI, ChatOpenAI\n",
    "from langgraph.graph import StateGraph, START,END\n",
    "from langgraph.checkpoint.memory import MemorySaver\n",
    "from IPython.display import Image, display, Markdown, HTML\n",
    "from dotenv import load_dotenv\n",
    "\n",
    "# Load environment variables\n",
    "load_dotenv()"
   ]
  },
  {
   "cell_type": "code",
   "execution_count": null,
   "metadata": {},
   "outputs": [],
   "source": [
    "# Define your model provider\n",
    "model_provider = 'Azure' # 'Azure' or 'OpenAI' or 'Gemini'ArithmeticError"
   ]
  },
  {
   "cell_type": "markdown",
   "metadata": {},
   "source": [
    "### Instantiate LLM model"
   ]
  },
  {
   "cell_type": "code",
   "execution_count": null,
   "metadata": {},
   "outputs": [],
   "source": [
    "# Based on model_provider load the language model\n",
    "if model_provider == 'Azure':\n",
    "    \"\"\"\n",
    "    Define your environmental variables under .venv:\n",
    "        - AZURE_OPENAI_API_KEY    \n",
    "        - OPENAI_API_VERSION\n",
    "        - AZURE_OPENAI_ENDPOINT\n",
    "    \"\"\"\n",
    "    llm = AzureChatOpenAI(\n",
    "        api_key='45b08958a8344f47bf39d5eea8135994',  # Replace with your actual API key\n",
    "        azure_endpoint='https://cogsvc-example-openai-112.openai.azure.com',  # Your actual endpoint\n",
    "        deployment_name='gpt-4o-mini',  # Your actual deployment name\n",
    "        model_name='gpt-4o-mini',  # Your actual model name\n",
    "        openai_api_version='2024-08-01-preview',  # Your actual API version\n",
    "        openai_api_type='azure'\n",
    "    )\n",
    "elif model_provider == 'OpenAI':\n",
    "    \"\"\"\n",
    "    Define your environmental variables under .venv:\n",
    "        - OPENAI_API_KEY\n",
    "        - OPENAI_API_BASE\n",
    "    \"\"\"\n",
    "    llm = ChatOpenAI(model=\"gpt-4o-mini\")\n",
    "else:\n",
    "    print('Implement your own llm loader')"
   ]
  },
  {
   "cell_type": "markdown",
   "metadata": {},
   "source": [
    "## Implementation\n",
    "\n",
    "In the following section, we will step-by-step implement:\n",
    "- The data classes,\n",
    "- Agent state,\n",
    "- Nodes and function (used as a router),\n",
    "- and the workflow of the agent.\n",
    "\n",
    "So let's create all required data classes first:"
   ]
  },
  {
   "cell_type": "code",
   "execution_count": null,
   "metadata": {},
   "outputs": [],
   "source": [
    "# Data Models\n",
    "class Task(BaseModel):\n",
    "    id: uuid.UUID = Field(default_factory=uuid.uuid4, description=\"Unique identifier for the task\")\n",
    "    task_name: str = Field(description=\"Name of the task\")\n",
    "    task_description: str = Field(description=\"Description of the task\")\n",
    "    estimated_day: int = Field(description=\"Estimated number of days to complete the task\")\n",
    "\n",
    "class TaskList(BaseModel):\n",
    "    tasks: List[Task] = Field(description=\"List of tasks\")\n",
    "\n",
    "class TaskDependency(BaseModel):\n",
    "    \"\"\"Task dependency model\"\"\"\n",
    "    task: Task = Field(description=\"Task\")\n",
    "    dependent_tasks: List[Task] = Field(description=\"List of dependent tasks\")\n",
    "\n",
    "class TeamMember(BaseModel):\n",
    "    name: str = Field(description=\"Name of the team member\")\n",
    "    profile: str = Field(description=\"Profile of the team member\")\n",
    "\n",
    "class Team(BaseModel):\n",
    "    team_members: List[TeamMember] = Field(description=\"List of team members\")\n",
    "\n",
    "# Iterative assessment\n",
    "class TaskAllocation(BaseModel):\n",
    "    \"\"\"Task allocation class\"\"\"\n",
    "    task: Task = Field(description=\"Task\")\n",
    "    team_member: TeamMember = Field(description=\"Team members assigned to the task\")\n",
    "\n",
    "class TaskSchedule(BaseModel):\n",
    "    \"\"\"Schedule schedule class\"\"\"\n",
    "    task: Task = Field(description=\"Task\")\n",
    "    start_day: int = Field(description=\"Start day of the task\")\n",
    "    end_day: int = Field(description=\"End day of the task\")\n",
    "\n",
    "# Lists\n",
    "class DependencyList(BaseModel):\n",
    "    \"\"\"List of task dependencies\"\"\"\n",
    "    dependencies: List[TaskDependency] = Field(description=\"List of task dependencies\")\n",
    "\n",
    "class Schedule(BaseModel):\n",
    "    \"\"\"List of task schedules\"\"\"\n",
    "    schedule: List[TaskSchedule] = Field(description=\"List of task schedules\")\n",
    "\n",
    "class TaskAllocationList(BaseModel):\n",
    "    \"\"\"List of task allocations\"\"\"\n",
    "    task_allocations: List[TaskAllocation] = Field(description=\"List of task allocations\")\n",
    "\n",
    "# Iteration\n",
    "class TaskAllocationListIteration(BaseModel):\n",
    "    \"\"\"List of task allocations for each iteration\"\"\"\n",
    "    task_allocations_iteration: List[TaskAllocationList] = Field(description=\"List of task allocations for each iteration\")\n",
    "\n",
    "class ScheduleIteration(BaseModel):\n",
    "    \"\"\"List of task schedules for each iteration\"\"\"\n",
    "    schedule: List[Schedule] = Field(description=\"List of task schedules for each iteration\")\n",
    "\n",
    "class Risk(BaseModel):\n",
    "    \"\"\"Risk of a task\"\"\"\n",
    "    task: Task = Field(description=\"Task\")\n",
    "    score: str = Field(description=\"Risk associated with the task\")\n",
    "\n",
    "class RiskList(BaseModel):\n",
    "    \"\"\"List of risks for each iteration\"\"\"\n",
    "    risks: List[Risk] = Field(description=\"List of risks\")\n",
    "\n",
    "class RiskListIteration(BaseModel):\n",
    "    \"\"\"List of risks for each iteration\"\"\"\n",
    "    risks_iteration: List[RiskList] = Field(description=\"List of risks for each iteration\")"
   ]
  },
  {
   "cell_type": "markdown",
   "metadata": {},
   "source": [
    "In the next step, let's create the AgentState. The `schedule_iteration`, `task_allocations_iteration`, `risks_iteration` are introduced to generate structured 'memory' for the self-reflection cycles."
   ]
  },
  {
   "cell_type": "code",
   "execution_count": null,
   "metadata": {},
   "outputs": [],
   "source": [
    "class AgentState(TypedDict):\n",
    "    \"\"\"The project manager agent state.\"\"\"\n",
    "    project_description: str\n",
    "    team: Team\n",
    "    tasks: TaskList\n",
    "    dependencies: DependencyList\n",
    "    schedule: Schedule\n",
    "    task_allocations: TaskAllocationList\n",
    "    risks: RiskList\n",
    "    iteration_number: int\n",
    "    max_iteration: int\n",
    "    insights: List[str]\n",
    "    schedule_iteration: List[Schedule]\n",
    "    task_allocations_iteration: List[TaskAllocationList]\n",
    "    risks_iteration: List[RiskListIteration]\n",
    "    project_risk_score_iterations: List[int]"
   ]
  },
  {
   "cell_type": "markdown",
   "metadata": {},
   "source": [
    "Well done, let's create the required nodes. As a quick recap:\n",
    "\n",
    " In LangGraph a node is defined as a function which has an argument the `AgentState`. Within the node certain attributes of the field state is updated which at the end of the node is returned to the workflow manager and passed to the next node. Inside the nodes, LLM's are used to generate (non)-structured response.\n",
    "\n",
    "In this tutorial we have implemented the nodes based on th following pattern:\n",
    "\n",
    "```\n",
    "def task_generation_node(state: AgentState):\n",
    " \"\"\"LangGraph node that will extract tasks from given project description\"\"\"\n",
    "    description = state[\"project_description\"]\n",
    "    prompt = f\"\"\"You are an experienced project description analyzer. Analyze the \n",
    "    project description '{description}' and create a list of actionable and\n",
    "    realistic tasks with estimated time (in days) to complete each task.\n",
    "    If the task takes longer than 5 days, break it down into independent smaller tasks.\n",
    "    \"\"\"\n",
    "    structure_llm = llm.with_structured_output(TaskList)\n",
    "    tasks: TaskList = structure_llm.invoke(prompt)\n",
    "    state['tasks'] = tasks\n",
    "    return state\n",
    "```\n",
    "In almost all nodes, we used:\n",
    "- `llm.with_structured_output(<structure>)` - generating structured output. \n",
    "\n",
    "The only exception is the insight_generation_node where only `str` as requested from the llm and the required interface only `llm.invoke(prompt)`"
   ]
  },
  {
   "cell_type": "code",
   "execution_count": null,
   "metadata": {},
   "outputs": [],
   "source": [
    "# Workflow Nodes\n",
    "def task_generation_node(state: AgentState):\n",
    "    \"\"\"LangGraph node that will extract tasks from given project description\"\"\"\n",
    "    description = state[\"project_description\"]\n",
    "    prompt = f\"\"\"You are an experienced project description analyzer. Analyze the \n",
    "        project description '{description}' and create a list of actionable and\n",
    "        realistic tasks with estimated time (in days) to complete each task.\n",
    "        If the task takes longer than 5 days, break it down into independent smaller tasks.\n",
    "        \"\"\"\n",
    "    structure_llm = llm.with_structured_output(TaskList)\n",
    "    tasks: TaskList = structure_llm.invoke(prompt)\n",
    "    return {\"tasks\": tasks}\n",
    "\n",
    "def task_dependency_node(state: AgentState):\n",
    "    \"\"\"Evaluate the dependencies between the tasks\"\"\"\n",
    "    tasks = state[\"tasks\"]\n",
    "    prompt = f\"\"\"\n",
    "        Assess dependency between tasks {tasks}. For each task, identify the blocking tasks.\n",
    "        Provide for each task the list of dependent tasks.\n",
    "        \"\"\"\n",
    "    structure_llm = llm.with_structured_output(DependencyList)\n",
    "    dependencies: DependencyList = structure_llm.invoke(prompt)\n",
    "    return {\"dependencies\": dependencies}\n",
    "\n",
    "def task_scheduler_node(state: AgentState):\n",
    "    \"\"\"LangGraph node that will schedule tasks based on dependencies and team availability\"\"\"\n",
    "    dependencies = state[\"dependencies\"]\n",
    "    tasks = state[\"tasks\"]\n",
    "    insights = state[\"insights\"] #\"\" if state[\"insights\"] is None else state[\"insights\"].insights[-1]\n",
    "    prompt = f\"\"\"You are a project scheduler. You have the following {tasks}.\n",
    "        Schedule tasks based on the dependencies {dependencies},\n",
    "        Take into account the insights {insights}.\n",
    "        Take into previous schedule iteration if any {state[\"schedule_iteration\"]}.\n",
    "        \"\"\"\n",
    "    schedule_llm = llm.with_structured_output(Schedule)\n",
    "    schedule: Schedule = schedule_llm.invoke(prompt)\n",
    "    state[\"schedule\"] = schedule\n",
    "    state[\"schedule_iteration\"].append(schedule)\n",
    "    return state\n",
    "\n",
    "def task_allocation_node(state: AgentState):\n",
    "    \"\"\"LangGraph node that will allocate tasks to team members\"\"\"\n",
    "    tasks = state[\"tasks\"]\n",
    "    schedule = state[\"schedule\"]\n",
    "    team = state[\"team\"]\n",
    "    insights = state[\"insights\"] #\"\" if state[\"insights\"] is None else state[\"insights\"].insights[-1]\n",
    "    prompt = f\"\"\"You are a project manager. You have tasks {tasks} and schedule {schedule}.\n",
    "        Allocate tasks to team members {team} based on their skills and availability,\n",
    "        such that there is no overlapping task assigned for a team member.\n",
    "        Take into account any available insights {insights}\n",
    "        Take into account any previous task allocation {state[\"task_allocations_iteration\"]}.\n",
    "        Ensure that no team member has 2 tasks assigned for the same time period. \n",
    "        \"\"\"\n",
    "    structure_llm = llm.with_structured_output(TaskAllocationList)\n",
    "    task_allocations: TaskAllocationList = structure_llm.invoke(prompt)\n",
    "    state[\"task_allocations\"] = task_allocations\n",
    "    state[\"task_allocations_iteration\"].append(task_allocations)\n",
    "    return state\n",
    "\n",
    "def risk_assessment_node(state: AgentState):\n",
    "    \"\"\"LangGraph node that analyse risk associated with schedule and allocation of task\"\"\"\n",
    "    schedule = state[\"schedule\"]\n",
    "    task_allocations=state[\"task_allocations\"]\n",
    "    prompt = f\"\"\"You are an experienced project risk analyzer. You have to analyze the risk \n",
    "        task allocated {task_allocations} and the schedule {schedule} suggested for the task. Return\n",
    "        a risk score for each assigned task. Risk score should be an integer between 0 and 10.\n",
    "        If there is previous iteration available {state['risks_iteration']},\n",
    "        and there is no change in task assignment (same team member, same task) assign the same risk score.\n",
    "        \"\"\"\n",
    "    structure_llm = llm.with_structured_output(RiskList)\n",
    "    risks: RiskList = structure_llm.invoke(prompt)\n",
    "    project_task_risk_scores = [int(risk.score) for risk in risks.risks]\n",
    "    project_risk_score = sum(project_task_risk_scores)\n",
    "    state[\"risks\"] = risks\n",
    "    state[\"project_risk_score\"] = project_risk_score\n",
    "    state[\"iteration_number\"] += 1\n",
    "    state[\"project_risk_score_iterations\"].append(project_risk_score)\n",
    "    state[\"risks_iteration\"].append(risks)\n",
    "    return state\n",
    "\n",
    "def insight_generation_node(state: AgentState):\n",
    "    \"\"\"LangGraph node that generate insights from the schedule, task allocation, and risk associated\"\"\"\n",
    "    schedule = state[\"schedule\"]\n",
    "    task_allocations=state[\"task_allocations\"]\n",
    "    risks = state[\"risks\"]\n",
    "    prompt = f\"\"\"You are an experienced project manager. You have to generate critical insights\n",
    "        based on the task allocation {task_allocations}, the schedule {schedule} suggested for the task\n",
    "        and a risk analysis report {risks}. Return a list of critical insights that.\n",
    "        Recommend different task assignments or schedule changes if necessary.    \n",
    "    \"\"\"\n",
    "    #structure_llm=llm.with_structured_output\"insights\"].append(structure_llm.invoke(prompt))\n",
    "    insights = llm.invoke(prompt).content\n",
    "    return {\"insights\": insights}"
   ]
  },
  {
   "cell_type": "markdown",
   "metadata": {},
   "source": [
    "The proposed agentic workflow contains a conditional routing in which the logic was built around the overall risk score of the project plan. The task scheduling and task assignment is carried out at least twice in a 'self-reflection' in order to minimize the overall project risk assigned in each iteration as part of the `risk_assessment_node`. If the risk was reduced the agent finishes its task, otherwise tries to self-reflect using an `insight_generation_node` from which the insights fed back to the scheduler_node."
   ]
  },
  {
   "cell_type": "code",
   "execution_count": null,
   "metadata": {},
   "outputs": [],
   "source": [
    "def router(state: AgentState):\n",
    "    \"\"\"LangGraph node that will route the agent to the appropriate node based on the project description\"\"\"\n",
    "    max_iteration = state[\"max_iteration\"]\n",
    "    iteration_number = state[\"iteration_number\"]\n",
    "\n",
    "    if iteration_number < max_iteration:\n",
    "        if len(state[\"project_risk_score_iterations\"])>1:\n",
    "            if state[\"project_risk_score_iterations\"][-1] < state[\"project_risk_score_iterations\"][0]:\n",
    "                return END\n",
    "            else:\n",
    "                return \"insight_generator\"\n",
    "        else:\n",
    "            return \"insight_generator\"\n",
    "    else:\n",
    "        return END"
   ]
  },
  {
   "cell_type": "markdown",
   "metadata": {},
   "source": [
    "As a last remainign step, let's create an agentic workflow using LangGraph."
   ]
  },
  {
   "cell_type": "code",
   "execution_count": null,
   "metadata": {},
   "outputs": [],
   "source": [
    "# Instantiate the workflow    \n",
    "workflow = StateGraph(AgentState)\n",
    "\n",
    "# Add nodes to the workflow\n",
    "workflow.add_node(\"task_generation\", task_generation_node)\n",
    "workflow.add_node(\"task_dependencies\", task_dependency_node)\n",
    "workflow.add_node(\"task_scheduler\", task_scheduler_node)\n",
    "workflow.add_node(\"task_allocator\", task_allocation_node)\n",
    "workflow.add_node(\"risk_assessor\", risk_assessment_node)\n",
    "workflow.add_node(\"insight_generator\", insight_generation_node)\n",
    "\n",
    "# Add edges to the workflow\n",
    "workflow.set_entry_point(\"task_generation\")\n",
    "workflow.add_edge(\"task_generation\", \"task_dependencies\")\n",
    "workflow.add_edge(\"task_dependencies\", \"task_scheduler\")\n",
    "workflow.add_edge(\"task_scheduler\", \"task_allocator\")\n",
    "workflow.add_edge(\"task_allocator\", \"risk_assessor\")\n",
    "workflow.add_conditional_edges(\"risk_assessor\", router, [\"insight_generator\", END])\n",
    "workflow.add_edge(\"insight_generator\", \"task_scheduler\")\n",
    "\n",
    "# Set up memory\n",
    "memory = MemorySaver()\n",
    "\n",
    "# Compile the workflow\n",
    "graph_plan = workflow.compile(checkpointer=memory)"
   ]
  },
  {
   "cell_type": "code",
   "execution_count": null,
   "metadata": {},
   "outputs": [],
   "source": [
    "# To visualize the created workflow, we can use \n",
    "display(Image(graph_plan.get_graph(xray=1).draw_mermaid_png()))"
   ]
  },
  {
   "cell_type": "markdown",
   "metadata": {},
   "source": [
    "## Usage Example"
   ]
  },
  {
   "cell_type": "markdown",
   "metadata": {},
   "source": [
    "#### Initiate of the AgentState by defining an input\n",
    "Our Project Manager Agent requires a project description (str) and a team (Team) input next to other initialization parameters.\n",
    "In this tutorial we provide two dummy input under `data`. The team is defined as a csv file, composed of 2 colums: <i>Name</i>,<i>Profile Description</i>"
   ]
  },
  {
   "cell_type": "code",
   "execution_count": null,
   "metadata": {},
   "outputs": [],
   "source": [
    "def get_project_description(file_path:str):\n",
    "    \"\"\"Read the project description from the file\"\"\"\n",
    "    with open(file_path, 'r') as file:\n",
    "            content = file.read()\n",
    "\n",
    "    return content\n",
    "\n",
    "def get_team(file_path:str):\n",
    "    \"\"\"Read the team members from the CSV file\"\"\"\n",
    "    team_df = pd.read_csv(file_path)\n",
    "    team_members = [\n",
    "            TeamMember(name=row['Name'], profile=row['Profile Description'])\n",
    "            for _, row in team_df.iterrows()\n",
    "        ]\n",
    "    team = Team(team_members=team_members)\n",
    "\n",
    "    return team\n",
    "\n",
    "project_description = get_project_description(\"../data/project_manager_assistant/project_description.txt\")\n",
    "team = get_team(\"../data/project_manager_assistant/team.csv\")\n",
    "\n",
    "print(project_description)\n",
    "print(team)"
   ]
  },
  {
   "cell_type": "code",
   "execution_count": null,
   "metadata": {},
   "outputs": [],
   "source": [
    "# Definition of the AgentState \n",
    "state_input = {\n",
    "    \"project_description\": project_description,\n",
    "    \"team\": team,\n",
    "    \"insights\": \"\",\n",
    "    \"iteration_number\": 0,\n",
    "    \"max_iteration\": 3,\n",
    "    \"schedule_iteration\": [],\n",
    "    \"task_allocations_iteration\": [],\n",
    "    \"risks_iteration\": [],\n",
    "    \"project_risk_score_iterations\": []\n",
    "}"
   ]
  },
  {
   "cell_type": "code",
   "execution_count": null,
   "metadata": {},
   "outputs": [],
   "source": [
    "# Invoke the agent\n",
    "config = {\"configurable\": {\"thread_id\": \"1\"}}\n",
    "for event in graph_plan.stream(state_input, config, stream_mode=[\"updates\"]):\n",
    "    \"Print the different nodes as the agent progresses\"\n",
    "    print(f\"Current node: {next(iter(event[1]))}\")\n"
   ]
  },
  {
   "cell_type": "code",
   "execution_count": null,
   "metadata": {},
   "outputs": [],
   "source": [
    "# Retrive the final state\n",
    "final_state = graph_plan.get_state(config).values\n",
    "final_state"
   ]
  },
  {
   "cell_type": "markdown",
   "metadata": {},
   "source": [
    "As we can see from the final_state the agentic workflow ended up having at least 2 iterations, and under `project_risk_score_iterations` we see evolution of the project risk score."
   ]
  },
  {
   "cell_type": "markdown",
   "metadata": {},
   "source": [
    "#### Visualize the results\n",
    "To better understand the output of the agentic workflow - here we provide some visualizations for:\n",
    "- Task depencies\n",
    "- Project plan - Gantt-char for all 3 scenarios"
   ]
  },
  {
   "cell_type": "code",
   "execution_count": null,
   "metadata": {},
   "outputs": [],
   "source": [
    "# Visualize the dependencies\n",
    "import networkx as nx\n",
    "import matplotlib.pyplot as plt\n",
    "\n",
    "# Create a NetworkX graph\n",
    "G = nx.Graph()\n",
    "\n",
    "for task in final_state['dependencies'].dependencies:\n",
    "    G.add_node(task.task.task_name)\n",
    "    for dependent_task in task.dependent_tasks:\n",
    "        G.add_edge(task.task.task_name, dependent_task.task_name)\n",
    "\n",
    "# Create a PyVis network\n",
    "net = Network(notebook=True)\n",
    "\n",
    "# Convert NetworkX graph to PyVis network\n",
    "net.from_nx(G)\n",
    "\n",
    "# Visualize the graph within the Jupyter Notebook\n",
    "net.show(\"graph.html\")\n",
    "\n",
    "# Display the graph within the Jupyter Notebook\n",
    "display(HTML(\"graph.html\"))"
   ]
  },
  {
   "cell_type": "code",
   "execution_count": null,
   "metadata": {},
   "outputs": [],
   "source": [
    "# Visalize Project timeline\n",
    "number_of_iterations = final_state['iteration_number']\n",
    "\n",
    "for i in range(number_of_iterations):\n",
    "    ## Tasks schedule\n",
    "    task_schedules = final_state['schedule_iteration'][i].schedule\n",
    "\n",
    "    t = []\n",
    "    # Iterate over the task_schedules and append each task's data to the DataFrame\n",
    "    for task_schedule in task_schedules:\n",
    "        t.append([\n",
    "            task_schedule.task.task_name,\n",
    "            task_schedule.start_day,\n",
    "            task_schedule.end_day\n",
    "        ])\n",
    "\n",
    "    df_schedule = pd.DataFrame(t,columns=['task_name', 'start', 'end'])\n",
    "\n",
    "    ## Tasks allocation\n",
    "    task_allocations = final_state['task_allocations_iteration'][i].task_allocations\n",
    "\n",
    "    t = []\n",
    "    # Iterate over the task_schedules and append each task's data to the DataFrame\n",
    "    for task_allocation in task_allocations:\n",
    "        t.append([\n",
    "            task_allocation.task.task_name,\n",
    "            task_allocation.team_member.name\n",
    "        ])\n",
    "\n",
    "    df_allocation = pd.DataFrame(t,columns=['task_name', 'team_member'])\n",
    "\n",
    "    df = df_allocation.merge(df_schedule, on='task_name')\n",
    "\n",
    "    import plotly.express as px\n",
    "\n",
    "    from datetime import datetime, timedelta\n",
    "    # Get the current date\n",
    "    current_date = datetime.today()\n",
    "\n",
    "    # Convert start and end offsets to actual dates\n",
    "    df['start'] = df['start'].apply(lambda x: current_date + timedelta(days=x))\n",
    "    df['end'] = df['end'].apply(lambda x: current_date + timedelta(days=x))\n",
    "\n",
    "    df.rename(columns={'team_member': 'Team Member'}, inplace=True)\n",
    "    # Create a Gantt chart\n",
    "    fig = px.timeline(df, x_start=\"start\", x_end=\"end\", y=\"task_name\", color=\"Team Member\", title=f\"Gantt Chart - Iteration:{i+1} \")\n",
    "\n",
    "    # Update layout for better visualization\n",
    "    fig.update_layout(\n",
    "        xaxis_title=\"Timeline\",\n",
    "        yaxis_title=\"Tasks\",\n",
    "        yaxis=dict(autorange=\"reversed\"),  # Reverse the y-axis to have tasks in the vertical side\n",
    "        title_x=0.5\n",
    "    )\n",
    "\n",
    "    # Show the plot\n",
    "    fig.show()"
   ]
  },
  {
   "cell_type": "markdown",
   "metadata": {},
   "source": [
    "## Comparison\n",
    "\n",
    "As a comparison, we have implemented a simple agent composed of only 1 node aiming create a project plan as a 1-short.\n",
    "The input remained the `project_description` and the `team`. The prompt became the combination of the each node - except the insight generation.\n",
    "\n",
    "\n"
   ]
  },
  {
   "cell_type": "code",
   "execution_count": 24,
   "metadata": {},
   "outputs": [
    {
     "data": {
      "image/png": "[encoded data removed]",
      "text/plain": [
       "<IPython.core.display.Image object>"
      ]
     },
     "metadata": {},
     "output_type": "display_data"
    }
   ],
   "source": [
    "\n",
    "class ProjectPlan(BaseModel):\n",
    "    tasks: TaskList\n",
    "    dependencies: DependencyList\n",
    "    schedule: Schedule\n",
    "    task_allocations: TaskAllocationList\n",
    "\n",
    "class SimpleAgentState(TypedDict):\n",
    "    \"\"\"The project manager agent state.\"\"\"\n",
    "    project_description: str\n",
    "    team: Team\n",
    "    tasks: TaskList\n",
    "    dependencies: DependencyList\n",
    "    schedule: Schedule\n",
    "    task_allocations: TaskAllocationList\n",
    "\n",
    "def project_plan_generation_node(state: SimpleAgentState):\n",
    "    \"\"\"LangGraph node that will extract tasks from given project description\"\"\"\n",
    "    description = state[\"project_description\"]\n",
    "    team = state[\"team\"]\n",
    "    prompt = f\"\"\"You are an experienced project description analyzer, who needs to create a project plan.\n",
    "        Create the project plan using the following steps:\n",
    "        - Analyze the project description '{description}' and create a list of actionable and realistic tasks with estimated time (in days) to complete each task. If the task takes longer than 5 days, break it down into independent smaller tasks.\n",
    "        - Assess dependency between tasks. For each task, identify the blocking tasks. Provide for each task the list of dependent tasks.\n",
    "        - Schedule tasks based on the dependencies.\n",
    "        - Allocate tasks to team members {team} based on their skills and availability, such that there is no overlapping task assigned for a team member. Ensure that no team member has 2 tasks assigned for the same time period.\n",
    "    \"\"\"\n",
    "    structure_llm = llm.with_structured_output(ProjectPlan)\n",
    "    project_plan: ProjectPlan = structure_llm.invoke(prompt)\n",
    "    print(project_plan)\n",
    "    return {\"tasks\": project_plan.tasks, \"dependencies\": project_plan.dependencies, \"schedule\": project_plan.schedule, \"task_allocations\": project_plan.task_allocations}\n",
    "\n",
    "\n",
    "# Instantiate the workflow    \n",
    "simple_workflow = StateGraph(SimpleAgentState)\n",
    "\n",
    "# Add nodes to the workflow\n",
    "simple_workflow.add_node(\"create_project_plan\", project_plan_generation_node)\n",
    "\n",
    "# Add edges to the workflow\n",
    "simple_workflow.set_entry_point(\"create_project_plan\")\n",
    "simple_workflow.add_edge(\"create_project_plan\", END)\n",
    "\n",
    "# Set up memory\n",
    "simple_memory = MemorySaver()\n",
    "\n",
    "# Compile the workflow\n",
    "simple_graph_plan = simple_workflow.compile(checkpointer=memory)\n",
    "\n",
    "# To visualize the created workflow, we can use \n",
    "display(Image(simple_graph_plan.get_graph(xray=1).draw_mermaid_png()))\n",
    "\n"
   ]
  },
  {
   "cell_type": "code",
   "execution_count": 25,
   "metadata": {},
   "outputs": [
    {
     "name": "stdout",
     "output_type": "stream",
     "text": [
      "tasks=TaskList(tasks=[Task(id=UUID('d68b40c3-d87d-4585-a6e8-bda0582c2dc0'), task_name='Requirement Gathering', task_description='Collect detailed requirements for the chatbot application from stakeholders and customers.', estimated_day=3), Task(id=UUID('654715cf-49d3-4735-8c47-a9566f859960'), task_name='Design Chatbot Architecture', task_description='Create a high-level architecture design for the chatbot application.', estimated_day=4), Task(id=UUID('51d97547-d30e-45bb-9631-a7575e1c1833'), task_name='Frontend Development', task_description='Develop the user interface for the chatbot application using React.', estimated_day=7), Task(id=UUID('da738fb1-f3df-438b-8f69-725c366352af'), task_name='Backend Development', task_description='Develop the backend services for the chatbot application using Python and Django.', estimated_day=7), Task(id=UUID('61e3c532-b5a8-4ec8-b506-bc2d77e8bbac'), task_name='Integrate Frontend and Backend', task_description='Integrate the frontend and backend components of the chatbot application.', estimated_day=5), Task(id=UUID('32fc81c4-e09e-4625-bc69-83862da42413'), task_name='Testing and Quality Assurance', task_description='Conduct testing and quality assurance for the chatbot application.', estimated_day=5), Task(id=UUID('de7b71f0-275e-48c4-b9a1-dad42c9d37fe'), task_name='Deployment', task_description='Deploy the chatbot application to a cloud environment using CI/CD practices.', estimated_day=4), Task(id=UUID('a46a4d97-200b-4a76-a677-0bb66b41c5f1'), task_name='User Training', task_description='Train users on how to use the chatbot application effectively.', estimated_day=3)]) dependencies=DependencyList(dependencies=[TaskDependency(task=Task(id=UUID('74710f2e-d338-4193-b313-ded240b9ffa1'), task_name='Requirement Gathering', task_description='Collect detailed requirements for the chatbot application from stakeholders and customers.', estimated_day=3), dependent_tasks=[Task(id=UUID('a1cce9ce-a49e-4599-ba6a-9b50aba463b8'), task_name='Design Chatbot Architecture', task_description='Create a high-level architecture design for the chatbot application.', estimated_day=4)]), TaskDependency(task=Task(id=UUID('8b43e662-9f4b-4544-9d0e-9e11dcb5e66c'), task_name='Design Chatbot Architecture', task_description='Create a high-level architecture design for the chatbot application.', estimated_day=4), dependent_tasks=[Task(id=UUID('80a5a2ae-1225-4f11-9b04-47d167832cb2'), task_name='Frontend Development', task_description='Develop the user interface for the chatbot application using React.', estimated_day=7), Task(id=UUID('38609b29-1734-46b3-984a-99e6873929a6'), task_name='Backend Development', task_description='Develop the backend services for the chatbot application using Python and Django.', estimated_day=7)]), TaskDependency(task=Task(id=UUID('de30949f-9f5a-4150-94da-d72c47a7ee0b'), task_name='Frontend Development', task_description='Develop the user interface for the chatbot application using React.', estimated_day=7), dependent_tasks=[Task(id=UUID('38897de7-6c75-4d3b-b07f-9368ecd7287d'), task_name='Integrate Frontend and Backend', task_description='Integrate the frontend and backend components of the chatbot application.', estimated_day=5)]), TaskDependency(task=Task(id=UUID('43e156b8-b565-4ca8-8002-f329335573f7'), task_name='Backend Development', task_description='Develop the backend services for the chatbot application using Python and Django.', estimated_day=7), dependent_tasks=[Task(id=UUID('09b010a3-85d4-4a3b-9bfc-a38428c2bdac'), task_name='Integrate Frontend and Backend', task_description='Integrate the frontend and backend components of the chatbot application.', estimated_day=5)]), TaskDependency(task=Task(id=UUID('ceb56d57-8d2d-4255-92f2-23d28823e96e'), task_name='Integrate Frontend and Backend', task_description='Integrate the frontend and backend components of the chatbot application.', estimated_day=5), dependent_tasks=[Task(id=UUID('d41f6a71-c39a-42e3-9163-3f09a6076227'), task_name='Testing and Quality Assurance', task_description='Conduct testing and quality assurance for the chatbot application.', estimated_day=5)]), TaskDependency(task=Task(id=UUID('460ea89c-0a14-44d1-beb5-93230c9bb31a'), task_name='Testing and Quality Assurance', task_description='Conduct testing and quality assurance for the chatbot application.', estimated_day=5), dependent_tasks=[Task(id=UUID('ac9c46d6-7c85-4d6e-a421-64b699c8551a'), task_name='Deployment', task_description='Deploy the chatbot application to a cloud environment using CI/CD practices.', estimated_day=4)]), TaskDependency(task=Task(id=UUID('2c6d132e-e93d-4f89-accd-d59400e7fc6f'), task_name='Deployment', task_description='Deploy the chatbot application to a cloud environment using CI/CD practices.', estimated_day=4), dependent_tasks=[Task(id=UUID('bb488927-6357-4f63-9e9b-f5ecc22e3315'), task_name='User Training', task_description='Train users on how to use the chatbot application effectively.', estimated_day=3)])]) schedule=Schedule(schedule=[TaskSchedule(task=Task(id=UUID('f9031d1b-d323-4e54-a894-278721f01462'), task_name='Requirement Gathering', task_description='Collect detailed requirements for the chatbot application from stakeholders and customers.', estimated_day=3), start_day=1, end_day=3), TaskSchedule(task=Task(id=UUID('d924dc2a-e2e9-47e6-a723-ea0fce06f330'), task_name='Design Chatbot Architecture', task_description='Create a high-level architecture design for the chatbot application.', estimated_day=4), start_day=4, end_day=7), TaskSchedule(task=Task(id=UUID('747a0f1a-dd73-416a-99dc-394283cbda19'), task_name='Frontend Development', task_description='Develop the user interface for the chatbot application using React.', estimated_day=7), start_day=8, end_day=14), TaskSchedule(task=Task(id=UUID('662e3311-23eb-49c2-9813-b19e2aabb542'), task_name='Backend Development', task_description='Develop the backend services for the chatbot application using Python and Django.', estimated_day=7), start_day=8, end_day=14), TaskSchedule(task=Task(id=UUID('8f920c35-45ad-40dc-a115-0974d6da2951'), task_name='Integrate Frontend and Backend', task_description='Integrate the frontend and backend components of the chatbot application.', estimated_day=5), start_day=15, end_day=19), TaskSchedule(task=Task(id=UUID('1bc19aae-0c16-4a1f-ab68-80335128b48d'), task_name='Testing and Quality Assurance', task_description='Conduct testing and quality assurance for the chatbot application.', estimated_day=5), start_day=20, end_day=24), TaskSchedule(task=Task(id=UUID('ab72c6f1-9dc1-4a9d-898b-943806fae47d'), task_name='Deployment', task_description='Deploy the chatbot application to a cloud environment using CI/CD practices.', estimated_day=4), start_day=25, end_day=28), TaskSchedule(task=Task(id=UUID('be66d440-d57c-442d-84a4-44b18c6abc4a'), task_name='User Training', task_description='Train users on how to use the chatbot application effectively.', estimated_day=3), start_day=29, end_day=31)]) task_allocations=TaskAllocationList(task_allocations=[TaskAllocation(task=Task(id=UUID('9d95d3fb-ce9a-443e-bcb0-2df1703dc81e'), task_name='Requirement Gathering', task_description='Collect detailed requirements for the chatbot application from stakeholders and customers.', estimated_day=3), team_member=TeamMember(name='Charlie', profile='Charlie is a Project Manager experienced in Agile methodologies team leadership project planning and risk management.')), TaskAllocation(task=Task(id=UUID('a5abd9bc-db74-4e53-973d-ffbedcdea814'), task_name='Design Chatbot Architecture', task_description='Create a high-level architecture design for the chatbot application.', estimated_day=4), team_member=TeamMember(name='Bob', profile='Bob is a Backend Developer proficient in Python Django SQL and RESTful APIs.')), TaskAllocation(task=Task(id=UUID('1b3461e8-559e-44fb-8a28-e95fdb5aef29'), task_name='Frontend Development', task_description='Develop the user interface for the chatbot application using React.', estimated_day=7), team_member=TeamMember(name='Alice', profile='Alice is a Frontend Developer skilled in HTML CSS JavaScript and React.')), TaskAllocation(task=Task(id=UUID('9f35179c-1dd1-4cb9-9b4f-26b24cd84b7d'), task_name='Backend Development', task_description='Develop the backend services for the chatbot application using Python and Django.', estimated_day=7), team_member=TeamMember(name='David', profile='David is a Full Stack Developer with expertise in both frontend (HTML CSS JavaScript) and backend (Node.js MongoDB) technologies.')), TaskAllocation(task=Task(id=UUID('67959892-5bbc-47d2-8bda-57f06aebf9c1'), task_name='Integrate Frontend and Backend', task_description='Integrate the frontend and backend components of the chatbot application.', estimated_day=5), team_member=TeamMember(name='Bob', profile='Bob is a Backend Developer proficient in Python Django SQL and RESTful APIs.')), TaskAllocation(task=Task(id=UUID('f6ced2cb-7037-4b88-b226-6bde2f17981a'), task_name='Testing and Quality Assurance', task_description='Conduct testing and quality assurance for the chatbot application.', estimated_day=5), team_member=TeamMember(name='Eve', profile='Eve is a DevOps Engineer skilled in CI/CD pipelines Docker Kubernetes and cloud services like AWS and Azure.')), TaskAllocation(task=Task(id=UUID('66116b42-9eac-4f12-bdd2-28281b245cbb'), task_name='Deployment', task_description='Deploy the chatbot application to a cloud environment using CI/CD practices.', estimated_day=4), team_member=TeamMember(name='Eve', profile='Eve is a DevOps Engineer skilled in CI/CD pipelines Docker Kubernetes and cloud services like AWS and Azure.')), TaskAllocation(task=Task(id=UUID('6f57853f-32c0-45a2-92ae-55fc5dbf8305'), task_name='User Training', task_description='Train users on how to use the chatbot application effectively.', estimated_day=3), team_member=TeamMember(name='Frank', profile='Frank is a Junior Frontend Developer with knowledge in HTML CSS JavaScript and basic React.'))])\n",
      "Current node: create_project_plan\n"
     ]
    }
   ],
   "source": [
    "# Invoke the agent\n",
    "config = {\"configurable\": {\"thread_id\": \"2\"}}\n",
    "for event in simple_graph_plan.stream(state_input, config, stream_mode=[\"updates\"]):\n",
    "    \"Print the different nodes as the agent progresses\"\n",
    "    print(f\"Current node: {next(iter(event[1]))}\")\n",
    "    \n",
    "simple_final_state = simple_graph_plan.get_state(config).values"
   ]
  },
  {
   "cell_type": "code",
   "execution_count": 26,
   "metadata": {},
   "outputs": [
    {
     "data": {
      "text/plain": [
       "{'project_description': 'Our business aims to deliver a chatbot application for our customers to ensure 24/7 support and advice on product choices.',\n",
       " 'team': Team(team_members=[TeamMember(name='Alice', profile=' Alice is a Frontend Developer skilled in HTML CSS JavaScript and React.'), TeamMember(name='Bob', profile=' Bob is a Backend Developer proficient in Python Django SQL and RESTful APIs.'), TeamMember(name='Charlie', profile=' Charlie is a Project Manager experienced in Agile methodologies team leadership project planning and risk management.'), TeamMember(name='David', profile=' David is a Full Stack Developer with expertise in both frontend (HTML CSS JavaScript) and backend (Node.js MongoDB) technologies.'), TeamMember(name='Eve', profile=' Eve is a DevOps Engineer skilled in CI/CD pipelines Docker Kubernetes and cloud services like AWS and Azure.'), TeamMember(name='Frank', profile=' Frank is a Junior Frontend Developer with knowledge in HTML CSS JavaScript and basic React.'), TeamMember(name='Grace', profile=' Grace is a Senior Data Scientist with expertise in machine learning data analysis Python R and big data technologies like Hadoop and Spark.')]),\n",
       " 'tasks': TaskList(tasks=[Task(id=UUID('d68b40c3-d87d-4585-a6e8-bda0582c2dc0'), task_name='Requirement Gathering', task_description='Collect detailed requirements for the chatbot application from stakeholders and customers.', estimated_day=3), Task(id=UUID('654715cf-49d3-4735-8c47-a9566f859960'), task_name='Design Chatbot Architecture', task_description='Create a high-level architecture design for the chatbot application.', estimated_day=4), Task(id=UUID('51d97547-d30e-45bb-9631-a7575e1c1833'), task_name='Frontend Development', task_description='Develop the user interface for the chatbot application using React.', estimated_day=7), Task(id=UUID('da738fb1-f3df-438b-8f69-725c366352af'), task_name='Backend Development', task_description='Develop the backend services for the chatbot application using Python and Django.', estimated_day=7), Task(id=UUID('61e3c532-b5a8-4ec8-b506-bc2d77e8bbac'), task_name='Integrate Frontend and Backend', task_description='Integrate the frontend and backend components of the chatbot application.', estimated_day=5), Task(id=UUID('32fc81c4-e09e-4625-bc69-83862da42413'), task_name='Testing and Quality Assurance', task_description='Conduct testing and quality assurance for the chatbot application.', estimated_day=5), Task(id=UUID('de7b71f0-275e-48c4-b9a1-dad42c9d37fe'), task_name='Deployment', task_description='Deploy the chatbot application to a cloud environment using CI/CD practices.', estimated_day=4), Task(id=UUID('a46a4d97-200b-4a76-a677-0bb66b41c5f1'), task_name='User Training', task_description='Train users on how to use the chatbot application effectively.', estimated_day=3)]),\n",
       " 'dependencies': DependencyList(dependencies=[TaskDependency(task=Task(id=UUID('74710f2e-d338-4193-b313-ded240b9ffa1'), task_name='Requirement Gathering', task_description='Collect detailed requirements for the chatbot application from stakeholders and customers.', estimated_day=3), dependent_tasks=[Task(id=UUID('a1cce9ce-a49e-4599-ba6a-9b50aba463b8'), task_name='Design Chatbot Architecture', task_description='Create a high-level architecture design for the chatbot application.', estimated_day=4)]), TaskDependency(task=Task(id=UUID('8b43e662-9f4b-4544-9d0e-9e11dcb5e66c'), task_name='Design Chatbot Architecture', task_description='Create a high-level architecture design for the chatbot application.', estimated_day=4), dependent_tasks=[Task(id=UUID('80a5a2ae-1225-4f11-9b04-47d167832cb2'), task_name='Frontend Development', task_description='Develop the user interface for the chatbot application using React.', estimated_day=7), Task(id=UUID('38609b29-1734-46b3-984a-99e6873929a6'), task_name='Backend Development', task_description='Develop the backend services for the chatbot application using Python and Django.', estimated_day=7)]), TaskDependency(task=Task(id=UUID('de30949f-9f5a-4150-94da-d72c47a7ee0b'), task_name='Frontend Development', task_description='Develop the user interface for the chatbot application using React.', estimated_day=7), dependent_tasks=[Task(id=UUID('38897de7-6c75-4d3b-b07f-9368ecd7287d'), task_name='Integrate Frontend and Backend', task_description='Integrate the frontend and backend components of the chatbot application.', estimated_day=5)]), TaskDependency(task=Task(id=UUID('43e156b8-b565-4ca8-8002-f329335573f7'), task_name='Backend Development', task_description='Develop the backend services for the chatbot application using Python and Django.', estimated_day=7), dependent_tasks=[Task(id=UUID('09b010a3-85d4-4a3b-9bfc-a38428c2bdac'), task_name='Integrate Frontend and Backend', task_description='Integrate the frontend and backend components of the chatbot application.', estimated_day=5)]), TaskDependency(task=Task(id=UUID('ceb56d57-8d2d-4255-92f2-23d28823e96e'), task_name='Integrate Frontend and Backend', task_description='Integrate the frontend and backend components of the chatbot application.', estimated_day=5), dependent_tasks=[Task(id=UUID('d41f6a71-c39a-42e3-9163-3f09a6076227'), task_name='Testing and Quality Assurance', task_description='Conduct testing and quality assurance for the chatbot application.', estimated_day=5)]), TaskDependency(task=Task(id=UUID('460ea89c-0a14-44d1-beb5-93230c9bb31a'), task_name='Testing and Quality Assurance', task_description='Conduct testing and quality assurance for the chatbot application.', estimated_day=5), dependent_tasks=[Task(id=UUID('ac9c46d6-7c85-4d6e-a421-64b699c8551a'), task_name='Deployment', task_description='Deploy the chatbot application to a cloud environment using CI/CD practices.', estimated_day=4)]), TaskDependency(task=Task(id=UUID('2c6d132e-e93d-4f89-accd-d59400e7fc6f'), task_name='Deployment', task_description='Deploy the chatbot application to a cloud environment using CI/CD practices.', estimated_day=4), dependent_tasks=[Task(id=UUID('bb488927-6357-4f63-9e9b-f5ecc22e3315'), task_name='User Training', task_description='Train users on how to use the chatbot application effectively.', estimated_day=3)])]),\n",
       " 'schedule': Schedule(schedule=[TaskSchedule(task=Task(id=UUID('f9031d1b-d323-4e54-a894-278721f01462'), task_name='Requirement Gathering', task_description='Collect detailed requirements for the chatbot application from stakeholders and customers.', estimated_day=3), start_day=1, end_day=3), TaskSchedule(task=Task(id=UUID('d924dc2a-e2e9-47e6-a723-ea0fce06f330'), task_name='Design Chatbot Architecture', task_description='Create a high-level architecture design for the chatbot application.', estimated_day=4), start_day=4, end_day=7), TaskSchedule(task=Task(id=UUID('747a0f1a-dd73-416a-99dc-394283cbda19'), task_name='Frontend Development', task_description='Develop the user interface for the chatbot application using React.', estimated_day=7), start_day=8, end_day=14), TaskSchedule(task=Task(id=UUID('662e3311-23eb-49c2-9813-b19e2aabb542'), task_name='Backend Development', task_description='Develop the backend services for the chatbot application using Python and Django.', estimated_day=7), start_day=8, end_day=14), TaskSchedule(task=Task(id=UUID('8f920c35-45ad-40dc-a115-0974d6da2951'), task_name='Integrate Frontend and Backend', task_description='Integrate the frontend and backend components of the chatbot application.', estimated_day=5), start_day=15, end_day=19), TaskSchedule(task=Task(id=UUID('1bc19aae-0c16-4a1f-ab68-80335128b48d'), task_name='Testing and Quality Assurance', task_description='Conduct testing and quality assurance for the chatbot application.', estimated_day=5), start_day=20, end_day=24), TaskSchedule(task=Task(id=UUID('ab72c6f1-9dc1-4a9d-898b-943806fae47d'), task_name='Deployment', task_description='Deploy the chatbot application to a cloud environment using CI/CD practices.', estimated_day=4), start_day=25, end_day=28), TaskSchedule(task=Task(id=UUID('be66d440-d57c-442d-84a4-44b18c6abc4a'), task_name='User Training', task_description='Train users on how to use the chatbot application effectively.', estimated_day=3), start_day=29, end_day=31)]),\n",
       " 'task_allocations': TaskAllocationList(task_allocations=[TaskAllocation(task=Task(id=UUID('9d95d3fb-ce9a-443e-bcb0-2df1703dc81e'), task_name='Requirement Gathering', task_description='Collect detailed requirements for the chatbot application from stakeholders and customers.', estimated_day=3), team_member=TeamMember(name='Charlie', profile='Charlie is a Project Manager experienced in Agile methodologies team leadership project planning and risk management.')), TaskAllocation(task=Task(id=UUID('a5abd9bc-db74-4e53-973d-ffbedcdea814'), task_name='Design Chatbot Architecture', task_description='Create a high-level architecture design for the chatbot application.', estimated_day=4), team_member=TeamMember(name='Bob', profile='Bob is a Backend Developer proficient in Python Django SQL and RESTful APIs.')), TaskAllocation(task=Task(id=UUID('1b3461e8-559e-44fb-8a28-e95fdb5aef29'), task_name='Frontend Development', task_description='Develop the user interface for the chatbot application using React.', estimated_day=7), team_member=TeamMember(name='Alice', profile='Alice is a Frontend Developer skilled in HTML CSS JavaScript and React.')), TaskAllocation(task=Task(id=UUID('9f35179c-1dd1-4cb9-9b4f-26b24cd84b7d'), task_name='Backend Development', task_description='Develop the backend services for the chatbot application using Python and Django.', estimated_day=7), team_member=TeamMember(name='David', profile='David is a Full Stack Developer with expertise in both frontend (HTML CSS JavaScript) and backend (Node.js MongoDB) technologies.')), TaskAllocation(task=Task(id=UUID('67959892-5bbc-47d2-8bda-57f06aebf9c1'), task_name='Integrate Frontend and Backend', task_description='Integrate the frontend and backend components of the chatbot application.', estimated_day=5), team_member=TeamMember(name='Bob', profile='Bob is a Backend Developer proficient in Python Django SQL and RESTful APIs.')), TaskAllocation(task=Task(id=UUID('f6ced2cb-7037-4b88-b226-6bde2f17981a'), task_name='Testing and Quality Assurance', task_description='Conduct testing and quality assurance for the chatbot application.', estimated_day=5), team_member=TeamMember(name='Eve', profile='Eve is a DevOps Engineer skilled in CI/CD pipelines Docker Kubernetes and cloud services like AWS and Azure.')), TaskAllocation(task=Task(id=UUID('66116b42-9eac-4f12-bdd2-28281b245cbb'), task_name='Deployment', task_description='Deploy the chatbot application to a cloud environment using CI/CD practices.', estimated_day=4), team_member=TeamMember(name='Eve', profile='Eve is a DevOps Engineer skilled in CI/CD pipelines Docker Kubernetes and cloud services like AWS and Azure.')), TaskAllocation(task=Task(id=UUID('6f57853f-32c0-45a2-92ae-55fc5dbf8305'), task_name='User Training', task_description='Train users on how to use the chatbot application effectively.', estimated_day=3), team_member=TeamMember(name='Frank', profile='Frank is a Junior Frontend Developer with knowledge in HTML CSS JavaScript and basic React.'))])}"
      ]
     },
     "execution_count": 26,
     "metadata": {},
     "output_type": "execute_result"
    }
   ],
   "source": [
    "simple_final_state"
   ]
  },
  {
   "cell_type": "markdown",
   "metadata": {},
   "source": [
    "## Additional Considerations\n",
    "\n",
    "Improvement Possibilities:\n",
    "- Incorporating a 'human-in-the-loop' mechanism as part of the self-reflection process can significantly enhance the system's effectiveness. This approach allows for the introduction of additional, real-time information about the schedule and the availability or status of team members. For instance, if a team member is currently sick, the agent would typically still assign tasks to them due to a lack of awareness. By integrating human oversight, such critical updates can be communicated to the system, ensuring that tasks are reassigned appropriately and the workload is distributed more efficiently.\n",
    "Limitations of the Approach:\n",
    "- Incorporating an optimizer based on extracted features generated by the LLM can provide better and more reproducible scheduling and task allocation. So only leveraging the agent to produce structured content from the project description, task dependencies and team member profiles, then use the optimizer to create the project plan (task assignment). \n",
    "\n",
    "Limitations:\n",
    "- The current approach relies on a Large Language Model (LLM) to assign risk scores to tasks. However, this method has inherent limitations. Even if the same person is assigned to the same task on the same schedule, the LLM may generate different risk scores each time. This inconsistency arises because the model's output can vary independently of the explicit details provided in the prompt. Consequently, this variability can lead to unpredictable risk assessments, potentially affecting the reliability and accuracy of task management.\n"
   ]
  },
  {
   "cell_type": "markdown",
   "metadata": {},
   "source": [
    "## References"
   ]
  },
  {
   "cell_type": "markdown",
   "metadata": {},
   "source": [
    "Currently no references are added to the tutorial"
   ]
  }
 ],
 "metadata": {
  "kernelspec": {
   "display_name": "agents",
   "language": "python",
   "name": "python3"
  },
  "language_info": {
   "codemirror_mode": {
    "name": "ipython",
    "version": 3
   },
   "file_extension": ".py",
   "mimetype": "text/x-python",
   "name": "python",
   "nbconvert_exporter": "python",
   "pygments_lexer": "ipython3",
   "version": "3.12.7"
  }
 },
 "nbformat": 4,
 "nbformat_minor": 2
}
